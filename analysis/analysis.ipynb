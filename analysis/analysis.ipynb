{
 "cells": [
  {
   "cell_type": "markdown",
   "metadata": {},
   "source": [
    "# Análisis de la base de datos"
   ]
  },
  {
   "cell_type": "code",
   "execution_count": 1,
   "metadata": {},
   "outputs": [],
   "source": [
    "import numpy as np"
   ]
  },
  {
   "cell_type": "code",
   "execution_count": 20,
   "metadata": {},
   "outputs": [],
   "source": [
    "import seaborn as sns"
   ]
  },
  {
   "cell_type": "code",
   "execution_count": 7,
   "metadata": {},
   "outputs": [],
   "source": [
    "import matplotlib.pyplot as plt"
   ]
  },
  {
   "cell_type": "code",
   "execution_count": 21,
   "metadata": {},
   "outputs": [],
   "source": [
    "sns.set(style='darkgrid', context='notebook')"
   ]
  },
  {
   "cell_type": "markdown",
   "metadata": {},
   "source": [
    "## Cargando las bases de datos"
   ]
  },
  {
   "cell_type": "code",
   "execution_count": 23,
   "metadata": {},
   "outputs": [],
   "source": [
    "x_train_valid = np.load('../databases/x_train.npy')\n",
    "y_train_valid = np.load('../databases/y_train.npy')\n",
    "x_test = np.load('../databases/x_test.npy')"
   ]
  },
  {
   "cell_type": "markdown",
   "metadata": {},
   "source": [
    "# Tamaño de las bases de datos"
   ]
  },
  {
   "cell_type": "code",
   "execution_count": 24,
   "metadata": {},
   "outputs": [
    {
     "data": {
      "text/plain": [
       "(50000, 32, 32, 3)"
      ]
     },
     "execution_count": 24,
     "metadata": {},
     "output_type": "execute_result"
    }
   ],
   "source": [
    "x_train_valid.shape"
   ]
  },
  {
   "cell_type": "code",
   "execution_count": 25,
   "metadata": {},
   "outputs": [
    {
     "data": {
      "text/plain": [
       "(50000, 1)"
      ]
     },
     "execution_count": 25,
     "metadata": {},
     "output_type": "execute_result"
    }
   ],
   "source": [
    "y_train_valid.shape"
   ]
  },
  {
   "cell_type": "code",
   "execution_count": 26,
   "metadata": {},
   "outputs": [
    {
     "data": {
      "text/plain": [
       "(10000, 32, 32, 3)"
      ]
     },
     "execution_count": 26,
     "metadata": {},
     "output_type": "execute_result"
    }
   ],
   "source": [
    "x_test.shape"
   ]
  },
  {
   "cell_type": "markdown",
   "metadata": {},
   "source": [
    "## Observando las imágenes"
   ]
  },
  {
   "cell_type": "code",
   "execution_count": 27,
   "metadata": {},
   "outputs": [
    {
     "data": {
      "image/png": "[encoded data removed]",
      "text/plain": [
       "<Figure size 432x288 with 1 Axes>"
      ]
     },
     "metadata": {},
     "output_type": "display_data"
    }
   ],
   "source": [
    "# Pick an image from train dataset\n",
    "index = 30\n",
    "\n",
    "# Show the image\n",
    "plt.imshow(x_train_valid[index])\n",
    "plt.title(f'Clase: {y_train_valid[index]}')\n",
    "plt.show()"
   ]
  },
  {
   "cell_type": "markdown",
   "metadata": {},
   "source": [
    "# Distribución de clases"
   ]
  },
  {
   "cell_type": "code",
   "execution_count": 45,
   "metadata": {},
   "outputs": [],
   "source": [
    "# Count the classes available\n",
    "image_classes = []\n",
    "for image_class in y_train_valid:\n",
    "    if image_class not in image_classes:\n",
    "        image_classes.append(image_class)"
   ]
  },
  {
   "cell_type": "code",
   "execution_count": 50,
   "metadata": {},
   "outputs": [
    {
     "data": {
      "text/plain": [
       "[array([19], dtype=int64),\n",
       " array([29], dtype=int64),\n",
       " array([0], dtype=int64),\n",
       " array([11], dtype=int64),\n",
       " array([1], dtype=int64),\n",
       " array([86], dtype=int64),\n",
       " array([90], dtype=int64),\n",
       " array([28], dtype=int64),\n",
       " array([23], dtype=int64),\n",
       " array([31], dtype=int64),\n",
       " array([39], dtype=int64),\n",
       " array([96], dtype=int64),\n",
       " array([82], dtype=int64),\n",
       " array([17], dtype=int64),\n",
       " array([71], dtype=int64),\n",
       " array([8], dtype=int64),\n",
       " array([97], dtype=int64),\n",
       " array([80], dtype=int64),\n",
       " array([74], dtype=int64),\n",
       " array([59], dtype=int64),\n",
       " array([70], dtype=int64),\n",
       " array([87], dtype=int64),\n",
       " array([84], dtype=int64),\n",
       " array([64], dtype=int64),\n",
       " array([52], dtype=int64),\n",
       " array([42], dtype=int64),\n",
       " array([47], dtype=int64),\n",
       " array([65], dtype=int64),\n",
       " array([21], dtype=int64),\n",
       " array([22], dtype=int64),\n",
       " array([81], dtype=int64),\n",
       " array([24], dtype=int64),\n",
       " array([78], dtype=int64),\n",
       " array([45], dtype=int64),\n",
       " array([49], dtype=int64),\n",
       " array([56], dtype=int64),\n",
       " array([76], dtype=int64),\n",
       " array([89], dtype=int64),\n",
       " array([73], dtype=int64),\n",
       " array([14], dtype=int64),\n",
       " array([9], dtype=int64),\n",
       " array([6], dtype=int64),\n",
       " array([20], dtype=int64),\n",
       " array([98], dtype=int64),\n",
       " array([36], dtype=int64),\n",
       " array([55], dtype=int64),\n",
       " array([72], dtype=int64),\n",
       " array([43], dtype=int64),\n",
       " array([51], dtype=int64),\n",
       " array([35], dtype=int64),\n",
       " array([83], dtype=int64),\n",
       " array([33], dtype=int64),\n",
       " array([27], dtype=int64),\n",
       " array([53], dtype=int64),\n",
       " array([92], dtype=int64),\n",
       " array([50], dtype=int64),\n",
       " array([15], dtype=int64),\n",
       " array([18], dtype=int64),\n",
       " array([46], dtype=int64),\n",
       " array([75], dtype=int64),\n",
       " array([38], dtype=int64),\n",
       " array([66], dtype=int64),\n",
       " array([77], dtype=int64),\n",
       " array([69], dtype=int64),\n",
       " array([95], dtype=int64),\n",
       " array([99], dtype=int64),\n",
       " array([93], dtype=int64),\n",
       " array([4], dtype=int64),\n",
       " array([61], dtype=int64),\n",
       " array([94], dtype=int64),\n",
       " array([68], dtype=int64),\n",
       " array([34], dtype=int64),\n",
       " array([32], dtype=int64),\n",
       " array([88], dtype=int64),\n",
       " array([67], dtype=int64),\n",
       " array([30], dtype=int64),\n",
       " array([62], dtype=int64),\n",
       " array([63], dtype=int64),\n",
       " array([40], dtype=int64),\n",
       " array([26], dtype=int64),\n",
       " array([48], dtype=int64),\n",
       " array([79], dtype=int64),\n",
       " array([85], dtype=int64),\n",
       " array([54], dtype=int64),\n",
       " array([44], dtype=int64),\n",
       " array([7], dtype=int64),\n",
       " array([12], dtype=int64),\n",
       " array([2], dtype=int64),\n",
       " array([41], dtype=int64),\n",
       " array([37], dtype=int64),\n",
       " array([13], dtype=int64),\n",
       " array([25], dtype=int64),\n",
       " array([10], dtype=int64),\n",
       " array([57], dtype=int64),\n",
       " array([5], dtype=int64),\n",
       " array([60], dtype=int64),\n",
       " array([91], dtype=int64),\n",
       " array([3], dtype=int64),\n",
       " array([58], dtype=int64),\n",
       " array([16], dtype=int64)]"
      ]
     },
     "execution_count": 50,
     "metadata": {},
     "output_type": "execute_result"
    }
   ],
   "source": [
    "image_classes"
   ]
  },
  {
   "cell_type": "code",
   "execution_count": 46,
   "metadata": {},
   "outputs": [
    {
     "name": "stdout",
     "output_type": "stream",
     "text": [
      "Hay 100 clases en la base de datos\n"
     ]
    }
   ],
   "source": [
    "print(f'Hay {len(image_classes)} clases en la base de datos')"
   ]
  },
  {
   "cell_type": "code",
   "execution_count": 47,
   "metadata": {},
   "outputs": [
    {
     "data": {
      "image/png": "[encoded data removed]",
      "text/plain": [
       "<Figure size 432x288 with 1 Axes>"
      ]
     },
     "metadata": {},
     "output_type": "display_data"
    }
   ],
   "source": [
    "sns.histplot(y_train_valid, bins=100)\n",
    "plt.ylabel('Frecuencia absoluta')\n",
    "plt.xlabel('Clases')\n",
    "plt.show()"
   ]
  },
  {
   "cell_type": "code",
   "execution_count": 48,
   "metadata": {},
   "outputs": [
    {
     "data": {
      "text/plain": [
       "(50000, 32, 32, 3)"
      ]
     },
     "execution_count": 48,
     "metadata": {},
     "output_type": "execute_result"
    }
   ],
   "source": [
    "x_train_valid.shape"
   ]
  },
  {
   "cell_type": "code",
   "execution_count": 49,
   "metadata": {},
   "outputs": [
    {
     "data": {
      "text/plain": [
       "(50000, 1)"
      ]
     },
     "execution_count": 49,
     "metadata": {},
     "output_type": "execute_result"
    }
   ],
   "source": [
    "y_train_valid.shape"
   ]
  }
 ],
 "metadata": {
  "kernelspec": {
   "display_name": "Python 3",
   "language": "python",
   "name": "python3"
  },
  "language_info": {
   "codemirror_mode": {
    "name": "ipython",
    "version": 3
   },
   "file_extension": ".py",
   "mimetype": "text/x-python",
   "name": "python",
   "nbconvert_exporter": "python",
   "pygments_lexer": "ipython3",
   "version": "3.8.5"
  }
 },
 "nbformat": 4,
 "nbformat_minor": 4
}
