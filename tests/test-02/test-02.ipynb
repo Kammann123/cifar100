{
 "cells": [
  {
   "cell_type": "markdown",
   "metadata": {
    "id": "eIfti0pEpvd8"
   },
   "source": [
    "# Test-02\n",
    "Ejecutado en **Google Collaboratory**.\n",
    "\n",
    "## Descripción\n",
    "Se buscó probar técnicas de Transfer Learning utilizando la arquitectura VGG16 con sus coeficientes o parámetros ya entrenados y congelados o bien haciendo un ajuste fino a los mismos para adaptarlos al conjunto de datos de CIFAR-100. La conclusión fue que no se pudo obtener una buena métrica, y que había overfitting por la poca cantidad de datos para reentrenar toda la red. Esto motiva incursionar en técnicas de data augmentation para poder seguir con pruebas de esta magnitud."
   ]
  },
  {
   "cell_type": "code",
   "execution_count": 1,
   "metadata": {
    "id": "-nGU_PL-pveI"
   },
   "outputs": [],
   "source": [
    "import numpy as np"
   ]
  },
  {
   "cell_type": "code",
   "execution_count": 2,
   "metadata": {
    "id": "B__1ziCSzS4j"
   },
   "outputs": [],
   "source": [
    "import pandas as pd"
   ]
  },
  {
   "cell_type": "markdown",
   "metadata": {
    "id": "lNDNdvejpveO"
   },
   "source": [
    "## Cargando las bases de datos"
   ]
  },
  {
   "cell_type": "code",
   "execution_count": 3,
   "metadata": {
    "colab": {
     "base_uri": "https://localhost:8080/"
    },
    "id": "6Vqi2tJFwMEY",
    "outputId": "722d57dd-2787-42bc-c060-a35531ab9378"
   },
   "outputs": [
    {
     "name": "stdout",
     "output_type": "stream",
     "text": [
      "Drive already mounted at /content/drive; to attempt to forcibly remount, call drive.mount(\"/content/drive\", force_remount=True).\n"
     ]
    }
   ],
   "source": [
    "from google.colab import drive\n",
    "drive.mount('/content/drive')"
   ]
  },
  {
   "cell_type": "code",
   "execution_count": 4,
   "metadata": {
    "id": "Seh2QPW6pveQ"
   },
   "outputs": [],
   "source": [
    "x_train_valid = np.load('drive/Shareddrives/Redes Neuronales BIO/CIFAR-100/x_train.npy')\n",
    "y_train_valid = np.load('drive/Shareddrives/Redes Neuronales BIO/CIFAR-100/y_train.npy')\n",
    "x_test = np.load('drive/Shareddrives/Redes Neuronales BIO/CIFAR-100/x_test.npy')"
   ]
  },
  {
   "cell_type": "markdown",
   "metadata": {
    "id": "jhxw8wdWpveS"
   },
   "source": [
    "# Separando conjuntos para entrenamiento, validación"
   ]
  },
  {
   "cell_type": "code",
   "execution_count": 5,
   "metadata": {
    "id": "LM6bEUwypveU"
   },
   "outputs": [],
   "source": [
    "from sklearn.model_selection import train_test_split"
   ]
  },
  {
   "cell_type": "code",
   "execution_count": 20,
   "metadata": {
    "id": "t6WHhMNwpveW"
   },
   "outputs": [],
   "source": [
    "x_train, x_valid, y_train, y_valid = train_test_split(x_train_valid, y_train_valid, test_size=0.1, random_state=25, stratify=y_train_valid)"
   ]
  },
  {
   "cell_type": "markdown",
   "metadata": {
    "id": "1VR3XBokpveX"
   },
   "source": [
    "# Normalización de datos"
   ]
  },
  {
   "cell_type": "code",
   "execution_count": 21,
   "metadata": {
    "id": "YF544qrApveY"
   },
   "outputs": [],
   "source": [
    "x_train_norm = x_train / 255\n",
    "x_valid_norm = x_valid / 255\n",
    "x_test_norm = x_test / 255"
   ]
  },
  {
   "cell_type": "markdown",
   "metadata": {
    "id": "iPn2mKsWpveb"
   },
   "source": [
    "# Modelos"
   ]
  },
  {
   "cell_type": "code",
   "execution_count": 22,
   "metadata": {
    "id": "ffSa1yEapvec"
   },
   "outputs": [],
   "source": [
    "from keras.layers import Dense, Flatten, Activation, BatchNormalization, Dropout\n",
    "from keras.layers import Conv2D, MaxPooling2D, Input, InputLayer, AveragePooling2D\n",
    "from keras.models import Sequential, Model\n",
    "from keras.callbacks import TensorBoard, ModelCheckpoint\n",
    "from keras.optimizers import Adam\n",
    "from keras.regularizers import l2"
   ]
  },
  {
   "cell_type": "code",
   "execution_count": 23,
   "metadata": {
    "id": "ULqgWGPgfFMB"
   },
   "outputs": [],
   "source": [
    "from keras.applications.vgg16 import VGG16"
   ]
  },
  {
   "cell_type": "code",
   "execution_count": 24,
   "metadata": {
    "id": "f4yJHfCry8fk"
   },
   "outputs": [],
   "source": [
    "import keras"
   ]
  },
  {
   "cell_type": "markdown",
   "metadata": {
    "id": "pp-AKYMi4Fx8"
   },
   "source": [
    "## Modelo #1"
   ]
  },
  {
   "cell_type": "code",
   "execution_count": 25,
   "metadata": {
    "id": "XuvmidLHpvep"
   },
   "outputs": [],
   "source": [
    "# Create an instance of the VGG16 to use Transfer Learning and disable the trainable option\n",
    "preproc = VGG16(include_top=False, weights='imagenet', input_shape=(32, 32, 3))\n",
    "for layer in preproc.layers:\n",
    "        layer.trainable = False\n",
    "\n",
    "# Preprocessing to extract valuable features from input images\n",
    "x_train_pre = preproc.predict(x_train_norm)\n",
    "x_valid_pre = preproc.predict(x_valid_norm)"
   ]
  },
  {
   "cell_type": "code",
   "execution_count": 36,
   "metadata": {
    "id": "6kYYoR4vfFME"
   },
   "outputs": [],
   "source": [
    "# Create layers\n",
    "input_layer = Input(shape=x_train_pre[0].shape)\n",
    "layer = Flatten()(input_layer)\n",
    "layer = Dense(units=256)(layer)\n",
    "layer = BatchNormalization()(layer)\n",
    "layer = Activation('relu')(layer)\n",
    "layer = Dropout(0.4)(layer)\n",
    "layer = Dense(units=256)(layer)\n",
    "layer = BatchNormalization()(layer)\n",
    "layer = Activation('relu')(layer)\n",
    "layer = Dropout(0.4)(layer)\n",
    "layer = Dense(units=100)(layer)\n",
    "layer = BatchNormalization()(layer)\n",
    "output_layer = Activation('softmax')(layer)\n",
    "\n",
    "# Create model\n",
    "model = Model(input_layer, output_layer)\n",
    "\n",
    "# Compile\n",
    "model.compile(loss='sparse_categorical_crossentropy',\n",
    "              optimizer=Adam(learning_rate=0.001),\n",
    "              metrics=['accuracy']\n",
    "             )"
   ]
  },
  {
   "cell_type": "code",
   "execution_count": 37,
   "metadata": {
    "colab": {
     "base_uri": "https://localhost:8080/"
    },
    "id": "P3TyjZNupvey",
    "outputId": "753a3c6c-bcc6-4be2-cd47-ae6af472e2aa"
   },
   "outputs": [
    {
     "name": "stdout",
     "output_type": "stream",
     "text": [
      "Model: \"model_6\"\n",
      "_________________________________________________________________\n",
      "Layer (type)                 Output Shape              Param #   \n",
      "=================================================================\n",
      "input_8 (InputLayer)         [(None, 1, 1, 512)]       0         \n",
      "_________________________________________________________________\n",
      "flatten_5 (Flatten)          (None, 512)               0         \n",
      "_________________________________________________________________\n",
      "dense_11 (Dense)             (None, 256)               131328    \n",
      "_________________________________________________________________\n",
      "batch_normalization_11 (Batc (None, 256)               1024      \n",
      "_________________________________________________________________\n",
      "activation_11 (Activation)   (None, 256)               0         \n",
      "_________________________________________________________________\n",
      "dropout_6 (Dropout)          (None, 256)               0         \n",
      "_________________________________________________________________\n",
      "dense_12 (Dense)             (None, 256)               65792     \n",
      "_________________________________________________________________\n",
      "batch_normalization_12 (Batc (None, 256)               1024      \n",
      "_________________________________________________________________\n",
      "activation_12 (Activation)   (None, 256)               0         \n",
      "_________________________________________________________________\n",
      "dropout_7 (Dropout)          (None, 256)               0         \n",
      "_________________________________________________________________\n",
      "dense_13 (Dense)             (None, 100)               25700     \n",
      "_________________________________________________________________\n",
      "batch_normalization_13 (Batc (None, 100)               400       \n",
      "_________________________________________________________________\n",
      "activation_13 (Activation)   (None, 100)               0         \n",
      "=================================================================\n",
      "Total params: 225,268\n",
      "Trainable params: 224,044\n",
      "Non-trainable params: 1,224\n",
      "_________________________________________________________________\n"
     ]
    }
   ],
   "source": [
    "model.summary()"
   ]
  },
  {
   "cell_type": "code",
   "execution_count": 38,
   "metadata": {
    "colab": {
     "base_uri": "https://localhost:8080/"
    },
    "id": "VhbrmMeOpvfe",
    "outputId": "e4415686-60d7-4ff5-98c4-f4802680a5e5"
   },
   "outputs": [
    {
     "name": "stdout",
     "output_type": "stream",
     "text": [
      "Epoch 1/30\n",
      "176/176 [==============================] - 3s 7ms/step - loss: 4.3342 - accuracy: 0.0723 - val_loss: 3.6543 - val_accuracy: 0.2146\n",
      "Epoch 2/30\n",
      "176/176 [==============================] - 1s 5ms/step - loss: 3.4654 - accuracy: 0.1958 - val_loss: 3.2482 - val_accuracy: 0.2632\n",
      "Epoch 3/30\n",
      "176/176 [==============================] - 1s 5ms/step - loss: 3.2442 - accuracy: 0.2326 - val_loss: 3.0694 - val_accuracy: 0.2908\n",
      "Epoch 4/30\n",
      "176/176 [==============================] - 1s 5ms/step - loss: 3.0983 - accuracy: 0.2594 - val_loss: 2.9623 - val_accuracy: 0.3044\n",
      "Epoch 5/30\n",
      "176/176 [==============================] - 1s 5ms/step - loss: 2.9964 - accuracy: 0.2779 - val_loss: 2.8662 - val_accuracy: 0.3096\n",
      "Epoch 6/30\n",
      "176/176 [==============================] - 1s 5ms/step - loss: 2.9258 - accuracy: 0.2887 - val_loss: 2.8010 - val_accuracy: 0.3210\n",
      "Epoch 7/30\n",
      "176/176 [==============================] - 1s 5ms/step - loss: 2.8652 - accuracy: 0.3013 - val_loss: 2.7462 - val_accuracy: 0.3288\n",
      "Epoch 8/30\n",
      "176/176 [==============================] - 1s 5ms/step - loss: 2.8185 - accuracy: 0.3066 - val_loss: 2.7124 - val_accuracy: 0.3354\n",
      "Epoch 9/30\n",
      "176/176 [==============================] - 1s 5ms/step - loss: 2.7656 - accuracy: 0.3170 - val_loss: 2.6924 - val_accuracy: 0.3380\n",
      "Epoch 10/30\n",
      "176/176 [==============================] - 1s 5ms/step - loss: 2.7362 - accuracy: 0.3207 - val_loss: 2.6625 - val_accuracy: 0.3388\n",
      "Epoch 11/30\n",
      "176/176 [==============================] - 1s 5ms/step - loss: 2.6865 - accuracy: 0.3323 - val_loss: 2.6510 - val_accuracy: 0.3428\n",
      "Epoch 12/30\n",
      "176/176 [==============================] - 1s 5ms/step - loss: 2.6608 - accuracy: 0.3352 - val_loss: 2.6218 - val_accuracy: 0.3462\n",
      "Epoch 13/30\n",
      "176/176 [==============================] - 1s 5ms/step - loss: 2.6202 - accuracy: 0.3450 - val_loss: 2.5996 - val_accuracy: 0.3488\n",
      "Epoch 14/30\n",
      "176/176 [==============================] - 1s 5ms/step - loss: 2.5940 - accuracy: 0.3485 - val_loss: 2.5933 - val_accuracy: 0.3474\n",
      "Epoch 15/30\n",
      "176/176 [==============================] - 1s 5ms/step - loss: 2.5768 - accuracy: 0.3528 - val_loss: 2.5799 - val_accuracy: 0.3554\n",
      "Epoch 16/30\n",
      "176/176 [==============================] - 1s 5ms/step - loss: 2.5442 - accuracy: 0.3578 - val_loss: 2.5678 - val_accuracy: 0.3546\n",
      "Epoch 17/30\n",
      "176/176 [==============================] - 1s 5ms/step - loss: 2.5426 - accuracy: 0.3573 - val_loss: 2.5660 - val_accuracy: 0.3532\n",
      "Epoch 18/30\n",
      "176/176 [==============================] - 1s 5ms/step - loss: 2.5067 - accuracy: 0.3640 - val_loss: 2.5531 - val_accuracy: 0.3552\n",
      "Epoch 19/30\n",
      "176/176 [==============================] - 1s 5ms/step - loss: 2.5025 - accuracy: 0.3647 - val_loss: 2.5574 - val_accuracy: 0.3578\n",
      "Epoch 20/30\n",
      "176/176 [==============================] - 1s 5ms/step - loss: 2.4845 - accuracy: 0.3693 - val_loss: 2.5546 - val_accuracy: 0.3578\n",
      "Epoch 21/30\n",
      "176/176 [==============================] - 1s 5ms/step - loss: 2.4625 - accuracy: 0.3688 - val_loss: 2.5542 - val_accuracy: 0.3576\n",
      "Epoch 22/30\n",
      "176/176 [==============================] - 1s 5ms/step - loss: 2.4230 - accuracy: 0.3789 - val_loss: 2.5454 - val_accuracy: 0.3570\n",
      "Epoch 23/30\n",
      "176/176 [==============================] - 1s 5ms/step - loss: 2.4147 - accuracy: 0.3826 - val_loss: 2.5400 - val_accuracy: 0.3542\n",
      "Epoch 24/30\n",
      "176/176 [==============================] - 1s 5ms/step - loss: 2.4005 - accuracy: 0.3816 - val_loss: 2.5315 - val_accuracy: 0.3578\n",
      "Epoch 25/30\n",
      "176/176 [==============================] - 1s 5ms/step - loss: 2.3853 - accuracy: 0.3867 - val_loss: 2.5318 - val_accuracy: 0.3532\n",
      "Epoch 26/30\n",
      "176/176 [==============================] - 1s 5ms/step - loss: 2.3783 - accuracy: 0.3902 - val_loss: 2.5252 - val_accuracy: 0.3638\n",
      "Epoch 27/30\n",
      "176/176 [==============================] - 1s 5ms/step - loss: 2.3590 - accuracy: 0.3982 - val_loss: 2.5377 - val_accuracy: 0.3546\n",
      "Epoch 28/30\n",
      "176/176 [==============================] - 1s 5ms/step - loss: 2.3455 - accuracy: 0.3968 - val_loss: 2.5387 - val_accuracy: 0.3594\n",
      "Epoch 29/30\n",
      "176/176 [==============================] - 1s 5ms/step - loss: 2.3318 - accuracy: 0.4013 - val_loss: 2.5403 - val_accuracy: 0.3546\n",
      "Epoch 30/30\n",
      "176/176 [==============================] - 1s 5ms/step - loss: 2.3132 - accuracy: 0.4025 - val_loss: 2.5321 - val_accuracy: 0.3598\n"
     ]
    },
    {
     "data": {
      "text/plain": [
       "<keras.callbacks.History at 0x7f28049be250>"
      ]
     },
     "execution_count": 38,
     "metadata": {
      "tags": []
     },
     "output_type": "execute_result"
    }
   ],
   "source": [
    "# Create the ModelCheckpoint callback to save the best model during training\n",
    "mc_callback = ModelCheckpoint('model_1.hdf5',\n",
    "                              monitor='val_accuracy',\n",
    "                              save_best_only=True,\n",
    "                              verbose=0,\n",
    "                              mode='max'\n",
    "                             )\n",
    "\n",
    "# Train the model\n",
    "model.fit(x_train_pre, y_train,\n",
    "          validation_data=(x_valid_pre, y_valid),\n",
    "          callbacks=[mc_callback],\n",
    "          epochs=30,\n",
    "          batch_size=256\n",
    "         )"
   ]
  },
  {
   "cell_type": "code",
   "execution_count": 16,
   "metadata": {
    "colab": {
     "base_uri": "https://localhost:8080/"
    },
    "id": "ooljv1Xa_B6J",
    "outputId": "7312632d-a258-49d1-be64-6253313d5f0c"
   },
   "outputs": [
    {
     "name": "stdout",
     "output_type": "stream",
     "text": [
      "[Accuracy] Train: 0.566 Valid: 0.359\n"
     ]
    }
   ],
   "source": [
    "# Load the model and show the final metrics\n",
    "model = keras.models.load_model('model_1.hdf5')\n",
    "\n",
    "# Train and validation metrics\n",
    "_, train_acc = model.evaluate(x_train_pre, y_train, verbose=0)\n",
    "_, valid_acc = model.evaluate(x_valid_pre, y_valid, verbose=0)\n",
    "\n",
    "# Show result\n",
    "print(f'[Accuracy] Train: {round(train_acc, 3)} Valid: {round(valid_acc, 3)}')"
   ]
  },
  {
   "cell_type": "markdown",
   "metadata": {
    "id": "owgmK4vFlfYF"
   },
   "source": [
    "## Modelo #2\n"
   ]
  },
  {
   "cell_type": "code",
   "execution_count": 39,
   "metadata": {
    "id": "VVvgR-GNlfYI"
   },
   "outputs": [],
   "source": [
    "# Creating the total or global model\n",
    "total_model_output = model(preproc.output)\n",
    "total_model = Model(preproc.input, total_model_output)\n",
    "\n",
    "# Enabling the VGG16 parameter training\n",
    "for layer in preproc.layers:\n",
    "    layer.trainable=True\n",
    "\n",
    "# Compile\n",
    "total_model.compile(loss='sparse_categorical_crossentropy',\n",
    "              optimizer=Adam(learning_rate=0.001),\n",
    "              metrics=['accuracy']\n",
    "             )"
   ]
  },
  {
   "cell_type": "code",
   "execution_count": 40,
   "metadata": {
    "colab": {
     "base_uri": "https://localhost:8080/"
    },
    "id": "kRnsdh3YlfYJ",
    "outputId": "a3d82492-2f68-4b07-8843-73e722599be6"
   },
   "outputs": [
    {
     "name": "stdout",
     "output_type": "stream",
     "text": [
      "Model: \"model_7\"\n",
      "_________________________________________________________________\n",
      "Layer (type)                 Output Shape              Param #   \n",
      "=================================================================\n",
      "input_3 (InputLayer)         [(None, 32, 32, 3)]       0         \n",
      "_________________________________________________________________\n",
      "block1_conv1 (Conv2D)        (None, 32, 32, 64)        1792      \n",
      "_________________________________________________________________\n",
      "block1_conv2 (Conv2D)        (None, 32, 32, 64)        36928     \n",
      "_________________________________________________________________\n",
      "block1_pool (MaxPooling2D)   (None, 16, 16, 64)        0         \n",
      "_________________________________________________________________\n",
      "block2_conv1 (Conv2D)        (None, 16, 16, 128)       73856     \n",
      "_________________________________________________________________\n",
      "block2_conv2 (Conv2D)        (None, 16, 16, 128)       147584    \n",
      "_________________________________________________________________\n",
      "block2_pool (MaxPooling2D)   (None, 8, 8, 128)         0         \n",
      "_________________________________________________________________\n",
      "block3_conv1 (Conv2D)        (None, 8, 8, 256)         295168    \n",
      "_________________________________________________________________\n",
      "block3_conv2 (Conv2D)        (None, 8, 8, 256)         590080    \n",
      "_________________________________________________________________\n",
      "block3_conv3 (Conv2D)        (None, 8, 8, 256)         590080    \n",
      "_________________________________________________________________\n",
      "block3_pool (MaxPooling2D)   (None, 4, 4, 256)         0         \n",
      "_________________________________________________________________\n",
      "block4_conv1 (Conv2D)        (None, 4, 4, 512)         1180160   \n",
      "_________________________________________________________________\n",
      "block4_conv2 (Conv2D)        (None, 4, 4, 512)         2359808   \n",
      "_________________________________________________________________\n",
      "block4_conv3 (Conv2D)        (None, 4, 4, 512)         2359808   \n",
      "_________________________________________________________________\n",
      "block4_pool (MaxPooling2D)   (None, 2, 2, 512)         0         \n",
      "_________________________________________________________________\n",
      "block5_conv1 (Conv2D)        (None, 2, 2, 512)         2359808   \n",
      "_________________________________________________________________\n",
      "block5_conv2 (Conv2D)        (None, 2, 2, 512)         2359808   \n",
      "_________________________________________________________________\n",
      "block5_conv3 (Conv2D)        (None, 2, 2, 512)         2359808   \n",
      "_________________________________________________________________\n",
      "block5_pool (MaxPooling2D)   (None, 1, 1, 512)         0         \n",
      "_________________________________________________________________\n",
      "model_6 (Functional)         (None, 100)               225268    \n",
      "=================================================================\n",
      "Total params: 14,939,956\n",
      "Trainable params: 14,938,732\n",
      "Non-trainable params: 1,224\n",
      "_________________________________________________________________\n"
     ]
    }
   ],
   "source": [
    "total_model.summary()"
   ]
  },
  {
   "cell_type": "code",
   "execution_count": 41,
   "metadata": {
    "colab": {
     "base_uri": "https://localhost:8080/",
     "height": 417
    },
    "id": "vUMoApCylfYK",
    "outputId": "a95facf4-f687-49d6-daf0-563e7e527c7f"
   },
   "outputs": [
    {
     "name": "stdout",
     "output_type": "stream",
     "text": [
      "Epoch 1/30\n",
      "87/88 [============================>.] - ETA: 0s - loss: 5.0334 - accuracy: 0.0379"
     ]
    },
    {
     "ename": "KeyboardInterrupt",
     "evalue": "ignored",
     "output_type": "error",
     "traceback": [
      "\u001b[0;31m---------------------------------------------------------------------------\u001b[0m",
      "\u001b[0;31mKeyboardInterrupt\u001b[0m                         Traceback (most recent call last)",
      "\u001b[0;32m<ipython-input-41-68b36ee4829e>\u001b[0m in \u001b[0;36m<module>\u001b[0;34m()\u001b[0m\n\u001b[1;32m     12\u001b[0m           \u001b[0mcallbacks\u001b[0m\u001b[0;34m=\u001b[0m\u001b[0;34m[\u001b[0m\u001b[0mmc_callback\u001b[0m\u001b[0;34m]\u001b[0m\u001b[0;34m,\u001b[0m\u001b[0;34m\u001b[0m\u001b[0;34m\u001b[0m\u001b[0m\n\u001b[1;32m     13\u001b[0m           \u001b[0mepochs\u001b[0m\u001b[0;34m=\u001b[0m\u001b[0;36m30\u001b[0m\u001b[0;34m,\u001b[0m\u001b[0;34m\u001b[0m\u001b[0;34m\u001b[0m\u001b[0m\n\u001b[0;32m---> 14\u001b[0;31m           \u001b[0mbatch_size\u001b[0m\u001b[0;34m=\u001b[0m\u001b[0;36m512\u001b[0m\u001b[0;34m\u001b[0m\u001b[0;34m\u001b[0m\u001b[0m\n\u001b[0m\u001b[1;32m     15\u001b[0m          )\n",
      "\u001b[0;32m/usr/local/lib/python3.7/dist-packages/keras/engine/training.py\u001b[0m in \u001b[0;36mfit\u001b[0;34m(self, x, y, batch_size, epochs, verbose, callbacks, validation_split, validation_data, shuffle, class_weight, sample_weight, initial_epoch, steps_per_epoch, validation_steps, validation_batch_size, validation_freq, max_queue_size, workers, use_multiprocessing)\u001b[0m\n\u001b[1;32m   1156\u001b[0m                 _r=1):\n\u001b[1;32m   1157\u001b[0m               \u001b[0mcallbacks\u001b[0m\u001b[0;34m.\u001b[0m\u001b[0mon_train_batch_begin\u001b[0m\u001b[0;34m(\u001b[0m\u001b[0mstep\u001b[0m\u001b[0;34m)\u001b[0m\u001b[0;34m\u001b[0m\u001b[0;34m\u001b[0m\u001b[0m\n\u001b[0;32m-> 1158\u001b[0;31m               \u001b[0mtmp_logs\u001b[0m \u001b[0;34m=\u001b[0m \u001b[0mself\u001b[0m\u001b[0;34m.\u001b[0m\u001b[0mtrain_function\u001b[0m\u001b[0;34m(\u001b[0m\u001b[0miterator\u001b[0m\u001b[0;34m)\u001b[0m\u001b[0;34m\u001b[0m\u001b[0;34m\u001b[0m\u001b[0m\n\u001b[0m\u001b[1;32m   1159\u001b[0m               \u001b[0;32mif\u001b[0m \u001b[0mdata_handler\u001b[0m\u001b[0;34m.\u001b[0m\u001b[0mshould_sync\u001b[0m\u001b[0;34m:\u001b[0m\u001b[0;34m\u001b[0m\u001b[0;34m\u001b[0m\u001b[0m\n\u001b[1;32m   1160\u001b[0m                 \u001b[0mcontext\u001b[0m\u001b[0;34m.\u001b[0m\u001b[0masync_wait\u001b[0m\u001b[0;34m(\u001b[0m\u001b[0;34m)\u001b[0m\u001b[0;34m\u001b[0m\u001b[0;34m\u001b[0m\u001b[0m\n",
      "\u001b[0;32m/usr/local/lib/python3.7/dist-packages/tensorflow/python/eager/def_function.py\u001b[0m in \u001b[0;36m__call__\u001b[0;34m(self, *args, **kwds)\u001b[0m\n\u001b[1;32m    887\u001b[0m \u001b[0;34m\u001b[0m\u001b[0m\n\u001b[1;32m    888\u001b[0m       \u001b[0;32mwith\u001b[0m \u001b[0mOptionalXlaContext\u001b[0m\u001b[0;34m(\u001b[0m\u001b[0mself\u001b[0m\u001b[0;34m.\u001b[0m\u001b[0m_jit_compile\u001b[0m\u001b[0;34m)\u001b[0m\u001b[0;34m:\u001b[0m\u001b[0;34m\u001b[0m\u001b[0;34m\u001b[0m\u001b[0m\n\u001b[0;32m--> 889\u001b[0;31m         \u001b[0mresult\u001b[0m \u001b[0;34m=\u001b[0m \u001b[0mself\u001b[0m\u001b[0;34m.\u001b[0m\u001b[0m_call\u001b[0m\u001b[0;34m(\u001b[0m\u001b[0;34m*\u001b[0m\u001b[0margs\u001b[0m\u001b[0;34m,\u001b[0m \u001b[0;34m**\u001b[0m\u001b[0mkwds\u001b[0m\u001b[0;34m)\u001b[0m\u001b[0;34m\u001b[0m\u001b[0;34m\u001b[0m\u001b[0m\n\u001b[0m\u001b[1;32m    890\u001b[0m \u001b[0;34m\u001b[0m\u001b[0m\n\u001b[1;32m    891\u001b[0m       \u001b[0mnew_tracing_count\u001b[0m \u001b[0;34m=\u001b[0m \u001b[0mself\u001b[0m\u001b[0;34m.\u001b[0m\u001b[0mexperimental_get_tracing_count\u001b[0m\u001b[0;34m(\u001b[0m\u001b[0;34m)\u001b[0m\u001b[0;34m\u001b[0m\u001b[0;34m\u001b[0m\u001b[0m\n",
      "\u001b[0;32m/usr/local/lib/python3.7/dist-packages/tensorflow/python/eager/def_function.py\u001b[0m in \u001b[0;36m_call\u001b[0;34m(self, *args, **kwds)\u001b[0m\n\u001b[1;32m    915\u001b[0m       \u001b[0;31m# In this case we have created variables on the first call, so we run the\u001b[0m\u001b[0;34m\u001b[0m\u001b[0;34m\u001b[0m\u001b[0;34m\u001b[0m\u001b[0m\n\u001b[1;32m    916\u001b[0m       \u001b[0;31m# defunned version which is guaranteed to never create variables.\u001b[0m\u001b[0;34m\u001b[0m\u001b[0;34m\u001b[0m\u001b[0;34m\u001b[0m\u001b[0m\n\u001b[0;32m--> 917\u001b[0;31m       \u001b[0;32mreturn\u001b[0m \u001b[0mself\u001b[0m\u001b[0;34m.\u001b[0m\u001b[0m_stateless_fn\u001b[0m\u001b[0;34m(\u001b[0m\u001b[0;34m*\u001b[0m\u001b[0margs\u001b[0m\u001b[0;34m,\u001b[0m \u001b[0;34m**\u001b[0m\u001b[0mkwds\u001b[0m\u001b[0;34m)\u001b[0m  \u001b[0;31m# pylint: disable=not-callable\u001b[0m\u001b[0;34m\u001b[0m\u001b[0;34m\u001b[0m\u001b[0m\n\u001b[0m\u001b[1;32m    918\u001b[0m     \u001b[0;32melif\u001b[0m \u001b[0mself\u001b[0m\u001b[0;34m.\u001b[0m\u001b[0m_stateful_fn\u001b[0m \u001b[0;32mis\u001b[0m \u001b[0;32mnot\u001b[0m \u001b[0;32mNone\u001b[0m\u001b[0;34m:\u001b[0m\u001b[0;34m\u001b[0m\u001b[0;34m\u001b[0m\u001b[0m\n\u001b[1;32m    919\u001b[0m       \u001b[0;31m# Release the lock early so that multiple threads can perform the call\u001b[0m\u001b[0;34m\u001b[0m\u001b[0;34m\u001b[0m\u001b[0;34m\u001b[0m\u001b[0m\n",
      "\u001b[0;32m/usr/local/lib/python3.7/dist-packages/tensorflow/python/eager/function.py\u001b[0m in \u001b[0;36m__call__\u001b[0;34m(self, *args, **kwargs)\u001b[0m\n\u001b[1;32m   3022\u001b[0m        filtered_flat_args) = self._maybe_define_function(args, kwargs)\n\u001b[1;32m   3023\u001b[0m     return graph_function._call_flat(\n\u001b[0;32m-> 3024\u001b[0;31m         filtered_flat_args, captured_inputs=graph_function.captured_inputs)  # pylint: disable=protected-access\n\u001b[0m\u001b[1;32m   3025\u001b[0m \u001b[0;34m\u001b[0m\u001b[0m\n\u001b[1;32m   3026\u001b[0m   \u001b[0;34m@\u001b[0m\u001b[0mproperty\u001b[0m\u001b[0;34m\u001b[0m\u001b[0;34m\u001b[0m\u001b[0m\n",
      "\u001b[0;32m/usr/local/lib/python3.7/dist-packages/tensorflow/python/eager/function.py\u001b[0m in \u001b[0;36m_call_flat\u001b[0;34m(self, args, captured_inputs, cancellation_manager)\u001b[0m\n\u001b[1;32m   1959\u001b[0m       \u001b[0;31m# No tape is watching; skip to running the function.\u001b[0m\u001b[0;34m\u001b[0m\u001b[0;34m\u001b[0m\u001b[0;34m\u001b[0m\u001b[0m\n\u001b[1;32m   1960\u001b[0m       return self._build_call_outputs(self._inference_function.call(\n\u001b[0;32m-> 1961\u001b[0;31m           ctx, args, cancellation_manager=cancellation_manager))\n\u001b[0m\u001b[1;32m   1962\u001b[0m     forward_backward = self._select_forward_and_backward_functions(\n\u001b[1;32m   1963\u001b[0m         \u001b[0margs\u001b[0m\u001b[0;34m,\u001b[0m\u001b[0;34m\u001b[0m\u001b[0;34m\u001b[0m\u001b[0m\n",
      "\u001b[0;32m/usr/local/lib/python3.7/dist-packages/tensorflow/python/eager/function.py\u001b[0m in \u001b[0;36mcall\u001b[0;34m(self, ctx, args, cancellation_manager)\u001b[0m\n\u001b[1;32m    594\u001b[0m               \u001b[0minputs\u001b[0m\u001b[0;34m=\u001b[0m\u001b[0margs\u001b[0m\u001b[0;34m,\u001b[0m\u001b[0;34m\u001b[0m\u001b[0;34m\u001b[0m\u001b[0m\n\u001b[1;32m    595\u001b[0m               \u001b[0mattrs\u001b[0m\u001b[0;34m=\u001b[0m\u001b[0mattrs\u001b[0m\u001b[0;34m,\u001b[0m\u001b[0;34m\u001b[0m\u001b[0;34m\u001b[0m\u001b[0m\n\u001b[0;32m--> 596\u001b[0;31m               ctx=ctx)\n\u001b[0m\u001b[1;32m    597\u001b[0m         \u001b[0;32melse\u001b[0m\u001b[0;34m:\u001b[0m\u001b[0;34m\u001b[0m\u001b[0;34m\u001b[0m\u001b[0m\n\u001b[1;32m    598\u001b[0m           outputs = execute.execute_with_cancellation(\n",
      "\u001b[0;32m/usr/local/lib/python3.7/dist-packages/tensorflow/python/eager/execute.py\u001b[0m in \u001b[0;36mquick_execute\u001b[0;34m(op_name, num_outputs, inputs, attrs, ctx, name)\u001b[0m\n\u001b[1;32m     58\u001b[0m     \u001b[0mctx\u001b[0m\u001b[0;34m.\u001b[0m\u001b[0mensure_initialized\u001b[0m\u001b[0;34m(\u001b[0m\u001b[0;34m)\u001b[0m\u001b[0;34m\u001b[0m\u001b[0;34m\u001b[0m\u001b[0m\n\u001b[1;32m     59\u001b[0m     tensors = pywrap_tfe.TFE_Py_Execute(ctx._handle, device_name, op_name,\n\u001b[0;32m---> 60\u001b[0;31m                                         inputs, attrs, num_outputs)\n\u001b[0m\u001b[1;32m     61\u001b[0m   \u001b[0;32mexcept\u001b[0m \u001b[0mcore\u001b[0m\u001b[0;34m.\u001b[0m\u001b[0m_NotOkStatusException\u001b[0m \u001b[0;32mas\u001b[0m \u001b[0me\u001b[0m\u001b[0;34m:\u001b[0m\u001b[0;34m\u001b[0m\u001b[0;34m\u001b[0m\u001b[0m\n\u001b[1;32m     62\u001b[0m     \u001b[0;32mif\u001b[0m \u001b[0mname\u001b[0m \u001b[0;32mis\u001b[0m \u001b[0;32mnot\u001b[0m \u001b[0;32mNone\u001b[0m\u001b[0;34m:\u001b[0m\u001b[0;34m\u001b[0m\u001b[0;34m\u001b[0m\u001b[0m\n",
      "\u001b[0;31mKeyboardInterrupt\u001b[0m: "
     ]
    }
   ],
   "source": [
    "# Create the ModelCheckpoint callback to save the best model during training\n",
    "mc_callback = ModelCheckpoint('model_2.hdf5',\n",
    "                              monitor='val_accuracy',\n",
    "                              save_best_only=True,\n",
    "                              verbose=0,\n",
    "                              mode='max'\n",
    "                             )\n",
    "\n",
    "# Train the model\n",
    "total_model.fit(x_train_norm, y_train,\n",
    "          validation_data=(x_valid_norm, y_valid),\n",
    "          callbacks=[mc_callback],\n",
    "          epochs=30,\n",
    "          batch_size=512\n",
    "         )"
   ]
  }
 ],
 "metadata": {
  "accelerator": "GPU",
  "colab": {
   "name": "test-02.ipynb",
   "provenance": []
  },
  "kernelspec": {
   "display_name": "Python 3",
   "language": "python",
   "name": "python3"
  },
  "language_info": {
   "codemirror_mode": {
    "name": "ipython",
    "version": 3
   },
   "file_extension": ".py",
   "mimetype": "text/x-python",
   "name": "python",
   "nbconvert_exporter": "python",
   "pygments_lexer": "ipython3",
   "version": "3.8.5"
  }
 },
 "nbformat": 4,
 "nbformat_minor": 4
}
