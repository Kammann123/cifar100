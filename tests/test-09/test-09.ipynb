{
 "cells": [
  {
   "cell_type": "markdown",
   "metadata": {
    "id": "birGZcBDcCg-"
   },
   "source": [
    "# Test-09\n",
    "Ejecutado en **Kaggle**.\n",
    "\n",
    "## Descripción\n",
    "Se realiza **transfer learning** usando la **EfficientNetB3**."
   ]
  },
  {
   "cell_type": "markdown",
   "metadata": {
    "id": "_R2WS7Dz_1z8"
   },
   "source": [
    "# Configuración general"
   ]
  },
  {
   "cell_type": "code",
   "execution_count": 1,
   "metadata": {
    "execution": {
     "iopub.execute_input": "2021-06-27T21:54:59.380293Z",
     "iopub.status.busy": "2021-06-27T21:54:59.379725Z",
     "iopub.status.idle": "2021-06-27T21:54:59.388931Z",
     "shell.execute_reply": "2021-06-27T21:54:59.388218Z",
     "shell.execute_reply.started": "2021-06-27T21:54:59.380210Z"
    },
    "id": "3etZ5z4cRMdQ"
   },
   "outputs": [],
   "source": [
    "import pandas as pd"
   ]
  },
  {
   "cell_type": "code",
   "execution_count": 2,
   "metadata": {
    "execution": {
     "iopub.execute_input": "2021-06-27T21:54:59.424619Z",
     "iopub.status.busy": "2021-06-27T21:54:59.424126Z",
     "iopub.status.idle": "2021-06-27T21:55:05.787581Z",
     "shell.execute_reply": "2021-06-27T21:55:05.786420Z",
     "shell.execute_reply.started": "2021-06-27T21:54:59.424589Z"
    },
    "id": "TRRBsP7O_3MS"
   },
   "outputs": [],
   "source": [
    "import tensorflow as tf"
   ]
  },
  {
   "cell_type": "code",
   "execution_count": 3,
   "metadata": {
    "execution": {
     "iopub.execute_input": "2021-06-27T21:55:05.789672Z",
     "iopub.status.busy": "2021-06-27T21:55:05.789258Z",
     "iopub.status.idle": "2021-06-27T21:55:14.268413Z",
     "shell.execute_reply": "2021-06-27T21:55:14.267418Z",
     "shell.execute_reply.started": "2021-06-27T21:55:05.789630Z"
    },
    "id": "FKup29A_8JQ8",
    "outputId": "dfd9fc8e-56a2-41b5-a000-114bd6a50988"
   },
   "outputs": [
    {
     "name": "stdout",
     "output_type": "stream",
     "text": [
      "Requirement already satisfied: cloud_tpu_client in /opt/conda/lib/python3.7/site-packages (0.10)\n",
      "Requirement already satisfied: google-api-python-client==1.8.0 in /opt/conda/lib/python3.7/site-packages (from cloud_tpu_client) (1.8.0)\n",
      "Requirement already satisfied: oauth2client in /opt/conda/lib/python3.7/site-packages (from cloud_tpu_client) (4.1.3)\n",
      "Requirement already satisfied: httplib2<1dev,>=0.9.2 in /opt/conda/lib/python3.7/site-packages (from google-api-python-client==1.8.0->cloud_tpu_client) (0.19.1)\n",
      "Requirement already satisfied: google-auth>=1.4.1 in /opt/conda/lib/python3.7/site-packages (from google-api-python-client==1.8.0->cloud_tpu_client) (1.30.0)\n",
      "Requirement already satisfied: six<2dev,>=1.6.1 in /opt/conda/lib/python3.7/site-packages (from google-api-python-client==1.8.0->cloud_tpu_client) (1.15.0)\n",
      "Requirement already satisfied: uritemplate<4dev,>=3.0.0 in /opt/conda/lib/python3.7/site-packages (from google-api-python-client==1.8.0->cloud_tpu_client) (3.0.1)\n",
      "Requirement already satisfied: google-api-core<2dev,>=1.13.0 in /opt/conda/lib/python3.7/site-packages (from google-api-python-client==1.8.0->cloud_tpu_client) (1.26.3)\n",
      "Requirement already satisfied: google-auth-httplib2>=0.0.3 in /opt/conda/lib/python3.7/site-packages (from google-api-python-client==1.8.0->cloud_tpu_client) (0.1.0)\n",
      "Requirement already satisfied: setuptools>=40.3.0 in /opt/conda/lib/python3.7/site-packages (from google-api-core<2dev,>=1.13.0->google-api-python-client==1.8.0->cloud_tpu_client) (49.6.0.post20210108)\n",
      "Requirement already satisfied: googleapis-common-protos<2.0dev,>=1.6.0 in /opt/conda/lib/python3.7/site-packages (from google-api-core<2dev,>=1.13.0->google-api-python-client==1.8.0->cloud_tpu_client) (1.53.0)\n",
      "Requirement already satisfied: requests<3.0.0dev,>=2.18.0 in /opt/conda/lib/python3.7/site-packages (from google-api-core<2dev,>=1.13.0->google-api-python-client==1.8.0->cloud_tpu_client) (2.25.1)\n",
      "Requirement already satisfied: packaging>=14.3 in /opt/conda/lib/python3.7/site-packages (from google-api-core<2dev,>=1.13.0->google-api-python-client==1.8.0->cloud_tpu_client) (20.9)\n",
      "Requirement already satisfied: pytz in /opt/conda/lib/python3.7/site-packages (from google-api-core<2dev,>=1.13.0->google-api-python-client==1.8.0->cloud_tpu_client) (2021.1)\n",
      "Requirement already satisfied: protobuf>=3.12.0 in /opt/conda/lib/python3.7/site-packages (from google-api-core<2dev,>=1.13.0->google-api-python-client==1.8.0->cloud_tpu_client) (3.17.3)\n",
      "Requirement already satisfied: rsa<5,>=3.1.4 in /opt/conda/lib/python3.7/site-packages (from google-auth>=1.4.1->google-api-python-client==1.8.0->cloud_tpu_client) (4.7.2)\n",
      "Requirement already satisfied: pyasn1-modules>=0.2.1 in /opt/conda/lib/python3.7/site-packages (from google-auth>=1.4.1->google-api-python-client==1.8.0->cloud_tpu_client) (0.2.7)\n",
      "Requirement already satisfied: cachetools<5.0,>=2.0.0 in /opt/conda/lib/python3.7/site-packages (from google-auth>=1.4.1->google-api-python-client==1.8.0->cloud_tpu_client) (4.2.2)\n",
      "Requirement already satisfied: pyparsing<3,>=2.4.2 in /opt/conda/lib/python3.7/site-packages (from httplib2<1dev,>=0.9.2->google-api-python-client==1.8.0->cloud_tpu_client) (2.4.7)\n",
      "Requirement already satisfied: pyasn1<0.5.0,>=0.4.6 in /opt/conda/lib/python3.7/site-packages (from pyasn1-modules>=0.2.1->google-auth>=1.4.1->google-api-python-client==1.8.0->cloud_tpu_client) (0.4.8)\n",
      "Requirement already satisfied: idna<3,>=2.5 in /opt/conda/lib/python3.7/site-packages (from requests<3.0.0dev,>=2.18.0->google-api-core<2dev,>=1.13.0->google-api-python-client==1.8.0->cloud_tpu_client) (2.10)\n",
      "Requirement already satisfied: chardet<5,>=3.0.2 in /opt/conda/lib/python3.7/site-packages (from requests<3.0.0dev,>=2.18.0->google-api-core<2dev,>=1.13.0->google-api-python-client==1.8.0->cloud_tpu_client) (4.0.0)\n",
      "Requirement already satisfied: certifi>=2017.4.17 in /opt/conda/lib/python3.7/site-packages (from requests<3.0.0dev,>=2.18.0->google-api-core<2dev,>=1.13.0->google-api-python-client==1.8.0->cloud_tpu_client) (2021.5.30)\n",
      "Requirement already satisfied: urllib3<1.27,>=1.21.1 in /opt/conda/lib/python3.7/site-packages (from requests<3.0.0dev,>=2.18.0->google-api-core<2dev,>=1.13.0->google-api-python-client==1.8.0->cloud_tpu_client) (1.26.5)\n",
      "\u001b[33mWARNING: Running pip as root will break packages and permissions. You should install packages reliably by using venv: https://pip.pypa.io/warnings/venv\u001b[0m\n"
     ]
    }
   ],
   "source": [
    "!pip install cloud_tpu_client"
   ]
  },
  {
   "cell_type": "code",
   "execution_count": 4,
   "metadata": {
    "execution": {
     "iopub.execute_input": "2021-06-27T21:55:14.271196Z",
     "iopub.status.busy": "2021-06-27T21:55:14.270804Z",
     "iopub.status.idle": "2021-06-27T21:55:28.620206Z",
     "shell.execute_reply": "2021-06-27T21:55:28.619207Z",
     "shell.execute_reply.started": "2021-06-27T21:55:14.271149Z"
    },
    "id": "Yhrs9BGV8Iy9"
   },
   "outputs": [],
   "source": [
    "from cloud_tpu_client import Client\n",
    "c = Client()\n",
    "c.configure_tpu_version(tf.__version__, restart_type=\"always\")"
   ]
  },
  {
   "cell_type": "code",
   "execution_count": 5,
   "metadata": {
    "execution": {
     "iopub.execute_input": "2021-06-27T21:55:28.622048Z",
     "iopub.status.busy": "2021-06-27T21:55:28.621732Z",
     "iopub.status.idle": "2021-06-27T21:55:44.506163Z",
     "shell.execute_reply": "2021-06-27T21:55:44.505276Z",
     "shell.execute_reply.started": "2021-06-27T21:55:28.622017Z"
    },
    "id": "bJt6Num-8MWf",
    "outputId": "3e7ff33f-a373-4f20-833e-70e95ada7235"
   },
   "outputs": [
    {
     "name": "stdout",
     "output_type": "stream",
     "text": [
      "Running on TPU  ['10.0.0.2:8470']\n"
     ]
    }
   ],
   "source": [
    "try:\n",
    "    tpu = tf.distribute.cluster_resolver.TPUClusterResolver()  # TPU detection\n",
    "    print(\"Running on TPU \", tpu.cluster_spec().as_dict()[\"worker\"])\n",
    "    tf.config.experimental_connect_to_cluster(tpu)\n",
    "    tf.tpu.experimental.initialize_tpu_system(tpu)\n",
    "    strategy = tf.distribute.TPUStrategy(tpu)\n",
    "except ValueError:\n",
    "    print(\"Not connected to a TPU runtime. Using CPU/GPU strategy\")\n",
    "    strategy = tf.distribute.MirroredStrategy()"
   ]
  },
  {
   "cell_type": "markdown",
   "metadata": {
    "id": "BoMDpJipb15_"
   },
   "source": [
    "# Cargando el conjunto de datos"
   ]
  },
  {
   "cell_type": "code",
   "execution_count": 6,
   "metadata": {
    "execution": {
     "iopub.execute_input": "2021-06-27T21:55:44.507645Z",
     "iopub.status.busy": "2021-06-27T21:55:44.507374Z",
     "iopub.status.idle": "2021-06-27T21:55:44.511924Z",
     "shell.execute_reply": "2021-06-27T21:55:44.510975Z",
     "shell.execute_reply.started": "2021-06-27T21:55:44.507620Z"
    },
    "id": "tme05GRIcPPM"
   },
   "outputs": [],
   "source": [
    "import numpy as np"
   ]
  },
  {
   "cell_type": "code",
   "execution_count": 7,
   "metadata": {
    "execution": {
     "iopub.execute_input": "2021-06-27T21:55:44.513580Z",
     "iopub.status.busy": "2021-06-27T21:55:44.513193Z",
     "iopub.status.idle": "2021-06-27T21:55:44.524788Z",
     "shell.execute_reply": "2021-06-27T21:55:44.523663Z",
     "shell.execute_reply.started": "2021-06-27T21:55:44.513550Z"
    }
   },
   "outputs": [],
   "source": [
    "import os"
   ]
  },
  {
   "cell_type": "code",
   "execution_count": 8,
   "metadata": {
    "execution": {
     "iopub.execute_input": "2021-06-27T21:55:44.526464Z",
     "iopub.status.busy": "2021-06-27T21:55:44.526152Z",
     "iopub.status.idle": "2021-06-27T21:55:44.546566Z",
     "shell.execute_reply": "2021-06-27T21:55:44.545818Z",
     "shell.execute_reply.started": "2021-06-27T21:55:44.526436Z"
    },
    "id": "PCN3jdL9bphB",
    "outputId": "911b45db-ba67-4c37-daaf-667a2c51c551"
   },
   "outputs": [
    {
     "name": "stdout",
     "output_type": "stream",
     "text": [
      "/kaggle/input/cifar100-nn-competition/y_train.npy\n",
      "/kaggle/input/cifar100-nn-competition/x_test.npy\n",
      "/kaggle/input/cifar100-nn-competition/x_train.npy\n"
     ]
    }
   ],
   "source": [
    "for dirname, _, filenames in os.walk('/kaggle/input'):\n",
    "    for filename in filenames:\n",
    "        print(os.path.join(dirname, filename))"
   ]
  },
  {
   "cell_type": "code",
   "execution_count": 9,
   "metadata": {
    "execution": {
     "iopub.execute_input": "2021-06-27T21:55:44.549535Z",
     "iopub.status.busy": "2021-06-27T21:55:44.549120Z",
     "iopub.status.idle": "2021-06-27T21:55:48.131426Z",
     "shell.execute_reply": "2021-06-27T21:55:48.130439Z",
     "shell.execute_reply.started": "2021-06-27T21:55:44.549493Z"
    },
    "id": "aTWI__Cvb76G"
   },
   "outputs": [],
   "source": [
    "x_train_valid = np.load('/kaggle/input/cifar100-nn-competition/x_train.npy')\n",
    "y_train_valid = np.load('/kaggle/input/cifar100-nn-competition/y_train.npy')\n",
    "x_test = np.load('/kaggle/input/cifar100-nn-competition/x_test.npy')"
   ]
  },
  {
   "cell_type": "markdown",
   "metadata": {
    "id": "mD1uLguEcjes"
   },
   "source": [
    "# Separando el conjunto de datos"
   ]
  },
  {
   "cell_type": "code",
   "execution_count": 10,
   "metadata": {
    "execution": {
     "iopub.execute_input": "2021-06-27T21:55:48.133336Z",
     "iopub.status.busy": "2021-06-27T21:55:48.133050Z",
     "iopub.status.idle": "2021-06-27T21:55:48.832969Z",
     "shell.execute_reply": "2021-06-27T21:55:48.831883Z",
     "shell.execute_reply.started": "2021-06-27T21:55:48.133310Z"
    },
    "id": "TFodEyI2cls8"
   },
   "outputs": [],
   "source": [
    "from sklearn.model_selection import train_test_split"
   ]
  },
  {
   "cell_type": "code",
   "execution_count": 11,
   "metadata": {
    "execution": {
     "iopub.execute_input": "2021-06-27T21:55:48.834494Z",
     "iopub.status.busy": "2021-06-27T21:55:48.834225Z",
     "iopub.status.idle": "2021-06-27T21:55:49.237057Z",
     "shell.execute_reply": "2021-06-27T21:55:49.236321Z",
     "shell.execute_reply.started": "2021-06-27T21:55:48.834468Z"
    },
    "id": "JdxGcr4BcrQV"
   },
   "outputs": [],
   "source": [
    "x_train, x_valid, y_train, y_valid = train_test_split(x_train_valid, y_train_valid, test_size=0.2, random_state=20, stratify=y_train_valid)"
   ]
  },
  {
   "cell_type": "markdown",
   "metadata": {
    "id": "AAzSO7fhQFZn"
   },
   "source": [
    "# Escalando las imágenes"
   ]
  },
  {
   "cell_type": "code",
   "execution_count": 12,
   "metadata": {
    "execution": {
     "iopub.execute_input": "2021-06-27T21:55:49.238545Z",
     "iopub.status.busy": "2021-06-27T21:55:49.238140Z",
     "iopub.status.idle": "2021-06-27T21:55:49.243014Z",
     "shell.execute_reply": "2021-06-27T21:55:49.242341Z",
     "shell.execute_reply.started": "2021-06-27T21:55:49.238515Z"
    }
   },
   "outputs": [],
   "source": [
    "def resize_images(images, height, width):\n",
    "  \"\"\" Resizes images using the bicubic interpolation method and returns them in a\n",
    "      [0, 255] value mode.\n",
    "      @param images Group of images\n",
    "      @param height Height of the output image\n",
    "      @param width Width of the output image\n",
    "  \"\"\"\n",
    "  resized = tf.image.resize(images / 255, (width, height), method=tf.image.ResizeMethod.BICUBIC) * 255\n",
    "  resized = tf.cast(resized, tf.int32)\n",
    "  return resized"
   ]
  },
  {
   "cell_type": "code",
   "execution_count": 13,
   "metadata": {
    "execution": {
     "iopub.execute_input": "2021-06-27T21:55:49.244766Z",
     "iopub.status.busy": "2021-06-27T21:55:49.244302Z",
     "iopub.status.idle": "2021-06-27T21:55:49.258166Z",
     "shell.execute_reply": "2021-06-27T21:55:49.257234Z",
     "shell.execute_reply.started": "2021-06-27T21:55:49.244722Z"
    }
   },
   "outputs": [],
   "source": [
    "def resize_dataset(x_train, x_valid, x_test, height, width):\n",
    "    \"\"\" Resizes the images of all train, valid and test dataset\n",
    "        @param x_train\n",
    "        @param x_valid\n",
    "        @param x_test\n",
    "        @param height\n",
    "        @param width\n",
    "    \"\"\"\n",
    "    return resize_images(x_train, height, width), resize_images(x_valid, height, width), resize_images(x_test, height, width)"
   ]
  },
  {
   "cell_type": "markdown",
   "metadata": {
    "id": "iw_4rlPai0rC"
   },
   "source": [
    "# Modelo"
   ]
  },
  {
   "cell_type": "code",
   "execution_count": 14,
   "metadata": {
    "execution": {
     "iopub.execute_input": "2021-06-27T21:55:49.259883Z",
     "iopub.status.busy": "2021-06-27T21:55:49.259501Z",
     "iopub.status.idle": "2021-06-27T21:55:49.277147Z",
     "shell.execute_reply": "2021-06-27T21:55:49.275884Z",
     "shell.execute_reply.started": "2021-06-27T21:55:49.259855Z"
    },
    "id": "qJFlRTbogj8V"
   },
   "outputs": [],
   "source": [
    "from tensorflow.keras.applications import EfficientNetB0, EfficientNetB1, EfficientNetB2, EfficientNetB3"
   ]
  },
  {
   "cell_type": "code",
   "execution_count": 15,
   "metadata": {
    "execution": {
     "iopub.execute_input": "2021-06-27T21:55:49.279194Z",
     "iopub.status.busy": "2021-06-27T21:55:49.278779Z",
     "iopub.status.idle": "2021-06-27T21:55:49.287803Z",
     "shell.execute_reply": "2021-06-27T21:55:49.286841Z",
     "shell.execute_reply.started": "2021-06-27T21:55:49.279151Z"
    },
    "id": "zoSTkQBFjWHa"
   },
   "outputs": [],
   "source": [
    "from tensorflow.keras.layers import (GlobalAveragePooling2D, Dense, Activation, \n",
    "                                     BatchNormalization, Reshape, Dropout, InputLayer,\n",
    "                                     Flatten, Input, GlobalMaxPooling2D)"
   ]
  },
  {
   "cell_type": "code",
   "execution_count": 16,
   "metadata": {
    "execution": {
     "iopub.execute_input": "2021-06-27T21:55:49.289717Z",
     "iopub.status.busy": "2021-06-27T21:55:49.289308Z",
     "iopub.status.idle": "2021-06-27T21:55:49.299408Z",
     "shell.execute_reply": "2021-06-27T21:55:49.298704Z",
     "shell.execute_reply.started": "2021-06-27T21:55:49.289675Z"
    },
    "id": "yzpSID8T8act"
   },
   "outputs": [],
   "source": [
    "from tensorflow.keras.layers.experimental.preprocessing import (Resizing,\n",
    "                                                                RandomFlip,\n",
    "                                                                RandomZoom,\n",
    "                                                                RandomRotation,\n",
    "                                                                RandomTranslation)"
   ]
  },
  {
   "cell_type": "code",
   "execution_count": 17,
   "metadata": {
    "execution": {
     "iopub.execute_input": "2021-06-27T21:55:49.301161Z",
     "iopub.status.busy": "2021-06-27T21:55:49.300587Z",
     "iopub.status.idle": "2021-06-27T21:55:49.310937Z",
     "shell.execute_reply": "2021-06-27T21:55:49.310252Z",
     "shell.execute_reply.started": "2021-06-27T21:55:49.301117Z"
    },
    "id": "9vn5GMYc8W0O"
   },
   "outputs": [],
   "source": [
    "from tensorflow.keras.models import Sequential, Model"
   ]
  },
  {
   "cell_type": "code",
   "execution_count": 18,
   "metadata": {
    "execution": {
     "iopub.execute_input": "2021-06-27T21:55:49.312774Z",
     "iopub.status.busy": "2021-06-27T21:55:49.312213Z",
     "iopub.status.idle": "2021-06-27T21:55:49.322308Z",
     "shell.execute_reply": "2021-06-27T21:55:49.321457Z",
     "shell.execute_reply.started": "2021-06-27T21:55:49.312731Z"
    },
    "id": "MQeSWLDCksUy"
   },
   "outputs": [],
   "source": [
    "from tensorflow.keras.callbacks import ModelCheckpoint, EarlyStopping, ReduceLROnPlateau"
   ]
  },
  {
   "cell_type": "code",
   "execution_count": 19,
   "metadata": {
    "execution": {
     "iopub.execute_input": "2021-06-27T21:55:49.324322Z",
     "iopub.status.busy": "2021-06-27T21:55:49.323941Z",
     "iopub.status.idle": "2021-06-27T21:55:49.334324Z",
     "shell.execute_reply": "2021-06-27T21:55:49.333335Z",
     "shell.execute_reply.started": "2021-06-27T21:55:49.324292Z"
    },
    "id": "4yGCUq06j3vv"
   },
   "outputs": [],
   "source": [
    "from tensorflow.keras.optimizers import Adam"
   ]
  },
  {
   "cell_type": "code",
   "execution_count": 20,
   "metadata": {
    "execution": {
     "iopub.execute_input": "2021-06-27T21:55:49.336248Z",
     "iopub.status.busy": "2021-06-27T21:55:49.335661Z",
     "iopub.status.idle": "2021-06-27T21:55:49.348460Z",
     "shell.execute_reply": "2021-06-27T21:55:49.347715Z",
     "shell.execute_reply.started": "2021-06-27T21:55:49.336215Z"
    },
    "id": "Py8fBWNQzdOe"
   },
   "outputs": [],
   "source": [
    "from tensorflow import keras"
   ]
  },
  {
   "cell_type": "code",
   "execution_count": 21,
   "metadata": {
    "execution": {
     "iopub.execute_input": "2021-06-27T21:55:49.350516Z",
     "iopub.status.busy": "2021-06-27T21:55:49.350002Z",
     "iopub.status.idle": "2021-06-27T21:55:49.360029Z",
     "shell.execute_reply": "2021-06-27T21:55:49.359047Z",
     "shell.execute_reply.started": "2021-06-27T21:55:49.350474Z"
    }
   },
   "outputs": [],
   "source": [
    "import pandas as pd"
   ]
  },
  {
   "cell_type": "code",
   "execution_count": 22,
   "metadata": {
    "execution": {
     "iopub.execute_input": "2021-06-27T21:55:49.361578Z",
     "iopub.status.busy": "2021-06-27T21:55:49.361284Z",
     "iopub.status.idle": "2021-06-27T21:55:49.372016Z",
     "shell.execute_reply": "2021-06-27T21:55:49.371020Z",
     "shell.execute_reply.started": "2021-06-27T21:55:49.361552Z"
    }
   },
   "outputs": [],
   "source": [
    "def generate_submission(predictions, filepath='submission.csv'):\n",
    "    \"\"\" Generate the .csv file to submit in the challenge\n",
    "        @param predictions Predictions made by the model from the test dataset\n",
    "        @param filepath Filepath for the file generated\n",
    "    \"\"\"\n",
    "    df = pd.DataFrame(predictions, columns=['label'])\n",
    "    df.index.name = 'Id'\n",
    "    df.to_csv(filepath)"
   ]
  },
  {
   "cell_type": "markdown",
   "metadata": {},
   "source": [
    "### Preprocesando imágenes"
   ]
  },
  {
   "cell_type": "code",
   "execution_count": 23,
   "metadata": {
    "execution": {
     "iopub.execute_input": "2021-06-27T21:55:49.373455Z",
     "iopub.status.busy": "2021-06-27T21:55:49.373178Z",
     "iopub.status.idle": "2021-06-27T21:57:02.531504Z",
     "shell.execute_reply": "2021-06-27T21:57:02.530531Z",
     "shell.execute_reply.started": "2021-06-27T21:55:49.373423Z"
    }
   },
   "outputs": [],
   "source": [
    "x_train_tf, x_valid_tf, x_test_tf = resize_dataset(x_train, x_valid, x_test, 300, 300)"
   ]
  },
  {
   "cell_type": "markdown",
   "metadata": {},
   "source": [
    "### Creación del modelo"
   ]
  },
  {
   "cell_type": "code",
   "execution_count": 26,
   "metadata": {
    "execution": {
     "iopub.execute_input": "2021-06-27T21:57:04.143088Z",
     "iopub.status.busy": "2021-06-27T21:57:04.142807Z",
     "iopub.status.idle": "2021-06-27T21:57:25.038484Z",
     "shell.execute_reply": "2021-06-27T21:57:25.037513Z",
     "shell.execute_reply.started": "2021-06-27T21:57:04.143046Z"
    }
   },
   "outputs": [
    {
     "name": "stdout",
     "output_type": "stream",
     "text": [
      "Downloading data from https://storage.googleapis.com/keras-applications/efficientnetb3_notop.h5\n",
      "43941888/43941136 [==============================] - 0s 0us/step\n",
      "Model: \"sequential\"\n",
      "_________________________________________________________________\n",
      "Layer (type)                 Output Shape              Param #   \n",
      "=================================================================\n",
      "efficientnetb3 (Functional)  (None, 10, 10, 1536)      10783535  \n",
      "_________________________________________________________________\n",
      "global_average_pooling2d (Gl (None, 1536)              0         \n",
      "_________________________________________________________________\n",
      "batch_normalization (BatchNo (None, 1536)              6144      \n",
      "_________________________________________________________________\n",
      "dropout (Dropout)            (None, 1536)              0         \n",
      "_________________________________________________________________\n",
      "dense (Dense)                (None, 2048)              3147776   \n",
      "_________________________________________________________________\n",
      "batch_normalization_1 (Batch (None, 2048)              8192      \n",
      "_________________________________________________________________\n",
      "dropout_1 (Dropout)          (None, 2048)              0         \n",
      "_________________________________________________________________\n",
      "activation (Activation)      (None, 2048)              0         \n",
      "_________________________________________________________________\n",
      "dense_1 (Dense)              (None, 100)               204900    \n",
      "_________________________________________________________________\n",
      "activation_1 (Activation)    (None, 100)               0         \n",
      "=================================================================\n",
      "Total params: 14,150,547\n",
      "Trainable params: 14,056,076\n",
      "Non-trainable params: 94,471\n",
      "_________________________________________________________________\n"
     ]
    }
   ],
   "source": [
    "with strategy.scope():\n",
    "    # Create the model\n",
    "    model = Sequential()\n",
    "    model.add(InputLayer(input_shape=(300, 300, 3)))\n",
    "    model.add(EfficientNetB3(include_top=False, drop_connect_rate=0.4, weights='imagenet', input_shape=(300, 300, 3)))\n",
    "    model.add(GlobalAveragePooling2D())\n",
    "    model.add(BatchNormalization())\n",
    "    model.add(Dropout(0.6)) \n",
    "    model.add(Dense(units=2048))\n",
    "    model.add(BatchNormalization())\n",
    "    model.add(Dropout(0.5))\n",
    "    model.add(Activation('relu'))\n",
    "    model.add(Dense(units=100))\n",
    "    model.add(Activation('softmax'))\n",
    "    \n",
    "    # Freeze EffNetB3 Weights\n",
    "    model.layers[0].trainable = True\n",
    "    \n",
    "    # Compile the model\n",
    "    model.compile(loss='sparse_categorical_crossentropy',\n",
    "                optimizer=Adam(learning_rate=0.0001), # ¿Podrias bajar esto o subirlo?\n",
    "                metrics=['accuracy'],\n",
    "                steps_per_execution=30\n",
    "              )\n",
    "\n",
    "# Summarize\n",
    "model.summary()"
   ]
  },
  {
   "cell_type": "code",
   "execution_count": 27,
   "metadata": {
    "execution": {
     "iopub.execute_input": "2021-06-27T21:57:25.041533Z",
     "iopub.status.busy": "2021-06-27T21:57:25.041164Z",
     "iopub.status.idle": "2021-06-27T22:23:42.735792Z",
     "shell.execute_reply": "2021-06-27T22:23:42.733087Z",
     "shell.execute_reply.started": "2021-06-27T21:57:25.041501Z"
    }
   },
   "outputs": [
    {
     "name": "stdout",
     "output_type": "stream",
     "text": [
      "Epoch 1/100\n",
      "157/157 [==============================] - 213s 1s/step - loss: 4.6211 - accuracy: 0.0691 - val_loss: 3.4211 - val_accuracy: 0.3633\n",
      "Epoch 2/100\n",
      "157/157 [==============================] - 33s 208ms/step - loss: 2.0785 - accuracy: 0.4587 - val_loss: 1.3316 - val_accuracy: 0.6799\n",
      "Epoch 3/100\n",
      "157/157 [==============================] - 33s 208ms/step - loss: 1.3458 - accuracy: 0.6205 - val_loss: 0.7063 - val_accuracy: 0.7914\n",
      "Epoch 4/100\n",
      "157/157 [==============================] - 33s 209ms/step - loss: 1.0154 - accuracy: 0.7051 - val_loss: 0.5867 - val_accuracy: 0.8188\n",
      "Epoch 5/100\n",
      "157/157 [==============================] - 33s 208ms/step - loss: 0.8493 - accuracy: 0.7510 - val_loss: 0.5452 - val_accuracy: 0.8332\n",
      "Epoch 6/100\n",
      "157/157 [==============================] - 33s 208ms/step - loss: 0.7206 - accuracy: 0.7846 - val_loss: 0.5111 - val_accuracy: 0.8437\n",
      "Epoch 7/100\n",
      "157/157 [==============================] - 33s 209ms/step - loss: 0.6356 - accuracy: 0.8083 - val_loss: 0.4899 - val_accuracy: 0.8524\n",
      "Epoch 8/100\n",
      "157/157 [==============================] - 33s 208ms/step - loss: 0.5568 - accuracy: 0.8309 - val_loss: 0.4916 - val_accuracy: 0.8534\n",
      "Epoch 9/100\n",
      "157/157 [==============================] - 33s 209ms/step - loss: 0.4789 - accuracy: 0.8541 - val_loss: 0.4717 - val_accuracy: 0.8599\n",
      "Epoch 10/100\n",
      "157/157 [==============================] - 33s 209ms/step - loss: 0.4306 - accuracy: 0.8673 - val_loss: 0.4729 - val_accuracy: 0.8630\n",
      "Epoch 11/100\n",
      "157/157 [==============================] - 33s 207ms/step - loss: 0.3878 - accuracy: 0.8792 - val_loss: 0.4673 - val_accuracy: 0.8663\n",
      "Epoch 12/100\n",
      "157/157 [==============================] - 33s 208ms/step - loss: 0.3414 - accuracy: 0.8946 - val_loss: 0.4696 - val_accuracy: 0.8701\n",
      "Epoch 13/100\n",
      "157/157 [==============================] - 33s 209ms/step - loss: 0.3033 - accuracy: 0.9046 - val_loss: 0.4741 - val_accuracy: 0.8688\n",
      "Epoch 14/100\n",
      "157/157 [==============================] - 33s 208ms/step - loss: 0.2780 - accuracy: 0.9127 - val_loss: 0.4857 - val_accuracy: 0.8654\n",
      "Epoch 15/100\n",
      "157/157 [==============================] - 33s 208ms/step - loss: 0.2551 - accuracy: 0.9202 - val_loss: 0.4886 - val_accuracy: 0.8683\n",
      "Epoch 16/100\n",
      "157/157 [==============================] - 33s 208ms/step - loss: 0.2248 - accuracy: 0.9287 - val_loss: 0.4876 - val_accuracy: 0.8686\n",
      "Epoch 17/100\n",
      "157/157 [==============================] - 33s 209ms/step - loss: 0.2118 - accuracy: 0.9326 - val_loss: 0.4937 - val_accuracy: 0.8714\n",
      "Epoch 18/100\n",
      "157/157 [==============================] - 33s 209ms/step - loss: 0.1968 - accuracy: 0.9394 - val_loss: 0.4965 - val_accuracy: 0.8740\n",
      "Epoch 19/100\n",
      "157/157 [==============================] - 33s 209ms/step - loss: 0.1678 - accuracy: 0.9474 - val_loss: 0.5050 - val_accuracy: 0.8736\n",
      "Epoch 20/100\n",
      "157/157 [==============================] - 33s 209ms/step - loss: 0.1562 - accuracy: 0.9515 - val_loss: 0.5193 - val_accuracy: 0.8707\n",
      "Epoch 21/100\n",
      "157/157 [==============================] - 33s 207ms/step - loss: 0.1440 - accuracy: 0.9540 - val_loss: 0.5144 - val_accuracy: 0.8727\n",
      "Epoch 22/100\n",
      "157/157 [==============================] - 33s 208ms/step - loss: 0.1357 - accuracy: 0.9572 - val_loss: 0.5251 - val_accuracy: 0.8735\n",
      "Epoch 23/100\n",
      "157/157 [==============================] - 33s 208ms/step - loss: 0.1215 - accuracy: 0.9609 - val_loss: 0.5326 - val_accuracy: 0.8723\n",
      "Epoch 24/100\n",
      "157/157 [==============================] - 33s 208ms/step - loss: 0.1157 - accuracy: 0.9643 - val_loss: 0.5484 - val_accuracy: 0.8728\n",
      "Epoch 25/100\n",
      "157/157 [==============================] - 33s 207ms/step - loss: 0.1071 - accuracy: 0.9676 - val_loss: 0.5537 - val_accuracy: 0.8724\n",
      "Epoch 26/100\n",
      "157/157 [==============================] - 33s 208ms/step - loss: 0.1045 - accuracy: 0.9674 - val_loss: 0.5601 - val_accuracy: 0.8732\n",
      "Epoch 27/100\n",
      "157/157 [==============================] - 33s 208ms/step - loss: 0.0931 - accuracy: 0.9718 - val_loss: 0.5637 - val_accuracy: 0.8731\n",
      "Epoch 28/100\n",
      "157/157 [==============================] - 33s 208ms/step - loss: 0.0951 - accuracy: 0.9704 - val_loss: 0.5725 - val_accuracy: 0.8694\n",
      "Epoch 29/100\n",
      "157/157 [==============================] - 33s 208ms/step - loss: 0.0855 - accuracy: 0.9742 - val_loss: 0.5715 - val_accuracy: 0.8748\n",
      "Epoch 30/100\n",
      "157/157 [==============================] - 33s 208ms/step - loss: 0.0817 - accuracy: 0.9754 - val_loss: 0.5800 - val_accuracy: 0.8754\n",
      "Epoch 31/100\n",
      "157/157 [==============================] - 33s 209ms/step - loss: 0.0769 - accuracy: 0.9769 - val_loss: 0.5733 - val_accuracy: 0.8745\n",
      "Epoch 32/100\n",
      "157/157 [==============================] - 33s 209ms/step - loss: 0.0752 - accuracy: 0.9782 - val_loss: 0.5803 - val_accuracy: 0.8756\n",
      "Epoch 33/100\n",
      "157/157 [==============================] - 33s 209ms/step - loss: 0.0706 - accuracy: 0.9773 - val_loss: 0.5951 - val_accuracy: 0.8752\n",
      "Epoch 34/100\n",
      "157/157 [==============================] - 33s 208ms/step - loss: 0.0676 - accuracy: 0.9783 - val_loss: 0.6150 - val_accuracy: 0.8741\n",
      "Epoch 35/100\n",
      "157/157 [==============================] - 33s 208ms/step - loss: 0.0640 - accuracy: 0.9793 - val_loss: 0.6274 - val_accuracy: 0.8725\n",
      "Epoch 36/100\n",
      "157/157 [==============================] - 33s 209ms/step - loss: 0.0633 - accuracy: 0.9800 - val_loss: 0.6261 - val_accuracy: 0.8713\n",
      "Epoch 37/100\n",
      "157/157 [==============================] - 33s 208ms/step - loss: 0.0609 - accuracy: 0.9805 - val_loss: 0.6314 - val_accuracy: 0.8717\n",
      "Epoch 38/100\n",
      "157/157 [==============================] - 33s 209ms/step - loss: 0.0554 - accuracy: 0.9825 - val_loss: 0.6196 - val_accuracy: 0.8721\n",
      "Epoch 39/100\n",
      "157/157 [==============================] - 33s 209ms/step - loss: 0.0563 - accuracy: 0.9818 - val_loss: 0.6466 - val_accuracy: 0.8733\n",
      "Epoch 40/100\n",
      " 90/157 [================>.............] - ETA: 12s - loss: 0.0507 - accuracy: 0.9850"
     ]
    },
    {
     "ename": "KeyboardInterrupt",
     "evalue": "",
     "output_type": "error",
     "traceback": [
      "\u001b[0;31m---------------------------------------------------------------------------\u001b[0m",
      "\u001b[0;31mKeyboardInterrupt\u001b[0m                         Traceback (most recent call last)",
      "\u001b[0;32m<ipython-input-27-7c9601b9bc9f>\u001b[0m in \u001b[0;36m<module>\u001b[0;34m\u001b[0m\n\u001b[1;32m     20\u001b[0m           \u001b[0mcallbacks\u001b[0m\u001b[0;34m=\u001b[0m\u001b[0;34m[\u001b[0m\u001b[0mmc_callback\u001b[0m\u001b[0;34m,\u001b[0m \u001b[0mlr_callback\u001b[0m\u001b[0;34m]\u001b[0m\u001b[0;34m,\u001b[0m\u001b[0;34m\u001b[0m\u001b[0;34m\u001b[0m\u001b[0m\n\u001b[1;32m     21\u001b[0m           \u001b[0mepochs\u001b[0m\u001b[0;34m=\u001b[0m\u001b[0mepochs\u001b[0m\u001b[0;34m,\u001b[0m\u001b[0;34m\u001b[0m\u001b[0;34m\u001b[0m\u001b[0m\n\u001b[0;32m---> 22\u001b[0;31m           \u001b[0mbatch_size\u001b[0m\u001b[0;34m=\u001b[0m\u001b[0mbatch_size\u001b[0m\u001b[0;34m\u001b[0m\u001b[0;34m\u001b[0m\u001b[0m\n\u001b[0m\u001b[1;32m     23\u001b[0m           )\n",
      "\u001b[0;32m/opt/conda/lib/python3.7/site-packages/tensorflow/python/keras/engine/training.py\u001b[0m in \u001b[0;36mfit\u001b[0;34m(self, x, y, batch_size, epochs, verbose, callbacks, validation_split, validation_data, shuffle, class_weight, sample_weight, initial_epoch, steps_per_epoch, validation_steps, validation_batch_size, validation_freq, max_queue_size, workers, use_multiprocessing)\u001b[0m\n\u001b[1;32m   1103\u001b[0m               \u001b[0mlogs\u001b[0m \u001b[0;34m=\u001b[0m \u001b[0mtmp_logs\u001b[0m  \u001b[0;31m# No error, now safe to assign to logs.\u001b[0m\u001b[0;34m\u001b[0m\u001b[0;34m\u001b[0m\u001b[0m\n\u001b[1;32m   1104\u001b[0m               \u001b[0mend_step\u001b[0m \u001b[0;34m=\u001b[0m \u001b[0mstep\u001b[0m \u001b[0;34m+\u001b[0m \u001b[0mdata_handler\u001b[0m\u001b[0;34m.\u001b[0m\u001b[0mstep_increment\u001b[0m\u001b[0;34m\u001b[0m\u001b[0;34m\u001b[0m\u001b[0m\n\u001b[0;32m-> 1105\u001b[0;31m               \u001b[0mcallbacks\u001b[0m\u001b[0;34m.\u001b[0m\u001b[0mon_train_batch_end\u001b[0m\u001b[0;34m(\u001b[0m\u001b[0mend_step\u001b[0m\u001b[0;34m,\u001b[0m \u001b[0mlogs\u001b[0m\u001b[0;34m)\u001b[0m\u001b[0;34m\u001b[0m\u001b[0;34m\u001b[0m\u001b[0m\n\u001b[0m\u001b[1;32m   1106\u001b[0m               \u001b[0;32mif\u001b[0m \u001b[0mself\u001b[0m\u001b[0;34m.\u001b[0m\u001b[0mstop_training\u001b[0m\u001b[0;34m:\u001b[0m\u001b[0;34m\u001b[0m\u001b[0;34m\u001b[0m\u001b[0m\n\u001b[1;32m   1107\u001b[0m                 \u001b[0;32mbreak\u001b[0m\u001b[0;34m\u001b[0m\u001b[0;34m\u001b[0m\u001b[0m\n",
      "\u001b[0;32m/opt/conda/lib/python3.7/site-packages/tensorflow/python/keras/callbacks.py\u001b[0m in \u001b[0;36mon_train_batch_end\u001b[0;34m(self, batch, logs)\u001b[0m\n\u001b[1;32m    452\u001b[0m     \"\"\"\n\u001b[1;32m    453\u001b[0m     \u001b[0;32mif\u001b[0m \u001b[0mself\u001b[0m\u001b[0;34m.\u001b[0m\u001b[0m_should_call_train_batch_hooks\u001b[0m\u001b[0;34m:\u001b[0m\u001b[0;34m\u001b[0m\u001b[0;34m\u001b[0m\u001b[0m\n\u001b[0;32m--> 454\u001b[0;31m       \u001b[0mself\u001b[0m\u001b[0;34m.\u001b[0m\u001b[0m_call_batch_hook\u001b[0m\u001b[0;34m(\u001b[0m\u001b[0mModeKeys\u001b[0m\u001b[0;34m.\u001b[0m\u001b[0mTRAIN\u001b[0m\u001b[0;34m,\u001b[0m \u001b[0;34m'end'\u001b[0m\u001b[0;34m,\u001b[0m \u001b[0mbatch\u001b[0m\u001b[0;34m,\u001b[0m \u001b[0mlogs\u001b[0m\u001b[0;34m=\u001b[0m\u001b[0mlogs\u001b[0m\u001b[0;34m)\u001b[0m\u001b[0;34m\u001b[0m\u001b[0;34m\u001b[0m\u001b[0m\n\u001b[0m\u001b[1;32m    455\u001b[0m \u001b[0;34m\u001b[0m\u001b[0m\n\u001b[1;32m    456\u001b[0m   \u001b[0;32mdef\u001b[0m \u001b[0mon_test_batch_begin\u001b[0m\u001b[0;34m(\u001b[0m\u001b[0mself\u001b[0m\u001b[0;34m,\u001b[0m \u001b[0mbatch\u001b[0m\u001b[0;34m,\u001b[0m \u001b[0mlogs\u001b[0m\u001b[0;34m=\u001b[0m\u001b[0;32mNone\u001b[0m\u001b[0;34m)\u001b[0m\u001b[0;34m:\u001b[0m\u001b[0;34m\u001b[0m\u001b[0;34m\u001b[0m\u001b[0m\n",
      "\u001b[0;32m/opt/conda/lib/python3.7/site-packages/tensorflow/python/keras/callbacks.py\u001b[0m in \u001b[0;36m_call_batch_hook\u001b[0;34m(self, mode, hook, batch, logs)\u001b[0m\n\u001b[1;32m    294\u001b[0m       \u001b[0mself\u001b[0m\u001b[0;34m.\u001b[0m\u001b[0m_call_batch_begin_hook\u001b[0m\u001b[0;34m(\u001b[0m\u001b[0mmode\u001b[0m\u001b[0;34m,\u001b[0m \u001b[0mbatch\u001b[0m\u001b[0;34m,\u001b[0m \u001b[0mlogs\u001b[0m\u001b[0;34m)\u001b[0m\u001b[0;34m\u001b[0m\u001b[0;34m\u001b[0m\u001b[0m\n\u001b[1;32m    295\u001b[0m     \u001b[0;32melif\u001b[0m \u001b[0mhook\u001b[0m \u001b[0;34m==\u001b[0m \u001b[0;34m'end'\u001b[0m\u001b[0;34m:\u001b[0m\u001b[0;34m\u001b[0m\u001b[0;34m\u001b[0m\u001b[0m\n\u001b[0;32m--> 296\u001b[0;31m       \u001b[0mself\u001b[0m\u001b[0;34m.\u001b[0m\u001b[0m_call_batch_end_hook\u001b[0m\u001b[0;34m(\u001b[0m\u001b[0mmode\u001b[0m\u001b[0;34m,\u001b[0m \u001b[0mbatch\u001b[0m\u001b[0;34m,\u001b[0m \u001b[0mlogs\u001b[0m\u001b[0;34m)\u001b[0m\u001b[0;34m\u001b[0m\u001b[0;34m\u001b[0m\u001b[0m\n\u001b[0m\u001b[1;32m    297\u001b[0m     \u001b[0;32melse\u001b[0m\u001b[0;34m:\u001b[0m\u001b[0;34m\u001b[0m\u001b[0;34m\u001b[0m\u001b[0m\n\u001b[1;32m    298\u001b[0m       \u001b[0;32mraise\u001b[0m \u001b[0mValueError\u001b[0m\u001b[0;34m(\u001b[0m\u001b[0;34m'Unrecognized hook: {}'\u001b[0m\u001b[0;34m.\u001b[0m\u001b[0mformat\u001b[0m\u001b[0;34m(\u001b[0m\u001b[0mhook\u001b[0m\u001b[0;34m)\u001b[0m\u001b[0;34m)\u001b[0m\u001b[0;34m\u001b[0m\u001b[0;34m\u001b[0m\u001b[0m\n",
      "\u001b[0;32m/opt/conda/lib/python3.7/site-packages/tensorflow/python/keras/callbacks.py\u001b[0m in \u001b[0;36m_call_batch_end_hook\u001b[0;34m(self, mode, batch, logs)\u001b[0m\n\u001b[1;32m    314\u001b[0m       \u001b[0mself\u001b[0m\u001b[0;34m.\u001b[0m\u001b[0m_batch_times\u001b[0m\u001b[0;34m.\u001b[0m\u001b[0mappend\u001b[0m\u001b[0;34m(\u001b[0m\u001b[0mbatch_time\u001b[0m\u001b[0;34m)\u001b[0m\u001b[0;34m\u001b[0m\u001b[0;34m\u001b[0m\u001b[0m\n\u001b[1;32m    315\u001b[0m \u001b[0;34m\u001b[0m\u001b[0m\n\u001b[0;32m--> 316\u001b[0;31m     \u001b[0mself\u001b[0m\u001b[0;34m.\u001b[0m\u001b[0m_call_batch_hook_helper\u001b[0m\u001b[0;34m(\u001b[0m\u001b[0mhook_name\u001b[0m\u001b[0;34m,\u001b[0m \u001b[0mbatch\u001b[0m\u001b[0;34m,\u001b[0m \u001b[0mlogs\u001b[0m\u001b[0;34m)\u001b[0m\u001b[0;34m\u001b[0m\u001b[0;34m\u001b[0m\u001b[0m\n\u001b[0m\u001b[1;32m    317\u001b[0m \u001b[0;34m\u001b[0m\u001b[0m\n\u001b[1;32m    318\u001b[0m     \u001b[0;32mif\u001b[0m \u001b[0mlen\u001b[0m\u001b[0;34m(\u001b[0m\u001b[0mself\u001b[0m\u001b[0;34m.\u001b[0m\u001b[0m_batch_times\u001b[0m\u001b[0;34m)\u001b[0m \u001b[0;34m>=\u001b[0m \u001b[0mself\u001b[0m\u001b[0;34m.\u001b[0m\u001b[0m_num_batches_for_timing_check\u001b[0m\u001b[0;34m:\u001b[0m\u001b[0;34m\u001b[0m\u001b[0;34m\u001b[0m\u001b[0m\n",
      "\u001b[0;32m/opt/conda/lib/python3.7/site-packages/tensorflow/python/keras/callbacks.py\u001b[0m in \u001b[0;36m_call_batch_hook_helper\u001b[0;34m(self, hook_name, batch, logs)\u001b[0m\n\u001b[1;32m    354\u001b[0m       \u001b[0mhook\u001b[0m \u001b[0;34m=\u001b[0m \u001b[0mgetattr\u001b[0m\u001b[0;34m(\u001b[0m\u001b[0mcallback\u001b[0m\u001b[0;34m,\u001b[0m \u001b[0mhook_name\u001b[0m\u001b[0;34m)\u001b[0m\u001b[0;34m\u001b[0m\u001b[0;34m\u001b[0m\u001b[0m\n\u001b[1;32m    355\u001b[0m       \u001b[0;32mif\u001b[0m \u001b[0mgetattr\u001b[0m\u001b[0;34m(\u001b[0m\u001b[0mcallback\u001b[0m\u001b[0;34m,\u001b[0m \u001b[0;34m'_supports_tf_logs'\u001b[0m\u001b[0;34m,\u001b[0m \u001b[0;32mFalse\u001b[0m\u001b[0;34m)\u001b[0m\u001b[0;34m:\u001b[0m\u001b[0;34m\u001b[0m\u001b[0;34m\u001b[0m\u001b[0m\n\u001b[0;32m--> 356\u001b[0;31m         \u001b[0mhook\u001b[0m\u001b[0;34m(\u001b[0m\u001b[0mbatch\u001b[0m\u001b[0;34m,\u001b[0m \u001b[0mlogs\u001b[0m\u001b[0;34m)\u001b[0m\u001b[0;34m\u001b[0m\u001b[0;34m\u001b[0m\u001b[0m\n\u001b[0m\u001b[1;32m    357\u001b[0m       \u001b[0;32melse\u001b[0m\u001b[0;34m:\u001b[0m\u001b[0;34m\u001b[0m\u001b[0;34m\u001b[0m\u001b[0m\n\u001b[1;32m    358\u001b[0m         \u001b[0;32mif\u001b[0m \u001b[0mnumpy_logs\u001b[0m \u001b[0;32mis\u001b[0m \u001b[0;32mNone\u001b[0m\u001b[0;34m:\u001b[0m  \u001b[0;31m# Only convert once.\u001b[0m\u001b[0;34m\u001b[0m\u001b[0;34m\u001b[0m\u001b[0m\n",
      "\u001b[0;32m/opt/conda/lib/python3.7/site-packages/tensorflow/python/keras/callbacks.py\u001b[0m in \u001b[0;36mon_train_batch_end\u001b[0;34m(self, batch, logs)\u001b[0m\n\u001b[1;32m   1018\u001b[0m \u001b[0;34m\u001b[0m\u001b[0m\n\u001b[1;32m   1019\u001b[0m   \u001b[0;32mdef\u001b[0m \u001b[0mon_train_batch_end\u001b[0m\u001b[0;34m(\u001b[0m\u001b[0mself\u001b[0m\u001b[0;34m,\u001b[0m \u001b[0mbatch\u001b[0m\u001b[0;34m,\u001b[0m \u001b[0mlogs\u001b[0m\u001b[0;34m=\u001b[0m\u001b[0;32mNone\u001b[0m\u001b[0;34m)\u001b[0m\u001b[0;34m:\u001b[0m\u001b[0;34m\u001b[0m\u001b[0;34m\u001b[0m\u001b[0m\n\u001b[0;32m-> 1020\u001b[0;31m     \u001b[0mself\u001b[0m\u001b[0;34m.\u001b[0m\u001b[0m_batch_update_progbar\u001b[0m\u001b[0;34m(\u001b[0m\u001b[0mbatch\u001b[0m\u001b[0;34m,\u001b[0m \u001b[0mlogs\u001b[0m\u001b[0;34m)\u001b[0m\u001b[0;34m\u001b[0m\u001b[0;34m\u001b[0m\u001b[0m\n\u001b[0m\u001b[1;32m   1021\u001b[0m \u001b[0;34m\u001b[0m\u001b[0m\n\u001b[1;32m   1022\u001b[0m   \u001b[0;32mdef\u001b[0m \u001b[0mon_test_batch_end\u001b[0m\u001b[0;34m(\u001b[0m\u001b[0mself\u001b[0m\u001b[0;34m,\u001b[0m \u001b[0mbatch\u001b[0m\u001b[0;34m,\u001b[0m \u001b[0mlogs\u001b[0m\u001b[0;34m=\u001b[0m\u001b[0;32mNone\u001b[0m\u001b[0;34m)\u001b[0m\u001b[0;34m:\u001b[0m\u001b[0;34m\u001b[0m\u001b[0;34m\u001b[0m\u001b[0m\n",
      "\u001b[0;32m/opt/conda/lib/python3.7/site-packages/tensorflow/python/keras/callbacks.py\u001b[0m in \u001b[0;36m_batch_update_progbar\u001b[0;34m(self, batch, logs)\u001b[0m\n\u001b[1;32m   1082\u001b[0m     \u001b[0;32mif\u001b[0m \u001b[0mself\u001b[0m\u001b[0;34m.\u001b[0m\u001b[0mverbose\u001b[0m \u001b[0;34m==\u001b[0m \u001b[0;36m1\u001b[0m\u001b[0;34m:\u001b[0m\u001b[0;34m\u001b[0m\u001b[0;34m\u001b[0m\u001b[0m\n\u001b[1;32m   1083\u001b[0m       \u001b[0;31m# Only block async when verbose = 1.\u001b[0m\u001b[0;34m\u001b[0m\u001b[0;34m\u001b[0m\u001b[0;34m\u001b[0m\u001b[0m\n\u001b[0;32m-> 1084\u001b[0;31m       \u001b[0mlogs\u001b[0m \u001b[0;34m=\u001b[0m \u001b[0mtf_utils\u001b[0m\u001b[0;34m.\u001b[0m\u001b[0mto_numpy_or_python_type\u001b[0m\u001b[0;34m(\u001b[0m\u001b[0mlogs\u001b[0m\u001b[0;34m)\u001b[0m\u001b[0;34m\u001b[0m\u001b[0;34m\u001b[0m\u001b[0m\n\u001b[0m\u001b[1;32m   1085\u001b[0m       \u001b[0mself\u001b[0m\u001b[0;34m.\u001b[0m\u001b[0mprogbar\u001b[0m\u001b[0;34m.\u001b[0m\u001b[0mupdate\u001b[0m\u001b[0;34m(\u001b[0m\u001b[0mself\u001b[0m\u001b[0;34m.\u001b[0m\u001b[0mseen\u001b[0m\u001b[0;34m,\u001b[0m \u001b[0mlist\u001b[0m\u001b[0;34m(\u001b[0m\u001b[0mlogs\u001b[0m\u001b[0;34m.\u001b[0m\u001b[0mitems\u001b[0m\u001b[0;34m(\u001b[0m\u001b[0;34m)\u001b[0m\u001b[0;34m)\u001b[0m\u001b[0;34m,\u001b[0m \u001b[0mfinalize\u001b[0m\u001b[0;34m=\u001b[0m\u001b[0;32mFalse\u001b[0m\u001b[0;34m)\u001b[0m\u001b[0;34m\u001b[0m\u001b[0;34m\u001b[0m\u001b[0m\n\u001b[1;32m   1086\u001b[0m \u001b[0;34m\u001b[0m\u001b[0m\n",
      "\u001b[0;32m/opt/conda/lib/python3.7/site-packages/tensorflow/python/keras/utils/tf_utils.py\u001b[0m in \u001b[0;36mto_numpy_or_python_type\u001b[0;34m(tensors)\u001b[0m\n\u001b[1;32m    512\u001b[0m     \u001b[0;32mreturn\u001b[0m \u001b[0mt\u001b[0m  \u001b[0;31m# Don't turn ragged or sparse tensors to NumPy.\u001b[0m\u001b[0;34m\u001b[0m\u001b[0;34m\u001b[0m\u001b[0m\n\u001b[1;32m    513\u001b[0m \u001b[0;34m\u001b[0m\u001b[0m\n\u001b[0;32m--> 514\u001b[0;31m   \u001b[0;32mreturn\u001b[0m \u001b[0mnest\u001b[0m\u001b[0;34m.\u001b[0m\u001b[0mmap_structure\u001b[0m\u001b[0;34m(\u001b[0m\u001b[0m_to_single_numpy_or_python_type\u001b[0m\u001b[0;34m,\u001b[0m \u001b[0mtensors\u001b[0m\u001b[0;34m)\u001b[0m\u001b[0;34m\u001b[0m\u001b[0;34m\u001b[0m\u001b[0m\n\u001b[0m\u001b[1;32m    515\u001b[0m \u001b[0;34m\u001b[0m\u001b[0m\n\u001b[1;32m    516\u001b[0m \u001b[0;34m\u001b[0m\u001b[0m\n",
      "\u001b[0;32m/opt/conda/lib/python3.7/site-packages/tensorflow/python/util/nest.py\u001b[0m in \u001b[0;36mmap_structure\u001b[0;34m(func, *structure, **kwargs)\u001b[0m\n\u001b[1;32m    657\u001b[0m \u001b[0;34m\u001b[0m\u001b[0m\n\u001b[1;32m    658\u001b[0m   return pack_sequence_as(\n\u001b[0;32m--> 659\u001b[0;31m       \u001b[0mstructure\u001b[0m\u001b[0;34m[\u001b[0m\u001b[0;36m0\u001b[0m\u001b[0;34m]\u001b[0m\u001b[0;34m,\u001b[0m \u001b[0;34m[\u001b[0m\u001b[0mfunc\u001b[0m\u001b[0;34m(\u001b[0m\u001b[0;34m*\u001b[0m\u001b[0mx\u001b[0m\u001b[0;34m)\u001b[0m \u001b[0;32mfor\u001b[0m \u001b[0mx\u001b[0m \u001b[0;32min\u001b[0m \u001b[0mentries\u001b[0m\u001b[0;34m]\u001b[0m\u001b[0;34m,\u001b[0m\u001b[0;34m\u001b[0m\u001b[0;34m\u001b[0m\u001b[0m\n\u001b[0m\u001b[1;32m    660\u001b[0m       expand_composites=expand_composites)\n\u001b[1;32m    661\u001b[0m \u001b[0;34m\u001b[0m\u001b[0m\n",
      "\u001b[0;32m/opt/conda/lib/python3.7/site-packages/tensorflow/python/util/nest.py\u001b[0m in \u001b[0;36m<listcomp>\u001b[0;34m(.0)\u001b[0m\n\u001b[1;32m    657\u001b[0m \u001b[0;34m\u001b[0m\u001b[0m\n\u001b[1;32m    658\u001b[0m   return pack_sequence_as(\n\u001b[0;32m--> 659\u001b[0;31m       \u001b[0mstructure\u001b[0m\u001b[0;34m[\u001b[0m\u001b[0;36m0\u001b[0m\u001b[0;34m]\u001b[0m\u001b[0;34m,\u001b[0m \u001b[0;34m[\u001b[0m\u001b[0mfunc\u001b[0m\u001b[0;34m(\u001b[0m\u001b[0;34m*\u001b[0m\u001b[0mx\u001b[0m\u001b[0;34m)\u001b[0m \u001b[0;32mfor\u001b[0m \u001b[0mx\u001b[0m \u001b[0;32min\u001b[0m \u001b[0mentries\u001b[0m\u001b[0;34m]\u001b[0m\u001b[0;34m,\u001b[0m\u001b[0;34m\u001b[0m\u001b[0;34m\u001b[0m\u001b[0m\n\u001b[0m\u001b[1;32m    660\u001b[0m       expand_composites=expand_composites)\n\u001b[1;32m    661\u001b[0m \u001b[0;34m\u001b[0m\u001b[0m\n",
      "\u001b[0;32m/opt/conda/lib/python3.7/site-packages/tensorflow/python/keras/utils/tf_utils.py\u001b[0m in \u001b[0;36m_to_single_numpy_or_python_type\u001b[0;34m(t)\u001b[0m\n\u001b[1;32m    508\u001b[0m   \u001b[0;32mdef\u001b[0m \u001b[0m_to_single_numpy_or_python_type\u001b[0m\u001b[0;34m(\u001b[0m\u001b[0mt\u001b[0m\u001b[0;34m)\u001b[0m\u001b[0;34m:\u001b[0m\u001b[0;34m\u001b[0m\u001b[0;34m\u001b[0m\u001b[0m\n\u001b[1;32m    509\u001b[0m     \u001b[0;32mif\u001b[0m \u001b[0misinstance\u001b[0m\u001b[0;34m(\u001b[0m\u001b[0mt\u001b[0m\u001b[0;34m,\u001b[0m \u001b[0mops\u001b[0m\u001b[0;34m.\u001b[0m\u001b[0mTensor\u001b[0m\u001b[0;34m)\u001b[0m\u001b[0;34m:\u001b[0m\u001b[0;34m\u001b[0m\u001b[0;34m\u001b[0m\u001b[0m\n\u001b[0;32m--> 510\u001b[0;31m       \u001b[0mx\u001b[0m \u001b[0;34m=\u001b[0m \u001b[0mt\u001b[0m\u001b[0;34m.\u001b[0m\u001b[0mnumpy\u001b[0m\u001b[0;34m(\u001b[0m\u001b[0;34m)\u001b[0m\u001b[0;34m\u001b[0m\u001b[0;34m\u001b[0m\u001b[0m\n\u001b[0m\u001b[1;32m    511\u001b[0m       \u001b[0;32mreturn\u001b[0m \u001b[0mx\u001b[0m\u001b[0;34m.\u001b[0m\u001b[0mitem\u001b[0m\u001b[0;34m(\u001b[0m\u001b[0;34m)\u001b[0m \u001b[0;32mif\u001b[0m \u001b[0mnp\u001b[0m\u001b[0;34m.\u001b[0m\u001b[0mndim\u001b[0m\u001b[0;34m(\u001b[0m\u001b[0mx\u001b[0m\u001b[0;34m)\u001b[0m \u001b[0;34m==\u001b[0m \u001b[0;36m0\u001b[0m \u001b[0;32melse\u001b[0m \u001b[0mx\u001b[0m\u001b[0;34m\u001b[0m\u001b[0;34m\u001b[0m\u001b[0m\n\u001b[1;32m    512\u001b[0m     \u001b[0;32mreturn\u001b[0m \u001b[0mt\u001b[0m  \u001b[0;31m# Don't turn ragged or sparse tensors to NumPy.\u001b[0m\u001b[0;34m\u001b[0m\u001b[0;34m\u001b[0m\u001b[0m\n",
      "\u001b[0;32m/opt/conda/lib/python3.7/site-packages/tensorflow/python/framework/ops.py\u001b[0m in \u001b[0;36mnumpy\u001b[0;34m(self)\u001b[0m\n\u001b[1;32m   1069\u001b[0m     \"\"\"\n\u001b[1;32m   1070\u001b[0m     \u001b[0;31m# TODO(slebedev): Consider avoiding a copy for non-CPU or remote tensors.\u001b[0m\u001b[0;34m\u001b[0m\u001b[0;34m\u001b[0m\u001b[0;34m\u001b[0m\u001b[0m\n\u001b[0;32m-> 1071\u001b[0;31m     \u001b[0mmaybe_arr\u001b[0m \u001b[0;34m=\u001b[0m \u001b[0mself\u001b[0m\u001b[0;34m.\u001b[0m\u001b[0m_numpy\u001b[0m\u001b[0;34m(\u001b[0m\u001b[0;34m)\u001b[0m  \u001b[0;31m# pylint: disable=protected-access\u001b[0m\u001b[0;34m\u001b[0m\u001b[0;34m\u001b[0m\u001b[0m\n\u001b[0m\u001b[1;32m   1072\u001b[0m     \u001b[0;32mreturn\u001b[0m \u001b[0mmaybe_arr\u001b[0m\u001b[0;34m.\u001b[0m\u001b[0mcopy\u001b[0m\u001b[0;34m(\u001b[0m\u001b[0;34m)\u001b[0m \u001b[0;32mif\u001b[0m \u001b[0misinstance\u001b[0m\u001b[0;34m(\u001b[0m\u001b[0mmaybe_arr\u001b[0m\u001b[0;34m,\u001b[0m \u001b[0mnp\u001b[0m\u001b[0;34m.\u001b[0m\u001b[0mndarray\u001b[0m\u001b[0;34m)\u001b[0m \u001b[0;32melse\u001b[0m \u001b[0mmaybe_arr\u001b[0m\u001b[0;34m\u001b[0m\u001b[0;34m\u001b[0m\u001b[0m\n\u001b[1;32m   1073\u001b[0m \u001b[0;34m\u001b[0m\u001b[0m\n",
      "\u001b[0;32m/opt/conda/lib/python3.7/site-packages/tensorflow/python/framework/ops.py\u001b[0m in \u001b[0;36m_numpy\u001b[0;34m(self)\u001b[0m\n\u001b[1;32m   1035\u001b[0m   \u001b[0;32mdef\u001b[0m \u001b[0m_numpy\u001b[0m\u001b[0;34m(\u001b[0m\u001b[0mself\u001b[0m\u001b[0;34m)\u001b[0m\u001b[0;34m:\u001b[0m\u001b[0;34m\u001b[0m\u001b[0;34m\u001b[0m\u001b[0m\n\u001b[1;32m   1036\u001b[0m     \u001b[0;32mtry\u001b[0m\u001b[0;34m:\u001b[0m\u001b[0;34m\u001b[0m\u001b[0;34m\u001b[0m\u001b[0m\n\u001b[0;32m-> 1037\u001b[0;31m       \u001b[0;32mreturn\u001b[0m \u001b[0mself\u001b[0m\u001b[0;34m.\u001b[0m\u001b[0m_numpy_internal\u001b[0m\u001b[0;34m(\u001b[0m\u001b[0;34m)\u001b[0m\u001b[0;34m\u001b[0m\u001b[0;34m\u001b[0m\u001b[0m\n\u001b[0m\u001b[1;32m   1038\u001b[0m     \u001b[0;32mexcept\u001b[0m \u001b[0mcore\u001b[0m\u001b[0;34m.\u001b[0m\u001b[0m_NotOkStatusException\u001b[0m \u001b[0;32mas\u001b[0m \u001b[0me\u001b[0m\u001b[0;34m:\u001b[0m  \u001b[0;31m# pylint: disable=protected-access\u001b[0m\u001b[0;34m\u001b[0m\u001b[0;34m\u001b[0m\u001b[0m\n\u001b[1;32m   1039\u001b[0m       \u001b[0msix\u001b[0m\u001b[0;34m.\u001b[0m\u001b[0mraise_from\u001b[0m\u001b[0;34m(\u001b[0m\u001b[0mcore\u001b[0m\u001b[0;34m.\u001b[0m\u001b[0m_status_to_exception\u001b[0m\u001b[0;34m(\u001b[0m\u001b[0me\u001b[0m\u001b[0;34m.\u001b[0m\u001b[0mcode\u001b[0m\u001b[0;34m,\u001b[0m \u001b[0me\u001b[0m\u001b[0;34m.\u001b[0m\u001b[0mmessage\u001b[0m\u001b[0;34m)\u001b[0m\u001b[0;34m,\u001b[0m \u001b[0;32mNone\u001b[0m\u001b[0;34m)\u001b[0m  \u001b[0;31m# pylint: disable=protected-access\u001b[0m\u001b[0;34m\u001b[0m\u001b[0;34m\u001b[0m\u001b[0m\n",
      "\u001b[0;31mKeyboardInterrupt\u001b[0m: "
     ]
    }
   ],
   "source": [
    "# Create the ModelCheckpoint callback to save the best model during training\n",
    "mc_callback = ModelCheckpoint('model_1.hdf5',\n",
    "                              monitor='val_accuracy',\n",
    "                              save_best_only=True,\n",
    "                              verbose=0,\n",
    "                              mode='max'\n",
    "                             )\n",
    "\n",
    "# Create the EarlyStopping callback to stop when not improving during training\n",
    "es_callback = EarlyStopping(monitor='val_loss', mode='min', verbose=1, patience=10)\n",
    "\n",
    "# Create the ReduceLROnPlateau callback to reduce the learning rate when not improving\n",
    "lr_callback = ReduceLROnPlateau(monitor='val_accuracy', factor=0.2, patience=2, min_lr=0.001)\n",
    "\n",
    "# Train the model\n",
    "epochs = 100\n",
    "batch_size = 256\n",
    "model.fit(x_train_tf, y_train,\n",
    "          validation_data=(x_valid_tf, y_valid), \n",
    "          callbacks=[mc_callback, lr_callback],\n",
    "          epochs=epochs,\n",
    "          batch_size=batch_size\n",
    "          )"
   ]
  },
  {
   "cell_type": "markdown",
   "metadata": {},
   "source": [
    "### Evaluación del modelo"
   ]
  },
  {
   "cell_type": "code",
   "execution_count": 28,
   "metadata": {
    "execution": {
     "iopub.execute_input": "2021-06-27T22:23:48.311712Z",
     "iopub.status.busy": "2021-06-27T22:23:48.311172Z",
     "iopub.status.idle": "2021-06-27T22:36:42.101001Z",
     "shell.execute_reply": "2021-06-27T22:36:42.099899Z",
     "shell.execute_reply.started": "2021-06-27T22:23:48.311677Z"
    }
   },
   "outputs": [
    {
     "name": "stdout",
     "output_type": "stream",
     "text": [
      "[Accuracy] Train: 1.0 Valid: 0.876\n"
     ]
    }
   ],
   "source": [
    "# Load the model and show the final metrics\n",
    "model = keras.models.load_model('model_1.hdf5')\n",
    "\n",
    "# Train and validation metrics\n",
    "_, train_acc = model.evaluate(x_train_tf, y_train, verbose=0)\n",
    "_, valid_acc = model.evaluate(x_valid_tf, y_valid, verbose=0)\n",
    "\n",
    "# Show result\n",
    "print(f'[Accuracy] Train: {round(train_acc, 3)} Valid: {round(valid_acc, 3)}')"
   ]
  },
  {
   "cell_type": "code",
   "execution_count": 29,
   "metadata": {
    "execution": {
     "iopub.execute_input": "2021-06-27T22:36:42.102817Z",
     "iopub.status.busy": "2021-06-27T22:36:42.102520Z",
     "iopub.status.idle": "2021-06-27T22:39:15.239775Z",
     "shell.execute_reply": "2021-06-27T22:39:15.238562Z",
     "shell.execute_reply.started": "2021-06-27T22:36:42.102789Z"
    }
   },
   "outputs": [],
   "source": [
    "y_pred = model.predict(x_test_tf).argmax(axis=-1)"
   ]
  },
  {
   "cell_type": "code",
   "execution_count": 31,
   "metadata": {
    "execution": {
     "iopub.execute_input": "2021-06-27T22:39:25.185488Z",
     "iopub.status.busy": "2021-06-27T22:39:25.185114Z",
     "iopub.status.idle": "2021-06-27T22:39:25.213506Z",
     "shell.execute_reply": "2021-06-27T22:39:25.212389Z",
     "shell.execute_reply.started": "2021-06-27T22:39:25.185459Z"
    }
   },
   "outputs": [],
   "source": [
    "generate_submission(y_pred, filepath='submission1.csv')"
   ]
  }
 ],
 "metadata": {
  "kernelspec": {
   "display_name": "Python 3",
   "language": "python",
   "name": "python3"
  },
  "language_info": {
   "codemirror_mode": {
    "name": "ipython",
    "version": 3
   },
   "file_extension": ".py",
   "mimetype": "text/x-python",
   "name": "python",
   "nbconvert_exporter": "python",
   "pygments_lexer": "ipython3",
   "version": "3.8.5"
  }
 },
 "nbformat": 4,
 "nbformat_minor": 4
}
