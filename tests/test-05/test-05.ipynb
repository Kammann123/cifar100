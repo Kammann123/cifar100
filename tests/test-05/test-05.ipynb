{
 "cells": [
  {
   "cell_type": "markdown",
   "metadata": {},
   "source": [
    "# Test-05\n",
    "Ejecutado en **Kaggle**.\n",
    "\n",
    "## Descripción\n",
    "[Complete]"
   ]
  },
  {
   "cell_type": "code",
   "execution_count": 1,
   "metadata": {
    "execution": {
     "iopub.execute_input": "2021-06-24T17:44:13.445275Z",
     "iopub.status.busy": "2021-06-24T17:44:13.444672Z",
     "iopub.status.idle": "2021-06-24T17:44:13.456706Z",
     "shell.execute_reply": "2021-06-24T17:44:13.455119Z",
     "shell.execute_reply.started": "2021-06-24T17:44:13.445150Z"
    }
   },
   "outputs": [],
   "source": [
    "import os"
   ]
  },
  {
   "cell_type": "code",
   "execution_count": 2,
   "metadata": {
    "execution": {
     "iopub.execute_input": "2021-06-24T17:44:13.611341Z",
     "iopub.status.busy": "2021-06-24T17:44:13.610999Z",
     "iopub.status.idle": "2021-06-24T17:44:13.615703Z",
     "shell.execute_reply": "2021-06-24T17:44:13.614358Z",
     "shell.execute_reply.started": "2021-06-24T17:44:13.611313Z"
    }
   },
   "outputs": [],
   "source": [
    "import pandas as pd"
   ]
  },
  {
   "cell_type": "code",
   "execution_count": 3,
   "metadata": {
    "execution": {
     "iopub.execute_input": "2021-06-24T17:44:13.817678Z",
     "iopub.status.busy": "2021-06-24T17:44:13.817338Z",
     "iopub.status.idle": "2021-06-24T17:44:13.822097Z",
     "shell.execute_reply": "2021-06-24T17:44:13.820826Z",
     "shell.execute_reply.started": "2021-06-24T17:44:13.817648Z"
    },
    "id": "yyGneejaXaIH"
   },
   "outputs": [],
   "source": [
    "import numpy as np"
   ]
  },
  {
   "cell_type": "code",
   "execution_count": 4,
   "metadata": {
    "execution": {
     "iopub.execute_input": "2021-06-24T17:44:18.233756Z",
     "iopub.status.busy": "2021-06-24T17:44:18.233301Z",
     "iopub.status.idle": "2021-06-24T17:44:18.239692Z",
     "shell.execute_reply": "2021-06-24T17:44:18.237863Z",
     "shell.execute_reply.started": "2021-06-24T17:44:18.233694Z"
    },
    "id": "ZCsZOUOIXaIL"
   },
   "outputs": [],
   "source": [
    "import matplotlib.pyplot as plt"
   ]
  },
  {
   "cell_type": "markdown",
   "metadata": {
    "id": "eujP3nBBXaIO"
   },
   "source": [
    "## Cargando las bases de datos"
   ]
  },
  {
   "cell_type": "code",
   "execution_count": 5,
   "metadata": {
    "execution": {
     "iopub.execute_input": "2021-06-24T17:44:18.596944Z",
     "iopub.status.busy": "2021-06-24T17:44:18.596623Z",
     "iopub.status.idle": "2021-06-24T17:44:18.613908Z",
     "shell.execute_reply": "2021-06-24T17:44:18.612557Z",
     "shell.execute_reply.started": "2021-06-24T17:44:18.596917Z"
    },
    "id": "CkwKy6-zXgqB",
    "outputId": "57a0d826-71af-41c1-e84a-988831e5c7c1"
   },
   "outputs": [
    {
     "name": "stdout",
     "output_type": "stream",
     "text": [
      "/kaggle/input/rn2021q1-itba-cifar100/y_train.npy\n",
      "/kaggle/input/rn2021q1-itba-cifar100/x_test.npy\n",
      "/kaggle/input/rn2021q1-itba-cifar100/x_train.npy\n"
     ]
    }
   ],
   "source": [
    "for dirname, _, filenames in os.walk('/kaggle/input'):\n",
    "    for filename in filenames:\n",
    "        print(os.path.join(dirname, filename))"
   ]
  },
  {
   "cell_type": "code",
   "execution_count": 6,
   "metadata": {
    "execution": {
     "iopub.execute_input": "2021-06-24T17:44:18.746432Z",
     "iopub.status.busy": "2021-06-24T17:44:18.746104Z",
     "iopub.status.idle": "2021-06-24T17:44:22.577093Z",
     "shell.execute_reply": "2021-06-24T17:44:22.575727Z",
     "shell.execute_reply.started": "2021-06-24T17:44:18.746403Z"
    },
    "id": "GDaNt25yXaIP"
   },
   "outputs": [],
   "source": [
    "x_train_valid = np.load('/kaggle/input/rn2021q1-itba-cifar100/x_train.npy')\n",
    "y_train_valid = np.load('/kaggle/input/rn2021q1-itba-cifar100/y_train.npy')\n",
    "x_test = np.load('/kaggle/input/rn2021q1-itba-cifar100/x_test.npy')"
   ]
  },
  {
   "cell_type": "markdown",
   "metadata": {
    "id": "Db1e-CqkXvB1"
   },
   "source": [
    "# Separando conjuntos para entrenamiento y validación"
   ]
  },
  {
   "cell_type": "code",
   "execution_count": 7,
   "metadata": {
    "execution": {
     "iopub.execute_input": "2021-06-24T17:44:22.579631Z",
     "iopub.status.busy": "2021-06-24T17:44:22.579171Z",
     "iopub.status.idle": "2021-06-24T17:44:23.814841Z",
     "shell.execute_reply": "2021-06-24T17:44:23.809519Z",
     "shell.execute_reply.started": "2021-06-24T17:44:22.579582Z"
    },
    "id": "_vKJs9jnX15e"
   },
   "outputs": [],
   "source": [
    "from sklearn.model_selection import train_test_split"
   ]
  },
  {
   "cell_type": "code",
   "execution_count": 8,
   "metadata": {
    "execution": {
     "iopub.execute_input": "2021-06-24T17:44:23.818243Z",
     "iopub.status.busy": "2021-06-24T17:44:23.817821Z",
     "iopub.status.idle": "2021-06-24T17:44:24.485895Z",
     "shell.execute_reply": "2021-06-24T17:44:24.484654Z",
     "shell.execute_reply.started": "2021-06-24T17:44:23.818203Z"
    },
    "id": "z8mrvLn4X3Ud"
   },
   "outputs": [],
   "source": [
    "x_train, x_valid, y_train, y_valid = train_test_split(x_train_valid, y_train_valid, test_size=0.2, random_state=15, stratify=y_train_valid)"
   ]
  },
  {
   "cell_type": "markdown",
   "metadata": {
    "id": "TiXyaCZqhmTq"
   },
   "source": [
    "# Normalización de los datos"
   ]
  },
  {
   "cell_type": "code",
   "execution_count": 9,
   "metadata": {
    "execution": {
     "iopub.execute_input": "2021-06-24T17:44:24.488934Z",
     "iopub.status.busy": "2021-06-24T17:44:24.488464Z",
     "iopub.status.idle": "2021-06-24T17:44:25.179315Z",
     "shell.execute_reply": "2021-06-24T17:44:25.178144Z",
     "shell.execute_reply.started": "2021-06-24T17:44:24.488898Z"
    },
    "id": "p9wYWNl6hY3T"
   },
   "outputs": [],
   "source": [
    "x_valid_norm = x_valid / 255\n",
    "x_test_norm = x_test / 255\n",
    "x_train_norm = x_train / 255"
   ]
  },
  {
   "cell_type": "markdown",
   "metadata": {
    "id": "2FbEQVN4XaIR"
   },
   "source": [
    "# Data Augmentation con Albumentation\n",
    "Se aplica **data augmentation** utilizando la biblioteca Albumentations para aumentar el tamaño del conjunto de datos para entrenamiento. El conjunto de validación permanece intacto para validar que la técnica tuvo buenos resultados sin contaminar los datos de dicho conjunto."
   ]
  },
  {
   "cell_type": "code",
   "execution_count": 10,
   "metadata": {
    "execution": {
     "iopub.execute_input": "2021-06-24T17:44:25.181397Z",
     "iopub.status.busy": "2021-06-24T17:44:25.180964Z",
     "iopub.status.idle": "2021-06-24T17:44:30.648263Z",
     "shell.execute_reply": "2021-06-24T17:44:30.646917Z",
     "shell.execute_reply.started": "2021-06-24T17:44:25.181347Z"
    },
    "id": "qzC14PXqqi-X"
   },
   "outputs": [],
   "source": [
    "from tensorflow.keras.utils import Sequence"
   ]
  },
  {
   "cell_type": "code",
   "execution_count": 11,
   "metadata": {
    "execution": {
     "iopub.execute_input": "2021-06-24T17:44:30.650424Z",
     "iopub.status.busy": "2021-06-24T17:44:30.649919Z",
     "iopub.status.idle": "2021-06-24T17:44:32.064447Z",
     "shell.execute_reply": "2021-06-24T17:44:32.063281Z",
     "shell.execute_reply.started": "2021-06-24T17:44:30.650381Z"
    },
    "id": "9ml_v1Z5LXL8"
   },
   "outputs": [],
   "source": [
    "from albumentations import (Compose, ToFloat, HorizontalFlip, VerticalFlip, Rotate,\n",
    "                            RandomBrightnessContrast, ShiftScaleRotate, RandomSizedCrop,\n",
    "                            GridDistortion, ElasticTransform)"
   ]
  },
  {
   "cell_type": "code",
   "execution_count": 12,
   "metadata": {
    "execution": {
     "iopub.execute_input": "2021-06-24T17:44:32.066640Z",
     "iopub.status.busy": "2021-06-24T17:44:32.066186Z",
     "iopub.status.idle": "2021-06-24T17:44:32.081191Z",
     "shell.execute_reply": "2021-06-24T17:44:32.078425Z",
     "shell.execute_reply.started": "2021-06-24T17:44:32.066592Z"
    },
    "id": "ZmrWJDnvqlyA"
   },
   "outputs": [],
   "source": [
    "class AugmentedSequence(Sequence):\n",
    "  \"\"\" Dataset generator with data augmentation \"\"\"\n",
    "\n",
    "  def __init__(self, x, y, batch_size, augmentation, shuffle=True):\n",
    "    \"\"\" Create an instance of the data augmented generator, which is a \n",
    "        dataset generator to provide 'on the fly' data augmentation.\n",
    "        @param x\n",
    "        @param y\n",
    "        @param batch_size\n",
    "        @param augmentation\n",
    "        @param shuffle\n",
    "    \"\"\"\n",
    "    # Save internal parameters of the augmented sequence\n",
    "    self.x = x\n",
    "    self.y = y\n",
    "    self.batch_size = batch_size\n",
    "    self.augmentation = augmentation\n",
    "    self.shuffle = shuffle\n",
    "\n",
    "    # Initialization\n",
    "    self.on_epoch_end()\n",
    "  \n",
    "  def __len__(self):\n",
    "    \"\"\" Compute the length of an epoch measured in batches\n",
    "    \"\"\"\n",
    "    return int(np.floor(len(self.x) / float(self.batch_size)))\n",
    "  \n",
    "  def __getitem__(self, index):\n",
    "    \"\"\" Return the item from the sequence at the given index\n",
    "        @param index\n",
    "    \"\"\"\n",
    "    # Generate indexes of the batch\n",
    "    indexes = self.indexes[index * self.batch_size : (index + 1) * self.batch_size]\n",
    "\n",
    "    # Extract the input and output batch from the original dataset\n",
    "    batch_x = self.x[indexes]\n",
    "    batch_y = self.y[indexes]\n",
    "    \n",
    "    # Return an augmented version of the batch\n",
    "    return np.array([\n",
    "      self.augmentation(image=x)['image'] for x in batch_x\n",
    "    ]), np.array(batch_y)\n",
    "\n",
    "  def on_epoch_end(self):\n",
    "    \"\"\" Updates indexes after each epoch\n",
    "    \"\"\"\n",
    "    self.indexes = np.arange(len(self.x))\n",
    "    if self.shuffle is True:\n",
    "        np.random.shuffle(self.indexes)\n"
   ]
  },
  {
   "cell_type": "code",
   "execution_count": 22,
   "metadata": {
    "execution": {
     "iopub.execute_input": "2021-06-24T17:53:20.756382Z",
     "iopub.status.busy": "2021-06-24T17:53:20.755867Z",
     "iopub.status.idle": "2021-06-24T17:53:20.767090Z",
     "shell.execute_reply": "2021-06-24T17:53:20.765168Z",
     "shell.execute_reply.started": "2021-06-24T17:53:20.756336Z"
    },
    "id": "2p0Bz8pTXaIT"
   },
   "outputs": [],
   "source": [
    "# Create the AugmentedSequence\n",
    "album_generator = AugmentedSequence(x_train,\n",
    "                                    y_train,\n",
    "                                    40000,\n",
    "                                    Compose([\n",
    "                                        ShiftScaleRotate(shift_limit=0.1,\n",
    "                                                         scale_limit=0.2,\n",
    "                                                         rotate_limit=30,\n",
    "                                                         p=0.5),\n",
    "                                        HorizontalFlip(p=0.5),\n",
    "                                        VerticalFlip(p=0.5),\n",
    "                                        GridDistortion(p=0.2),\n",
    "                                        ElasticTransform(p=0.2),\n",
    "                                        RandomBrightnessContrast(p=0.5),\n",
    "                                        ToFloat()\n",
    "                                        ])\n",
    "                                    )"
   ]
  },
  {
   "cell_type": "markdown",
   "metadata": {
    "id": "h-NSUi_Ue7Hm"
   },
   "source": [
    "# Data Augmentation con Keras ImageDataGenerator\n",
    "Se aplica **data augmentation** utilizando la biblioteca Keras para aumentar el tamaño del conjunto de datos para entrenamiento. El conjunto de validación permanece intacto para validar que la técnica tuvo buenos resultados sin contaminar los datos de dicho conjunto."
   ]
  },
  {
   "cell_type": "code",
   "execution_count": 14,
   "metadata": {
    "execution": {
     "iopub.execute_input": "2021-06-24T17:44:32.100248Z",
     "iopub.status.busy": "2021-06-24T17:44:32.099567Z",
     "iopub.status.idle": "2021-06-24T17:44:32.111486Z",
     "shell.execute_reply": "2021-06-24T17:44:32.110046Z",
     "shell.execute_reply.started": "2021-06-24T17:44:32.100201Z"
    },
    "id": "18AXNg_qfMSW"
   },
   "outputs": [],
   "source": [
    "from tensorflow.keras.preprocessing.image import ImageDataGenerator"
   ]
  },
  {
   "cell_type": "code",
   "execution_count": 15,
   "metadata": {
    "execution": {
     "iopub.execute_input": "2021-06-24T17:44:32.114145Z",
     "iopub.status.busy": "2021-06-24T17:44:32.113390Z",
     "iopub.status.idle": "2021-06-24T17:44:32.375158Z",
     "shell.execute_reply": "2021-06-24T17:44:32.373745Z",
     "shell.execute_reply.started": "2021-06-24T17:44:32.114097Z"
    },
    "id": "YCDZaxVMf0dr"
   },
   "outputs": [],
   "source": [
    "# Create the data generator with Keras preprocessing library\n",
    "datagen = ImageDataGenerator(\n",
    "    rotation_range=30,\n",
    "    zoom_range=0.25,\n",
    "    horizontal_flip=True,\n",
    "    vertical_flip=True,\n",
    "    width_shift_range=0.15,\n",
    "    height_shift_range=0.15\n",
    ")\n",
    "\n",
    "# Keras dataset generator\n",
    "keras_generator = datagen.flow(x_train_norm, y_train, batch_size=40000)"
   ]
  },
  {
   "cell_type": "markdown",
   "metadata": {
    "id": "LCfm6Rfdg61D"
   },
   "source": [
    "# Modelos"
   ]
  },
  {
   "cell_type": "code",
   "execution_count": 16,
   "metadata": {
    "execution": {
     "iopub.execute_input": "2021-06-24T17:44:32.377438Z",
     "iopub.status.busy": "2021-06-24T17:44:32.376847Z",
     "iopub.status.idle": "2021-06-24T17:44:32.383508Z",
     "shell.execute_reply": "2021-06-24T17:44:32.382030Z",
     "shell.execute_reply.started": "2021-06-24T17:44:32.377392Z"
    },
    "id": "lHtvIO1Zg6ns"
   },
   "outputs": [],
   "source": [
    "from tensorflow.keras.layers import (Dense, Flatten, Activation, BatchNormalization, Dropout, Conv2D, \n",
    "                                     MaxPooling2D, InputLayer, AveragePooling2D)"
   ]
  },
  {
   "cell_type": "code",
   "execution_count": 17,
   "metadata": {
    "execution": {
     "iopub.execute_input": "2021-06-24T17:44:32.386356Z",
     "iopub.status.busy": "2021-06-24T17:44:32.385783Z",
     "iopub.status.idle": "2021-06-24T17:44:32.397824Z",
     "shell.execute_reply": "2021-06-24T17:44:32.396270Z",
     "shell.execute_reply.started": "2021-06-24T17:44:32.386288Z"
    }
   },
   "outputs": [],
   "source": [
    "from tensorflow.keras.models import Sequential"
   ]
  },
  {
   "cell_type": "code",
   "execution_count": 18,
   "metadata": {
    "execution": {
     "iopub.execute_input": "2021-06-24T17:44:32.400234Z",
     "iopub.status.busy": "2021-06-24T17:44:32.399575Z",
     "iopub.status.idle": "2021-06-24T17:44:32.409584Z",
     "shell.execute_reply": "2021-06-24T17:44:32.408185Z",
     "shell.execute_reply.started": "2021-06-24T17:44:32.400185Z"
    }
   },
   "outputs": [],
   "source": [
    "from tensorflow.keras.callbacks import TensorBoard, ModelCheckpoint, EarlyStopping"
   ]
  },
  {
   "cell_type": "code",
   "execution_count": 19,
   "metadata": {
    "execution": {
     "iopub.execute_input": "2021-06-24T17:44:32.412336Z",
     "iopub.status.busy": "2021-06-24T17:44:32.411478Z",
     "iopub.status.idle": "2021-06-24T17:44:32.426524Z",
     "shell.execute_reply": "2021-06-24T17:44:32.425238Z",
     "shell.execute_reply.started": "2021-06-24T17:44:32.412288Z"
    }
   },
   "outputs": [],
   "source": [
    "from tensorflow.keras.optimizers import Adam"
   ]
  },
  {
   "cell_type": "code",
   "execution_count": 20,
   "metadata": {
    "execution": {
     "iopub.execute_input": "2021-06-24T17:44:32.429002Z",
     "iopub.status.busy": "2021-06-24T17:44:32.428276Z",
     "iopub.status.idle": "2021-06-24T17:44:32.438162Z",
     "shell.execute_reply": "2021-06-24T17:44:32.436842Z",
     "shell.execute_reply.started": "2021-06-24T17:44:32.428955Z"
    }
   },
   "outputs": [],
   "source": [
    "from tensorflow import keras"
   ]
  },
  {
   "cell_type": "markdown",
   "metadata": {
    "id": "NHVqacRYhHlG"
   },
   "source": [
    "## Modelo # 1"
   ]
  },
  {
   "cell_type": "code",
   "execution_count": 21,
   "metadata": {
    "execution": {
     "iopub.execute_input": "2021-06-24T14:08:57.076321Z",
     "iopub.status.busy": "2021-06-24T14:08:57.075463Z",
     "iopub.status.idle": "2021-06-24T14:08:59.857001Z",
     "shell.execute_reply": "2021-06-24T14:08:59.855916Z",
     "shell.execute_reply.started": "2021-06-24T14:08:57.076276Z"
    },
    "id": "j7uTJcp4eA75"
   },
   "outputs": [
    {
     "name": "stdout",
     "output_type": "stream",
     "text": [
      "Model: \"sequential\"\n",
      "_________________________________________________________________\n",
      "Layer (type)                 Output Shape              Param #   \n",
      "=================================================================\n",
      "conv2d (Conv2D)              (None, 30, 30, 128)       3584      \n",
      "_________________________________________________________________\n",
      "batch_normalization (BatchNo (None, 30, 30, 128)       512       \n",
      "_________________________________________________________________\n",
      "activation (Activation)      (None, 30, 30, 128)       0         \n",
      "_________________________________________________________________\n",
      "average_pooling2d (AveragePo (None, 15, 15, 128)       0         \n",
      "_________________________________________________________________\n",
      "conv2d_1 (Conv2D)            (None, 13, 13, 256)       295168    \n",
      "_________________________________________________________________\n",
      "batch_normalization_1 (Batch (None, 13, 13, 256)       1024      \n",
      "_________________________________________________________________\n",
      "activation_1 (Activation)    (None, 13, 13, 256)       0         \n",
      "_________________________________________________________________\n",
      "average_pooling2d_1 (Average (None, 6, 6, 256)         0         \n",
      "_________________________________________________________________\n",
      "conv2d_2 (Conv2D)            (None, 4, 4, 512)         1180160   \n",
      "_________________________________________________________________\n",
      "batch_normalization_2 (Batch (None, 4, 4, 512)         2048      \n",
      "_________________________________________________________________\n",
      "activation_2 (Activation)    (None, 4, 4, 512)         0         \n",
      "_________________________________________________________________\n",
      "average_pooling2d_2 (Average (None, 2, 2, 512)         0         \n",
      "_________________________________________________________________\n",
      "flatten (Flatten)            (None, 2048)              0         \n",
      "_________________________________________________________________\n",
      "dense (Dense)                (None, 256)               524544    \n",
      "_________________________________________________________________\n",
      "dropout (Dropout)            (None, 256)               0         \n",
      "_________________________________________________________________\n",
      "batch_normalization_3 (Batch (None, 256)               1024      \n",
      "_________________________________________________________________\n",
      "activation_3 (Activation)    (None, 256)               0         \n",
      "_________________________________________________________________\n",
      "dense_1 (Dense)              (None, 100)               25700     \n",
      "_________________________________________________________________\n",
      "batch_normalization_4 (Batch (None, 100)               400       \n",
      "_________________________________________________________________\n",
      "activation_4 (Activation)    (None, 100)               0         \n",
      "=================================================================\n",
      "Total params: 2,034,164\n",
      "Trainable params: 2,031,660\n",
      "Non-trainable params: 2,504\n",
      "_________________________________________________________________\n"
     ]
    }
   ],
   "source": [
    "# Create the model\n",
    "model = Sequential()\n",
    "model.add(InputLayer(input_shape=(32, 32, 3)))\n",
    "model.add(Conv2D(128, 3))\n",
    "model.add(BatchNormalization())\n",
    "model.add(Activation('relu'))\n",
    "model.add(AveragePooling2D())\n",
    "model.add(Conv2D(256, 3))\n",
    "model.add(BatchNormalization())\n",
    "model.add(Activation('relu'))\n",
    "model.add(AveragePooling2D())\n",
    "model.add(Conv2D(512, 3))\n",
    "model.add(BatchNormalization())\n",
    "model.add(Activation('relu'))\n",
    "model.add(AveragePooling2D())\n",
    "model.add(Flatten())\n",
    "model.add(Dense(256))\n",
    "model.add(Dropout(0.8))\n",
    "model.add(BatchNormalization())\n",
    "model.add(Activation('relu'))\n",
    "model.add(Dense(100))\n",
    "model.add(BatchNormalization())\n",
    "model.add(Activation('softmax'))\n",
    "\n",
    "# Compile\n",
    "model.compile(loss='sparse_categorical_crossentropy',\n",
    "              optimizer=Adam(learning_rate=0.001),\n",
    "              metrics=['accuracy']\n",
    "             )\n",
    "\n",
    "# Summarize\n",
    "model.summary()"
   ]
  },
  {
   "cell_type": "code",
   "execution_count": 22,
   "metadata": {
    "execution": {
     "iopub.execute_input": "2021-06-24T14:08:59.860678Z",
     "iopub.status.busy": "2021-06-24T14:08:59.860334Z",
     "iopub.status.idle": "2021-06-24T14:21:34.451412Z",
     "shell.execute_reply": "2021-06-24T14:21:34.450220Z",
     "shell.execute_reply.started": "2021-06-24T14:08:59.860647Z"
    },
    "id": "PzRfdgsYhPDO",
    "outputId": "f04b59e8-1f78-4db0-9ca7-186377be4c64"
   },
   "outputs": [
    {
     "name": "stdout",
     "output_type": "stream",
     "text": [
      "Epoch 1/10\n",
      "157/157 [==============================] - 11s 34ms/step - loss: 4.7412 - accuracy: 0.0201 - val_loss: 4.6086 - val_accuracy: 0.0112\n",
      "Epoch 2/10\n",
      "157/157 [==============================] - 4s 26ms/step - loss: 4.3454 - accuracy: 0.0434 - val_loss: 4.6155 - val_accuracy: 0.0170\n",
      "Epoch 3/10\n",
      "157/157 [==============================] - 4s 26ms/step - loss: 4.2425 - accuracy: 0.0544 - val_loss: 4.3519 - val_accuracy: 0.0474\n",
      "Epoch 4/10\n",
      "157/157 [==============================] - 5s 29ms/step - loss: 4.1840 - accuracy: 0.0618 - val_loss: 4.0579 - val_accuracy: 0.0804\n",
      "Epoch 5/10\n",
      "157/157 [==============================] - 4s 26ms/step - loss: 4.1176 - accuracy: 0.0724 - val_loss: 3.7673 - val_accuracy: 0.1294\n",
      "Epoch 6/10\n",
      "157/157 [==============================] - 4s 27ms/step - loss: 4.0594 - accuracy: 0.0802 - val_loss: 3.8832 - val_accuracy: 0.1067\n",
      "Epoch 7/10\n",
      "157/157 [==============================] - 4s 27ms/step - loss: 4.0120 - accuracy: 0.0882 - val_loss: 3.8544 - val_accuracy: 0.1137\n",
      "Epoch 8/10\n",
      "157/157 [==============================] - 4s 26ms/step - loss: 3.9614 - accuracy: 0.0974 - val_loss: 4.2640 - val_accuracy: 0.0891\n",
      "Epoch 9/10\n",
      "157/157 [==============================] - 4s 27ms/step - loss: 3.9225 - accuracy: 0.1051 - val_loss: 3.6551 - val_accuracy: 0.1429\n",
      "Epoch 10/10\n",
      "157/157 [==============================] - 4s 26ms/step - loss: 3.8873 - accuracy: 0.1082 - val_loss: 3.5805 - val_accuracy: 0.1541\n",
      "Epoch 1/10\n",
      "157/157 [==============================] - 4s 28ms/step - loss: 3.8939 - accuracy: 0.1099 - val_loss: 3.5633 - val_accuracy: 0.1546\n",
      "Epoch 2/10\n",
      "157/157 [==============================] - 4s 27ms/step - loss: 3.8442 - accuracy: 0.1188 - val_loss: 3.3734 - val_accuracy: 0.1898\n",
      "Epoch 3/10\n",
      "157/157 [==============================] - 4s 26ms/step - loss: 3.8109 - accuracy: 0.1220 - val_loss: 3.4590 - val_accuracy: 0.1805\n",
      "Epoch 4/10\n",
      "157/157 [==============================] - 4s 27ms/step - loss: 3.7706 - accuracy: 0.1288 - val_loss: 3.4544 - val_accuracy: 0.1841\n",
      "Epoch 5/10\n",
      "157/157 [==============================] - 4s 26ms/step - loss: 3.7373 - accuracy: 0.1367 - val_loss: 3.3935 - val_accuracy: 0.1873\n",
      "Epoch 6/10\n",
      "157/157 [==============================] - 4s 27ms/step - loss: 3.7090 - accuracy: 0.1411 - val_loss: 3.3138 - val_accuracy: 0.2074\n",
      "Epoch 7/10\n",
      "157/157 [==============================] - 4s 26ms/step - loss: 3.6754 - accuracy: 0.1439 - val_loss: 3.6429 - val_accuracy: 0.1739\n",
      "Epoch 8/10\n",
      "157/157 [==============================] - 4s 26ms/step - loss: 3.6486 - accuracy: 0.1481 - val_loss: 3.1750 - val_accuracy: 0.2253\n",
      "Epoch 9/10\n",
      "157/157 [==============================] - 4s 28ms/step - loss: 3.6116 - accuracy: 0.1547 - val_loss: 3.2462 - val_accuracy: 0.2253\n",
      "Epoch 10/10\n",
      "157/157 [==============================] - 4s 26ms/step - loss: 3.5832 - accuracy: 0.1605 - val_loss: 3.2635 - val_accuracy: 0.2355\n",
      "Epoch 1/10\n",
      "157/157 [==============================] - 4s 28ms/step - loss: 3.6805 - accuracy: 0.1451 - val_loss: 3.3200 - val_accuracy: 0.2066\n",
      "Epoch 2/10\n",
      "157/157 [==============================] - 4s 27ms/step - loss: 3.6257 - accuracy: 0.1551 - val_loss: 3.6439 - val_accuracy: 0.1800\n",
      "Epoch 3/10\n",
      "157/157 [==============================] - 4s 26ms/step - loss: 3.5894 - accuracy: 0.1596 - val_loss: 3.1725 - val_accuracy: 0.2338\n",
      "Epoch 4/10\n",
      "157/157 [==============================] - 4s 27ms/step - loss: 3.5443 - accuracy: 0.1687 - val_loss: 3.0468 - val_accuracy: 0.2629\n",
      "Epoch 5/10\n",
      "157/157 [==============================] - 4s 26ms/step - loss: 3.5135 - accuracy: 0.1736 - val_loss: 3.2910 - val_accuracy: 0.2256\n",
      "Epoch 6/10\n",
      "157/157 [==============================] - 4s 26ms/step - loss: 3.4836 - accuracy: 0.1775 - val_loss: 3.6438 - val_accuracy: 0.1848\n",
      "Epoch 7/10\n",
      "157/157 [==============================] - 4s 28ms/step - loss: 3.4371 - accuracy: 0.1860 - val_loss: 3.0246 - val_accuracy: 0.2611\n",
      "Epoch 8/10\n",
      "157/157 [==============================] - 4s 26ms/step - loss: 3.4087 - accuracy: 0.1898 - val_loss: 3.1859 - val_accuracy: 0.2452\n",
      "Epoch 9/10\n",
      "157/157 [==============================] - 4s 27ms/step - loss: 3.3715 - accuracy: 0.1990 - val_loss: 2.9069 - val_accuracy: 0.2796\n",
      "Epoch 10/10\n",
      "157/157 [==============================] - 4s 26ms/step - loss: 3.3280 - accuracy: 0.2037 - val_loss: 2.9395 - val_accuracy: 0.2848\n",
      "Epoch 1/10\n",
      "157/157 [==============================] - 4s 28ms/step - loss: 3.5507 - accuracy: 0.1695 - val_loss: 2.9868 - val_accuracy: 0.2804\n",
      "Epoch 2/10\n",
      "157/157 [==============================] - 4s 27ms/step - loss: 3.4744 - accuracy: 0.1825 - val_loss: 2.9873 - val_accuracy: 0.2695\n",
      "Epoch 3/10\n",
      "157/157 [==============================] - 4s 26ms/step - loss: 3.4172 - accuracy: 0.1907 - val_loss: 2.9268 - val_accuracy: 0.2856\n",
      "Epoch 4/10\n",
      "157/157 [==============================] - 4s 27ms/step - loss: 3.3816 - accuracy: 0.1942 - val_loss: 3.1162 - val_accuracy: 0.2635\n",
      "Epoch 5/10\n",
      "157/157 [==============================] - 5s 29ms/step - loss: 3.3302 - accuracy: 0.2062 - val_loss: 2.8439 - val_accuracy: 0.2949\n",
      "Epoch 6/10\n",
      "157/157 [==============================] - 4s 26ms/step - loss: 3.2862 - accuracy: 0.2151 - val_loss: 2.7696 - val_accuracy: 0.3154\n",
      "Epoch 7/10\n",
      "157/157 [==============================] - 4s 27ms/step - loss: 3.2496 - accuracy: 0.2192 - val_loss: 2.8196 - val_accuracy: 0.3061\n",
      "Epoch 8/10\n",
      "157/157 [==============================] - 4s 27ms/step - loss: 3.2023 - accuracy: 0.2266 - val_loss: 2.9688 - val_accuracy: 0.2901\n",
      "Epoch 9/10\n",
      "157/157 [==============================] - 4s 26ms/step - loss: 3.1521 - accuracy: 0.2381 - val_loss: 2.8118 - val_accuracy: 0.3091\n",
      "Epoch 10/10\n",
      "157/157 [==============================] - 4s 27ms/step - loss: 3.0961 - accuracy: 0.2477 - val_loss: 2.8153 - val_accuracy: 0.3136\n",
      "Epoch 1/10\n",
      "157/157 [==============================] - 4s 27ms/step - loss: 3.4587 - accuracy: 0.1879 - val_loss: 2.8335 - val_accuracy: 0.3189\n",
      "Epoch 2/10\n",
      "157/157 [==============================] - 4s 27ms/step - loss: 3.3576 - accuracy: 0.2022 - val_loss: 2.8544 - val_accuracy: 0.3068\n",
      "Epoch 3/10\n",
      "157/157 [==============================] - 4s 27ms/step - loss: 3.2877 - accuracy: 0.2177 - val_loss: 2.7331 - val_accuracy: 0.3189\n",
      "Epoch 4/10\n",
      "157/157 [==============================] - 4s 26ms/step - loss: 3.2327 - accuracy: 0.2241 - val_loss: 2.6742 - val_accuracy: 0.3287\n",
      "Epoch 5/10\n",
      "157/157 [==============================] - 4s 27ms/step - loss: 3.1783 - accuracy: 0.2333 - val_loss: 2.7496 - val_accuracy: 0.3178\n",
      "Epoch 6/10\n",
      "157/157 [==============================] - 4s 26ms/step - loss: 3.1262 - accuracy: 0.2410 - val_loss: 2.7640 - val_accuracy: 0.3228\n",
      "Epoch 7/10\n",
      "157/157 [==============================] - 4s 26ms/step - loss: 3.0615 - accuracy: 0.2551 - val_loss: 2.6670 - val_accuracy: 0.3351\n",
      "Epoch 8/10\n",
      "157/157 [==============================] - 4s 27ms/step - loss: 2.9981 - accuracy: 0.2673 - val_loss: 2.6301 - val_accuracy: 0.3375\n",
      "Epoch 9/10\n",
      "157/157 [==============================] - 4s 26ms/step - loss: 2.9435 - accuracy: 0.2788 - val_loss: 2.6682 - val_accuracy: 0.3396\n",
      "Epoch 10/10\n",
      "157/157 [==============================] - 4s 29ms/step - loss: 2.8840 - accuracy: 0.2889 - val_loss: 2.8426 - val_accuracy: 0.3050\n",
      "Epoch 1/10\n",
      "157/157 [==============================] - 4s 29ms/step - loss: 3.4008 - accuracy: 0.2016 - val_loss: 2.8440 - val_accuracy: 0.3337\n",
      "Epoch 2/10\n",
      "157/157 [==============================] - 4s 26ms/step - loss: 3.2573 - accuracy: 0.2225 - val_loss: 2.6760 - val_accuracy: 0.3391\n",
      "Epoch 3/10\n",
      "157/157 [==============================] - 4s 27ms/step - loss: 3.1758 - accuracy: 0.2349 - val_loss: 2.7306 - val_accuracy: 0.3346\n",
      "Epoch 4/10\n",
      "157/157 [==============================] - 4s 26ms/step - loss: 3.1090 - accuracy: 0.2468 - val_loss: 2.6868 - val_accuracy: 0.3377\n",
      "Epoch 5/10\n",
      "157/157 [==============================] - 4s 26ms/step - loss: 3.0380 - accuracy: 0.2576 - val_loss: 2.5967 - val_accuracy: 0.3490\n",
      "Epoch 6/10\n",
      "157/157 [==============================] - 4s 27ms/step - loss: 2.9708 - accuracy: 0.2723 - val_loss: 2.5606 - val_accuracy: 0.3510\n",
      "Epoch 7/10\n",
      "157/157 [==============================] - 4s 26ms/step - loss: 2.9134 - accuracy: 0.2823 - val_loss: 2.8649 - val_accuracy: 0.3074\n",
      "Epoch 8/10\n",
      "157/157 [==============================] - 4s 27ms/step - loss: 2.8384 - accuracy: 0.2971 - val_loss: 2.6304 - val_accuracy: 0.3469\n",
      "Epoch 9/10\n",
      "157/157 [==============================] - 4s 26ms/step - loss: 2.7692 - accuracy: 0.3114 - val_loss: 2.6524 - val_accuracy: 0.3390\n",
      "Epoch 10/10\n",
      "157/157 [==============================] - 4s 27ms/step - loss: 2.6908 - accuracy: 0.3259 - val_loss: 2.9537 - val_accuracy: 0.3109\n",
      "Epoch 1/10\n",
      "157/157 [==============================] - 4s 28ms/step - loss: 3.3760 - accuracy: 0.2075 - val_loss: 2.7903 - val_accuracy: 0.3374\n",
      "Epoch 2/10\n",
      "157/157 [==============================] - 4s 27ms/step - loss: 3.2064 - accuracy: 0.2315 - val_loss: 2.5974 - val_accuracy: 0.3568\n",
      "Epoch 3/10\n",
      "157/157 [==============================] - 4s 26ms/step - loss: 3.1083 - accuracy: 0.2458 - val_loss: 2.6076 - val_accuracy: 0.3534\n",
      "Epoch 4/10\n",
      "157/157 [==============================] - 4s 27ms/step - loss: 3.0347 - accuracy: 0.2606 - val_loss: 2.6161 - val_accuracy: 0.3559\n",
      "Epoch 5/10\n",
      "157/157 [==============================] - 4s 26ms/step - loss: 2.9583 - accuracy: 0.2746 - val_loss: 2.4748 - val_accuracy: 0.3755\n",
      "Epoch 6/10\n",
      "157/157 [==============================] - 4s 27ms/step - loss: 2.8870 - accuracy: 0.2889 - val_loss: 2.4919 - val_accuracy: 0.3717\n",
      "Epoch 7/10\n",
      "157/157 [==============================] - 4s 26ms/step - loss: 2.7957 - accuracy: 0.3080 - val_loss: 2.6638 - val_accuracy: 0.3524\n",
      "Epoch 8/10\n",
      "157/157 [==============================] - 4s 26ms/step - loss: 2.7288 - accuracy: 0.3190 - val_loss: 2.5211 - val_accuracy: 0.3685\n",
      "Epoch 9/10\n",
      "157/157 [==============================] - 4s 27ms/step - loss: 2.6367 - accuracy: 0.3376 - val_loss: 2.5192 - val_accuracy: 0.3767\n",
      "Epoch 10/10\n",
      "157/157 [==============================] - 4s 27ms/step - loss: 2.5654 - accuracy: 0.3591 - val_loss: 2.6731 - val_accuracy: 0.3585\n",
      "Epoch 1/10\n",
      "157/157 [==============================] - 4s 28ms/step - loss: 3.3425 - accuracy: 0.2155 - val_loss: 2.7910 - val_accuracy: 0.3545\n",
      "Epoch 2/10\n",
      "157/157 [==============================] - 4s 27ms/step - loss: 3.1469 - accuracy: 0.2429 - val_loss: 2.4982 - val_accuracy: 0.3804\n",
      "Epoch 3/10\n",
      "157/157 [==============================] - 4s 26ms/step - loss: 3.0468 - accuracy: 0.2638 - val_loss: 2.5108 - val_accuracy: 0.3717\n",
      "Epoch 4/10\n",
      "157/157 [==============================] - 4s 27ms/step - loss: 2.9547 - accuracy: 0.2742 - val_loss: 2.6070 - val_accuracy: 0.3722\n",
      "Epoch 5/10\n",
      "157/157 [==============================] - 4s 27ms/step - loss: 2.8567 - accuracy: 0.2916 - val_loss: 2.5524 - val_accuracy: 0.3788\n",
      "Epoch 6/10\n",
      "157/157 [==============================] - 4s 26ms/step - loss: 2.7716 - accuracy: 0.3090 - val_loss: 2.5204 - val_accuracy: 0.3701\n",
      "Epoch 7/10\n",
      "157/157 [==============================] - 4s 27ms/step - loss: 2.6926 - accuracy: 0.3277 - val_loss: 2.4899 - val_accuracy: 0.3771\n",
      "Epoch 8/10\n",
      "157/157 [==============================] - 4s 26ms/step - loss: 2.6101 - accuracy: 0.3399 - val_loss: 2.5546 - val_accuracy: 0.3688\n",
      "Epoch 9/10\n",
      "157/157 [==============================] - 4s 27ms/step - loss: 2.5198 - accuracy: 0.3600 - val_loss: 2.4873 - val_accuracy: 0.3822\n",
      "Epoch 10/10\n",
      "157/157 [==============================] - 4s 27ms/step - loss: 2.4308 - accuracy: 0.3810 - val_loss: 2.5237 - val_accuracy: 0.3766\n",
      "Epoch 1/10\n",
      "157/157 [==============================] - 4s 28ms/step - loss: 3.3244 - accuracy: 0.2234 - val_loss: 2.7178 - val_accuracy: 0.3731\n",
      "Epoch 2/10\n",
      "157/157 [==============================] - 4s 27ms/step - loss: 3.1060 - accuracy: 0.2518 - val_loss: 2.4501 - val_accuracy: 0.3933\n",
      "Epoch 3/10\n",
      "157/157 [==============================] - 4s 26ms/step - loss: 2.9837 - accuracy: 0.2726 - val_loss: 2.5262 - val_accuracy: 0.3717\n",
      "Epoch 4/10\n",
      "157/157 [==============================] - 4s 26ms/step - loss: 2.8912 - accuracy: 0.2882 - val_loss: 2.6113 - val_accuracy: 0.3570\n",
      "Epoch 5/10\n",
      "157/157 [==============================] - 4s 27ms/step - loss: 2.7948 - accuracy: 0.3062 - val_loss: 2.5832 - val_accuracy: 0.3712\n",
      "Epoch 6/10\n",
      "157/157 [==============================] - 4s 26ms/step - loss: 2.7030 - accuracy: 0.3240 - val_loss: 2.5998 - val_accuracy: 0.3630\n",
      "Epoch 7/10\n",
      "157/157 [==============================] - 4s 26ms/step - loss: 2.6132 - accuracy: 0.3432 - val_loss: 2.4573 - val_accuracy: 0.3960\n",
      "Epoch 8/10\n",
      "157/157 [==============================] - 4s 28ms/step - loss: 2.5388 - accuracy: 0.3576 - val_loss: 2.6743 - val_accuracy: 0.3584\n",
      "Epoch 9/10\n",
      "157/157 [==============================] - 4s 26ms/step - loss: 2.4385 - accuracy: 0.3810 - val_loss: 2.5601 - val_accuracy: 0.3862\n",
      "Epoch 10/10\n",
      "157/157 [==============================] - 4s 27ms/step - loss: 2.3507 - accuracy: 0.3990 - val_loss: 2.5716 - val_accuracy: 0.3768\n",
      "Epoch 1/10\n",
      "157/157 [==============================] - 4s 28ms/step - loss: 3.3395 - accuracy: 0.2247 - val_loss: 2.5860 - val_accuracy: 0.3869\n",
      "Epoch 2/10\n",
      "157/157 [==============================] - 4s 26ms/step - loss: 3.0948 - accuracy: 0.2554 - val_loss: 2.4299 - val_accuracy: 0.3907\n",
      "Epoch 3/10\n",
      "157/157 [==============================] - 4s 27ms/step - loss: 2.9664 - accuracy: 0.2780 - val_loss: 2.4828 - val_accuracy: 0.3804\n",
      "Epoch 4/10\n",
      "157/157 [==============================] - 4s 26ms/step - loss: 2.8604 - accuracy: 0.2946 - val_loss: 2.4246 - val_accuracy: 0.3932\n",
      "Epoch 5/10\n",
      "157/157 [==============================] - 4s 26ms/step - loss: 2.7593 - accuracy: 0.3133 - val_loss: 2.3984 - val_accuracy: 0.3953\n",
      "Epoch 6/10\n",
      "157/157 [==============================] - 4s 28ms/step - loss: 2.6571 - accuracy: 0.3330 - val_loss: 2.5067 - val_accuracy: 0.3850\n",
      "Epoch 7/10\n",
      "157/157 [==============================] - 4s 27ms/step - loss: 2.5643 - accuracy: 0.3524 - val_loss: 2.5404 - val_accuracy: 0.3803\n",
      "Epoch 8/10\n",
      "157/157 [==============================] - 4s 27ms/step - loss: 2.4806 - accuracy: 0.3698 - val_loss: 2.4962 - val_accuracy: 0.3849\n",
      "Epoch 9/10\n",
      "157/157 [==============================] - 4s 26ms/step - loss: 2.3879 - accuracy: 0.3874 - val_loss: 2.5022 - val_accuracy: 0.3878\n",
      "Epoch 10/10\n",
      "157/157 [==============================] - 4s 26ms/step - loss: 2.2931 - accuracy: 0.4132 - val_loss: 2.6427 - val_accuracy: 0.3711\n"
     ]
    }
   ],
   "source": [
    "# Create the ModelCheckpoint callback to save the best model during training\n",
    "mc_callback = ModelCheckpoint('model_1.hdf5',\n",
    "                              monitor='val_accuracy',\n",
    "                              save_best_only=True,\n",
    "                              verbose=0,\n",
    "                              mode='max'\n",
    "                             )\n",
    "\n",
    "# Train the model\n",
    "epochs = 10\n",
    "batch_size = 256\n",
    "augmented_factor = 10\n",
    "for i in range(augmented_factor):\n",
    "  batch_x, batch_y = album_generator[0]\n",
    "  model.fit(batch_x,\n",
    "            batch_y, \n",
    "            validation_data=(x_valid_norm, y_valid), \n",
    "            callbacks=[mc_callback],\n",
    "            batch_size=batch_size,\n",
    "            epochs=epochs\n",
    "            )"
   ]
  },
  {
   "cell_type": "code",
   "execution_count": 23,
   "metadata": {
    "execution": {
     "iopub.execute_input": "2021-06-24T14:21:34.454013Z",
     "iopub.status.busy": "2021-06-24T14:21:34.453562Z",
     "iopub.status.idle": "2021-06-24T14:21:40.025355Z",
     "shell.execute_reply": "2021-06-24T14:21:40.024213Z",
     "shell.execute_reply.started": "2021-06-24T14:21:34.453964Z"
    },
    "id": "M7dWUY8WhUny"
   },
   "outputs": [
    {
     "name": "stdout",
     "output_type": "stream",
     "text": [
      "[Accuracy] Train: 0.452 Valid: 0.396\n"
     ]
    }
   ],
   "source": [
    "# Load the model and show the final metrics\n",
    "model = keras.models.load_model('model_1.hdf5')\n",
    "\n",
    "# Train and validation metrics\n",
    "_, train_acc = model.evaluate(x_train_norm, y_train, verbose=0)\n",
    "_, valid_acc = model.evaluate(x_valid_norm, y_valid, verbose=0)\n",
    "\n",
    "# Show result\n",
    "print(f'[Accuracy] Train: {round(train_acc, 3)} Valid: {round(valid_acc, 3)}')"
   ]
  },
  {
   "cell_type": "markdown",
   "metadata": {},
   "source": [
    "## Modelo #2"
   ]
  },
  {
   "cell_type": "code",
   "execution_count": 24,
   "metadata": {
    "execution": {
     "iopub.execute_input": "2021-06-24T14:21:40.028839Z",
     "iopub.status.busy": "2021-06-24T14:21:40.028419Z",
     "iopub.status.idle": "2021-06-24T14:21:40.231076Z",
     "shell.execute_reply": "2021-06-24T14:21:40.226195Z",
     "shell.execute_reply.started": "2021-06-24T14:21:40.028793Z"
    }
   },
   "outputs": [
    {
     "name": "stdout",
     "output_type": "stream",
     "text": [
      "Model: \"sequential_1\"\n",
      "_________________________________________________________________\n",
      "Layer (type)                 Output Shape              Param #   \n",
      "=================================================================\n",
      "conv2d_3 (Conv2D)            (None, 30, 30, 128)       3584      \n",
      "_________________________________________________________________\n",
      "batch_normalization_5 (Batch (None, 30, 30, 128)       512       \n",
      "_________________________________________________________________\n",
      "activation_5 (Activation)    (None, 30, 30, 128)       0         \n",
      "_________________________________________________________________\n",
      "max_pooling2d (MaxPooling2D) (None, 15, 15, 128)       0         \n",
      "_________________________________________________________________\n",
      "conv2d_4 (Conv2D)            (None, 13, 13, 256)       295168    \n",
      "_________________________________________________________________\n",
      "batch_normalization_6 (Batch (None, 13, 13, 256)       1024      \n",
      "_________________________________________________________________\n",
      "activation_6 (Activation)    (None, 13, 13, 256)       0         \n",
      "_________________________________________________________________\n",
      "max_pooling2d_1 (MaxPooling2 (None, 6, 6, 256)         0         \n",
      "_________________________________________________________________\n",
      "conv2d_5 (Conv2D)            (None, 4, 4, 512)         1180160   \n",
      "_________________________________________________________________\n",
      "batch_normalization_7 (Batch (None, 4, 4, 512)         2048      \n",
      "_________________________________________________________________\n",
      "activation_7 (Activation)    (None, 4, 4, 512)         0         \n",
      "_________________________________________________________________\n",
      "max_pooling2d_2 (MaxPooling2 (None, 2, 2, 512)         0         \n",
      "_________________________________________________________________\n",
      "flatten_1 (Flatten)          (None, 2048)              0         \n",
      "_________________________________________________________________\n",
      "dense_2 (Dense)              (None, 256)               524544    \n",
      "_________________________________________________________________\n",
      "dropout_1 (Dropout)          (None, 256)               0         \n",
      "_________________________________________________________________\n",
      "batch_normalization_8 (Batch (None, 256)               1024      \n",
      "_________________________________________________________________\n",
      "activation_8 (Activation)    (None, 256)               0         \n",
      "_________________________________________________________________\n",
      "dense_3 (Dense)              (None, 100)               25700     \n",
      "_________________________________________________________________\n",
      "batch_normalization_9 (Batch (None, 100)               400       \n",
      "_________________________________________________________________\n",
      "activation_9 (Activation)    (None, 100)               0         \n",
      "=================================================================\n",
      "Total params: 2,034,164\n",
      "Trainable params: 2,031,660\n",
      "Non-trainable params: 2,504\n",
      "_________________________________________________________________\n"
     ]
    }
   ],
   "source": [
    "# Create the model\n",
    "model = Sequential()\n",
    "model.add(InputLayer(input_shape=(32, 32, 3)))\n",
    "model.add(Conv2D(128, 3))\n",
    "model.add(BatchNormalization())\n",
    "model.add(Activation('relu'))\n",
    "model.add(MaxPooling2D())\n",
    "model.add(Conv2D(256, 3))\n",
    "model.add(BatchNormalization())\n",
    "model.add(Activation('relu'))\n",
    "model.add(MaxPooling2D())\n",
    "model.add(Conv2D(512, 3))\n",
    "model.add(BatchNormalization())\n",
    "model.add(Activation('relu'))\n",
    "model.add(MaxPooling2D())\n",
    "model.add(Flatten())\n",
    "model.add(Dense(256))\n",
    "model.add(Dropout(0.8))\n",
    "model.add(BatchNormalization())\n",
    "model.add(Activation('relu'))\n",
    "model.add(Dense(100))\n",
    "model.add(BatchNormalization())\n",
    "model.add(Activation('softmax'))\n",
    "\n",
    "# Compile\n",
    "model.compile(loss='sparse_categorical_crossentropy',\n",
    "              optimizer=Adam(learning_rate=0.001),\n",
    "              metrics=['accuracy']\n",
    "             )\n",
    "\n",
    "# Summarize\n",
    "model.summary()"
   ]
  },
  {
   "cell_type": "code",
   "execution_count": 25,
   "metadata": {
    "execution": {
     "iopub.execute_input": "2021-06-24T14:21:40.234744Z",
     "iopub.status.busy": "2021-06-24T14:21:40.234438Z",
     "iopub.status.idle": "2021-06-24T14:38:48.362335Z",
     "shell.execute_reply": "2021-06-24T14:38:48.361124Z",
     "shell.execute_reply.started": "2021-06-24T14:21:40.234701Z"
    }
   },
   "outputs": [
    {
     "name": "stdout",
     "output_type": "stream",
     "text": [
      "Epoch 1/5\n",
      "79/79 [==============================] - 6s 54ms/step - loss: 4.8138 - accuracy: 0.0161 - val_loss: 4.6234 - val_accuracy: 0.0182\n",
      "Epoch 2/5\n",
      "79/79 [==============================] - 4s 49ms/step - loss: 4.4022 - accuracy: 0.0360 - val_loss: 4.6465 - val_accuracy: 0.0140\n",
      "Epoch 3/5\n",
      "79/79 [==============================] - 4s 50ms/step - loss: 4.2845 - accuracy: 0.0510 - val_loss: 4.6169 - val_accuracy: 0.0159\n",
      "Epoch 4/5\n",
      "79/79 [==============================] - 4s 48ms/step - loss: 4.2018 - accuracy: 0.0623 - val_loss: 4.6371 - val_accuracy: 0.0223\n",
      "Epoch 5/5\n",
      "79/79 [==============================] - 4s 49ms/step - loss: 4.1438 - accuracy: 0.0699 - val_loss: 4.3633 - val_accuracy: 0.0460\n",
      "Epoch 1/5\n",
      "79/79 [==============================] - 4s 51ms/step - loss: 4.0982 - accuracy: 0.0796 - val_loss: 4.4425 - val_accuracy: 0.0383\n",
      "Epoch 2/5\n",
      "79/79 [==============================] - 4s 48ms/step - loss: 4.0428 - accuracy: 0.0847 - val_loss: 3.9999 - val_accuracy: 0.0858\n",
      "Epoch 3/5\n",
      "79/79 [==============================] - 4s 48ms/step - loss: 3.9910 - accuracy: 0.0960 - val_loss: 3.6915 - val_accuracy: 0.1339\n",
      "Epoch 4/5\n",
      "79/79 [==============================] - 4s 48ms/step - loss: 3.9519 - accuracy: 0.1015 - val_loss: 3.5380 - val_accuracy: 0.1658\n",
      "Epoch 5/5\n",
      "79/79 [==============================] - 4s 48ms/step - loss: 3.8992 - accuracy: 0.1082 - val_loss: 3.4890 - val_accuracy: 0.1684\n",
      "Epoch 1/5\n",
      "79/79 [==============================] - 4s 52ms/step - loss: 3.9138 - accuracy: 0.1084 - val_loss: 3.5071 - val_accuracy: 0.1696\n",
      "Epoch 2/5\n",
      "79/79 [==============================] - 4s 49ms/step - loss: 3.8625 - accuracy: 0.1168 - val_loss: 3.4280 - val_accuracy: 0.1795\n",
      "Epoch 3/5\n",
      "79/79 [==============================] - 4s 48ms/step - loss: 3.8233 - accuracy: 0.1249 - val_loss: 3.4405 - val_accuracy: 0.1816\n",
      "Epoch 4/5\n",
      "79/79 [==============================] - 4s 49ms/step - loss: 3.7873 - accuracy: 0.1304 - val_loss: 3.3719 - val_accuracy: 0.1895\n",
      "Epoch 5/5\n",
      "79/79 [==============================] - 4s 48ms/step - loss: 3.7531 - accuracy: 0.1340 - val_loss: 3.4507 - val_accuracy: 0.1859\n",
      "Epoch 1/5\n",
      "79/79 [==============================] - 4s 51ms/step - loss: 3.7934 - accuracy: 0.1264 - val_loss: 3.3473 - val_accuracy: 0.1976\n",
      "Epoch 2/5\n",
      "79/79 [==============================] - 4s 48ms/step - loss: 3.7452 - accuracy: 0.1345 - val_loss: 3.2822 - val_accuracy: 0.2074\n",
      "Epoch 3/5\n",
      "79/79 [==============================] - 4s 48ms/step - loss: 3.7048 - accuracy: 0.1424 - val_loss: 3.3202 - val_accuracy: 0.2093\n",
      "Epoch 4/5\n",
      "79/79 [==============================] - 4s 48ms/step - loss: 3.6683 - accuracy: 0.1485 - val_loss: 3.2137 - val_accuracy: 0.2230\n",
      "Epoch 5/5\n",
      "79/79 [==============================] - 4s 51ms/step - loss: 3.6374 - accuracy: 0.1545 - val_loss: 3.3566 - val_accuracy: 0.2104\n",
      "Epoch 1/5\n",
      "79/79 [==============================] - 4s 52ms/step - loss: 3.6930 - accuracy: 0.1431 - val_loss: 3.2490 - val_accuracy: 0.2173\n",
      "Epoch 2/5\n",
      "79/79 [==============================] - 4s 48ms/step - loss: 3.6481 - accuracy: 0.1502 - val_loss: 3.3386 - val_accuracy: 0.1993\n",
      "Epoch 3/5\n",
      "79/79 [==============================] - 4s 49ms/step - loss: 3.5996 - accuracy: 0.1591 - val_loss: 3.0532 - val_accuracy: 0.2593\n",
      "Epoch 4/5\n",
      "79/79 [==============================] - 4s 48ms/step - loss: 3.5683 - accuracy: 0.1638 - val_loss: 3.0418 - val_accuracy: 0.2503\n",
      "Epoch 5/5\n",
      "79/79 [==============================] - 4s 48ms/step - loss: 3.5160 - accuracy: 0.1708 - val_loss: 3.0560 - val_accuracy: 0.2584\n",
      "Epoch 1/5\n",
      "79/79 [==============================] - 4s 52ms/step - loss: 3.6122 - accuracy: 0.1572 - val_loss: 3.1422 - val_accuracy: 0.2494\n",
      "Epoch 2/5\n",
      "79/79 [==============================] - 4s 48ms/step - loss: 3.5558 - accuracy: 0.1670 - val_loss: 3.1191 - val_accuracy: 0.2464\n",
      "Epoch 3/5\n",
      "79/79 [==============================] - 4s 48ms/step - loss: 3.5053 - accuracy: 0.1780 - val_loss: 3.0087 - val_accuracy: 0.2644\n",
      "Epoch 4/5\n",
      "79/79 [==============================] - 4s 49ms/step - loss: 3.4681 - accuracy: 0.1827 - val_loss: 3.1418 - val_accuracy: 0.2498\n",
      "Epoch 5/5\n",
      "79/79 [==============================] - 4s 50ms/step - loss: 3.4318 - accuracy: 0.1874 - val_loss: 3.1687 - val_accuracy: 0.2455\n",
      "Epoch 1/5\n",
      "79/79 [==============================] - 4s 51ms/step - loss: 3.5554 - accuracy: 0.1677 - val_loss: 3.0041 - val_accuracy: 0.2749\n",
      "Epoch 2/5\n",
      "79/79 [==============================] - 4s 49ms/step - loss: 3.4835 - accuracy: 0.1782 - val_loss: 2.9625 - val_accuracy: 0.2794\n",
      "Epoch 3/5\n",
      "79/79 [==============================] - 4s 48ms/step - loss: 3.4341 - accuracy: 0.1862 - val_loss: 2.7828 - val_accuracy: 0.3031\n",
      "Epoch 4/5\n",
      "79/79 [==============================] - 4s 48ms/step - loss: 3.3969 - accuracy: 0.1950 - val_loss: 2.9483 - val_accuracy: 0.2806\n",
      "Epoch 5/5\n",
      "79/79 [==============================] - 4s 48ms/step - loss: 3.3436 - accuracy: 0.2020 - val_loss: 2.8641 - val_accuracy: 0.2984\n",
      "Epoch 1/5\n",
      "79/79 [==============================] - 4s 51ms/step - loss: 3.4824 - accuracy: 0.1797 - val_loss: 3.1064 - val_accuracy: 0.2695\n",
      "Epoch 2/5\n",
      "79/79 [==============================] - 4s 48ms/step - loss: 3.4097 - accuracy: 0.1933 - val_loss: 2.8294 - val_accuracy: 0.3027\n",
      "Epoch 3/5\n",
      "79/79 [==============================] - 4s 50ms/step - loss: 3.3585 - accuracy: 0.2020 - val_loss: 2.8089 - val_accuracy: 0.3019\n",
      "Epoch 4/5\n",
      "79/79 [==============================] - 4s 48ms/step - loss: 3.3103 - accuracy: 0.2106 - val_loss: 2.7912 - val_accuracy: 0.3059\n",
      "Epoch 5/5\n",
      "79/79 [==============================] - 4s 48ms/step - loss: 3.2643 - accuracy: 0.2169 - val_loss: 2.9280 - val_accuracy: 0.2977\n",
      "Epoch 1/5\n",
      "79/79 [==============================] - 4s 52ms/step - loss: 3.4396 - accuracy: 0.1884 - val_loss: 2.8885 - val_accuracy: 0.3024\n",
      "Epoch 2/5\n",
      "79/79 [==============================] - 4s 48ms/step - loss: 3.3632 - accuracy: 0.2018 - val_loss: 2.7980 - val_accuracy: 0.3050\n",
      "Epoch 3/5\n",
      "79/79 [==============================] - 4s 48ms/step - loss: 3.3064 - accuracy: 0.2111 - val_loss: 2.7766 - val_accuracy: 0.3252\n",
      "Epoch 4/5\n",
      "79/79 [==============================] - 4s 48ms/step - loss: 3.2460 - accuracy: 0.2222 - val_loss: 2.8105 - val_accuracy: 0.3048\n",
      "Epoch 5/5\n",
      "79/79 [==============================] - 4s 48ms/step - loss: 3.1929 - accuracy: 0.2283 - val_loss: 2.7013 - val_accuracy: 0.3304\n",
      "Epoch 1/5\n",
      "79/79 [==============================] - 4s 52ms/step - loss: 3.4059 - accuracy: 0.1938 - val_loss: 3.1014 - val_accuracy: 0.2724\n",
      "Epoch 2/5\n",
      "79/79 [==============================] - 4s 49ms/step - loss: 3.3128 - accuracy: 0.2097 - val_loss: 2.6743 - val_accuracy: 0.3264\n",
      "Epoch 3/5\n",
      "79/79 [==============================] - 4s 49ms/step - loss: 3.2492 - accuracy: 0.2212 - val_loss: 2.8477 - val_accuracy: 0.3060\n",
      "Epoch 4/5\n",
      "79/79 [==============================] - 4s 48ms/step - loss: 3.1885 - accuracy: 0.2312 - val_loss: 2.6629 - val_accuracy: 0.3221\n",
      "Epoch 5/5\n",
      "79/79 [==============================] - 4s 49ms/step - loss: 3.1301 - accuracy: 0.2426 - val_loss: 2.8187 - val_accuracy: 0.3089\n",
      "Epoch 1/5\n",
      "79/79 [==============================] - 4s 51ms/step - loss: 3.3536 - accuracy: 0.2057 - val_loss: 2.8237 - val_accuracy: 0.3248\n",
      "Epoch 2/5\n",
      "79/79 [==============================] - 4s 48ms/step - loss: 3.2589 - accuracy: 0.2206 - val_loss: 2.7432 - val_accuracy: 0.3220\n",
      "Epoch 3/5\n",
      "79/79 [==============================] - 4s 49ms/step - loss: 3.1901 - accuracy: 0.2319 - val_loss: 2.5663 - val_accuracy: 0.3507\n",
      "Epoch 4/5\n",
      "79/79 [==============================] - 4s 48ms/step - loss: 3.1247 - accuracy: 0.2448 - val_loss: 2.6585 - val_accuracy: 0.3329\n",
      "Epoch 5/5\n",
      "79/79 [==============================] - 4s 48ms/step - loss: 3.0723 - accuracy: 0.2536 - val_loss: 2.6057 - val_accuracy: 0.3436\n",
      "Epoch 1/5\n",
      "79/79 [==============================] - 4s 51ms/step - loss: 3.3137 - accuracy: 0.2102 - val_loss: 2.6471 - val_accuracy: 0.3493\n",
      "Epoch 2/5\n",
      "79/79 [==============================] - 4s 50ms/step - loss: 3.2113 - accuracy: 0.2283 - val_loss: 2.5224 - val_accuracy: 0.3648\n",
      "Epoch 3/5\n",
      "79/79 [==============================] - 4s 48ms/step - loss: 3.1340 - accuracy: 0.2440 - val_loss: 2.5124 - val_accuracy: 0.3641\n",
      "Epoch 4/5\n",
      "79/79 [==============================] - 4s 48ms/step - loss: 3.0553 - accuracy: 0.2562 - val_loss: 2.6251 - val_accuracy: 0.3477\n",
      "Epoch 5/5\n",
      "79/79 [==============================] - 4s 48ms/step - loss: 2.9926 - accuracy: 0.2693 - val_loss: 2.5699 - val_accuracy: 0.3555\n",
      "Epoch 1/5\n",
      "79/79 [==============================] - 4s 51ms/step - loss: 3.3013 - accuracy: 0.2169 - val_loss: 2.5928 - val_accuracy: 0.3654\n",
      "Epoch 2/5\n",
      "79/79 [==============================] - 4s 49ms/step - loss: 3.1816 - accuracy: 0.2349 - val_loss: 2.5203 - val_accuracy: 0.3704\n",
      "Epoch 3/5\n",
      "79/79 [==============================] - 4s 48ms/step - loss: 3.1083 - accuracy: 0.2493 - val_loss: 2.5164 - val_accuracy: 0.3661\n",
      "Epoch 4/5\n",
      "79/79 [==============================] - 4s 48ms/step - loss: 3.0349 - accuracy: 0.2596 - val_loss: 2.5386 - val_accuracy: 0.3588\n",
      "Epoch 5/5\n",
      "79/79 [==============================] - 4s 48ms/step - loss: 2.9475 - accuracy: 0.2794 - val_loss: 2.5048 - val_accuracy: 0.3642\n",
      "Epoch 1/5\n",
      "79/79 [==============================] - 4s 53ms/step - loss: 3.2654 - accuracy: 0.2218 - val_loss: 2.5240 - val_accuracy: 0.3843\n",
      "Epoch 2/5\n",
      "79/79 [==============================] - 4s 49ms/step - loss: 3.1393 - accuracy: 0.2402 - val_loss: 2.4570 - val_accuracy: 0.3776\n",
      "Epoch 3/5\n",
      "79/79 [==============================] - 4s 49ms/step - loss: 3.0528 - accuracy: 0.2553 - val_loss: 2.4887 - val_accuracy: 0.3738\n",
      "Epoch 4/5\n",
      "79/79 [==============================] - 4s 48ms/step - loss: 2.9766 - accuracy: 0.2754 - val_loss: 2.4080 - val_accuracy: 0.3893\n",
      "Epoch 5/5\n",
      "79/79 [==============================] - 4s 48ms/step - loss: 2.8949 - accuracy: 0.2894 - val_loss: 2.4815 - val_accuracy: 0.3762\n",
      "Epoch 1/5\n",
      "79/79 [==============================] - 4s 52ms/step - loss: 3.2529 - accuracy: 0.2247 - val_loss: 2.4812 - val_accuracy: 0.3829\n",
      "Epoch 2/5\n",
      "79/79 [==============================] - 4s 48ms/step - loss: 3.1125 - accuracy: 0.2480 - val_loss: 2.4868 - val_accuracy: 0.3843\n",
      "Epoch 3/5\n",
      "79/79 [==============================] - 4s 48ms/step - loss: 3.0292 - accuracy: 0.2618 - val_loss: 2.5369 - val_accuracy: 0.3659\n",
      "Epoch 4/5\n",
      "79/79 [==============================] - 4s 49ms/step - loss: 2.9307 - accuracy: 0.2819 - val_loss: 2.3436 - val_accuracy: 0.3962\n",
      "Epoch 5/5\n",
      "79/79 [==============================] - 4s 48ms/step - loss: 2.8507 - accuracy: 0.2959 - val_loss: 2.4520 - val_accuracy: 0.3818\n",
      "Epoch 1/5\n",
      "79/79 [==============================] - 4s 52ms/step - loss: 3.2386 - accuracy: 0.2295 - val_loss: 2.4068 - val_accuracy: 0.3988\n",
      "Epoch 2/5\n",
      "79/79 [==============================] - 4s 49ms/step - loss: 3.0978 - accuracy: 0.2500 - val_loss: 2.3550 - val_accuracy: 0.3981\n",
      "Epoch 3/5\n",
      "79/79 [==============================] - 4s 48ms/step - loss: 2.9981 - accuracy: 0.2710 - val_loss: 2.3858 - val_accuracy: 0.3906\n",
      "Epoch 4/5\n",
      "79/79 [==============================] - 4s 48ms/step - loss: 2.9007 - accuracy: 0.2875 - val_loss: 2.3879 - val_accuracy: 0.3872\n",
      "Epoch 5/5\n",
      "79/79 [==============================] - 4s 49ms/step - loss: 2.8132 - accuracy: 0.3076 - val_loss: 2.3698 - val_accuracy: 0.3987\n",
      "Epoch 1/5\n",
      "79/79 [==============================] - 4s 51ms/step - loss: 3.2069 - accuracy: 0.2332 - val_loss: 2.5496 - val_accuracy: 0.3778\n",
      "Epoch 2/5\n",
      "79/79 [==============================] - 4s 48ms/step - loss: 3.0734 - accuracy: 0.2576 - val_loss: 2.3543 - val_accuracy: 0.4110\n",
      "Epoch 3/5\n",
      "79/79 [==============================] - 4s 49ms/step - loss: 2.9546 - accuracy: 0.2765 - val_loss: 2.3789 - val_accuracy: 0.3960\n",
      "Epoch 4/5\n",
      "79/79 [==============================] - 4s 48ms/step - loss: 2.8657 - accuracy: 0.2931 - val_loss: 2.2945 - val_accuracy: 0.4120\n",
      "Epoch 5/5\n",
      "79/79 [==============================] - 4s 50ms/step - loss: 2.7788 - accuracy: 0.3129 - val_loss: 2.4044 - val_accuracy: 0.3895\n",
      "Epoch 1/5\n",
      "79/79 [==============================] - 4s 53ms/step - loss: 3.1967 - accuracy: 0.2380 - val_loss: 2.4612 - val_accuracy: 0.3868\n",
      "Epoch 2/5\n",
      "79/79 [==============================] - 4s 48ms/step - loss: 3.0500 - accuracy: 0.2618 - val_loss: 2.3905 - val_accuracy: 0.4022\n",
      "Epoch 3/5\n",
      "79/79 [==============================] - 4s 48ms/step - loss: 2.9311 - accuracy: 0.2838 - val_loss: 2.3041 - val_accuracy: 0.4171\n",
      "Epoch 4/5\n",
      "79/79 [==============================] - 4s 49ms/step - loss: 2.8364 - accuracy: 0.3016 - val_loss: 2.3205 - val_accuracy: 0.4121\n",
      "Epoch 5/5\n",
      "79/79 [==============================] - 4s 48ms/step - loss: 2.7517 - accuracy: 0.3174 - val_loss: 2.5908 - val_accuracy: 0.3661\n",
      "Epoch 1/5\n",
      "79/79 [==============================] - 4s 51ms/step - loss: 3.1832 - accuracy: 0.2405 - val_loss: 2.5054 - val_accuracy: 0.3777\n",
      "Epoch 2/5\n",
      "79/79 [==============================] - 4s 48ms/step - loss: 3.0137 - accuracy: 0.2689 - val_loss: 2.3888 - val_accuracy: 0.3947\n",
      "Epoch 3/5\n",
      "79/79 [==============================] - 4s 48ms/step - loss: 2.9013 - accuracy: 0.2879 - val_loss: 2.3375 - val_accuracy: 0.4035\n",
      "Epoch 4/5\n",
      "79/79 [==============================] - 4s 48ms/step - loss: 2.8070 - accuracy: 0.3086 - val_loss: 2.3261 - val_accuracy: 0.4087\n",
      "Epoch 5/5\n",
      "79/79 [==============================] - 4s 51ms/step - loss: 2.7050 - accuracy: 0.3268 - val_loss: 2.3091 - val_accuracy: 0.4120\n",
      "Epoch 1/5\n",
      "79/79 [==============================] - 4s 54ms/step - loss: 3.1632 - accuracy: 0.2450 - val_loss: 2.5088 - val_accuracy: 0.3970\n",
      "Epoch 2/5\n",
      "79/79 [==============================] - 4s 48ms/step - loss: 2.9918 - accuracy: 0.2715 - val_loss: 2.3734 - val_accuracy: 0.4042\n",
      "Epoch 3/5\n",
      "79/79 [==============================] - 4s 49ms/step - loss: 2.8838 - accuracy: 0.2910 - val_loss: 2.2950 - val_accuracy: 0.4217\n",
      "Epoch 4/5\n",
      "79/79 [==============================] - 4s 48ms/step - loss: 2.7828 - accuracy: 0.3118 - val_loss: 2.2952 - val_accuracy: 0.4206\n",
      "Epoch 5/5\n",
      "79/79 [==============================] - 4s 48ms/step - loss: 2.6861 - accuracy: 0.3309 - val_loss: 2.2909 - val_accuracy: 0.4171\n"
     ]
    }
   ],
   "source": [
    "# Create the ModelCheckpoint callback to save the best model during training\n",
    "mc_callback = ModelCheckpoint('model_2.hdf5',\n",
    "                              monitor='val_accuracy',\n",
    "                              save_best_only=True,\n",
    "                              verbose=0,\n",
    "                              mode='max'\n",
    "                             )\n",
    "\n",
    "# Train the model\n",
    "epochs = 5\n",
    "batch_size = 512\n",
    "augmented_factor = 20\n",
    "for i in range(augmented_factor):\n",
    "  batch_x, batch_y = album_generator[0]\n",
    "  model.fit(batch_x,\n",
    "            batch_y, \n",
    "            validation_data=(x_valid_norm, y_valid), \n",
    "            callbacks=[mc_callback],\n",
    "            batch_size=batch_size,\n",
    "            epochs=epochs\n",
    "            )"
   ]
  },
  {
   "cell_type": "code",
   "execution_count": 26,
   "metadata": {
    "execution": {
     "iopub.execute_input": "2021-06-24T14:38:48.366835Z",
     "iopub.status.busy": "2021-06-24T14:38:48.366439Z",
     "iopub.status.idle": "2021-06-24T14:38:53.895675Z",
     "shell.execute_reply": "2021-06-24T14:38:53.894465Z",
     "shell.execute_reply.started": "2021-06-24T14:38:48.366801Z"
    }
   },
   "outputs": [
    {
     "name": "stdout",
     "output_type": "stream",
     "text": [
      "[Accuracy] Train: 0.47 Valid: 0.422\n"
     ]
    }
   ],
   "source": [
    "# Load the model and show the final metrics\n",
    "model = keras.models.load_model('model_2.hdf5')\n",
    "\n",
    "# Train and validation metrics\n",
    "_, train_acc = model.evaluate(x_train_norm, y_train, verbose=0)\n",
    "_, valid_acc = model.evaluate(x_valid_norm, y_valid, verbose=0)\n",
    "\n",
    "# Show result\n",
    "print(f'[Accuracy] Train: {round(train_acc, 3)} Valid: {round(valid_acc, 3)}')"
   ]
  },
  {
   "cell_type": "markdown",
   "metadata": {},
   "source": [
    "## Modelo #3"
   ]
  },
  {
   "cell_type": "code",
   "execution_count": 30,
   "metadata": {
    "execution": {
     "iopub.execute_input": "2021-06-24T15:06:42.124733Z",
     "iopub.status.busy": "2021-06-24T15:06:42.124324Z",
     "iopub.status.idle": "2021-06-24T15:06:43.015491Z",
     "shell.execute_reply": "2021-06-24T15:06:43.014540Z",
     "shell.execute_reply.started": "2021-06-24T15:06:42.124700Z"
    }
   },
   "outputs": [
    {
     "name": "stdout",
     "output_type": "stream",
     "text": [
      "Model: \"sequential_4\"\n",
      "_________________________________________________________________\n",
      "Layer (type)                 Output Shape              Param #   \n",
      "=================================================================\n",
      "conv2d_9 (Conv2D)            (None, 32, 32, 128)       3584      \n",
      "_________________________________________________________________\n",
      "conv2d_10 (Conv2D)           (None, 32, 32, 128)       147584    \n",
      "_________________________________________________________________\n",
      "batch_normalization_11 (Batc (None, 32, 32, 128)       512       \n",
      "_________________________________________________________________\n",
      "activation_11 (Activation)   (None, 32, 32, 128)       0         \n",
      "_________________________________________________________________\n",
      "max_pooling2d_4 (MaxPooling2 (None, 16, 16, 128)       0         \n",
      "_________________________________________________________________\n",
      "conv2d_11 (Conv2D)           (None, 16, 16, 256)       295168    \n",
      "_________________________________________________________________\n",
      "conv2d_12 (Conv2D)           (None, 16, 16, 256)       590080    \n",
      "_________________________________________________________________\n",
      "batch_normalization_12 (Batc (None, 16, 16, 256)       1024      \n",
      "_________________________________________________________________\n",
      "activation_12 (Activation)   (None, 16, 16, 256)       0         \n",
      "_________________________________________________________________\n",
      "max_pooling2d_5 (MaxPooling2 (None, 8, 8, 256)         0         \n",
      "_________________________________________________________________\n",
      "conv2d_13 (Conv2D)           (None, 8, 8, 512)         1180160   \n",
      "_________________________________________________________________\n",
      "conv2d_14 (Conv2D)           (None, 8, 8, 512)         2359808   \n",
      "_________________________________________________________________\n",
      "batch_normalization_13 (Batc (None, 8, 8, 512)         2048      \n",
      "_________________________________________________________________\n",
      "activation_13 (Activation)   (None, 8, 8, 512)         0         \n",
      "_________________________________________________________________\n",
      "max_pooling2d_6 (MaxPooling2 (None, 4, 4, 512)         0         \n",
      "_________________________________________________________________\n",
      "flatten_2 (Flatten)          (None, 8192)              0         \n",
      "_________________________________________________________________\n",
      "dense_4 (Dense)              (None, 1024)              8389632   \n",
      "_________________________________________________________________\n",
      "dropout_2 (Dropout)          (None, 1024)              0         \n",
      "_________________________________________________________________\n",
      "batch_normalization_14 (Batc (None, 1024)              4096      \n",
      "_________________________________________________________________\n",
      "activation_14 (Activation)   (None, 1024)              0         \n",
      "_________________________________________________________________\n",
      "dense_5 (Dense)              (None, 1024)              1049600   \n",
      "_________________________________________________________________\n",
      "dropout_3 (Dropout)          (None, 1024)              0         \n",
      "_________________________________________________________________\n",
      "batch_normalization_15 (Batc (None, 1024)              4096      \n",
      "_________________________________________________________________\n",
      "activation_15 (Activation)   (None, 1024)              0         \n",
      "_________________________________________________________________\n",
      "dense_6 (Dense)              (None, 100)               102500    \n",
      "_________________________________________________________________\n",
      "batch_normalization_16 (Batc (None, 100)               400       \n",
      "_________________________________________________________________\n",
      "activation_16 (Activation)   (None, 100)               0         \n",
      "=================================================================\n",
      "Total params: 14,130,292\n",
      "Trainable params: 14,124,204\n",
      "Non-trainable params: 6,088\n",
      "_________________________________________________________________\n"
     ]
    }
   ],
   "source": [
    "# Create the model\n",
    "model = Sequential()\n",
    "model.add(InputLayer(input_shape=(32, 32, 3)))\n",
    "model.add(Conv2D(128, 3, padding='same'))\n",
    "model.add(Conv2D(128, 3, padding='same'))\n",
    "model.add(BatchNormalization())\n",
    "model.add(Activation('elu'))\n",
    "model.add(MaxPooling2D(strides=(2, 2), padding='same'))\n",
    "model.add(Conv2D(256, 3, padding='same'))\n",
    "model.add(Conv2D(256, 3, padding='same'))\n",
    "model.add(BatchNormalization())\n",
    "model.add(Activation('elu'))\n",
    "model.add(MaxPooling2D(strides=(2, 2), padding='same'))\n",
    "model.add(Conv2D(512, 3, padding='same'))\n",
    "model.add(Conv2D(512, 3, padding='same'))\n",
    "model.add(BatchNormalization())\n",
    "model.add(Activation('elu'))\n",
    "model.add(MaxPooling2D(strides=(2, 2), padding='same'))\n",
    "model.add(Flatten())\n",
    "model.add(Dense(1024))\n",
    "model.add(Dropout(0.5))\n",
    "model.add(BatchNormalization())\n",
    "model.add(Activation('elu'))\n",
    "model.add(Dense(1024))\n",
    "model.add(Dropout(0.5))\n",
    "model.add(BatchNormalization())\n",
    "model.add(Activation('elu'))\n",
    "model.add(Dense(100))\n",
    "model.add(BatchNormalization())\n",
    "model.add(Activation('softmax'))\n",
    "\n",
    "# Compile\n",
    "model.compile(loss='sparse_categorical_crossentropy',\n",
    "              optimizer=Adam(learning_rate=0.0001),\n",
    "              metrics=['accuracy']\n",
    "             )\n",
    "\n",
    "# Summarize\n",
    "model.summary()"
   ]
  },
  {
   "cell_type": "code",
   "execution_count": 23,
   "metadata": {
    "execution": {
     "iopub.execute_input": "2021-06-24T17:53:31.176108Z",
     "iopub.status.busy": "2021-06-24T17:53:31.175634Z",
     "iopub.status.idle": "2021-06-24T18:07:41.962391Z",
     "shell.execute_reply": "2021-06-24T18:07:41.961262Z",
     "shell.execute_reply.started": "2021-06-24T17:53:31.176061Z"
    }
   },
   "outputs": [
    {
     "name": "stdout",
     "output_type": "stream",
     "text": [
      "79/79 [==============================] - 16s 160ms/step - loss: 1.8132 - accuracy: 0.5430 - val_loss: 1.4289 - val_accuracy: 0.6177\n",
      "79/79 [==============================] - 11s 142ms/step - loss: 1.7755 - accuracy: 0.5507 - val_loss: 1.3937 - val_accuracy: 0.6265\n",
      "79/79 [==============================] - 11s 142ms/step - loss: 1.7632 - accuracy: 0.5558 - val_loss: 1.3977 - val_accuracy: 0.6299\n",
      "79/79 [==============================] - 11s 143ms/step - loss: 1.7594 - accuracy: 0.5537 - val_loss: 1.4100 - val_accuracy: 0.6268\n",
      "79/79 [==============================] - 11s 143ms/step - loss: 1.7576 - accuracy: 0.5555 - val_loss: 1.4009 - val_accuracy: 0.6265\n",
      "79/79 [==============================] - 11s 143ms/step - loss: 1.7471 - accuracy: 0.5595 - val_loss: 1.3869 - val_accuracy: 0.6298\n",
      "79/79 [==============================] - 11s 142ms/step - loss: 1.7378 - accuracy: 0.5591 - val_loss: 1.3989 - val_accuracy: 0.6327\n",
      "79/79 [==============================] - 11s 145ms/step - loss: 1.7258 - accuracy: 0.5640 - val_loss: 1.3884 - val_accuracy: 0.6306\n",
      "79/79 [==============================] - 11s 143ms/step - loss: 1.7314 - accuracy: 0.5643 - val_loss: 1.4130 - val_accuracy: 0.6248\n",
      "79/79 [==============================] - 11s 143ms/step - loss: 1.7227 - accuracy: 0.5663 - val_loss: 1.3918 - val_accuracy: 0.6303\n",
      "79/79 [==============================] - 11s 142ms/step - loss: 1.7224 - accuracy: 0.5638 - val_loss: 1.4215 - val_accuracy: 0.6243\n",
      "79/79 [==============================] - 11s 142ms/step - loss: 1.7213 - accuracy: 0.5674 - val_loss: 1.4069 - val_accuracy: 0.6284\n",
      "79/79 [==============================] - 11s 142ms/step - loss: 1.7137 - accuracy: 0.5683 - val_loss: 1.3912 - val_accuracy: 0.6311\n",
      "79/79 [==============================] - 11s 143ms/step - loss: 1.7093 - accuracy: 0.5676 - val_loss: 1.3995 - val_accuracy: 0.6335\n",
      "79/79 [==============================] - 11s 143ms/step - loss: 1.7047 - accuracy: 0.5704 - val_loss: 1.3989 - val_accuracy: 0.6326\n",
      "79/79 [==============================] - 11s 142ms/step - loss: 1.7031 - accuracy: 0.5688 - val_loss: 1.4214 - val_accuracy: 0.6246\n",
      "79/79 [==============================] - 11s 143ms/step - loss: 1.7101 - accuracy: 0.5670 - val_loss: 1.4073 - val_accuracy: 0.6285\n",
      "79/79 [==============================] - 11s 143ms/step - loss: 1.6967 - accuracy: 0.5706 - val_loss: 1.4007 - val_accuracy: 0.6314\n",
      "79/79 [==============================] - 11s 141ms/step - loss: 1.6945 - accuracy: 0.5721 - val_loss: 1.3932 - val_accuracy: 0.6365\n",
      "79/79 [==============================] - 11s 142ms/step - loss: 1.6979 - accuracy: 0.5717 - val_loss: 1.4088 - val_accuracy: 0.6294\n"
     ]
    }
   ],
   "source": [
    "# Create the ModelCheckpoint callback to save the best model during training\n",
    "mc_callback = ModelCheckpoint('model_3.hdf5',\n",
    "                              monitor='val_accuracy',\n",
    "                              save_best_only=True,\n",
    "                              verbose=0,\n",
    "                              mode='max'\n",
    "                             )\n",
    "\n",
    "# Create the EarlyStopping callback to stop when not improving during training\n",
    "es_callback = EarlyStopping(monitor='val_accuracy', mode='min', verbose=1, patience=20)\n",
    "\n",
    "# Train the model\n",
    "epochs = 1 # First trained with 5\n",
    "batch_size = 512 # First trained with 256\n",
    "augmented_factor = 20 # First trained with 40\n",
    "for i in range(augmented_factor):\n",
    "  batch_x, batch_y = album_generator[0]\n",
    "  model.fit(batch_x,\n",
    "            batch_y, \n",
    "            validation_data=(x_valid_norm, y_valid), \n",
    "            callbacks=[mc_callback, es_callback],\n",
    "            batch_size=batch_size,\n",
    "            epochs=epochs\n",
    "            )"
   ]
  },
  {
   "cell_type": "code",
   "execution_count": 24,
   "metadata": {
    "execution": {
     "iopub.execute_input": "2021-06-24T18:19:50.510286Z",
     "iopub.status.busy": "2021-06-24T18:19:50.509761Z",
     "iopub.status.idle": "2021-06-24T18:19:59.553140Z",
     "shell.execute_reply": "2021-06-24T18:19:59.551690Z",
     "shell.execute_reply.started": "2021-06-24T18:19:50.510249Z"
    }
   },
   "outputs": [
    {
     "name": "stdout",
     "output_type": "stream",
     "text": [
      "[Accuracy] Train: 0.825 Valid: 0.637\n"
     ]
    }
   ],
   "source": [
    "# Load the model and show the final metrics\n",
    "model = keras.models.load_model('model_3.hdf5')\n",
    "\n",
    "# Train and validation metrics\n",
    "_, train_acc = model.evaluate(x_train_norm, y_train, verbose=0)\n",
    "_, valid_acc = model.evaluate(x_valid_norm, y_valid, verbose=0)\n",
    "\n",
    "# Show result\n",
    "print(f'[Accuracy] Train: {round(train_acc, 3)} Valid: {round(valid_acc, 3)}')"
   ]
  }
 ],
 "metadata": {
  "kernelspec": {
   "display_name": "Python 3",
   "language": "python",
   "name": "python3"
  },
  "language_info": {
   "codemirror_mode": {
    "name": "ipython",
    "version": 3
   },
   "file_extension": ".py",
   "mimetype": "text/x-python",
   "name": "python",
   "nbconvert_exporter": "python",
   "pygments_lexer": "ipython3",
   "version": "3.8.5"
  }
 },
 "nbformat": 4,
 "nbformat_minor": 4
}
