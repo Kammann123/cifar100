{
 "cells": [
  {
   "cell_type": "markdown",
   "metadata": {
    "id": "eIfti0pEpvd8"
   },
   "source": [
    "# Test-00\n",
    "Ejecutado en **Google Collaboratory**.\n",
    "\n",
    "## Descripción\n",
    "Se probaron seis modelos de red neuronal dentro de los cuales se fueron haciendo algunas mejoras, entre ellas:\n",
    "* Agregar capas de BatchNormalization a las capas Densas de la red neuronal posterior a las capas convolucionales\n",
    "* Probar con AveragePooling2D, además de MaxPooling2D\n",
    "* Agregar capas de Dropout para reducir el overfitting"
   ]
  },
  {
   "cell_type": "code",
   "execution_count": 128,
   "metadata": {
    "id": "-nGU_PL-pveI"
   },
   "outputs": [],
   "source": [
    "import numpy as np"
   ]
  },
  {
   "cell_type": "code",
   "execution_count": 129,
   "metadata": {
    "id": "B__1ziCSzS4j"
   },
   "outputs": [],
   "source": [
    "import pandas as pd"
   ]
  },
  {
   "cell_type": "markdown",
   "metadata": {
    "id": "lNDNdvejpveO"
   },
   "source": [
    "## Cargando las bases de datos"
   ]
  },
  {
   "cell_type": "code",
   "execution_count": 130,
   "metadata": {
    "colab": {
     "base_uri": "https://localhost:8080/"
    },
    "id": "6Vqi2tJFwMEY",
    "outputId": "56e98a04-42a0-4df3-8d27-020c4cecb7ca"
   },
   "outputs": [
    {
     "name": "stdout",
     "output_type": "stream",
     "text": [
      "Drive already mounted at /content/drive; to attempt to forcibly remount, call drive.mount(\"/content/drive\", force_remount=True).\n"
     ]
    }
   ],
   "source": [
    "from google.colab import drive\n",
    "drive.mount('/content/drive')"
   ]
  },
  {
   "cell_type": "code",
   "execution_count": 131,
   "metadata": {
    "id": "Seh2QPW6pveQ"
   },
   "outputs": [],
   "source": [
    "x_train_valid = np.load('drive/Shareddrives/Redes Neuronales BIO/CIFAR-100/x_train.npy')\n",
    "y_train_valid = np.load('drive/Shareddrives/Redes Neuronales BIO/CIFAR-100/y_train.npy')\n",
    "x_test = np.load('drive/Shareddrives/Redes Neuronales BIO/CIFAR-100/x_test.npy')"
   ]
  },
  {
   "cell_type": "markdown",
   "metadata": {
    "id": "jhxw8wdWpveS"
   },
   "source": [
    "# Separando conjuntos para entrenamiento, validación"
   ]
  },
  {
   "cell_type": "code",
   "execution_count": 132,
   "metadata": {
    "id": "LM6bEUwypveU"
   },
   "outputs": [],
   "source": [
    "from sklearn.model_selection import train_test_split"
   ]
  },
  {
   "cell_type": "code",
   "execution_count": 133,
   "metadata": {
    "id": "t6WHhMNwpveW"
   },
   "outputs": [],
   "source": [
    "x_train, x_valid, y_train, y_valid = train_test_split(x_train_valid, y_train_valid, test_size=0.2, random_state=15, stratify=y_train_valid)"
   ]
  },
  {
   "cell_type": "markdown",
   "metadata": {
    "id": "1VR3XBokpveX"
   },
   "source": [
    "# Normalización de datos"
   ]
  },
  {
   "cell_type": "code",
   "execution_count": 134,
   "metadata": {
    "id": "YF544qrApveY"
   },
   "outputs": [],
   "source": [
    "x_train_norm = x_train / 255\n",
    "x_valid_norm = x_valid / 255\n",
    "x_test_norm = x_test / 255"
   ]
  },
  {
   "cell_type": "markdown",
   "metadata": {
    "id": "iPn2mKsWpveb"
   },
   "source": [
    "# Modelos"
   ]
  },
  {
   "cell_type": "code",
   "execution_count": 206,
   "metadata": {
    "id": "ffSa1yEapvec"
   },
   "outputs": [],
   "source": [
    "from tensorflow.keras.layers import Dense, Flatten, Activation, BatchNormalization, Dropout, Conv2D, MaxPooling2D, InputLayer, AveragePooling2D\n",
    "from tensorflow.keras.models import Sequential\n",
    "from tensorflow.keras.callbacks import TensorBoard, ModelCheckpoint\n",
    "from tensorflow.keras.optimizers import Adam\n",
    "from tensorflow.keras.regularizers import l2\n",
    "from tensorflow import keras"
   ]
  },
  {
   "cell_type": "markdown",
   "metadata": {
    "id": "pp-AKYMi4Fx8"
   },
   "source": [
    "## Modelo #1"
   ]
  },
  {
   "cell_type": "code",
   "execution_count": 136,
   "metadata": {
    "id": "XuvmidLHpvep"
   },
   "outputs": [],
   "source": [
    "# Create the model\n",
    "model = Sequential()\n",
    "model.add(InputLayer(input_shape=(32, 32, 3)))\n",
    "model.add(Conv2D(64, 3))\n",
    "model.add(BatchNormalization())\n",
    "model.add(Activation('relu'))\n",
    "model.add(MaxPooling2D())\n",
    "model.add(Conv2D(128, 3))\n",
    "model.add(BatchNormalization())\n",
    "model.add(Activation('relu'))\n",
    "model.add(MaxPooling2D())\n",
    "model.add(Flatten())\n",
    "model.add(Dense(256))\n",
    "model.add(Activation('relu'))\n",
    "model.add(Dense(100))\n",
    "model.add(Activation('softmax'))\n",
    "\n",
    "# Compile\n",
    "model.compile(loss='sparse_categorical_crossentropy',\n",
    "              optimizer=Adam(learning_rate=0.001),\n",
    "              metrics=['accuracy']\n",
    "             )"
   ]
  },
  {
   "cell_type": "code",
   "execution_count": 137,
   "metadata": {
    "colab": {
     "base_uri": "https://localhost:8080/"
    },
    "id": "P3TyjZNupvey",
    "outputId": "1d17399f-b548-49ae-9226-5338fa4a727e"
   },
   "outputs": [
    {
     "name": "stdout",
     "output_type": "stream",
     "text": [
      "Model: \"sequential_22\"\n",
      "_________________________________________________________________\n",
      "Layer (type)                 Output Shape              Param #   \n",
      "=================================================================\n",
      "conv2d_42 (Conv2D)           (None, 30, 30, 64)        1792      \n",
      "_________________________________________________________________\n",
      "batch_normalization_76 (Batc (None, 30, 30, 64)        256       \n",
      "_________________________________________________________________\n",
      "activation_82 (Activation)   (None, 30, 30, 64)        0         \n",
      "_________________________________________________________________\n",
      "max_pooling2d_42 (MaxPooling (None, 15, 15, 64)        0         \n",
      "_________________________________________________________________\n",
      "conv2d_43 (Conv2D)           (None, 13, 13, 128)       73856     \n",
      "_________________________________________________________________\n",
      "batch_normalization_77 (Batc (None, 13, 13, 128)       512       \n",
      "_________________________________________________________________\n",
      "activation_83 (Activation)   (None, 13, 13, 128)       0         \n",
      "_________________________________________________________________\n",
      "max_pooling2d_43 (MaxPooling (None, 6, 6, 128)         0         \n",
      "_________________________________________________________________\n",
      "flatten_21 (Flatten)         (None, 4608)              0         \n",
      "_________________________________________________________________\n",
      "dense_42 (Dense)             (None, 256)               1179904   \n",
      "_________________________________________________________________\n",
      "activation_84 (Activation)   (None, 256)               0         \n",
      "_________________________________________________________________\n",
      "dense_43 (Dense)             (None, 100)               25700     \n",
      "_________________________________________________________________\n",
      "activation_85 (Activation)   (None, 100)               0         \n",
      "=================================================================\n",
      "Total params: 1,282,020\n",
      "Trainable params: 1,281,636\n",
      "Non-trainable params: 384\n",
      "_________________________________________________________________\n"
     ]
    }
   ],
   "source": [
    "model.summary()"
   ]
  },
  {
   "cell_type": "code",
   "execution_count": 138,
   "metadata": {
    "colab": {
     "base_uri": "https://localhost:8080/"
    },
    "id": "VhbrmMeOpvfe",
    "outputId": "8e59ef84-b3a7-4db9-aafa-ed68749bac99"
   },
   "outputs": [
    {
     "name": "stdout",
     "output_type": "stream",
     "text": [
      "Epoch 1/10\n",
      "157/157 [==============================] - 4s 23ms/step - loss: 3.8962 - accuracy: 0.1173 - val_loss: 4.9996 - val_accuracy: 0.0181\n",
      "Epoch 2/10\n",
      "157/157 [==============================] - 3s 22ms/step - loss: 3.0688 - accuracy: 0.2491 - val_loss: 5.3394 - val_accuracy: 0.0281\n",
      "Epoch 3/10\n",
      "157/157 [==============================] - 3s 22ms/step - loss: 2.6574 - accuracy: 0.3281 - val_loss: 3.7739 - val_accuracy: 0.1462\n",
      "Epoch 4/10\n",
      "157/157 [==============================] - 3s 22ms/step - loss: 2.3971 - accuracy: 0.3851 - val_loss: 3.0715 - val_accuracy: 0.2502\n",
      "Epoch 5/10\n",
      "157/157 [==============================] - 3s 22ms/step - loss: 2.2185 - accuracy: 0.4227 - val_loss: 2.8276 - val_accuracy: 0.3057\n",
      "Epoch 6/10\n",
      "157/157 [==============================] - 3s 22ms/step - loss: 2.0887 - accuracy: 0.4518 - val_loss: 2.5625 - val_accuracy: 0.3580\n",
      "Epoch 7/10\n",
      "157/157 [==============================] - 3s 22ms/step - loss: 1.9713 - accuracy: 0.4780 - val_loss: 3.3425 - val_accuracy: 0.2531\n",
      "Epoch 8/10\n",
      "157/157 [==============================] - 3s 22ms/step - loss: 1.8613 - accuracy: 0.5033 - val_loss: 2.5114 - val_accuracy: 0.3708\n",
      "Epoch 9/10\n",
      "157/157 [==============================] - 3s 22ms/step - loss: 1.7456 - accuracy: 0.5317 - val_loss: 3.3020 - val_accuracy: 0.2689\n",
      "Epoch 10/10\n",
      "157/157 [==============================] - 3s 22ms/step - loss: 1.6374 - accuracy: 0.5545 - val_loss: 2.6730 - val_accuracy: 0.3614\n"
     ]
    },
    {
     "data": {
      "text/plain": [
       "<tensorflow.python.keras.callbacks.History at 0x7fe6128fb390>"
      ]
     },
     "execution_count": 138,
     "metadata": {
      "tags": []
     },
     "output_type": "execute_result"
    }
   ],
   "source": [
    "# Create the ModelCheckpoint callback to save the best model during training\n",
    "mc_callback = ModelCheckpoint('model_1.hdf5',\n",
    "                              monitor='val_accuracy',\n",
    "                              save_best_only=True,\n",
    "                              verbose=0,\n",
    "                              mode='max'\n",
    "                             )\n",
    "\n",
    "# Train the model\n",
    "model.fit(x_train_norm, y_train,\n",
    "          validation_data=(x_valid_norm, y_valid),\n",
    "          callbacks=[mc_callback],\n",
    "          epochs=10,\n",
    "          batch_size=256\n",
    "         )"
   ]
  },
  {
   "cell_type": "code",
   "execution_count": 139,
   "metadata": {
    "colab": {
     "base_uri": "https://localhost:8080/"
    },
    "id": "ooljv1Xa_B6J",
    "outputId": "03721349-99ab-440f-da2b-3009365fcf2f"
   },
   "outputs": [
    {
     "name": "stdout",
     "output_type": "stream",
     "text": [
      "[Accuracy] Train: 0.51 Valid: 0.371\n"
     ]
    }
   ],
   "source": [
    "# Load the model and show the final metrics\n",
    "model = keras.models.load_model('model_1.hdf5')\n",
    "\n",
    "# Train and validation metrics\n",
    "_, train_acc = model.evaluate(x_train_norm, y_train, verbose=0)\n",
    "_, valid_acc = model.evaluate(x_valid_norm, y_valid, verbose=0)\n",
    "\n",
    "# Show result\n",
    "print(f'[Accuracy] Train: {round(train_acc, 3)} Valid: {round(valid_acc, 3)}')"
   ]
  },
  {
   "cell_type": "markdown",
   "metadata": {
    "id": "UOKH7y-E4fo9"
   },
   "source": [
    "## Modelo #2"
   ]
  },
  {
   "cell_type": "code",
   "execution_count": 140,
   "metadata": {
    "id": "x67hiE1Z4fpC"
   },
   "outputs": [],
   "source": [
    "# Create the model\n",
    "model = Sequential()\n",
    "model.add(InputLayer(input_shape=(32, 32, 3)))\n",
    "model.add(Conv2D(64, 3))\n",
    "model.add(BatchNormalization())\n",
    "model.add(Activation('relu'))\n",
    "model.add(MaxPooling2D())\n",
    "model.add(Conv2D(128, 3))\n",
    "model.add(BatchNormalization())\n",
    "model.add(Activation('relu'))\n",
    "model.add(MaxPooling2D())\n",
    "model.add(Flatten())\n",
    "model.add(Dense(256))\n",
    "model.add(BatchNormalization())\n",
    "model.add(Activation('relu'))\n",
    "model.add(Dense(100))\n",
    "model.add(BatchNormalization())\n",
    "model.add(Activation('softmax'))\n",
    "\n",
    "# Compile\n",
    "model.compile(loss='sparse_categorical_crossentropy',\n",
    "              optimizer=Adam(learning_rate=0.001),\n",
    "              metrics=['accuracy']\n",
    "             )"
   ]
  },
  {
   "cell_type": "code",
   "execution_count": 141,
   "metadata": {
    "colab": {
     "base_uri": "https://localhost:8080/"
    },
    "id": "YA-vN47l4fpG",
    "outputId": "239e6e5b-0df0-42b9-9dae-96aef09c1a90"
   },
   "outputs": [
    {
     "name": "stdout",
     "output_type": "stream",
     "text": [
      "Model: \"sequential_23\"\n",
      "_________________________________________________________________\n",
      "Layer (type)                 Output Shape              Param #   \n",
      "=================================================================\n",
      "conv2d_44 (Conv2D)           (None, 30, 30, 64)        1792      \n",
      "_________________________________________________________________\n",
      "batch_normalization_78 (Batc (None, 30, 30, 64)        256       \n",
      "_________________________________________________________________\n",
      "activation_86 (Activation)   (None, 30, 30, 64)        0         \n",
      "_________________________________________________________________\n",
      "max_pooling2d_44 (MaxPooling (None, 15, 15, 64)        0         \n",
      "_________________________________________________________________\n",
      "conv2d_45 (Conv2D)           (None, 13, 13, 128)       73856     \n",
      "_________________________________________________________________\n",
      "batch_normalization_79 (Batc (None, 13, 13, 128)       512       \n",
      "_________________________________________________________________\n",
      "activation_87 (Activation)   (None, 13, 13, 128)       0         \n",
      "_________________________________________________________________\n",
      "max_pooling2d_45 (MaxPooling (None, 6, 6, 128)         0         \n",
      "_________________________________________________________________\n",
      "flatten_22 (Flatten)         (None, 4608)              0         \n",
      "_________________________________________________________________\n",
      "dense_44 (Dense)             (None, 256)               1179904   \n",
      "_________________________________________________________________\n",
      "batch_normalization_80 (Batc (None, 256)               1024      \n",
      "_________________________________________________________________\n",
      "activation_88 (Activation)   (None, 256)               0         \n",
      "_________________________________________________________________\n",
      "dense_45 (Dense)             (None, 100)               25700     \n",
      "_________________________________________________________________\n",
      "batch_normalization_81 (Batc (None, 100)               400       \n",
      "_________________________________________________________________\n",
      "activation_89 (Activation)   (None, 100)               0         \n",
      "=================================================================\n",
      "Total params: 1,283,444\n",
      "Trainable params: 1,282,348\n",
      "Non-trainable params: 1,096\n",
      "_________________________________________________________________\n"
     ]
    }
   ],
   "source": [
    "model.summary()"
   ]
  },
  {
   "cell_type": "code",
   "execution_count": 142,
   "metadata": {
    "colab": {
     "base_uri": "https://localhost:8080/"
    },
    "id": "7OlIi9f-4fpP",
    "outputId": "858c4570-e34d-41eb-9e8f-13abcd9ad215"
   },
   "outputs": [
    {
     "name": "stdout",
     "output_type": "stream",
     "text": [
      "Epoch 1/10\n",
      "157/157 [==============================] - 4s 23ms/step - loss: 3.4029 - accuracy: 0.2299 - val_loss: 4.8478 - val_accuracy: 0.0164\n",
      "Epoch 2/10\n",
      "157/157 [==============================] - 3s 22ms/step - loss: 2.5912 - accuracy: 0.4028 - val_loss: 4.6382 - val_accuracy: 0.0526\n",
      "Epoch 3/10\n",
      "157/157 [==============================] - 3s 22ms/step - loss: 2.1481 - accuracy: 0.5124 - val_loss: 3.5444 - val_accuracy: 0.1911\n",
      "Epoch 4/10\n",
      "157/157 [==============================] - 3s 22ms/step - loss: 1.7567 - accuracy: 0.6108 - val_loss: 2.9545 - val_accuracy: 0.3035\n",
      "Epoch 5/10\n",
      "157/157 [==============================] - 3s 22ms/step - loss: 1.3881 - accuracy: 0.7146 - val_loss: 2.9850 - val_accuracy: 0.3072\n",
      "Epoch 6/10\n",
      "157/157 [==============================] - 3s 22ms/step - loss: 1.0387 - accuracy: 0.8133 - val_loss: 2.7618 - val_accuracy: 0.3588\n",
      "Epoch 7/10\n",
      "157/157 [==============================] - 3s 22ms/step - loss: 0.7456 - accuracy: 0.8921 - val_loss: 2.7837 - val_accuracy: 0.3586\n",
      "Epoch 8/10\n",
      "157/157 [==============================] - 3s 22ms/step - loss: 0.5139 - accuracy: 0.9428 - val_loss: 2.8739 - val_accuracy: 0.3521\n",
      "Epoch 9/10\n",
      "157/157 [==============================] - 3s 22ms/step - loss: 0.3547 - accuracy: 0.9727 - val_loss: 3.0142 - val_accuracy: 0.3357\n",
      "Epoch 10/10\n",
      "157/157 [==============================] - 3s 22ms/step - loss: 0.2439 - accuracy: 0.9855 - val_loss: 2.8864 - val_accuracy: 0.3562\n"
     ]
    },
    {
     "data": {
      "text/plain": [
       "<tensorflow.python.keras.callbacks.History at 0x7fe615485950>"
      ]
     },
     "execution_count": 142,
     "metadata": {
      "tags": []
     },
     "output_type": "execute_result"
    }
   ],
   "source": [
    "# Create the ModelCheckpoint callback to save the best model during training\n",
    "mc_callback = ModelCheckpoint('model_2.hdf5',\n",
    "                              monitor='val_accuracy',\n",
    "                              save_best_only=True,\n",
    "                              verbose=0,\n",
    "                              mode='max'\n",
    "                             )\n",
    "\n",
    "# Train the model\n",
    "model.fit(x_train_norm, y_train,\n",
    "          validation_data=(x_valid_norm, y_valid),\n",
    "          callbacks=[mc_callback],\n",
    "          epochs=10,\n",
    "          batch_size=256\n",
    "         )"
   ]
  },
  {
   "cell_type": "code",
   "execution_count": 143,
   "metadata": {
    "colab": {
     "base_uri": "https://localhost:8080/"
    },
    "id": "ZpTEcRR_AOtw",
    "outputId": "3396c12d-680a-469b-f488-456fa0bd08c3"
   },
   "outputs": [
    {
     "name": "stdout",
     "output_type": "stream",
     "text": [
      "[Accuracy] Train: 0.811 Valid: 0.359\n"
     ]
    }
   ],
   "source": [
    "# Load the model and show the final metrics\n",
    "model = keras.models.load_model('model_2.hdf5')\n",
    "\n",
    "# Train and validation metrics\n",
    "_, train_acc = model.evaluate(x_train_norm, y_train, verbose=0)\n",
    "_, valid_acc = model.evaluate(x_valid_norm, y_valid, verbose=0)\n",
    "\n",
    "# Show result\n",
    "print(f'[Accuracy] Train: {round(train_acc, 3)} Valid: {round(valid_acc, 3)}')"
   ]
  },
  {
   "cell_type": "markdown",
   "metadata": {
    "id": "NMv81kCr5SwI"
   },
   "source": [
    "## Modelo #3"
   ]
  },
  {
   "cell_type": "code",
   "execution_count": 144,
   "metadata": {
    "id": "Icu8-Jd85SwJ"
   },
   "outputs": [],
   "source": [
    "# Create the model\n",
    "model = Sequential()\n",
    "model.add(InputLayer(input_shape=(32, 32, 3)))\n",
    "model.add(Conv2D(64, 3))\n",
    "model.add(BatchNormalization())\n",
    "model.add(Activation('relu'))\n",
    "model.add(MaxPooling2D())\n",
    "model.add(Conv2D(128, 3))\n",
    "model.add(BatchNormalization())\n",
    "model.add(Activation('relu'))\n",
    "model.add(MaxPooling2D())\n",
    "model.add(Flatten())\n",
    "model.add(Dense(256))\n",
    "model.add(Dropout(0.8))\n",
    "model.add(BatchNormalization())\n",
    "model.add(Activation('relu'))\n",
    "model.add(Dense(100))\n",
    "model.add(BatchNormalization())\n",
    "model.add(Activation('softmax'))\n",
    "\n",
    "# Compile\n",
    "model.compile(loss='sparse_categorical_crossentropy',\n",
    "              optimizer=Adam(learning_rate=0.001),\n",
    "              metrics=['accuracy']\n",
    "             )"
   ]
  },
  {
   "cell_type": "code",
   "execution_count": 145,
   "metadata": {
    "colab": {
     "base_uri": "https://localhost:8080/"
    },
    "id": "n_MNfIUO5SwM",
    "outputId": "3812074b-e927-4860-8c0d-08d2de381f80"
   },
   "outputs": [
    {
     "name": "stdout",
     "output_type": "stream",
     "text": [
      "Model: \"sequential_24\"\n",
      "_________________________________________________________________\n",
      "Layer (type)                 Output Shape              Param #   \n",
      "=================================================================\n",
      "conv2d_46 (Conv2D)           (None, 30, 30, 64)        1792      \n",
      "_________________________________________________________________\n",
      "batch_normalization_82 (Batc (None, 30, 30, 64)        256       \n",
      "_________________________________________________________________\n",
      "activation_90 (Activation)   (None, 30, 30, 64)        0         \n",
      "_________________________________________________________________\n",
      "max_pooling2d_46 (MaxPooling (None, 15, 15, 64)        0         \n",
      "_________________________________________________________________\n",
      "conv2d_47 (Conv2D)           (None, 13, 13, 128)       73856     \n",
      "_________________________________________________________________\n",
      "batch_normalization_83 (Batc (None, 13, 13, 128)       512       \n",
      "_________________________________________________________________\n",
      "activation_91 (Activation)   (None, 13, 13, 128)       0         \n",
      "_________________________________________________________________\n",
      "max_pooling2d_47 (MaxPooling (None, 6, 6, 128)         0         \n",
      "_________________________________________________________________\n",
      "flatten_23 (Flatten)         (None, 4608)              0         \n",
      "_________________________________________________________________\n",
      "dense_46 (Dense)             (None, 256)               1179904   \n",
      "_________________________________________________________________\n",
      "dropout_14 (Dropout)         (None, 256)               0         \n",
      "_________________________________________________________________\n",
      "batch_normalization_84 (Batc (None, 256)               1024      \n",
      "_________________________________________________________________\n",
      "activation_92 (Activation)   (None, 256)               0         \n",
      "_________________________________________________________________\n",
      "dense_47 (Dense)             (None, 100)               25700     \n",
      "_________________________________________________________________\n",
      "batch_normalization_85 (Batc (None, 100)               400       \n",
      "_________________________________________________________________\n",
      "activation_93 (Activation)   (None, 100)               0         \n",
      "=================================================================\n",
      "Total params: 1,283,444\n",
      "Trainable params: 1,282,348\n",
      "Non-trainable params: 1,096\n",
      "_________________________________________________________________\n"
     ]
    }
   ],
   "source": [
    "model.summary()"
   ]
  },
  {
   "cell_type": "code",
   "execution_count": 146,
   "metadata": {
    "colab": {
     "base_uri": "https://localhost:8080/"
    },
    "id": "RAYVrUNC5SwO",
    "outputId": "9312e33d-4f5c-48b6-e2c5-30ecfde49e14"
   },
   "outputs": [
    {
     "name": "stdout",
     "output_type": "stream",
     "text": [
      "Epoch 1/50\n",
      "157/157 [==============================] - 4s 23ms/step - loss: 4.4555 - accuracy: 0.0415 - val_loss: 4.5944 - val_accuracy: 0.0218\n",
      "Epoch 2/50\n",
      "157/157 [==============================] - 3s 22ms/step - loss: 4.0271 - accuracy: 0.0922 - val_loss: 4.4934 - val_accuracy: 0.0443\n",
      "Epoch 3/50\n",
      "157/157 [==============================] - 3s 22ms/step - loss: 3.8045 - accuracy: 0.1305 - val_loss: 3.9754 - val_accuracy: 0.1023\n",
      "Epoch 4/50\n",
      "157/157 [==============================] - 3s 22ms/step - loss: 3.6145 - accuracy: 0.1651 - val_loss: 3.4532 - val_accuracy: 0.1874\n",
      "Epoch 5/50\n",
      "157/157 [==============================] - 3s 22ms/step - loss: 3.4506 - accuracy: 0.1978 - val_loss: 3.1271 - val_accuracy: 0.2454\n",
      "Epoch 6/50\n",
      "157/157 [==============================] - 3s 22ms/step - loss: 3.3044 - accuracy: 0.2212 - val_loss: 3.1564 - val_accuracy: 0.2441\n",
      "Epoch 7/50\n",
      "157/157 [==============================] - 3s 22ms/step - loss: 3.1943 - accuracy: 0.2414 - val_loss: 2.9541 - val_accuracy: 0.2643\n",
      "Epoch 8/50\n",
      "157/157 [==============================] - 3s 22ms/step - loss: 3.0986 - accuracy: 0.2605 - val_loss: 2.7759 - val_accuracy: 0.3016\n",
      "Epoch 9/50\n",
      "157/157 [==============================] - 3s 22ms/step - loss: 3.0053 - accuracy: 0.2751 - val_loss: 2.7553 - val_accuracy: 0.3095\n",
      "Epoch 10/50\n",
      "157/157 [==============================] - 3s 22ms/step - loss: 2.9260 - accuracy: 0.2894 - val_loss: 2.7908 - val_accuracy: 0.3005\n",
      "Epoch 11/50\n",
      "157/157 [==============================] - 3s 22ms/step - loss: 2.8604 - accuracy: 0.3033 - val_loss: 2.7136 - val_accuracy: 0.3214\n",
      "Epoch 12/50\n",
      "157/157 [==============================] - 3s 22ms/step - loss: 2.7894 - accuracy: 0.3176 - val_loss: 2.9742 - val_accuracy: 0.2761\n",
      "Epoch 13/50\n",
      "157/157 [==============================] - 3s 22ms/step - loss: 2.7243 - accuracy: 0.3243 - val_loss: 2.5770 - val_accuracy: 0.3533\n",
      "Epoch 14/50\n",
      "157/157 [==============================] - 3s 22ms/step - loss: 2.6702 - accuracy: 0.3404 - val_loss: 2.6816 - val_accuracy: 0.3321\n",
      "Epoch 15/50\n",
      "157/157 [==============================] - 3s 22ms/step - loss: 2.6160 - accuracy: 0.3483 - val_loss: 2.4555 - val_accuracy: 0.3808\n",
      "Epoch 16/50\n",
      "157/157 [==============================] - 3s 22ms/step - loss: 2.5591 - accuracy: 0.3661 - val_loss: 2.5981 - val_accuracy: 0.3508\n",
      "Epoch 17/50\n",
      "157/157 [==============================] - 3s 22ms/step - loss: 2.5004 - accuracy: 0.3714 - val_loss: 2.5109 - val_accuracy: 0.3685\n",
      "Epoch 18/50\n",
      "157/157 [==============================] - 3s 22ms/step - loss: 2.4598 - accuracy: 0.3809 - val_loss: 2.6190 - val_accuracy: 0.3520\n",
      "Epoch 19/50\n",
      "157/157 [==============================] - 3s 22ms/step - loss: 2.3973 - accuracy: 0.3914 - val_loss: 2.5755 - val_accuracy: 0.3629\n",
      "Epoch 20/50\n",
      "157/157 [==============================] - 3s 22ms/step - loss: 2.3441 - accuracy: 0.4053 - val_loss: 2.4792 - val_accuracy: 0.3765\n",
      "Epoch 21/50\n",
      "157/157 [==============================] - 3s 22ms/step - loss: 2.2943 - accuracy: 0.4128 - val_loss: 2.4287 - val_accuracy: 0.3873\n",
      "Epoch 22/50\n",
      "157/157 [==============================] - 3s 22ms/step - loss: 2.2518 - accuracy: 0.4243 - val_loss: 2.4593 - val_accuracy: 0.3877\n",
      "Epoch 23/50\n",
      "157/157 [==============================] - 3s 22ms/step - loss: 2.2058 - accuracy: 0.4362 - val_loss: 2.4501 - val_accuracy: 0.3947\n",
      "Epoch 24/50\n",
      "157/157 [==============================] - 3s 22ms/step - loss: 2.1633 - accuracy: 0.4447 - val_loss: 2.4680 - val_accuracy: 0.3854\n",
      "Epoch 25/50\n",
      "157/157 [==============================] - 3s 22ms/step - loss: 2.1125 - accuracy: 0.4568 - val_loss: 2.4902 - val_accuracy: 0.3787\n",
      "Epoch 26/50\n",
      "157/157 [==============================] - 3s 22ms/step - loss: 2.0764 - accuracy: 0.4637 - val_loss: 2.3919 - val_accuracy: 0.4088\n",
      "Epoch 27/50\n",
      "157/157 [==============================] - 3s 22ms/step - loss: 2.0397 - accuracy: 0.4696 - val_loss: 2.4639 - val_accuracy: 0.3986\n",
      "Epoch 28/50\n",
      "157/157 [==============================] - 3s 22ms/step - loss: 1.9942 - accuracy: 0.4817 - val_loss: 2.3763 - val_accuracy: 0.4150\n",
      "Epoch 29/50\n",
      "157/157 [==============================] - 3s 22ms/step - loss: 1.9517 - accuracy: 0.4896 - val_loss: 2.2520 - val_accuracy: 0.4377\n",
      "Epoch 30/50\n",
      "157/157 [==============================] - 3s 22ms/step - loss: 1.9026 - accuracy: 0.5011 - val_loss: 2.4700 - val_accuracy: 0.4044\n",
      "Epoch 31/50\n",
      "157/157 [==============================] - 3s 22ms/step - loss: 1.8811 - accuracy: 0.5066 - val_loss: 2.3281 - val_accuracy: 0.4198\n",
      "Epoch 32/50\n",
      "157/157 [==============================] - 3s 22ms/step - loss: 1.8459 - accuracy: 0.5147 - val_loss: 2.3864 - val_accuracy: 0.4226\n",
      "Epoch 33/50\n",
      "157/157 [==============================] - 3s 22ms/step - loss: 1.8088 - accuracy: 0.5202 - val_loss: 2.5878 - val_accuracy: 0.3941\n",
      "Epoch 34/50\n",
      "157/157 [==============================] - 3s 22ms/step - loss: 1.7699 - accuracy: 0.5328 - val_loss: 2.4695 - val_accuracy: 0.4149\n",
      "Epoch 35/50\n",
      "157/157 [==============================] - 3s 22ms/step - loss: 1.7477 - accuracy: 0.5351 - val_loss: 2.7731 - val_accuracy: 0.3806\n",
      "Epoch 36/50\n",
      "157/157 [==============================] - 3s 22ms/step - loss: 1.7040 - accuracy: 0.5465 - val_loss: 2.6924 - val_accuracy: 0.3848\n",
      "Epoch 37/50\n",
      "157/157 [==============================] - 3s 22ms/step - loss: 1.6890 - accuracy: 0.5482 - val_loss: 2.3631 - val_accuracy: 0.4370\n",
      "Epoch 38/50\n",
      "157/157 [==============================] - 3s 22ms/step - loss: 1.6413 - accuracy: 0.5594 - val_loss: 2.9509 - val_accuracy: 0.3579\n",
      "Epoch 39/50\n",
      "157/157 [==============================] - 3s 22ms/step - loss: 1.6213 - accuracy: 0.5637 - val_loss: 2.5092 - val_accuracy: 0.4133\n",
      "Epoch 40/50\n",
      "157/157 [==============================] - 3s 22ms/step - loss: 1.5953 - accuracy: 0.5685 - val_loss: 2.3809 - val_accuracy: 0.4459\n",
      "Epoch 41/50\n",
      "157/157 [==============================] - 3s 22ms/step - loss: 1.5645 - accuracy: 0.5765 - val_loss: 2.4194 - val_accuracy: 0.4326\n",
      "Epoch 42/50\n",
      "157/157 [==============================] - 3s 22ms/step - loss: 1.5474 - accuracy: 0.5795 - val_loss: 2.4964 - val_accuracy: 0.4340\n",
      "Epoch 43/50\n",
      "157/157 [==============================] - 3s 22ms/step - loss: 1.5204 - accuracy: 0.5856 - val_loss: 2.4072 - val_accuracy: 0.4347\n",
      "Epoch 44/50\n",
      "157/157 [==============================] - 3s 22ms/step - loss: 1.4831 - accuracy: 0.5964 - val_loss: 2.4127 - val_accuracy: 0.4350\n",
      "Epoch 45/50\n",
      "157/157 [==============================] - 3s 22ms/step - loss: 1.4607 - accuracy: 0.6000 - val_loss: 2.5519 - val_accuracy: 0.4232\n",
      "Epoch 46/50\n",
      "157/157 [==============================] - 3s 22ms/step - loss: 1.4412 - accuracy: 0.6050 - val_loss: 2.5999 - val_accuracy: 0.4300\n",
      "Epoch 47/50\n",
      "157/157 [==============================] - 3s 22ms/step - loss: 1.4194 - accuracy: 0.6116 - val_loss: 2.7207 - val_accuracy: 0.4113\n",
      "Epoch 48/50\n",
      "157/157 [==============================] - 3s 22ms/step - loss: 1.3908 - accuracy: 0.6176 - val_loss: 2.5725 - val_accuracy: 0.4375\n",
      "Epoch 49/50\n",
      "157/157 [==============================] - 3s 22ms/step - loss: 1.3662 - accuracy: 0.6236 - val_loss: 2.5777 - val_accuracy: 0.4277\n",
      "Epoch 50/50\n",
      "157/157 [==============================] - 3s 22ms/step - loss: 1.3539 - accuracy: 0.6280 - val_loss: 2.5476 - val_accuracy: 0.4260\n"
     ]
    },
    {
     "data": {
      "text/plain": [
       "<tensorflow.python.keras.callbacks.History at 0x7fe6150ea050>"
      ]
     },
     "execution_count": 146,
     "metadata": {
      "tags": []
     },
     "output_type": "execute_result"
    }
   ],
   "source": [
    "# Create the ModelCheckpoint callback to save the best model during training\n",
    "mc_callback = ModelCheckpoint('model_3.hdf5',\n",
    "                              monitor='val_accuracy',\n",
    "                              save_best_only=True,\n",
    "                              verbose=0,\n",
    "                              mode='max'\n",
    "                             )\n",
    "\n",
    "# Train the model\n",
    "model.fit(x_train_norm, y_train,\n",
    "          validation_data=(x_valid_norm, y_valid),\n",
    "          callbacks=[mc_callback],\n",
    "          epochs=50,\n",
    "          batch_size=256\n",
    "         )"
   ]
  },
  {
   "cell_type": "code",
   "execution_count": 147,
   "metadata": {
    "colab": {
     "base_uri": "https://localhost:8080/"
    },
    "id": "XK_-YOsqATko",
    "outputId": "6ee3d64b-44fe-4ca2-ab2c-a38678086945"
   },
   "outputs": [
    {
     "name": "stdout",
     "output_type": "stream",
     "text": [
      "[Accuracy] Train: 0.715 Valid: 0.446\n"
     ]
    }
   ],
   "source": [
    "# Load the model and show the final metrics\n",
    "model = keras.models.load_model('model_3.hdf5')\n",
    "\n",
    "# Train and validation metrics\n",
    "_, train_acc = model.evaluate(x_train_norm, y_train, verbose=0)\n",
    "_, valid_acc = model.evaluate(x_valid_norm, y_valid, verbose=0)\n",
    "\n",
    "# Show result\n",
    "print(f'[Accuracy] Train: {round(train_acc, 3)} Valid: {round(valid_acc, 3)}')"
   ]
  },
  {
   "cell_type": "markdown",
   "metadata": {
    "id": "Bfc0P8_hExpw"
   },
   "source": [
    "## Modelo #4"
   ]
  },
  {
   "cell_type": "code",
   "execution_count": 200,
   "metadata": {
    "id": "9Y1ExZbQExp5"
   },
   "outputs": [],
   "source": [
    "# Create the model\n",
    "model = Sequential()\n",
    "model.add(InputLayer(input_shape=(32, 32, 3)))\n",
    "model.add(Conv2D(32, 3))\n",
    "model.add(BatchNormalization())\n",
    "model.add(Activation('relu'))\n",
    "model.add(MaxPooling2D())\n",
    "model.add(Conv2D(64, 3))\n",
    "model.add(BatchNormalization())\n",
    "model.add(Activation('relu'))\n",
    "model.add(MaxPooling2D())\n",
    "model.add(Flatten())\n",
    "model.add(Dense(256))\n",
    "model.add(Dropout(0.75))\n",
    "model.add(BatchNormalization())\n",
    "model.add(Activation('relu'))\n",
    "model.add(Dense(100))\n",
    "model.add(BatchNormalization())\n",
    "model.add(Activation('softmax'))\n",
    "\n",
    "# Compile\n",
    "model.compile(loss='sparse_categorical_crossentropy',\n",
    "              optimizer=Adam(learning_rate=0.001),\n",
    "              metrics=['accuracy']\n",
    "             )"
   ]
  },
  {
   "cell_type": "code",
   "execution_count": 201,
   "metadata": {
    "colab": {
     "base_uri": "https://localhost:8080/"
    },
    "id": "cTG36FBQExqB",
    "outputId": "f93304c1-0527-4a8d-8c32-86eb2b241cd1"
   },
   "outputs": [
    {
     "name": "stdout",
     "output_type": "stream",
     "text": [
      "Model: \"sequential_42\"\n",
      "_________________________________________________________________\n",
      "Layer (type)                 Output Shape              Param #   \n",
      "=================================================================\n",
      "conv2d_86 (Conv2D)           (None, 30, 30, 32)        896       \n",
      "_________________________________________________________________\n",
      "batch_normalization_158 (Bat (None, 30, 30, 32)        128       \n",
      "_________________________________________________________________\n",
      "activation_166 (Activation)  (None, 30, 30, 32)        0         \n",
      "_________________________________________________________________\n",
      "max_pooling2d_86 (MaxPooling (None, 15, 15, 32)        0         \n",
      "_________________________________________________________________\n",
      "conv2d_87 (Conv2D)           (None, 13, 13, 64)        18496     \n",
      "_________________________________________________________________\n",
      "batch_normalization_159 (Bat (None, 13, 13, 64)        256       \n",
      "_________________________________________________________________\n",
      "activation_167 (Activation)  (None, 13, 13, 64)        0         \n",
      "_________________________________________________________________\n",
      "max_pooling2d_87 (MaxPooling (None, 6, 6, 64)          0         \n",
      "_________________________________________________________________\n",
      "flatten_41 (Flatten)         (None, 2304)              0         \n",
      "_________________________________________________________________\n",
      "dense_82 (Dense)             (None, 256)               590080    \n",
      "_________________________________________________________________\n",
      "dropout_29 (Dropout)         (None, 256)               0         \n",
      "_________________________________________________________________\n",
      "batch_normalization_160 (Bat (None, 256)               1024      \n",
      "_________________________________________________________________\n",
      "activation_168 (Activation)  (None, 256)               0         \n",
      "_________________________________________________________________\n",
      "dense_83 (Dense)             (None, 100)               25700     \n",
      "_________________________________________________________________\n",
      "batch_normalization_161 (Bat (None, 100)               400       \n",
      "_________________________________________________________________\n",
      "activation_169 (Activation)  (None, 100)               0         \n",
      "=================================================================\n",
      "Total params: 636,980\n",
      "Trainable params: 636,076\n",
      "Non-trainable params: 904\n",
      "_________________________________________________________________\n"
     ]
    }
   ],
   "source": [
    "model.summary()"
   ]
  },
  {
   "cell_type": "code",
   "execution_count": 202,
   "metadata": {
    "colab": {
     "base_uri": "https://localhost:8080/"
    },
    "id": "Trcrr49fExqF",
    "outputId": "167c8cb8-deda-47bf-b944-e075af0c1feb"
   },
   "outputs": [
    {
     "name": "stdout",
     "output_type": "stream",
     "text": [
      "Epoch 1/30\n",
      "157/157 [==============================] - 3s 15ms/step - loss: 4.3646 - accuracy: 0.0524 - val_loss: 4.5750 - val_accuracy: 0.0246\n",
      "Epoch 2/30\n",
      "157/157 [==============================] - 2s 13ms/step - loss: 3.9047 - accuracy: 0.1113 - val_loss: 4.4343 - val_accuracy: 0.0337\n",
      "Epoch 3/30\n",
      "157/157 [==============================] - 2s 13ms/step - loss: 3.6633 - accuracy: 0.1561 - val_loss: 3.7831 - val_accuracy: 0.1303\n",
      "Epoch 4/30\n",
      "157/157 [==============================] - 2s 13ms/step - loss: 3.4609 - accuracy: 0.1944 - val_loss: 3.2006 - val_accuracy: 0.2525\n",
      "Epoch 5/30\n",
      "157/157 [==============================] - 2s 13ms/step - loss: 3.2995 - accuracy: 0.2289 - val_loss: 3.0725 - val_accuracy: 0.2646\n",
      "Epoch 6/30\n",
      "157/157 [==============================] - 2s 14ms/step - loss: 3.1633 - accuracy: 0.2526 - val_loss: 3.0172 - val_accuracy: 0.2657\n",
      "Epoch 7/30\n",
      "157/157 [==============================] - 2s 13ms/step - loss: 3.0557 - accuracy: 0.2714 - val_loss: 2.9054 - val_accuracy: 0.2853\n",
      "Epoch 8/30\n",
      "157/157 [==============================] - 2s 13ms/step - loss: 2.9647 - accuracy: 0.2906 - val_loss: 2.7833 - val_accuracy: 0.3032\n",
      "Epoch 9/30\n",
      "157/157 [==============================] - 2s 13ms/step - loss: 2.8878 - accuracy: 0.3022 - val_loss: 2.7084 - val_accuracy: 0.3308\n",
      "Epoch 10/30\n",
      "157/157 [==============================] - 2s 14ms/step - loss: 2.8092 - accuracy: 0.3158 - val_loss: 2.7236 - val_accuracy: 0.3292\n",
      "Epoch 11/30\n",
      "157/157 [==============================] - 2s 13ms/step - loss: 2.7471 - accuracy: 0.3274 - val_loss: 2.7277 - val_accuracy: 0.3207\n",
      "Epoch 12/30\n",
      "157/157 [==============================] - 2s 13ms/step - loss: 2.6865 - accuracy: 0.3381 - val_loss: 2.6604 - val_accuracy: 0.3409\n",
      "Epoch 13/30\n",
      "157/157 [==============================] - 2s 13ms/step - loss: 2.6282 - accuracy: 0.3506 - val_loss: 2.7796 - val_accuracy: 0.3105\n",
      "Epoch 14/30\n",
      "157/157 [==============================] - 2s 13ms/step - loss: 2.5768 - accuracy: 0.3632 - val_loss: 2.5977 - val_accuracy: 0.3516\n",
      "Epoch 15/30\n",
      "157/157 [==============================] - 2s 13ms/step - loss: 2.5375 - accuracy: 0.3651 - val_loss: 2.7968 - val_accuracy: 0.3203\n",
      "Epoch 16/30\n",
      "157/157 [==============================] - 2s 13ms/step - loss: 2.4949 - accuracy: 0.3753 - val_loss: 2.7546 - val_accuracy: 0.3277\n",
      "Epoch 17/30\n",
      "157/157 [==============================] - 2s 13ms/step - loss: 2.4443 - accuracy: 0.3855 - val_loss: 2.6812 - val_accuracy: 0.3385\n",
      "Epoch 18/30\n",
      "157/157 [==============================] - 2s 13ms/step - loss: 2.4011 - accuracy: 0.3951 - val_loss: 2.5559 - val_accuracy: 0.3696\n",
      "Epoch 19/30\n",
      "157/157 [==============================] - 2s 13ms/step - loss: 2.3683 - accuracy: 0.4008 - val_loss: 2.5118 - val_accuracy: 0.3800\n",
      "Epoch 20/30\n",
      "157/157 [==============================] - 2s 13ms/step - loss: 2.3216 - accuracy: 0.4111 - val_loss: 2.5357 - val_accuracy: 0.3713\n",
      "Epoch 21/30\n",
      "157/157 [==============================] - 2s 13ms/step - loss: 2.2887 - accuracy: 0.4147 - val_loss: 2.5457 - val_accuracy: 0.3724\n",
      "Epoch 22/30\n",
      "157/157 [==============================] - 2s 13ms/step - loss: 2.2534 - accuracy: 0.4230 - val_loss: 2.5630 - val_accuracy: 0.3714\n",
      "Epoch 23/30\n",
      "157/157 [==============================] - 2s 13ms/step - loss: 2.2167 - accuracy: 0.4308 - val_loss: 2.6441 - val_accuracy: 0.3614\n",
      "Epoch 24/30\n",
      "157/157 [==============================] - 2s 13ms/step - loss: 2.1824 - accuracy: 0.4366 - val_loss: 2.8318 - val_accuracy: 0.3398\n",
      "Epoch 25/30\n",
      "157/157 [==============================] - 2s 13ms/step - loss: 2.1520 - accuracy: 0.4461 - val_loss: 2.6049 - val_accuracy: 0.3690\n",
      "Epoch 26/30\n",
      "157/157 [==============================] - 2s 13ms/step - loss: 2.1339 - accuracy: 0.4475 - val_loss: 2.7815 - val_accuracy: 0.3477\n",
      "Epoch 27/30\n",
      "157/157 [==============================] - 2s 13ms/step - loss: 2.0974 - accuracy: 0.4591 - val_loss: 2.6293 - val_accuracy: 0.3794\n",
      "Epoch 28/30\n",
      "157/157 [==============================] - 2s 13ms/step - loss: 2.0675 - accuracy: 0.4624 - val_loss: 2.5440 - val_accuracy: 0.3912\n",
      "Epoch 29/30\n",
      "157/157 [==============================] - 2s 13ms/step - loss: 2.0458 - accuracy: 0.4684 - val_loss: 2.6857 - val_accuracy: 0.3635\n",
      "Epoch 30/30\n",
      "157/157 [==============================] - 2s 13ms/step - loss: 2.0135 - accuracy: 0.4735 - val_loss: 2.5692 - val_accuracy: 0.3905\n"
     ]
    },
    {
     "data": {
      "text/plain": [
       "<tensorflow.python.keras.callbacks.History at 0x7fe600bf8590>"
      ]
     },
     "execution_count": 202,
     "metadata": {
      "tags": []
     },
     "output_type": "execute_result"
    }
   ],
   "source": [
    "# Create the ModelCheckpoint callback to save the best model during training\n",
    "mc_callback = ModelCheckpoint('model_4.hdf5',\n",
    "                              monitor='val_accuracy',\n",
    "                              save_best_only=True,\n",
    "                              verbose=0,\n",
    "                              mode='max'\n",
    "                             )\n",
    "\n",
    "# Train the model\n",
    "model.fit(x_train_norm, y_train,\n",
    "          validation_data=(x_valid_norm, y_valid),\n",
    "          callbacks=[mc_callback],\n",
    "          epochs=30,\n",
    "          batch_size=256\n",
    "         )"
   ]
  },
  {
   "cell_type": "code",
   "execution_count": 203,
   "metadata": {
    "colab": {
     "base_uri": "https://localhost:8080/"
    },
    "id": "o1L0aFrBExqI",
    "outputId": "91a73574-18d3-4323-af07-3d58c2bf43a3"
   },
   "outputs": [
    {
     "name": "stdout",
     "output_type": "stream",
     "text": [
      "[Accuracy] Train: 0.536 Valid: 0.391\n"
     ]
    }
   ],
   "source": [
    "# Load the model and show the final metrics\n",
    "model = keras.models.load_model('model_4.hdf5')\n",
    "\n",
    "# Train and validation metrics\n",
    "_, train_acc = model.evaluate(x_train_norm, y_train, verbose=0)\n",
    "_, valid_acc = model.evaluate(x_valid_norm, y_valid, verbose=0)\n",
    "\n",
    "# Show result\n",
    "print(f'[Accuracy] Train: {round(train_acc, 3)} Valid: {round(valid_acc, 3)}')"
   ]
  },
  {
   "cell_type": "markdown",
   "metadata": {
    "id": "C4NDwtABKNwg"
   },
   "source": [
    "## Modelo #5"
   ]
  },
  {
   "cell_type": "code",
   "execution_count": 207,
   "metadata": {
    "id": "N7R6fvU4KNwo"
   },
   "outputs": [],
   "source": [
    "# Create the model\n",
    "model = Sequential()\n",
    "model.add(InputLayer(input_shape=(32, 32, 3)))\n",
    "model.add(Conv2D(32, 3))\n",
    "model.add(BatchNormalization())\n",
    "model.add(Activation('relu'))\n",
    "model.add(AveragePooling2D())\n",
    "model.add(Conv2D(64, 3))\n",
    "model.add(BatchNormalization())\n",
    "model.add(Activation('relu'))\n",
    "model.add(AveragePooling2D())\n",
    "model.add(Flatten())\n",
    "model.add(Dense(256))\n",
    "model.add(Dropout(0.75))\n",
    "model.add(BatchNormalization())\n",
    "model.add(Activation('relu'))\n",
    "model.add(Dense(100))\n",
    "model.add(BatchNormalization())\n",
    "model.add(Activation('softmax'))\n",
    "\n",
    "# Compile\n",
    "model.compile(loss='sparse_categorical_crossentropy',\n",
    "              optimizer=Adam(learning_rate=0.001),\n",
    "              metrics=['accuracy']\n",
    "             )"
   ]
  },
  {
   "cell_type": "code",
   "execution_count": 208,
   "metadata": {
    "colab": {
     "base_uri": "https://localhost:8080/"
    },
    "id": "5kjFsNC8KNww",
    "outputId": "fec4305b-f36c-4731-8b26-b694b9307f95"
   },
   "outputs": [
    {
     "name": "stdout",
     "output_type": "stream",
     "text": [
      "Model: \"sequential_44\"\n",
      "_________________________________________________________________\n",
      "Layer (type)                 Output Shape              Param #   \n",
      "=================================================================\n",
      "conv2d_89 (Conv2D)           (None, 30, 30, 32)        896       \n",
      "_________________________________________________________________\n",
      "batch_normalization_163 (Bat (None, 30, 30, 32)        128       \n",
      "_________________________________________________________________\n",
      "activation_171 (Activation)  (None, 30, 30, 32)        0         \n",
      "_________________________________________________________________\n",
      "average_pooling2d (AveragePo (None, 15, 15, 32)        0         \n",
      "_________________________________________________________________\n",
      "conv2d_90 (Conv2D)           (None, 13, 13, 64)        18496     \n",
      "_________________________________________________________________\n",
      "batch_normalization_164 (Bat (None, 13, 13, 64)        256       \n",
      "_________________________________________________________________\n",
      "activation_172 (Activation)  (None, 13, 13, 64)        0         \n",
      "_________________________________________________________________\n",
      "average_pooling2d_1 (Average (None, 6, 6, 64)          0         \n",
      "_________________________________________________________________\n",
      "flatten_42 (Flatten)         (None, 2304)              0         \n",
      "_________________________________________________________________\n",
      "dense_84 (Dense)             (None, 256)               590080    \n",
      "_________________________________________________________________\n",
      "dropout_30 (Dropout)         (None, 256)               0         \n",
      "_________________________________________________________________\n",
      "batch_normalization_165 (Bat (None, 256)               1024      \n",
      "_________________________________________________________________\n",
      "activation_173 (Activation)  (None, 256)               0         \n",
      "_________________________________________________________________\n",
      "dense_85 (Dense)             (None, 100)               25700     \n",
      "_________________________________________________________________\n",
      "batch_normalization_166 (Bat (None, 100)               400       \n",
      "_________________________________________________________________\n",
      "activation_174 (Activation)  (None, 100)               0         \n",
      "=================================================================\n",
      "Total params: 636,980\n",
      "Trainable params: 636,076\n",
      "Non-trainable params: 904\n",
      "_________________________________________________________________\n"
     ]
    }
   ],
   "source": [
    "model.summary()"
   ]
  },
  {
   "cell_type": "code",
   "execution_count": 209,
   "metadata": {
    "colab": {
     "base_uri": "https://localhost:8080/"
    },
    "id": "jlNwZrGSKNw4",
    "outputId": "38f82128-aef0-4e3c-a341-5f8830780e84"
   },
   "outputs": [
    {
     "name": "stdout",
     "output_type": "stream",
     "text": [
      "Epoch 1/30\n",
      "157/157 [==============================] - 3s 15ms/step - loss: 4.3372 - accuracy: 0.0567 - val_loss: 4.5337 - val_accuracy: 0.0256\n",
      "Epoch 2/30\n",
      "157/157 [==============================] - 2s 13ms/step - loss: 3.9092 - accuracy: 0.1160 - val_loss: 4.3663 - val_accuracy: 0.0476\n",
      "Epoch 3/30\n",
      "157/157 [==============================] - 2s 13ms/step - loss: 3.6974 - accuracy: 0.1534 - val_loss: 3.7651 - val_accuracy: 0.1348\n",
      "Epoch 4/30\n",
      "157/157 [==============================] - 2s 13ms/step - loss: 3.5191 - accuracy: 0.1868 - val_loss: 3.2847 - val_accuracy: 0.2306\n",
      "Epoch 5/30\n",
      "157/157 [==============================] - 2s 13ms/step - loss: 3.3778 - accuracy: 0.2128 - val_loss: 3.0405 - val_accuracy: 0.2607\n",
      "Epoch 6/30\n",
      "157/157 [==============================] - 2s 13ms/step - loss: 3.2477 - accuracy: 0.2349 - val_loss: 3.0744 - val_accuracy: 0.2631\n",
      "Epoch 7/30\n",
      "157/157 [==============================] - 2s 13ms/step - loss: 3.1319 - accuracy: 0.2579 - val_loss: 3.0642 - val_accuracy: 0.2503\n",
      "Epoch 8/30\n",
      "157/157 [==============================] - 2s 13ms/step - loss: 3.0409 - accuracy: 0.2727 - val_loss: 3.4702 - val_accuracy: 0.1942\n",
      "Epoch 9/30\n",
      "157/157 [==============================] - 2s 13ms/step - loss: 2.9413 - accuracy: 0.2924 - val_loss: 2.7493 - val_accuracy: 0.3102\n",
      "Epoch 10/30\n",
      "157/157 [==============================] - 2s 13ms/step - loss: 2.8739 - accuracy: 0.3035 - val_loss: 2.8723 - val_accuracy: 0.2951\n",
      "Epoch 11/30\n",
      "157/157 [==============================] - 2s 13ms/step - loss: 2.7899 - accuracy: 0.3187 - val_loss: 2.6832 - val_accuracy: 0.3322\n",
      "Epoch 12/30\n",
      "157/157 [==============================] - 2s 13ms/step - loss: 2.7336 - accuracy: 0.3314 - val_loss: 2.6971 - val_accuracy: 0.3233\n",
      "Epoch 13/30\n",
      "157/157 [==============================] - 2s 13ms/step - loss: 2.6763 - accuracy: 0.3414 - val_loss: 2.6316 - val_accuracy: 0.3381\n",
      "Epoch 14/30\n",
      "157/157 [==============================] - 2s 14ms/step - loss: 2.6213 - accuracy: 0.3530 - val_loss: 2.7727 - val_accuracy: 0.3242\n",
      "Epoch 15/30\n",
      "157/157 [==============================] - 2s 13ms/step - loss: 2.5728 - accuracy: 0.3616 - val_loss: 2.6101 - val_accuracy: 0.3530\n",
      "Epoch 16/30\n",
      "157/157 [==============================] - 2s 13ms/step - loss: 2.5223 - accuracy: 0.3690 - val_loss: 2.9193 - val_accuracy: 0.3079\n",
      "Epoch 17/30\n",
      "157/157 [==============================] - 2s 13ms/step - loss: 2.4891 - accuracy: 0.3755 - val_loss: 3.1785 - val_accuracy: 0.2778\n",
      "Epoch 18/30\n",
      "157/157 [==============================] - 2s 13ms/step - loss: 2.4376 - accuracy: 0.3884 - val_loss: 2.6719 - val_accuracy: 0.3631\n",
      "Epoch 19/30\n",
      "157/157 [==============================] - 2s 13ms/step - loss: 2.3966 - accuracy: 0.3929 - val_loss: 2.5776 - val_accuracy: 0.3617\n",
      "Epoch 20/30\n",
      "157/157 [==============================] - 2s 13ms/step - loss: 2.3634 - accuracy: 0.4043 - val_loss: 2.7250 - val_accuracy: 0.3566\n",
      "Epoch 21/30\n",
      "157/157 [==============================] - 2s 13ms/step - loss: 2.3233 - accuracy: 0.4141 - val_loss: 2.4040 - val_accuracy: 0.4020\n",
      "Epoch 22/30\n",
      "157/157 [==============================] - 2s 13ms/step - loss: 2.2897 - accuracy: 0.4160 - val_loss: 2.8952 - val_accuracy: 0.3414\n",
      "Epoch 23/30\n",
      "157/157 [==============================] - 2s 13ms/step - loss: 2.2508 - accuracy: 0.4241 - val_loss: 2.4273 - val_accuracy: 0.3982\n",
      "Epoch 24/30\n",
      "157/157 [==============================] - 2s 13ms/step - loss: 2.2119 - accuracy: 0.4309 - val_loss: 2.6578 - val_accuracy: 0.3727\n",
      "Epoch 25/30\n",
      "157/157 [==============================] - 2s 13ms/step - loss: 2.1927 - accuracy: 0.4375 - val_loss: 2.3920 - val_accuracy: 0.4129\n",
      "Epoch 26/30\n",
      "157/157 [==============================] - 2s 13ms/step - loss: 2.1660 - accuracy: 0.4421 - val_loss: 2.5451 - val_accuracy: 0.3883\n",
      "Epoch 27/30\n",
      "157/157 [==============================] - 2s 14ms/step - loss: 2.1258 - accuracy: 0.4518 - val_loss: 3.1261 - val_accuracy: 0.3249\n",
      "Epoch 28/30\n",
      "157/157 [==============================] - 2s 13ms/step - loss: 2.1108 - accuracy: 0.4538 - val_loss: 2.5064 - val_accuracy: 0.3924\n",
      "Epoch 29/30\n",
      "157/157 [==============================] - 2s 13ms/step - loss: 2.0703 - accuracy: 0.4617 - val_loss: 2.8505 - val_accuracy: 0.3457\n",
      "Epoch 30/30\n",
      "157/157 [==============================] - 2s 14ms/step - loss: 2.0551 - accuracy: 0.4670 - val_loss: 2.8986 - val_accuracy: 0.3552\n"
     ]
    },
    {
     "data": {
      "text/plain": [
       "<tensorflow.python.keras.callbacks.History at 0x7fe5fd6eb950>"
      ]
     },
     "execution_count": 209,
     "metadata": {
      "tags": []
     },
     "output_type": "execute_result"
    }
   ],
   "source": [
    "# Create the ModelCheckpoint callback to save the best model during training\n",
    "mc_callback = ModelCheckpoint('model_5.hdf5',\n",
    "                              monitor='val_accuracy',\n",
    "                              save_best_only=True,\n",
    "                              verbose=0,\n",
    "                              mode='max'\n",
    "                             )\n",
    "\n",
    "# Train the model\n",
    "model.fit(x_train_norm, y_train,\n",
    "          validation_data=(x_valid_norm, y_valid),\n",
    "          callbacks=[mc_callback],\n",
    "          epochs=30,\n",
    "          batch_size=256\n",
    "         )"
   ]
  },
  {
   "cell_type": "code",
   "execution_count": 210,
   "metadata": {
    "colab": {
     "base_uri": "https://localhost:8080/"
    },
    "id": "fmnlfAjEKNw9",
    "outputId": "b785143a-840d-4f54-f6a1-16db11344dc2"
   },
   "outputs": [
    {
     "name": "stdout",
     "output_type": "stream",
     "text": [
      "[Accuracy] Train: 0.523 Valid: 0.413\n"
     ]
    }
   ],
   "source": [
    "# Load the model and show the final metrics\n",
    "model = keras.models.load_model('model_5.hdf5')\n",
    "\n",
    "# Train and validation metrics\n",
    "_, train_acc = model.evaluate(x_train_norm, y_train, verbose=0)\n",
    "_, valid_acc = model.evaluate(x_valid_norm, y_valid, verbose=0)\n",
    "\n",
    "# Show result\n",
    "print(f'[Accuracy] Train: {round(train_acc, 3)} Valid: {round(valid_acc, 3)}')"
   ]
  },
  {
   "cell_type": "markdown",
   "metadata": {
    "id": "eLCVcRfyLTux"
   },
   "source": [
    "## Modelo #6"
   ]
  },
  {
   "cell_type": "code",
   "execution_count": 211,
   "metadata": {
    "id": "S0qbHKlNLTu1"
   },
   "outputs": [],
   "source": [
    "# Create the model\n",
    "model = Sequential()\n",
    "model.add(InputLayer(input_shape=(32, 32, 3)))\n",
    "model.add(Conv2D(64, 3))\n",
    "model.add(BatchNormalization())\n",
    "model.add(Activation('relu'))\n",
    "model.add(AveragePooling2D())\n",
    "model.add(Conv2D(128, 3))\n",
    "model.add(BatchNormalization())\n",
    "model.add(Activation('relu'))\n",
    "model.add(AveragePooling2D())\n",
    "model.add(Flatten())\n",
    "model.add(Dense(256))\n",
    "model.add(Dropout(0.8))\n",
    "model.add(BatchNormalization())\n",
    "model.add(Activation('relu'))\n",
    "model.add(Dense(100))\n",
    "model.add(BatchNormalization())\n",
    "model.add(Activation('softmax'))\n",
    "\n",
    "# Compile\n",
    "model.compile(loss='sparse_categorical_crossentropy',\n",
    "              optimizer=Adam(learning_rate=0.001),\n",
    "              metrics=['accuracy']\n",
    "             )"
   ]
  },
  {
   "cell_type": "code",
   "execution_count": 212,
   "metadata": {
    "colab": {
     "base_uri": "https://localhost:8080/"
    },
    "id": "RlEXuTxULTu9",
    "outputId": "7c0fa4b5-b29f-4e21-af63-109988e078bb"
   },
   "outputs": [
    {
     "name": "stdout",
     "output_type": "stream",
     "text": [
      "Model: \"sequential_45\"\n",
      "_________________________________________________________________\n",
      "Layer (type)                 Output Shape              Param #   \n",
      "=================================================================\n",
      "conv2d_91 (Conv2D)           (None, 30, 30, 64)        1792      \n",
      "_________________________________________________________________\n",
      "batch_normalization_167 (Bat (None, 30, 30, 64)        256       \n",
      "_________________________________________________________________\n",
      "activation_175 (Activation)  (None, 30, 30, 64)        0         \n",
      "_________________________________________________________________\n",
      "average_pooling2d_2 (Average (None, 15, 15, 64)        0         \n",
      "_________________________________________________________________\n",
      "conv2d_92 (Conv2D)           (None, 13, 13, 128)       73856     \n",
      "_________________________________________________________________\n",
      "batch_normalization_168 (Bat (None, 13, 13, 128)       512       \n",
      "_________________________________________________________________\n",
      "activation_176 (Activation)  (None, 13, 13, 128)       0         \n",
      "_________________________________________________________________\n",
      "average_pooling2d_3 (Average (None, 6, 6, 128)         0         \n",
      "_________________________________________________________________\n",
      "flatten_43 (Flatten)         (None, 4608)              0         \n",
      "_________________________________________________________________\n",
      "dense_86 (Dense)             (None, 256)               1179904   \n",
      "_________________________________________________________________\n",
      "dropout_31 (Dropout)         (None, 256)               0         \n",
      "_________________________________________________________________\n",
      "batch_normalization_169 (Bat (None, 256)               1024      \n",
      "_________________________________________________________________\n",
      "activation_177 (Activation)  (None, 256)               0         \n",
      "_________________________________________________________________\n",
      "dense_87 (Dense)             (None, 100)               25700     \n",
      "_________________________________________________________________\n",
      "batch_normalization_170 (Bat (None, 100)               400       \n",
      "_________________________________________________________________\n",
      "activation_178 (Activation)  (None, 100)               0         \n",
      "=================================================================\n",
      "Total params: 1,283,444\n",
      "Trainable params: 1,282,348\n",
      "Non-trainable params: 1,096\n",
      "_________________________________________________________________\n"
     ]
    }
   ],
   "source": [
    "model.summary()"
   ]
  },
  {
   "cell_type": "code",
   "execution_count": 213,
   "metadata": {
    "colab": {
     "base_uri": "https://localhost:8080/"
    },
    "id": "C-n3DebjLTvB",
    "outputId": "3b53b511-a4b9-4220-af02-a25791e5b307"
   },
   "outputs": [
    {
     "name": "stdout",
     "output_type": "stream",
     "text": [
      "Epoch 1/50\n",
      "157/157 [==============================] - 4s 23ms/step - loss: 4.4469 - accuracy: 0.0424 - val_loss: 4.5760 - val_accuracy: 0.0192\n",
      "Epoch 2/50\n",
      "157/157 [==============================] - 3s 22ms/step - loss: 4.0226 - accuracy: 0.0933 - val_loss: 4.4868 - val_accuracy: 0.0266\n",
      "Epoch 3/50\n",
      "157/157 [==============================] - 3s 22ms/step - loss: 3.8140 - accuracy: 0.1297 - val_loss: 4.0421 - val_accuracy: 0.0872\n",
      "Epoch 4/50\n",
      "157/157 [==============================] - 3s 22ms/step - loss: 3.6372 - accuracy: 0.1629 - val_loss: 3.3953 - val_accuracy: 0.2027\n",
      "Epoch 5/50\n",
      "157/157 [==============================] - 3s 22ms/step - loss: 3.4747 - accuracy: 0.1942 - val_loss: 3.0838 - val_accuracy: 0.2559\n",
      "Epoch 6/50\n",
      "157/157 [==============================] - 3s 22ms/step - loss: 3.3367 - accuracy: 0.2168 - val_loss: 2.9516 - val_accuracy: 0.2725\n",
      "Epoch 7/50\n",
      "157/157 [==============================] - 3s 22ms/step - loss: 3.2162 - accuracy: 0.2412 - val_loss: 3.2602 - val_accuracy: 0.2267\n",
      "Epoch 8/50\n",
      "157/157 [==============================] - 3s 22ms/step - loss: 3.1200 - accuracy: 0.2559 - val_loss: 3.0447 - val_accuracy: 0.2502\n",
      "Epoch 9/50\n",
      "157/157 [==============================] - 3s 22ms/step - loss: 3.0308 - accuracy: 0.2702 - val_loss: 2.9544 - val_accuracy: 0.2866\n",
      "Epoch 10/50\n",
      "157/157 [==============================] - 3s 22ms/step - loss: 2.9424 - accuracy: 0.2905 - val_loss: 3.1523 - val_accuracy: 0.2589\n",
      "Epoch 11/50\n",
      "157/157 [==============================] - 3s 22ms/step - loss: 2.8849 - accuracy: 0.3005 - val_loss: 2.8513 - val_accuracy: 0.2950\n",
      "Epoch 12/50\n",
      "157/157 [==============================] - 3s 22ms/step - loss: 2.8174 - accuracy: 0.3156 - val_loss: 2.7234 - val_accuracy: 0.3143\n",
      "Epoch 13/50\n",
      "157/157 [==============================] - 3s 22ms/step - loss: 2.7522 - accuracy: 0.3263 - val_loss: 2.5083 - val_accuracy: 0.3626\n",
      "Epoch 14/50\n",
      "157/157 [==============================] - 3s 22ms/step - loss: 2.6897 - accuracy: 0.3325 - val_loss: 2.9417 - val_accuracy: 0.2920\n",
      "Epoch 15/50\n",
      "157/157 [==============================] - 3s 22ms/step - loss: 2.6403 - accuracy: 0.3479 - val_loss: 2.7222 - val_accuracy: 0.3196\n",
      "Epoch 16/50\n",
      "157/157 [==============================] - 3s 22ms/step - loss: 2.5832 - accuracy: 0.3585 - val_loss: 2.4842 - val_accuracy: 0.3781\n",
      "Epoch 17/50\n",
      "157/157 [==============================] - 3s 22ms/step - loss: 2.5279 - accuracy: 0.3678 - val_loss: 2.6411 - val_accuracy: 0.3530\n",
      "Epoch 18/50\n",
      "157/157 [==============================] - 3s 22ms/step - loss: 2.4755 - accuracy: 0.3808 - val_loss: 2.3795 - val_accuracy: 0.3900\n",
      "Epoch 19/50\n",
      "157/157 [==============================] - 3s 22ms/step - loss: 2.4328 - accuracy: 0.3892 - val_loss: 2.7286 - val_accuracy: 0.3354\n",
      "Epoch 20/50\n",
      "157/157 [==============================] - 3s 22ms/step - loss: 2.3911 - accuracy: 0.3969 - val_loss: 2.4641 - val_accuracy: 0.3829\n",
      "Epoch 21/50\n",
      "157/157 [==============================] - 3s 22ms/step - loss: 2.3380 - accuracy: 0.4085 - val_loss: 2.3113 - val_accuracy: 0.4103\n",
      "Epoch 22/50\n",
      "157/157 [==============================] - 3s 22ms/step - loss: 2.2995 - accuracy: 0.4167 - val_loss: 2.8812 - val_accuracy: 0.3193\n",
      "Epoch 23/50\n",
      "157/157 [==============================] - 3s 22ms/step - loss: 2.2582 - accuracy: 0.4229 - val_loss: 2.6529 - val_accuracy: 0.3538\n",
      "Epoch 24/50\n",
      "157/157 [==============================] - 3s 22ms/step - loss: 2.2177 - accuracy: 0.4326 - val_loss: 3.0305 - val_accuracy: 0.3232\n",
      "Epoch 25/50\n",
      "157/157 [==============================] - 3s 22ms/step - loss: 2.1696 - accuracy: 0.4443 - val_loss: 2.5508 - val_accuracy: 0.3796\n",
      "Epoch 26/50\n",
      "157/157 [==============================] - 3s 22ms/step - loss: 2.1408 - accuracy: 0.4505 - val_loss: 2.8357 - val_accuracy: 0.3339\n",
      "Epoch 27/50\n",
      "157/157 [==============================] - 3s 22ms/step - loss: 2.1000 - accuracy: 0.4609 - val_loss: 2.3269 - val_accuracy: 0.4125\n",
      "Epoch 28/50\n",
      "157/157 [==============================] - 3s 22ms/step - loss: 2.0610 - accuracy: 0.4667 - val_loss: 2.5478 - val_accuracy: 0.3791\n",
      "Epoch 29/50\n",
      "157/157 [==============================] - 3s 22ms/step - loss: 2.0202 - accuracy: 0.4762 - val_loss: 2.6710 - val_accuracy: 0.3788\n",
      "Epoch 30/50\n",
      "157/157 [==============================] - 3s 22ms/step - loss: 1.9924 - accuracy: 0.4804 - val_loss: 2.6467 - val_accuracy: 0.3783\n",
      "Epoch 31/50\n",
      "157/157 [==============================] - 3s 22ms/step - loss: 1.9515 - accuracy: 0.4915 - val_loss: 2.7821 - val_accuracy: 0.3507\n",
      "Epoch 32/50\n",
      "157/157 [==============================] - 3s 22ms/step - loss: 1.9232 - accuracy: 0.4941 - val_loss: 2.8358 - val_accuracy: 0.3582\n",
      "Epoch 33/50\n",
      "157/157 [==============================] - 3s 22ms/step - loss: 1.8934 - accuracy: 0.5020 - val_loss: 2.6293 - val_accuracy: 0.3752\n",
      "Epoch 34/50\n",
      "157/157 [==============================] - 3s 22ms/step - loss: 1.8555 - accuracy: 0.5091 - val_loss: 2.4916 - val_accuracy: 0.4049\n",
      "Epoch 35/50\n",
      "157/157 [==============================] - 3s 22ms/step - loss: 1.8112 - accuracy: 0.5204 - val_loss: 2.2460 - val_accuracy: 0.4512\n",
      "Epoch 36/50\n",
      "157/157 [==============================] - 3s 22ms/step - loss: 1.7946 - accuracy: 0.5261 - val_loss: 2.5561 - val_accuracy: 0.3988\n",
      "Epoch 37/50\n",
      "157/157 [==============================] - 3s 22ms/step - loss: 1.7749 - accuracy: 0.5265 - val_loss: 2.3200 - val_accuracy: 0.4349\n",
      "Epoch 38/50\n",
      "157/157 [==============================] - 3s 22ms/step - loss: 1.7384 - accuracy: 0.5358 - val_loss: 2.5341 - val_accuracy: 0.4246\n",
      "Epoch 39/50\n",
      "157/157 [==============================] - 3s 22ms/step - loss: 1.7115 - accuracy: 0.5450 - val_loss: 2.7353 - val_accuracy: 0.3831\n",
      "Epoch 40/50\n",
      "157/157 [==============================] - 3s 22ms/step - loss: 1.6811 - accuracy: 0.5535 - val_loss: 2.3049 - val_accuracy: 0.4320\n",
      "Epoch 41/50\n",
      "157/157 [==============================] - 3s 22ms/step - loss: 1.6577 - accuracy: 0.5536 - val_loss: 2.7009 - val_accuracy: 0.3940\n",
      "Epoch 42/50\n",
      "157/157 [==============================] - 3s 22ms/step - loss: 1.6307 - accuracy: 0.5596 - val_loss: 2.8069 - val_accuracy: 0.3688\n",
      "Epoch 43/50\n",
      "157/157 [==============================] - 3s 22ms/step - loss: 1.5966 - accuracy: 0.5686 - val_loss: 2.4784 - val_accuracy: 0.4240\n",
      "Epoch 44/50\n",
      "157/157 [==============================] - 3s 22ms/step - loss: 1.5874 - accuracy: 0.5713 - val_loss: 2.4534 - val_accuracy: 0.4326\n",
      "Epoch 45/50\n",
      "157/157 [==============================] - 3s 22ms/step - loss: 1.5543 - accuracy: 0.5786 - val_loss: 2.4778 - val_accuracy: 0.4363\n",
      "Epoch 46/50\n",
      "157/157 [==============================] - 3s 22ms/step - loss: 1.5360 - accuracy: 0.5834 - val_loss: 2.4362 - val_accuracy: 0.4397\n",
      "Epoch 47/50\n",
      "157/157 [==============================] - 3s 22ms/step - loss: 1.5160 - accuracy: 0.5882 - val_loss: 2.6092 - val_accuracy: 0.4048\n",
      "Epoch 48/50\n",
      "157/157 [==============================] - 3s 22ms/step - loss: 1.4937 - accuracy: 0.5915 - val_loss: 2.4785 - val_accuracy: 0.4307\n",
      "Epoch 49/50\n",
      "157/157 [==============================] - 3s 22ms/step - loss: 1.4773 - accuracy: 0.5957 - val_loss: 3.4266 - val_accuracy: 0.3327\n",
      "Epoch 50/50\n",
      "157/157 [==============================] - 3s 22ms/step - loss: 1.4460 - accuracy: 0.6026 - val_loss: 2.5477 - val_accuracy: 0.4320\n"
     ]
    },
    {
     "data": {
      "text/plain": [
       "<tensorflow.python.keras.callbacks.History at 0x7fe5fb312350>"
      ]
     },
     "execution_count": 213,
     "metadata": {
      "tags": []
     },
     "output_type": "execute_result"
    }
   ],
   "source": [
    "# Create the ModelCheckpoint callback to save the best model during training\n",
    "mc_callback = ModelCheckpoint('model_6.hdf5',\n",
    "                              monitor='val_accuracy',\n",
    "                              save_best_only=True,\n",
    "                              verbose=0,\n",
    "                              mode='max'\n",
    "                             )\n",
    "\n",
    "# Train the model\n",
    "model.fit(x_train_norm, y_train,\n",
    "          validation_data=(x_valid_norm, y_valid),\n",
    "          callbacks=[mc_callback],\n",
    "          epochs=50,\n",
    "          batch_size=256\n",
    "         )"
   ]
  },
  {
   "cell_type": "code",
   "execution_count": 217,
   "metadata": {
    "colab": {
     "base_uri": "https://localhost:8080/"
    },
    "id": "ucy0ohjNLTvE",
    "outputId": "bd1a534b-0feb-4a8a-e25e-08a4ccd67f04"
   },
   "outputs": [
    {
     "name": "stdout",
     "output_type": "stream",
     "text": [
      "[Accuracy] Train: 0.651 Valid: 0.451\n"
     ]
    }
   ],
   "source": [
    "# Load the model and show the final metrics\n",
    "model = keras.models.load_model('model_6.hdf5')\n",
    "\n",
    "# Train and validation metrics\n",
    "_, train_acc = model.evaluate(x_train_norm, y_train, verbose=0)\n",
    "_, valid_acc = model.evaluate(x_valid_norm, y_valid, verbose=0)\n",
    "\n",
    "# Show result\n",
    "print(f'[Accuracy] Train: {round(train_acc, 3)} Valid: {round(valid_acc, 3)}')"
   ]
  }
 ],
 "metadata": {
  "accelerator": "GPU",
  "colab": {
   "name": "test-00.ipynb",
   "provenance": []
  },
  "kernelspec": {
   "display_name": "Python 3",
   "language": "python",
   "name": "python3"
  },
  "language_info": {
   "codemirror_mode": {
    "name": "ipython",
    "version": 3
   },
   "file_extension": ".py",
   "mimetype": "text/x-python",
   "name": "python",
   "nbconvert_exporter": "python",
   "pygments_lexer": "ipython3",
   "version": "3.8.5"
  }
 },
 "nbformat": 4,
 "nbformat_minor": 4
}
