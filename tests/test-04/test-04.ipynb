{
  "nbformat": 4,
  "nbformat_minor": 0,
  "metadata": {
    "colab": {
      "name": "test-04.ipynb",
      "provenance": []
    },
    "accelerator": "GPU",
    "language_info": {
      "name": "python"
    },
    "kernelspec": {
      "name": "python3",
      "display_name": "Python 3"
    }
  },
  "cells": [
    {
      "cell_type": "markdown",
      "metadata": {
        "id": "birGZcBDcCg-"
      },
      "source": [
        "# Test-04\n",
        "Ejecutado en **Google Collaboratory**."
      ]
    },
    {
      "cell_type": "markdown",
      "metadata": {
        "id": "EpfxrfbndDAu"
      },
      "source": [
        "# Fuentes\n",
        "\n",
        "### Link: https://keras.io/api/layers/preprocessing_layers/image_preprocessing/resizing/\n",
        "Se puede utilizar una capa que realiza una modificación en el tamaño de la imagen, particularmente como se busca aumentar el tamaño de las imágenes del CIFAR-100 a un tamaño aceptado por redes neuronales ya entrenadas como EfficientNet, se debe utilizar interpolación.\n",
        "\n",
        "### Link: https://stackoverflow.com/questions/50760543/error-oom-when-allocating-tensor-with-shape/50764934\n",
        "No hay suficiente memoria disponible en la GPU para poder guardar la información de un batch demasiado grande, por eso se usan batch_size pequeños.\n",
        "\n",
        "### Link: https://stackoverflow.com/questions/47204116/shouldnt-model-trainable-false-freeze-weights-under-the-model\n",
        "Las capas que no se reentrenan en Transfer Learning se tienen que 'congelar' antes de hacer una compilación del modelo."
      ]
    },
    {
      "cell_type": "markdown",
      "metadata": {
        "id": "_R2WS7Dz_1z8"
      },
      "source": [
        "# Configuración general"
      ]
    },
    {
      "cell_type": "code",
      "metadata": {
        "id": "TRRBsP7O_3MS"
      },
      "source": [
        "import tensorflow as tf"
      ],
      "execution_count": 1,
      "outputs": []
    },
    {
      "cell_type": "markdown",
      "metadata": {
        "id": "BoMDpJipb15_"
      },
      "source": [
        "# Cargando el conjunto de datos"
      ]
    },
    {
      "cell_type": "code",
      "metadata": {
        "id": "tme05GRIcPPM"
      },
      "source": [
        "import numpy as np"
      ],
      "execution_count": 2,
      "outputs": []
    },
    {
      "cell_type": "code",
      "metadata": {
        "id": "PCN3jdL9bphB",
        "outputId": "219bf239-12d7-43dc-fb21-cfab0279d842",
        "colab": {
          "base_uri": "https://localhost:8080/"
        }
      },
      "source": [
        "from google.colab import drive\n",
        "drive.mount('/content/drive')"
      ],
      "execution_count": 3,
      "outputs": [
        {
          "output_type": "stream",
          "text": [
            "Drive already mounted at /content/drive; to attempt to forcibly remount, call drive.mount(\"/content/drive\", force_remount=True).\n"
          ],
          "name": "stdout"
        }
      ]
    },
    {
      "cell_type": "code",
      "metadata": {
        "id": "aTWI__Cvb76G"
      },
      "source": [
        "x_train_valid = np.load('drive/Shareddrives/Redes Neuronales BIO/CIFAR-100/x_train.npy')\n",
        "y_train_valid = np.load('drive/Shareddrives/Redes Neuronales BIO/CIFAR-100/y_train.npy')\n",
        "x_test = np.load('drive/Shareddrives/Redes Neuronales BIO/CIFAR-100/x_test.npy')"
      ],
      "execution_count": 4,
      "outputs": []
    },
    {
      "cell_type": "markdown",
      "metadata": {
        "id": "mD1uLguEcjes"
      },
      "source": [
        "# Separando el conjunto de datos"
      ]
    },
    {
      "cell_type": "code",
      "metadata": {
        "id": "TFodEyI2cls8"
      },
      "source": [
        "from sklearn.model_selection import train_test_split"
      ],
      "execution_count": 5,
      "outputs": []
    },
    {
      "cell_type": "code",
      "metadata": {
        "id": "JdxGcr4BcrQV"
      },
      "source": [
        "x_train, x_valid, y_train, y_valid = train_test_split(x_train_valid, y_train_valid, test_size=0.2, random_state=15, stratify=y_train_valid)"
      ],
      "execution_count": 6,
      "outputs": []
    },
    {
      "cell_type": "markdown",
      "metadata": {
        "id": "s1T5L_eVcTW_"
      },
      "source": [
        "# Visualizando imágenes y transformando tamaño"
      ]
    },
    {
      "cell_type": "code",
      "metadata": {
        "id": "cLz0owjvcNrJ"
      },
      "source": [
        "import matplotlib.pyplot as plt"
      ],
      "execution_count": 7,
      "outputs": []
    },
    {
      "cell_type": "code",
      "metadata": {
        "id": "0Ob58NMOc13S"
      },
      "source": [
        "from tensorflow.keras.layers.experimental.preprocessing import Resizing"
      ],
      "execution_count": 8,
      "outputs": []
    },
    {
      "cell_type": "code",
      "metadata": {
        "id": "IvNtRo0KeKxg"
      },
      "source": [
        "from tensorflow.keras.layers import InputLayer\n",
        "from tensorflow.keras.models import Sequential"
      ],
      "execution_count": 9,
      "outputs": []
    },
    {
      "cell_type": "code",
      "metadata": {
        "id": "MjWoAW6mcdN8"
      },
      "source": [
        "# Choose an image\n",
        "image_index = 6500\n",
        "image_original = x_train[image_index] / 255"
      ],
      "execution_count": 10,
      "outputs": []
    },
    {
      "cell_type": "code",
      "metadata": {
        "id": "OHHBElgGczGd",
        "outputId": "aa349b60-799b-4839-9a34-0c22c7577e99",
        "colab": {
          "base_uri": "https://localhost:8080/",
          "height": 266
        }
      },
      "source": [
        "# Show the image\n",
        "plt.imshow(image_original)\n",
        "plt.show()"
      ],
      "execution_count": 11,
      "outputs": [
        {
          "output_type": "display_data",
          "data": {
            "image/png": "[encoded data removed]",
            "text/plain": [
              "<Figure size 432x288 with 1 Axes>"
            ]
          },
          "metadata": {
            "tags": [],
            "needs_background": "light"
          }
        }
      ]
    },
    {
      "cell_type": "code",
      "metadata": {
        "id": "GVu8sQQ4eQ0W",
        "outputId": "f7f98dcc-3306-49e4-ca5c-49ae9950658d",
        "colab": {
          "base_uri": "https://localhost:8080/"
        }
      },
      "source": [
        "# Create the model\n",
        "model = Sequential()\n",
        "model.add(InputLayer(input_shape=(32, 32, 3)))\n",
        "model.add(Resizing(224, 224, interpolation='bicubic'))\n",
        "\n",
        "# Compile the model\n",
        "model.compile()\n",
        "\n",
        "# Summarize\n",
        "model.summary()"
      ],
      "execution_count": 12,
      "outputs": [
        {
          "output_type": "stream",
          "text": [
            "Model: \"sequential\"\n",
            "_________________________________________________________________\n",
            "Layer (type)                 Output Shape              Param #   \n",
            "=================================================================\n",
            "resizing (Resizing)          (None, 224, 224, 3)       0         \n",
            "=================================================================\n",
            "Total params: 0\n",
            "Trainable params: 0\n",
            "Non-trainable params: 0\n",
            "_________________________________________________________________\n"
          ],
          "name": "stdout"
        }
      ]
    },
    {
      "cell_type": "code",
      "metadata": {
        "id": "AGBBZpmPelmo"
      },
      "source": [
        "# Resize the image\n",
        "image_resized = model.predict(image_original.reshape(-1, 32, 32, 3))"
      ],
      "execution_count": 13,
      "outputs": []
    },
    {
      "cell_type": "code",
      "metadata": {
        "id": "4C37z52bepmw",
        "outputId": "45dac791-1173-457e-9715-2bcbb84da5f0",
        "colab": {
          "base_uri": "https://localhost:8080/",
          "height": 287
        }
      },
      "source": [
        "# Show the resized image\n",
        "plt.imshow(image_resized.reshape(224, 224, 3))\n",
        "plt.show()"
      ],
      "execution_count": 14,
      "outputs": [
        {
          "output_type": "stream",
          "text": [
            "Clipping input data to the valid range for imshow with RGB data ([0..1] for floats or [0..255] for integers).\n"
          ],
          "name": "stderr"
        },
        {
          "output_type": "display_data",
          "data": {
            "image/png": "[encoded data removed]",
            "text/plain": [
              "<Figure size 432x288 with 1 Axes>"
            ]
          },
          "metadata": {
            "tags": [],
            "needs_background": "light"
          }
        }
      ]
    },
    {
      "cell_type": "markdown",
      "metadata": {
        "id": "zRJOq_2z4gSI"
      },
      "source": [
        "# Data Augmentation con Albumentation"
      ]
    },
    {
      "cell_type": "code",
      "metadata": {
        "id": "MyFFG_pl4jLI"
      },
      "source": [
        "from tensorflow.keras.utils import Sequence"
      ],
      "execution_count": 15,
      "outputs": []
    },
    {
      "cell_type": "code",
      "metadata": {
        "id": "dtzKshLi4nEx"
      },
      "source": [
        "from albumentations import (Compose, ToFloat, HorizontalFlip, VerticalFlip, Rotate,\n",
        "                            RandomBrightnessContrast, ShiftScaleRotate, RandomSizedCrop,\n",
        "                            GridDistortion, ElasticTransform)"
      ],
      "execution_count": 16,
      "outputs": []
    },
    {
      "cell_type": "code",
      "metadata": {
        "id": "ik2brKJK4pPh"
      },
      "source": [
        "class AugmentedGenerator(Sequence):\n",
        "  \"\"\" Dataset generator with data augmentation \"\"\"\n",
        "\n",
        "  def __init__(self, x, y, batch_size=32, shuffle=True):\n",
        "    \"\"\" Create an instance of the data augmented generator, which is a \n",
        "        dataset generator to provide 'on the fly' data augmentation.\n",
        "        @param x\n",
        "        @param y\n",
        "        @param batch_size\n",
        "        @param shuffle\n",
        "    \"\"\"\n",
        "    # Save internal parameters of the augmented sequence\n",
        "    self.x = x\n",
        "    self.y = y\n",
        "    self.batch_size = batch_size\n",
        "    self.shuffle = shuffle\n",
        "\n",
        "    # Initialization\n",
        "    self.on_epoch_end()\n",
        "  \n",
        "  def __len__(self):\n",
        "    \"\"\" Compute the length of an epoch measured in batches\n",
        "    \"\"\"\n",
        "    return int(np.floor(len(self.x) / float(self.batch_size)))\n",
        "  \n",
        "  def __getitem__(self, index):\n",
        "    \"\"\" Return the item from the sequence at the given index\n",
        "        @param index\n",
        "    \"\"\"\n",
        "    # Generate indexes of the batch\n",
        "    indexes = self.indexes[index * self.batch_size : (index + 1) * self.batch_size]\n",
        "\n",
        "    # Create data augmented batch\n",
        "    batch_x = np.empty((self.batch_size, 32, 32, 3))\n",
        "    batch_y = np.empty((self.batch_size, 1))\n",
        "\n",
        "    for i, index in enumerate(indexes):\n",
        "      # Fetch and transform the image\n",
        "      image_original = self.x[index]\n",
        "      image_augmented = self.__transform(image_original)\n",
        "      # Save image and expected output in batch\n",
        "      batch_x[i,:,:,:] = image_augmented\n",
        "      batch_y[i,:] = self.y[index]\n",
        "\n",
        "    # Return an augmented version of the batch\n",
        "    return batch_x, batch_y\n",
        "  \n",
        "  def __transform(self, image):\n",
        "    \"\"\" Transforms an image applying random processes from Albumentation\n",
        "        @param image\n",
        "    \"\"\"\n",
        "    transform = Compose([ShiftScaleRotate(shift_limit=0.1,\n",
        "                                            scale_limit=0.2,\n",
        "                                            rotate_limit=30,\n",
        "                                            p=0.5),\n",
        "                         HorizontalFlip(p=0.5),\n",
        "                         VerticalFlip(p=0.5),\n",
        "                         GridDistortion(p=0.2),\n",
        "                         ElasticTransform(p=0.2),\n",
        "                         RandomBrightnessContrast(p=0.5)\n",
        "                         ])\n",
        "    return transform(image=image)['image']\n",
        "\n",
        "  def on_epoch_end(self):\n",
        "    \"\"\" Updates indexes after each epoch\n",
        "    \"\"\"\n",
        "    self.indexes = np.arange(len(self.x))\n",
        "    if self.shuffle is True:\n",
        "        np.random.shuffle(self.indexes)"
      ],
      "execution_count": 35,
      "outputs": []
    },
    {
      "cell_type": "code",
      "metadata": {
        "id": "M1fN-HUs6EEH"
      },
      "source": [
        "generator = AugmentedGenerator(x_train, y_train)"
      ],
      "execution_count": 36,
      "outputs": []
    },
    {
      "cell_type": "markdown",
      "metadata": {
        "id": "iw_4rlPai0rC"
      },
      "source": [
        "# Modelo"
      ]
    },
    {
      "cell_type": "code",
      "metadata": {
        "id": "qJFlRTbogj8V"
      },
      "source": [
        "from tensorflow.keras.applications import EfficientNetB0"
      ],
      "execution_count": 19,
      "outputs": []
    },
    {
      "cell_type": "code",
      "metadata": {
        "id": "zoSTkQBFjWHa"
      },
      "source": [
        "from tensorflow.keras.layers import (GlobalAveragePooling2D, Dense, Activation, \n",
        "                                     BatchNormalization, Reshape)"
      ],
      "execution_count": 20,
      "outputs": []
    },
    {
      "cell_type": "code",
      "metadata": {
        "id": "MQeSWLDCksUy"
      },
      "source": [
        "from tensorflow.keras.callbacks import ModelCheckpoint, EarlyStopping"
      ],
      "execution_count": 21,
      "outputs": []
    },
    {
      "cell_type": "code",
      "metadata": {
        "id": "4yGCUq06j3vv"
      },
      "source": [
        "from tensorflow.keras.optimizers import Adam"
      ],
      "execution_count": 22,
      "outputs": []
    },
    {
      "cell_type": "code",
      "metadata": {
        "id": "Py8fBWNQzdOe"
      },
      "source": [
        "from tensorflow import keras"
      ],
      "execution_count": 23,
      "outputs": []
    },
    {
      "cell_type": "code",
      "metadata": {
        "id": "26KfwGCui7aq",
        "outputId": "9b7a315a-74b7-41cc-ecdd-d76cdcac0dd7",
        "colab": {
          "base_uri": "https://localhost:8080/"
        }
      },
      "source": [
        "# Create the model\n",
        "model = Sequential()\n",
        "model.add(InputLayer(input_shape=(32, 32, 3)))\n",
        "model.add(Resizing(224, 224, interpolation='bicubic'))\n",
        "model.add(EfficientNetB0(include_top=False, weights='imagenet', input_shape=(224, 224, 3)))\n",
        "model.add(GlobalAveragePooling2D())\n",
        "model.add(Dense(units=100))\n",
        "model.add(BatchNormalization())\n",
        "model.add(Activation('softmax'))\n",
        "\n",
        "# Freeze the EfficientNetB0\n",
        "model.layers[1].trainable = False\n",
        "\n",
        "# Compile the model\n",
        "model.compile(loss='sparse_categorical_crossentropy',\n",
        "              optimizer=Adam(learning_rate=0.0001),\n",
        "              metrics=['accuracy']\n",
        "             )\n",
        "\n",
        "# Summarize\n",
        "model.summary()"
      ],
      "execution_count": 24,
      "outputs": [
        {
          "output_type": "stream",
          "text": [
            "Model: \"sequential_1\"\n",
            "_________________________________________________________________\n",
            "Layer (type)                 Output Shape              Param #   \n",
            "=================================================================\n",
            "resizing_1 (Resizing)        (None, 224, 224, 3)       0         \n",
            "_________________________________________________________________\n",
            "efficientnetb0 (Functional)  (None, 7, 7, 1280)        4049571   \n",
            "_________________________________________________________________\n",
            "global_average_pooling2d (Gl (None, 1280)              0         \n",
            "_________________________________________________________________\n",
            "dense (Dense)                (None, 100)               128100    \n",
            "_________________________________________________________________\n",
            "batch_normalization (BatchNo (None, 100)               400       \n",
            "_________________________________________________________________\n",
            "activation (Activation)      (None, 100)               0         \n",
            "=================================================================\n",
            "Total params: 4,178,071\n",
            "Trainable params: 128,300\n",
            "Non-trainable params: 4,049,771\n",
            "_________________________________________________________________\n"
          ],
          "name": "stdout"
        }
      ]
    },
    {
      "cell_type": "code",
      "metadata": {
        "id": "4ToQyuw6j0El",
        "outputId": "da44cced-e749-48a4-9a35-31001a541a93",
        "colab": {
          "base_uri": "https://localhost:8080/"
        }
      },
      "source": [
        "# Create the ModelCheckpoint callback to save the best model during training\n",
        "mc_callback = ModelCheckpoint('model_1.hdf5',\n",
        "                              monitor='val_accuracy',\n",
        "                              save_best_only=True,\n",
        "                              verbose=0,\n",
        "                              mode='max'\n",
        "                             )\n",
        "\n",
        "# Create the EarlyStopping callback to stop when not improving during training\n",
        "es_callback = EarlyStopping(monitor='val_accuracy', mode='min', verbose=1, patience=5)\n",
        "\n",
        "# Train the model\n",
        "epochs = 10\n",
        "model.fit(generator,\n",
        "          validation_data=(x_valid, y_valid), \n",
        "          callbacks=[mc_callback, es_callback],\n",
        "          epochs=epochs)"
      ],
      "execution_count": 37,
      "outputs": [
        {
          "output_type": "stream",
          "text": [
            "Epoch 1/10\n",
            "1250/1250 [==============================] - 201s 161ms/step - loss: 2.6820 - accuracy: 0.3831 - val_loss: 1.1677 - val_accuracy: 0.6875\n"
          ],
          "name": "stdout"
        },
        {
          "output_type": "stream",
          "text": [
            "/usr/local/lib/python3.7/dist-packages/tensorflow/python/keras/utils/generic_utils.py:497: CustomMaskWarning: Custom mask layers require a config and must override get_config. When loading, the custom mask layer must be passed to the custom_objects argument.\n",
            "  category=CustomMaskWarning)\n"
          ],
          "name": "stderr"
        },
        {
          "output_type": "stream",
          "text": [
            "Epoch 2/10\n",
            "1250/1250 [==============================] - 201s 161ms/step - loss: 2.6216 - accuracy: 0.3861 - val_loss: 1.1671 - val_accuracy: 0.6846\n",
            "Epoch 3/10\n",
            "1250/1250 [==============================] - 205s 164ms/step - loss: 2.5840 - accuracy: 0.3946 - val_loss: 1.1661 - val_accuracy: 0.6854\n",
            "Epoch 4/10\n",
            "1250/1250 [==============================] - 201s 160ms/step - loss: 2.5648 - accuracy: 0.3966 - val_loss: 1.1580 - val_accuracy: 0.6870\n",
            "Epoch 5/10\n",
            "1250/1250 [==============================] - 200s 160ms/step - loss: 2.5309 - accuracy: 0.4033 - val_loss: 1.1568 - val_accuracy: 0.6865\n",
            "Epoch 6/10\n",
            "1250/1250 [==============================] - 200s 160ms/step - loss: 2.5129 - accuracy: 0.4078 - val_loss: 1.1584 - val_accuracy: 0.6881\n",
            "Epoch 7/10\n",
            "1250/1250 [==============================] - 204s 163ms/step - loss: 2.4795 - accuracy: 0.4151 - val_loss: 1.1518 - val_accuracy: 0.6909\n",
            "Epoch 8/10\n",
            "1250/1250 [==============================] - 200s 160ms/step - loss: 2.4702 - accuracy: 0.4138 - val_loss: 1.1559 - val_accuracy: 0.6889\n",
            "Epoch 9/10\n",
            "1250/1250 [==============================] - 204s 163ms/step - loss: 2.4431 - accuracy: 0.4200 - val_loss: 1.1474 - val_accuracy: 0.6884\n",
            "Epoch 10/10\n",
            "1250/1250 [==============================] - 200s 160ms/step - loss: 2.4284 - accuracy: 0.4226 - val_loss: 1.1488 - val_accuracy: 0.6892\n"
          ],
          "name": "stdout"
        },
        {
          "output_type": "execute_result",
          "data": {
            "text/plain": [
              "<tensorflow.python.keras.callbacks.History at 0x7f9a8cf69810>"
            ]
          },
          "metadata": {
            "tags": []
          },
          "execution_count": 37
        }
      ]
    },
    {
      "cell_type": "code",
      "metadata": {
        "id": "MPLCPMsXkCbE",
        "outputId": "93d7c670-af29-4465-b986-448bf31dbc2b",
        "colab": {
          "base_uri": "https://localhost:8080/"
        }
      },
      "source": [
        "# Load the model and show the final metrics\n",
        "model = keras.models.load_model('model_1.hdf5')\n",
        "\n",
        "# Train and validation metrics\n",
        "_, train_acc = model.evaluate(x_train, y_train, verbose=0)\n",
        "_, valid_acc = model.evaluate(x_valid, y_valid, verbose=0)\n",
        "\n",
        "# Show result\n",
        "print(f'[Accuracy] Train: {round(train_acc, 3)} Valid: {round(valid_acc, 3)}')"
      ],
      "execution_count": 28,
      "outputs": [
        {
          "output_type": "stream",
          "text": [
            "[Accuracy] Train: 0.763 Valid: 0.698\n"
          ],
          "name": "stdout"
        }
      ]
    }
  ]
}