{
  "nbformat": 4,
  "nbformat_minor": 0,
  "metadata": {
    "colab": {
      "name": "test_04.ipynb",
      "provenance": [],
      "collapsed_sections": []
    },
    "accelerator": "TPU",
    "language_info": {
      "name": "python"
    },
    "kernelspec": {
      "name": "python3",
      "display_name": "Python 3"
    }
  },
  "cells": [
    {
      "cell_type": "markdown",
      "metadata": {
        "id": "birGZcBDcCg-"
      },
      "source": [
        "# Test-04\n",
        "Ejecutado en **Google Collaboratory**.\n",
        "\n",
        "## Descripción\n",
        "Se busca hacer uso de **Transfer Learning** con la red neuronal ya entrada **EfficientNetB0**. Para ello, fue necesario escalar las imágenes de entrada a un tamaño de 224x224, y se utilizan TPUs para optimizar el aprendizaje. Además, se guardan en memoria las imágenes con un nuevo tamaño para evitar el costo computacional durante entrenamiento."
      ]
    },
    {
      "cell_type": "markdown",
      "metadata": {
        "id": "EpfxrfbndDAu"
      },
      "source": [
        "# Fuentes\n",
        "\n",
        "### Link: https://keras.io/api/layers/preprocessing_layers/image_preprocessing/resizing/\n",
        "Se puede utilizar una capa que realiza una modificación en el tamaño de la imagen, particularmente como se busca aumentar el tamaño de las imágenes del CIFAR-100 a un tamaño aceptado por redes neuronales ya entrenadas como EfficientNet, se debe utilizar interpolación.\n",
        "\n",
        "### Link: https://stackoverflow.com/questions/50760543/error-oom-when-allocating-tensor-with-shape/50764934\n",
        "No hay suficiente memoria disponible en la GPU para poder guardar la información de un batch demasiado grande, por eso se usan batch_size pequeños.\n",
        "\n",
        "### Link: https://stackoverflow.com/questions/47204116/shouldnt-model-trainable-false-freeze-weights-under-the-model\n",
        "Las capas que no se reentrenan en Transfer Learning se tienen que 'congelar' antes de hacer una compilación del modelo."
      ]
    },
    {
      "cell_type": "markdown",
      "metadata": {
        "id": "_R2WS7Dz_1z8"
      },
      "source": [
        "# Configuración general"
      ]
    },
    {
      "cell_type": "code",
      "metadata": {
        "id": "3etZ5z4cRMdQ"
      },
      "source": [
        "import pandas as pd"
      ],
      "execution_count": 1,
      "outputs": []
    },
    {
      "cell_type": "code",
      "metadata": {
        "id": "TRRBsP7O_3MS"
      },
      "source": [
        "import tensorflow as tf"
      ],
      "execution_count": 2,
      "outputs": []
    },
    {
      "cell_type": "code",
      "metadata": {
        "colab": {
          "base_uri": "https://localhost:8080/"
        },
        "id": "FKup29A_8JQ8",
        "outputId": "dfd9fc8e-56a2-41b5-a000-114bd6a50988"
      },
      "source": [
        "!pip install cloud_tpu_client"
      ],
      "execution_count": 3,
      "outputs": [
        {
          "output_type": "stream",
          "text": [
            "Requirement already satisfied: cloud_tpu_client in /usr/local/lib/python3.7/dist-packages (0.10)\n",
            "Requirement already satisfied: google-api-python-client==1.8.0 in /usr/local/lib/python3.7/dist-packages (from cloud_tpu_client) (1.8.0)\n",
            "Requirement already satisfied: oauth2client in /usr/local/lib/python3.7/dist-packages (from cloud_tpu_client) (4.1.3)\n",
            "Requirement already satisfied: six<2dev,>=1.6.1 in /usr/local/lib/python3.7/dist-packages (from google-api-python-client==1.8.0->cloud_tpu_client) (1.15.0)\n",
            "Requirement already satisfied: httplib2<1dev,>=0.9.2 in /usr/local/lib/python3.7/dist-packages (from google-api-python-client==1.8.0->cloud_tpu_client) (0.17.4)\n",
            "Requirement already satisfied: uritemplate<4dev,>=3.0.0 in /usr/local/lib/python3.7/dist-packages (from google-api-python-client==1.8.0->cloud_tpu_client) (3.0.1)\n",
            "Requirement already satisfied: google-auth>=1.4.1 in /usr/local/lib/python3.7/dist-packages (from google-api-python-client==1.8.0->cloud_tpu_client) (1.31.0)\n",
            "Requirement already satisfied: google-api-core<2dev,>=1.13.0 in /usr/local/lib/python3.7/dist-packages (from google-api-python-client==1.8.0->cloud_tpu_client) (1.26.3)\n",
            "Requirement already satisfied: google-auth-httplib2>=0.0.3 in /usr/local/lib/python3.7/dist-packages (from google-api-python-client==1.8.0->cloud_tpu_client) (0.0.4)\n",
            "Requirement already satisfied: pyasn1-modules>=0.0.5 in /usr/local/lib/python3.7/dist-packages (from oauth2client->cloud_tpu_client) (0.2.8)\n",
            "Requirement already satisfied: rsa>=3.1.4 in /usr/local/lib/python3.7/dist-packages (from oauth2client->cloud_tpu_client) (4.7.2)\n",
            "Requirement already satisfied: pyasn1>=0.1.7 in /usr/local/lib/python3.7/dist-packages (from oauth2client->cloud_tpu_client) (0.4.8)\n",
            "Requirement already satisfied: cachetools<5.0,>=2.0.0 in /usr/local/lib/python3.7/dist-packages (from google-auth>=1.4.1->google-api-python-client==1.8.0->cloud_tpu_client) (4.2.2)\n",
            "Requirement already satisfied: setuptools>=40.3.0 in /usr/local/lib/python3.7/dist-packages (from google-auth>=1.4.1->google-api-python-client==1.8.0->cloud_tpu_client) (57.0.0)\n",
            "Requirement already satisfied: protobuf>=3.12.0 in /usr/local/lib/python3.7/dist-packages (from google-api-core<2dev,>=1.13.0->google-api-python-client==1.8.0->cloud_tpu_client) (3.12.4)\n",
            "Requirement already satisfied: packaging>=14.3 in /usr/local/lib/python3.7/dist-packages (from google-api-core<2dev,>=1.13.0->google-api-python-client==1.8.0->cloud_tpu_client) (20.9)\n",
            "Requirement already satisfied: googleapis-common-protos<2.0dev,>=1.6.0 in /usr/local/lib/python3.7/dist-packages (from google-api-core<2dev,>=1.13.0->google-api-python-client==1.8.0->cloud_tpu_client) (1.53.0)\n",
            "Requirement already satisfied: pytz in /usr/local/lib/python3.7/dist-packages (from google-api-core<2dev,>=1.13.0->google-api-python-client==1.8.0->cloud_tpu_client) (2018.9)\n",
            "Requirement already satisfied: requests<3.0.0dev,>=2.18.0 in /usr/local/lib/python3.7/dist-packages (from google-api-core<2dev,>=1.13.0->google-api-python-client==1.8.0->cloud_tpu_client) (2.23.0)\n",
            "Requirement already satisfied: pyparsing>=2.0.2 in /usr/local/lib/python3.7/dist-packages (from packaging>=14.3->google-api-core<2dev,>=1.13.0->google-api-python-client==1.8.0->cloud_tpu_client) (2.4.7)\n",
            "Requirement already satisfied: urllib3!=1.25.0,!=1.25.1,<1.26,>=1.21.1 in /usr/local/lib/python3.7/dist-packages (from requests<3.0.0dev,>=2.18.0->google-api-core<2dev,>=1.13.0->google-api-python-client==1.8.0->cloud_tpu_client) (1.24.3)\n",
            "Requirement already satisfied: certifi>=2017.4.17 in /usr/local/lib/python3.7/dist-packages (from requests<3.0.0dev,>=2.18.0->google-api-core<2dev,>=1.13.0->google-api-python-client==1.8.0->cloud_tpu_client) (2021.5.30)\n",
            "Requirement already satisfied: chardet<4,>=3.0.2 in /usr/local/lib/python3.7/dist-packages (from requests<3.0.0dev,>=2.18.0->google-api-core<2dev,>=1.13.0->google-api-python-client==1.8.0->cloud_tpu_client) (3.0.4)\n",
            "Requirement already satisfied: idna<3,>=2.5 in /usr/local/lib/python3.7/dist-packages (from requests<3.0.0dev,>=2.18.0->google-api-core<2dev,>=1.13.0->google-api-python-client==1.8.0->cloud_tpu_client) (2.10)\n"
          ],
          "name": "stdout"
        }
      ]
    },
    {
      "cell_type": "code",
      "metadata": {
        "id": "Yhrs9BGV8Iy9"
      },
      "source": [
        "from cloud_tpu_client import Client\n",
        "c = Client()\n",
        "c.configure_tpu_version(tf.__version__, restart_type=\"always\")"
      ],
      "execution_count": 4,
      "outputs": []
    },
    {
      "cell_type": "code",
      "metadata": {
        "colab": {
          "base_uri": "https://localhost:8080/"
        },
        "id": "bJt6Num-8MWf",
        "outputId": "3e7ff33f-a373-4f20-833e-70e95ada7235"
      },
      "source": [
        "try:\n",
        "    tpu = tf.distribute.cluster_resolver.TPUClusterResolver()  # TPU detection\n",
        "    print(\"Running on TPU \", tpu.cluster_spec().as_dict()[\"worker\"])\n",
        "    tf.config.experimental_connect_to_cluster(tpu)\n",
        "    tf.tpu.experimental.initialize_tpu_system(tpu)\n",
        "    strategy = tf.distribute.TPUStrategy(tpu)\n",
        "except ValueError:\n",
        "    print(\"Not connected to a TPU runtime. Using CPU/GPU strategy\")\n",
        "    strategy = tf.distribute.MirroredStrategy()"
      ],
      "execution_count": 5,
      "outputs": [
        {
          "output_type": "stream",
          "text": [
            "Running on TPU  ['10.40.164.34:8470']\n",
            "INFO:tensorflow:Initializing the TPU system: grpc://10.40.164.34:8470\n"
          ],
          "name": "stdout"
        },
        {
          "output_type": "stream",
          "text": [
            "INFO:tensorflow:Initializing the TPU system: grpc://10.40.164.34:8470\n"
          ],
          "name": "stderr"
        },
        {
          "output_type": "stream",
          "text": [
            "INFO:tensorflow:Clearing out eager caches\n"
          ],
          "name": "stdout"
        },
        {
          "output_type": "stream",
          "text": [
            "INFO:tensorflow:Clearing out eager caches\n"
          ],
          "name": "stderr"
        },
        {
          "output_type": "stream",
          "text": [
            "INFO:tensorflow:Finished initializing TPU system.\n"
          ],
          "name": "stdout"
        },
        {
          "output_type": "stream",
          "text": [
            "INFO:tensorflow:Finished initializing TPU system.\n"
          ],
          "name": "stderr"
        },
        {
          "output_type": "stream",
          "text": [
            "INFO:tensorflow:Found TPU system:\n"
          ],
          "name": "stdout"
        },
        {
          "output_type": "stream",
          "text": [
            "INFO:tensorflow:Found TPU system:\n"
          ],
          "name": "stderr"
        },
        {
          "output_type": "stream",
          "text": [
            "INFO:tensorflow:*** Num TPU Cores: 8\n"
          ],
          "name": "stdout"
        },
        {
          "output_type": "stream",
          "text": [
            "INFO:tensorflow:*** Num TPU Cores: 8\n"
          ],
          "name": "stderr"
        },
        {
          "output_type": "stream",
          "text": [
            "INFO:tensorflow:*** Num TPU Workers: 1\n"
          ],
          "name": "stdout"
        },
        {
          "output_type": "stream",
          "text": [
            "INFO:tensorflow:*** Num TPU Workers: 1\n"
          ],
          "name": "stderr"
        },
        {
          "output_type": "stream",
          "text": [
            "INFO:tensorflow:*** Num TPU Cores Per Worker: 8\n"
          ],
          "name": "stdout"
        },
        {
          "output_type": "stream",
          "text": [
            "INFO:tensorflow:*** Num TPU Cores Per Worker: 8\n"
          ],
          "name": "stderr"
        },
        {
          "output_type": "stream",
          "text": [
            "INFO:tensorflow:*** Available Device: _DeviceAttributes(/job:localhost/replica:0/task:0/device:CPU:0, CPU, 0, 0)\n"
          ],
          "name": "stdout"
        },
        {
          "output_type": "stream",
          "text": [
            "INFO:tensorflow:*** Available Device: _DeviceAttributes(/job:localhost/replica:0/task:0/device:CPU:0, CPU, 0, 0)\n"
          ],
          "name": "stderr"
        },
        {
          "output_type": "stream",
          "text": [
            "INFO:tensorflow:*** Available Device: _DeviceAttributes(/job:worker/replica:0/task:0/device:CPU:0, CPU, 0, 0)\n"
          ],
          "name": "stdout"
        },
        {
          "output_type": "stream",
          "text": [
            "INFO:tensorflow:*** Available Device: _DeviceAttributes(/job:worker/replica:0/task:0/device:CPU:0, CPU, 0, 0)\n"
          ],
          "name": "stderr"
        },
        {
          "output_type": "stream",
          "text": [
            "INFO:tensorflow:*** Available Device: _DeviceAttributes(/job:worker/replica:0/task:0/device:TPU:0, TPU, 0, 0)\n"
          ],
          "name": "stdout"
        },
        {
          "output_type": "stream",
          "text": [
            "INFO:tensorflow:*** Available Device: _DeviceAttributes(/job:worker/replica:0/task:0/device:TPU:0, TPU, 0, 0)\n"
          ],
          "name": "stderr"
        },
        {
          "output_type": "stream",
          "text": [
            "INFO:tensorflow:*** Available Device: _DeviceAttributes(/job:worker/replica:0/task:0/device:TPU:1, TPU, 0, 0)\n"
          ],
          "name": "stdout"
        },
        {
          "output_type": "stream",
          "text": [
            "INFO:tensorflow:*** Available Device: _DeviceAttributes(/job:worker/replica:0/task:0/device:TPU:1, TPU, 0, 0)\n"
          ],
          "name": "stderr"
        },
        {
          "output_type": "stream",
          "text": [
            "INFO:tensorflow:*** Available Device: _DeviceAttributes(/job:worker/replica:0/task:0/device:TPU:2, TPU, 0, 0)\n"
          ],
          "name": "stdout"
        },
        {
          "output_type": "stream",
          "text": [
            "INFO:tensorflow:*** Available Device: _DeviceAttributes(/job:worker/replica:0/task:0/device:TPU:2, TPU, 0, 0)\n"
          ],
          "name": "stderr"
        },
        {
          "output_type": "stream",
          "text": [
            "INFO:tensorflow:*** Available Device: _DeviceAttributes(/job:worker/replica:0/task:0/device:TPU:3, TPU, 0, 0)\n"
          ],
          "name": "stdout"
        },
        {
          "output_type": "stream",
          "text": [
            "INFO:tensorflow:*** Available Device: _DeviceAttributes(/job:worker/replica:0/task:0/device:TPU:3, TPU, 0, 0)\n"
          ],
          "name": "stderr"
        },
        {
          "output_type": "stream",
          "text": [
            "INFO:tensorflow:*** Available Device: _DeviceAttributes(/job:worker/replica:0/task:0/device:TPU:4, TPU, 0, 0)\n"
          ],
          "name": "stdout"
        },
        {
          "output_type": "stream",
          "text": [
            "INFO:tensorflow:*** Available Device: _DeviceAttributes(/job:worker/replica:0/task:0/device:TPU:4, TPU, 0, 0)\n"
          ],
          "name": "stderr"
        },
        {
          "output_type": "stream",
          "text": [
            "INFO:tensorflow:*** Available Device: _DeviceAttributes(/job:worker/replica:0/task:0/device:TPU:5, TPU, 0, 0)\n"
          ],
          "name": "stdout"
        },
        {
          "output_type": "stream",
          "text": [
            "INFO:tensorflow:*** Available Device: _DeviceAttributes(/job:worker/replica:0/task:0/device:TPU:5, TPU, 0, 0)\n"
          ],
          "name": "stderr"
        },
        {
          "output_type": "stream",
          "text": [
            "INFO:tensorflow:*** Available Device: _DeviceAttributes(/job:worker/replica:0/task:0/device:TPU:6, TPU, 0, 0)\n"
          ],
          "name": "stdout"
        },
        {
          "output_type": "stream",
          "text": [
            "INFO:tensorflow:*** Available Device: _DeviceAttributes(/job:worker/replica:0/task:0/device:TPU:6, TPU, 0, 0)\n"
          ],
          "name": "stderr"
        },
        {
          "output_type": "stream",
          "text": [
            "INFO:tensorflow:*** Available Device: _DeviceAttributes(/job:worker/replica:0/task:0/device:TPU:7, TPU, 0, 0)\n"
          ],
          "name": "stdout"
        },
        {
          "output_type": "stream",
          "text": [
            "INFO:tensorflow:*** Available Device: _DeviceAttributes(/job:worker/replica:0/task:0/device:TPU:7, TPU, 0, 0)\n"
          ],
          "name": "stderr"
        },
        {
          "output_type": "stream",
          "text": [
            "INFO:tensorflow:*** Available Device: _DeviceAttributes(/job:worker/replica:0/task:0/device:TPU_SYSTEM:0, TPU_SYSTEM, 0, 0)\n"
          ],
          "name": "stdout"
        },
        {
          "output_type": "stream",
          "text": [
            "INFO:tensorflow:*** Available Device: _DeviceAttributes(/job:worker/replica:0/task:0/device:TPU_SYSTEM:0, TPU_SYSTEM, 0, 0)\n"
          ],
          "name": "stderr"
        },
        {
          "output_type": "stream",
          "text": [
            "INFO:tensorflow:*** Available Device: _DeviceAttributes(/job:worker/replica:0/task:0/device:XLA_CPU:0, XLA_CPU, 0, 0)\n"
          ],
          "name": "stdout"
        },
        {
          "output_type": "stream",
          "text": [
            "INFO:tensorflow:*** Available Device: _DeviceAttributes(/job:worker/replica:0/task:0/device:XLA_CPU:0, XLA_CPU, 0, 0)\n"
          ],
          "name": "stderr"
        }
      ]
    },
    {
      "cell_type": "markdown",
      "metadata": {
        "id": "BoMDpJipb15_"
      },
      "source": [
        "# Cargando el conjunto de datos"
      ]
    },
    {
      "cell_type": "code",
      "metadata": {
        "id": "tme05GRIcPPM"
      },
      "source": [
        "import numpy as np"
      ],
      "execution_count": 6,
      "outputs": []
    },
    {
      "cell_type": "code",
      "metadata": {
        "colab": {
          "base_uri": "https://localhost:8080/"
        },
        "id": "PCN3jdL9bphB",
        "outputId": "911b45db-ba67-4c37-daaf-667a2c51c551"
      },
      "source": [
        "from google.colab import drive\n",
        "drive.mount('/content/drive')"
      ],
      "execution_count": 7,
      "outputs": [
        {
          "output_type": "stream",
          "text": [
            "Mounted at /content/drive\n"
          ],
          "name": "stdout"
        }
      ]
    },
    {
      "cell_type": "code",
      "metadata": {
        "id": "aTWI__Cvb76G"
      },
      "source": [
        "x_train_valid = np.load('drive/Shareddrives/Redes Neuronales BIO/CIFAR-100/x_train.npy')\n",
        "y_train_valid = np.load('drive/Shareddrives/Redes Neuronales BIO/CIFAR-100/y_train.npy')\n",
        "x_test = np.load('drive/Shareddrives/Redes Neuronales BIO/CIFAR-100/x_test.npy')"
      ],
      "execution_count": 8,
      "outputs": []
    },
    {
      "cell_type": "markdown",
      "metadata": {
        "id": "mD1uLguEcjes"
      },
      "source": [
        "# Separando el conjunto de datos"
      ]
    },
    {
      "cell_type": "code",
      "metadata": {
        "id": "TFodEyI2cls8"
      },
      "source": [
        "from sklearn.model_selection import train_test_split"
      ],
      "execution_count": 9,
      "outputs": []
    },
    {
      "cell_type": "code",
      "metadata": {
        "id": "JdxGcr4BcrQV"
      },
      "source": [
        "x_train, x_valid, y_train, y_valid = train_test_split(x_train_valid, y_train_valid, test_size=0.2, random_state=15, stratify=y_train_valid)"
      ],
      "execution_count": 10,
      "outputs": []
    },
    {
      "cell_type": "markdown",
      "metadata": {
        "id": "AAzSO7fhQFZn"
      },
      "source": [
        "# Escalando las imágenes"
      ]
    },
    {
      "cell_type": "code",
      "metadata": {
        "id": "XRIAHkvrSTcA"
      },
      "source": [
        "from helper import resize_images"
      ],
      "execution_count": 11,
      "outputs": []
    },
    {
      "cell_type": "code",
      "metadata": {
        "id": "Ko-te4qmBdm9"
      },
      "source": [
        "x_train_tf = resize_images(x_train, 224, 224)"
      ],
      "execution_count": 12,
      "outputs": []
    },
    {
      "cell_type": "code",
      "metadata": {
        "colab": {
          "base_uri": "https://localhost:8080/"
        },
        "id": "1aYsgBkyBlEW",
        "outputId": "18033ee9-9acf-4e07-cc21-a750b6c2e3a1"
      },
      "source": [
        "x_train_tf.shape"
      ],
      "execution_count": 13,
      "outputs": [
        {
          "output_type": "execute_result",
          "data": {
            "text/plain": [
              "TensorShape([40000, 224, 224, 3])"
            ]
          },
          "metadata": {
            "tags": []
          },
          "execution_count": 13
        }
      ]
    },
    {
      "cell_type": "code",
      "metadata": {
        "id": "YowDpD01F0EE"
      },
      "source": [
        "x_valid_tf = resize_images(x_valid, 224, 224)"
      ],
      "execution_count": 14,
      "outputs": []
    },
    {
      "cell_type": "code",
      "metadata": {
        "colab": {
          "base_uri": "https://localhost:8080/"
        },
        "id": "mgJEzQasCAkA",
        "outputId": "531b3acf-85df-4fdf-ea2a-139d3003512e"
      },
      "source": [
        "x_valid_tf.shape"
      ],
      "execution_count": 15,
      "outputs": [
        {
          "output_type": "execute_result",
          "data": {
            "text/plain": [
              "TensorShape([10000, 224, 224, 3])"
            ]
          },
          "metadata": {
            "tags": []
          },
          "execution_count": 15
        }
      ]
    },
    {
      "cell_type": "code",
      "metadata": {
        "id": "DVbyylGz0PeO"
      },
      "source": [
        "x_test_tf = resize_images(x_test, 224, 224)"
      ],
      "execution_count": 16,
      "outputs": []
    },
    {
      "cell_type": "code",
      "metadata": {
        "colab": {
          "base_uri": "https://localhost:8080/"
        },
        "id": "RouPbmHlQOHq",
        "outputId": "e778d7cd-27ce-49ba-aa00-8054c73d9ce8"
      },
      "source": [
        "x_test_tf.shape"
      ],
      "execution_count": 17,
      "outputs": [
        {
          "output_type": "execute_result",
          "data": {
            "text/plain": [
              "TensorShape([10000, 224, 224, 3])"
            ]
          },
          "metadata": {
            "tags": []
          },
          "execution_count": 17
        }
      ]
    },
    {
      "cell_type": "markdown",
      "metadata": {
        "id": "iw_4rlPai0rC"
      },
      "source": [
        "# Modelo"
      ]
    },
    {
      "cell_type": "code",
      "metadata": {
        "id": "qJFlRTbogj8V"
      },
      "source": [
        "from tensorflow.keras.applications import EfficientNetB0"
      ],
      "execution_count": 18,
      "outputs": []
    },
    {
      "cell_type": "code",
      "metadata": {
        "id": "zoSTkQBFjWHa"
      },
      "source": [
        "from tensorflow.keras.layers import (GlobalAveragePooling2D, Dense, Activation, \n",
        "                                     BatchNormalization, Reshape, Dropout, InputLayer,\n",
        "                                     Flatten)"
      ],
      "execution_count": 19,
      "outputs": []
    },
    {
      "cell_type": "code",
      "metadata": {
        "id": "yzpSID8T8act"
      },
      "source": [
        "from tensorflow.keras.layers.experimental.preprocessing import (Resizing,\n",
        "                                                                RandomFlip,\n",
        "                                                                RandomZoom,\n",
        "                                                                RandomRotation,\n",
        "                                                                RandomTranslation)"
      ],
      "execution_count": 20,
      "outputs": []
    },
    {
      "cell_type": "code",
      "metadata": {
        "id": "9vn5GMYc8W0O"
      },
      "source": [
        "from tensorflow.keras.models import Sequential"
      ],
      "execution_count": 21,
      "outputs": []
    },
    {
      "cell_type": "code",
      "metadata": {
        "id": "MQeSWLDCksUy"
      },
      "source": [
        "from tensorflow.keras.callbacks import ModelCheckpoint, EarlyStopping, ReduceLROnPlateau"
      ],
      "execution_count": 22,
      "outputs": []
    },
    {
      "cell_type": "code",
      "metadata": {
        "id": "4yGCUq06j3vv"
      },
      "source": [
        "from tensorflow.keras.optimizers import Adam"
      ],
      "execution_count": 23,
      "outputs": []
    },
    {
      "cell_type": "code",
      "metadata": {
        "id": "Py8fBWNQzdOe"
      },
      "source": [
        "from tensorflow import keras"
      ],
      "execution_count": 24,
      "outputs": []
    },
    {
      "cell_type": "code",
      "metadata": {
        "id": "26KfwGCui7aq",
        "colab": {
          "base_uri": "https://localhost:8080/"
        },
        "outputId": "7b426da0-733c-4e66-de50-355b14f9bac3"
      },
      "source": [
        "with strategy.scope():\n",
        "  # Create the model\n",
        "  model = Sequential()\n",
        "  model.add(InputLayer(input_shape=(224, 224, 3)))\n",
        "  model.add(EfficientNetB0(include_top=False, weights='imagenet', input_shape=(224, 224, 3)))\n",
        "  model.add(GlobalAveragePooling2D())\n",
        "  model.add(BatchNormalization())\n",
        "  model.add(Dropout(0.5))\n",
        "  model.add(Dense(units=100))\n",
        "  model.add(Activation('softmax'))\n",
        "\n",
        "  # Compile the model\n",
        "  model.compile(loss='sparse_categorical_crossentropy',\n",
        "                optimizer=Adam(learning_rate=0.0001),\n",
        "                metrics=['accuracy']\n",
        "              )\n",
        "\n",
        "# Summarize\n",
        "model.summary()"
      ],
      "execution_count": 25,
      "outputs": [
        {
          "output_type": "stream",
          "text": [
            "Downloading data from https://storage.googleapis.com/keras-applications/efficientnetb0_notop.h5\n",
            "16711680/16705208 [==============================] - 0s 0us/step\n",
            "Model: \"sequential\"\n",
            "_________________________________________________________________\n",
            "Layer (type)                 Output Shape              Param #   \n",
            "=================================================================\n",
            "efficientnetb0 (Functional)  (None, 7, 7, 1280)        4049571   \n",
            "_________________________________________________________________\n",
            "global_average_pooling2d (Gl (None, 1280)              0         \n",
            "_________________________________________________________________\n",
            "batch_normalization (BatchNo (None, 1280)              5120      \n",
            "_________________________________________________________________\n",
            "dropout (Dropout)            (None, 1280)              0         \n",
            "_________________________________________________________________\n",
            "dense (Dense)                (None, 100)               128100    \n",
            "_________________________________________________________________\n",
            "activation (Activation)      (None, 100)               0         \n",
            "=================================================================\n",
            "Total params: 4,182,791\n",
            "Trainable params: 4,138,208\n",
            "Non-trainable params: 44,583\n",
            "_________________________________________________________________\n"
          ],
          "name": "stdout"
        }
      ]
    },
    {
      "cell_type": "code",
      "metadata": {
        "id": "4ToQyuw6j0El",
        "colab": {
          "base_uri": "https://localhost:8080/"
        },
        "outputId": "968d93f9-fe48-4fdb-e342-3c19d9c82d36"
      },
      "source": [
        "# Create the ModelCheckpoint callback to save the best model during training\n",
        "mc_callback = ModelCheckpoint('model_1.hdf5',\n",
        "                              monitor='val_accuracy',\n",
        "                              save_best_only=True,\n",
        "                              verbose=0,\n",
        "                              mode='max'\n",
        "                             )\n",
        "\n",
        "# Create the EarlyStopping callback to stop when not improving during training\n",
        "es_callback = EarlyStopping(monitor='val_loss', mode='min', verbose=1, patience=10)\n",
        "\n",
        "# Create the ReduceLROnPlateau callback to reduce the learning rate when not improving\n",
        "lr_callback = ReduceLROnPlateau(monitor='val_accuracy', factor=0.2, patience=2, min_lr=0.001)\n",
        "\n",
        "# Train the model\n",
        "epochs = 50\n",
        "batch_size = 256\n",
        "model.fit(x_train_tf,\n",
        "          y_train,\n",
        "          validation_data=(x_valid_tf, y_valid), \n",
        "          callbacks=[mc_callback, es_callback, lr_callback],\n",
        "          epochs=epochs,\n",
        "          batch_size=batch_size\n",
        "          )"
      ],
      "execution_count": 26,
      "outputs": [
        {
          "output_type": "stream",
          "text": [
            "Epoch 1/50\n",
            "157/157 [==============================] - 101s 326ms/step - loss: 4.0313 - accuracy: 0.1756 - val_loss: 4.9670 - val_accuracy: 0.0173\n"
          ],
          "name": "stdout"
        },
        {
          "output_type": "stream",
          "text": [
            "/usr/local/lib/python3.7/dist-packages/tensorflow/python/keras/utils/generic_utils.py:497: CustomMaskWarning: Custom mask layers require a config and must override get_config. When loading, the custom mask layer must be passed to the custom_objects argument.\n",
            "  category=CustomMaskWarning)\n"
          ],
          "name": "stderr"
        },
        {
          "output_type": "stream",
          "text": [
            "Epoch 2/50\n",
            "157/157 [==============================] - 19s 118ms/step - loss: 1.9836 - accuracy: 0.4850 - val_loss: 3.5797 - val_accuracy: 0.2410\n",
            "Epoch 3/50\n",
            "157/157 [==============================] - 18s 118ms/step - loss: 1.4215 - accuracy: 0.6083 - val_loss: 1.1935 - val_accuracy: 0.6678\n",
            "Epoch 4/50\n",
            "157/157 [==============================] - 19s 118ms/step - loss: 1.1488 - accuracy: 0.6740 - val_loss: 0.7739 - val_accuracy: 0.7707\n",
            "Epoch 5/50\n",
            "157/157 [==============================] - 19s 118ms/step - loss: 0.9614 - accuracy: 0.7220 - val_loss: 0.6970 - val_accuracy: 0.7924\n",
            "Epoch 6/50\n",
            "157/157 [==============================] - 19s 119ms/step - loss: 0.8364 - accuracy: 0.7526 - val_loss: 0.6638 - val_accuracy: 0.8059\n",
            "Epoch 7/50\n",
            "157/157 [==============================] - 19s 118ms/step - loss: 0.7217 - accuracy: 0.7856 - val_loss: 0.6389 - val_accuracy: 0.8131\n",
            "Epoch 8/50\n",
            "157/157 [==============================] - 18s 117ms/step - loss: 0.6390 - accuracy: 0.8062 - val_loss: 0.6138 - val_accuracy: 0.8196\n",
            "Epoch 9/50\n",
            "157/157 [==============================] - 18s 118ms/step - loss: 0.5753 - accuracy: 0.8255 - val_loss: 0.6036 - val_accuracy: 0.8228\n",
            "Epoch 10/50\n",
            "157/157 [==============================] - 18s 118ms/step - loss: 0.5135 - accuracy: 0.8418 - val_loss: 0.5907 - val_accuracy: 0.8261\n",
            "Epoch 11/50\n",
            "157/157 [==============================] - 18s 118ms/step - loss: 0.4584 - accuracy: 0.8570 - val_loss: 0.5888 - val_accuracy: 0.8320\n",
            "Epoch 12/50\n",
            "157/157 [==============================] - 18s 117ms/step - loss: 0.4110 - accuracy: 0.8731 - val_loss: 0.5914 - val_accuracy: 0.8309\n",
            "Epoch 13/50\n",
            "157/157 [==============================] - 19s 121ms/step - loss: 0.3743 - accuracy: 0.8818 - val_loss: 0.5881 - val_accuracy: 0.8368\n",
            "Epoch 14/50\n",
            "157/157 [==============================] - 18s 118ms/step - loss: 0.3306 - accuracy: 0.8964 - val_loss: 0.5839 - val_accuracy: 0.8378\n",
            "Epoch 15/50\n",
            "157/157 [==============================] - 19s 118ms/step - loss: 0.2993 - accuracy: 0.9063 - val_loss: 0.5871 - val_accuracy: 0.8398\n",
            "Epoch 16/50\n",
            "157/157 [==============================] - 19s 118ms/step - loss: 0.2765 - accuracy: 0.9116 - val_loss: 0.5880 - val_accuracy: 0.8391\n",
            "Epoch 17/50\n",
            "157/157 [==============================] - 19s 119ms/step - loss: 0.2444 - accuracy: 0.9222 - val_loss: 0.5959 - val_accuracy: 0.8410\n",
            "Epoch 18/50\n",
            "157/157 [==============================] - 19s 119ms/step - loss: 0.2238 - accuracy: 0.9287 - val_loss: 0.5962 - val_accuracy: 0.8388\n",
            "Epoch 19/50\n",
            "157/157 [==============================] - 19s 119ms/step - loss: 0.2037 - accuracy: 0.9352 - val_loss: 0.5996 - val_accuracy: 0.8420\n",
            "Epoch 20/50\n",
            "157/157 [==============================] - 19s 118ms/step - loss: 0.1874 - accuracy: 0.9412 - val_loss: 0.6084 - val_accuracy: 0.8403\n",
            "Epoch 21/50\n",
            "157/157 [==============================] - 19s 119ms/step - loss: 0.1688 - accuracy: 0.9469 - val_loss: 0.6150 - val_accuracy: 0.8425\n",
            "Epoch 22/50\n",
            "157/157 [==============================] - 19s 118ms/step - loss: 0.1584 - accuracy: 0.9502 - val_loss: 0.6172 - val_accuracy: 0.8401\n",
            "Epoch 23/50\n",
            "157/157 [==============================] - 19s 118ms/step - loss: 0.1471 - accuracy: 0.9546 - val_loss: 0.6338 - val_accuracy: 0.8395\n",
            "Epoch 24/50\n",
            "157/157 [==============================] - 18s 117ms/step - loss: 0.1368 - accuracy: 0.9566 - val_loss: 0.6354 - val_accuracy: 0.8413\n",
            "Epoch 00024: early stopping\n"
          ],
          "name": "stdout"
        },
        {
          "output_type": "execute_result",
          "data": {
            "text/plain": [
              "<tensorflow.python.keras.callbacks.History at 0x7f90077ec0d0>"
            ]
          },
          "metadata": {
            "tags": []
          },
          "execution_count": 26
        }
      ]
    },
    {
      "cell_type": "markdown",
      "metadata": {
        "id": "wSzkJ3ANSZyV"
      },
      "source": [
        "# Evaluación del modelo"
      ]
    },
    {
      "cell_type": "code",
      "metadata": {
        "id": "5-ok49M3SbGt"
      },
      "source": [
        "from helper import generate_submission"
      ],
      "execution_count": 27,
      "outputs": []
    },
    {
      "cell_type": "code",
      "metadata": {
        "id": "MPLCPMsXkCbE",
        "colab": {
          "base_uri": "https://localhost:8080/"
        },
        "outputId": "24afced4-ec59-4cae-d384-928be2de85ae"
      },
      "source": [
        "# Load the model and show the final metrics\n",
        "model = keras.models.load_model('model_1.hdf5')\n",
        "\n",
        "# Train and validation metrics\n",
        "_, train_acc = model.evaluate(x_train_tf, y_train, verbose=0)\n",
        "_, valid_acc = model.evaluate(x_valid_tf, y_valid, verbose=0)\n",
        "\n",
        "# Show result\n",
        "print(f'[Accuracy] Train: {round(train_acc, 3)} Valid: {round(valid_acc, 3)}')"
      ],
      "execution_count": 28,
      "outputs": [
        {
          "output_type": "stream",
          "text": [
            "[Accuracy] Train: 0.997 Valid: 0.842\n"
          ],
          "name": "stdout"
        }
      ]
    },
    {
      "cell_type": "code",
      "metadata": {
        "id": "KOjUbI770Uto"
      },
      "source": [
        "y_pred = model.predict(x_test_tf).argmax(axis=-1)"
      ],
      "execution_count": 29,
      "outputs": []
    },
    {
      "cell_type": "code",
      "metadata": {
        "id": "kIRCessu0o1Z"
      },
      "source": [
        "generate_submission(y_pred)"
      ],
      "execution_count": 30,
      "outputs": []
    }
  ]
}