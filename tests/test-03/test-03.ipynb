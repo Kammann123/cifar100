{
 "cells": [
  {
   "cell_type": "markdown",
   "metadata": {},
   "source": [
    "# Test-03\n",
    "Ejecutado en **Kaggle**.\n",
    "\n",
    "## Descripción\n",
    "En esta prueba nos enfocamos en realizar pruebas de data augmentation, probando bibliotecas como **Albumentations** y **Keras**, se crearon generadores de imágenes con transformaciones para simular un conjunto de datos más grande, empleando la técnica 'on the fly' porque la generación estática ocupaba más memoria RAM de la disponible. No funcionó correctamente aplicando la transformación de a batch, pero sí en pasadas de entrenamiento, de forma tal que se reentrena el modelo sobre el mismo conjunto de 40.000 imágenes transformadas.\n",
    "\n",
    "La conclusión, fue que un modelo mejorado respecto de las pruebas anteriores y simil a la arquitectura VGG16 en algunos aspectos, presentó una métrica igual a la mejor obtenida hasta el momento, pero con menos overfitting. Entonces, es probable que esta técnica haya rendido frutos y los siguientes pasos serán crear redes más complejas que podremos entrenar con menos problema usando data augmentation."
   ]
  },
  {
   "cell_type": "markdown",
   "metadata": {
    "id": "6Ya3QDCeXaIC",
    "papermill": {
     "duration": 0.035055,
     "end_time": "2021-06-23T04:08:53.333908",
     "exception": false,
     "start_time": "2021-06-23T04:08:53.298853",
     "status": "completed"
    },
    "tags": []
   },
   "source": [
    "# Fuentes\n",
    "\n",
    "### Link: https://towardsdatascience.com/simple-image-data-augmentation-technics-to-mitigate-overfitting-in-computer-vision-2a6966f51af4\n",
    "Explicación general sobre técnicas de **data augmentation** orientadas a conjuntos de datos de imágenes.\n",
    "\n",
    "### Link: https://albumentations.ai/docs/getting_started/image_augmentation/\n",
    "Página oficial de la biblioteca **Albumentations**, utilizada para crear pipelines con operaciones aleatorias a realizar sobre las imágenes para generar un conjunto de datos más grande.\n",
    "\n",
    "### Link: https://medium.com/the-artificial-impostor/custom-image-augmentation-with-keras-70595b01aeac\n",
    "Es interesante observar cómo se puede hacer aplicar data augmentation 'on the fly' sobre cada batch, para evitar que el conjunto de datos crezca demasiado en memoria y que no pueda manejarse."
   ]
  },
  {
   "cell_type": "code",
   "execution_count": 1,
   "metadata": {
    "execution": {
     "iopub.execute_input": "2021-06-23T04:08:53.404708Z",
     "iopub.status.busy": "2021-06-23T04:08:53.403416Z",
     "iopub.status.idle": "2021-06-23T04:08:53.405865Z",
     "shell.execute_reply": "2021-06-23T04:08:53.405284Z",
     "shell.execute_reply.started": "2021-06-23T04:02:13.617693Z"
    },
    "papermill": {
     "duration": 0.041771,
     "end_time": "2021-06-23T04:08:53.406000",
     "exception": false,
     "start_time": "2021-06-23T04:08:53.364229",
     "status": "completed"
    },
    "tags": []
   },
   "outputs": [],
   "source": [
    "import os"
   ]
  },
  {
   "cell_type": "code",
   "execution_count": 2,
   "metadata": {
    "execution": {
     "iopub.execute_input": "2021-06-23T04:08:53.471692Z",
     "iopub.status.busy": "2021-06-23T04:08:53.470046Z",
     "iopub.status.idle": "2021-06-23T04:08:53.473960Z",
     "shell.execute_reply": "2021-06-23T04:08:53.473442Z",
     "shell.execute_reply.started": "2021-06-23T04:02:13.788998Z"
    },
    "id": "yyGneejaXaIH",
    "papermill": {
     "duration": 0.038691,
     "end_time": "2021-06-23T04:08:53.474127",
     "exception": false,
     "start_time": "2021-06-23T04:08:53.435436",
     "status": "completed"
    },
    "tags": []
   },
   "outputs": [],
   "source": [
    "import numpy as np"
   ]
  },
  {
   "cell_type": "code",
   "execution_count": 3,
   "metadata": {
    "execution": {
     "iopub.execute_input": "2021-06-23T04:08:53.538864Z",
     "iopub.status.busy": "2021-06-23T04:08:53.538253Z",
     "iopub.status.idle": "2021-06-23T04:08:54.531243Z",
     "shell.execute_reply": "2021-06-23T04:08:54.532701Z",
     "shell.execute_reply.started": "2021-06-23T04:02:13.954494Z"
    },
    "id": "CBCsCS-LXaIJ",
    "papermill": {
     "duration": 1.029587,
     "end_time": "2021-06-23T04:08:54.533291",
     "exception": false,
     "start_time": "2021-06-23T04:08:53.503704",
     "status": "completed"
    },
    "tags": []
   },
   "outputs": [],
   "source": [
    "import seaborn as sns"
   ]
  },
  {
   "cell_type": "code",
   "execution_count": 4,
   "metadata": {
    "execution": {
     "iopub.execute_input": "2021-06-23T04:08:54.624716Z",
     "iopub.status.busy": "2021-06-23T04:08:54.623737Z",
     "iopub.status.idle": "2021-06-23T04:08:54.627733Z",
     "shell.execute_reply": "2021-06-23T04:08:54.626959Z",
     "shell.execute_reply.started": "2021-06-23T04:02:14.719155Z"
    },
    "id": "ZCsZOUOIXaIL",
    "papermill": {
     "duration": 0.040304,
     "end_time": "2021-06-23T04:08:54.627862",
     "exception": false,
     "start_time": "2021-06-23T04:08:54.587558",
     "status": "completed"
    },
    "tags": []
   },
   "outputs": [],
   "source": [
    "import matplotlib.pyplot as plt"
   ]
  },
  {
   "cell_type": "code",
   "execution_count": 6,
   "metadata": {
    "execution": {
     "iopub.execute_input": "2021-06-23T04:08:56.169887Z",
     "iopub.status.busy": "2021-06-23T04:08:56.169054Z",
     "iopub.status.idle": "2021-06-23T04:08:56.173730Z",
     "shell.execute_reply": "2021-06-23T04:08:56.173187Z",
     "shell.execute_reply.started": "2021-06-23T04:02:15.818871Z"
    },
    "id": "gdCWRkttXaIN",
    "papermill": {
     "duration": 0.04001,
     "end_time": "2021-06-23T04:08:56.173847",
     "exception": false,
     "start_time": "2021-06-23T04:08:56.133837",
     "status": "completed"
    },
    "tags": []
   },
   "outputs": [],
   "source": [
    "sns.set(style='darkgrid', context='notebook')"
   ]
  },
  {
   "cell_type": "markdown",
   "metadata": {
    "id": "eujP3nBBXaIO",
    "papermill": {
     "duration": 0.029192,
     "end_time": "2021-06-23T04:08:56.302837",
     "exception": false,
     "start_time": "2021-06-23T04:08:56.273645",
     "status": "completed"
    },
    "tags": []
   },
   "source": [
    "## Cargando las bases de datos"
   ]
  },
  {
   "cell_type": "code",
   "execution_count": 8,
   "metadata": {
    "execution": {
     "iopub.execute_input": "2021-06-23T04:08:56.367457Z",
     "iopub.status.busy": "2021-06-23T04:08:56.366801Z",
     "iopub.status.idle": "2021-06-23T04:08:56.382034Z",
     "shell.execute_reply": "2021-06-23T04:08:56.381486Z",
     "shell.execute_reply.started": "2021-06-23T04:02:15.838736Z"
    },
    "id": "CkwKy6-zXgqB",
    "outputId": "22b1d8e7-083b-4360-9eb7-2215311833a7",
    "papermill": {
     "duration": 0.049484,
     "end_time": "2021-06-23T04:08:56.382229",
     "exception": false,
     "start_time": "2021-06-23T04:08:56.332745",
     "status": "completed"
    },
    "tags": []
   },
   "outputs": [
    {
     "name": "stdout",
     "output_type": "stream",
     "text": [
      "/kaggle/input/rn2021q1-itba-cifar100/y_train.npy\n",
      "/kaggle/input/rn2021q1-itba-cifar100/x_test.npy\n",
      "/kaggle/input/rn2021q1-itba-cifar100/x_train.npy\n"
     ]
    }
   ],
   "source": [
    "for dirname, _, filenames in os.walk('/kaggle/input'):\n",
    "    for filename in filenames:\n",
    "        print(os.path.join(dirname, filename))"
   ]
  },
  {
   "cell_type": "code",
   "execution_count": 9,
   "metadata": {
    "execution": {
     "iopub.execute_input": "2021-06-23T04:08:56.447566Z",
     "iopub.status.busy": "2021-06-23T04:08:56.446858Z",
     "iopub.status.idle": "2021-06-23T04:08:59.626694Z",
     "shell.execute_reply": "2021-06-23T04:08:59.625890Z",
     "shell.execute_reply.started": "2021-06-23T04:02:15.856509Z"
    },
    "id": "GDaNt25yXaIP",
    "papermill": {
     "duration": 3.213444,
     "end_time": "2021-06-23T04:08:59.626923",
     "exception": false,
     "start_time": "2021-06-23T04:08:56.413479",
     "status": "completed"
    },
    "tags": []
   },
   "outputs": [],
   "source": [
    "x_train_valid = np.load('/kaggle/input/rn2021q1-itba-cifar100/x_train.npy')\n",
    "y_train_valid = np.load('/kaggle/input/rn2021q1-itba-cifar100/y_train.npy')\n",
    "x_test = np.load('/kaggle/input/rn2021q1-itba-cifar100/x_test.npy')"
   ]
  },
  {
   "cell_type": "markdown",
   "metadata": {
    "id": "Db1e-CqkXvB1",
    "papermill": {
     "duration": 0.053704,
     "end_time": "2021-06-23T04:08:59.725756",
     "exception": false,
     "start_time": "2021-06-23T04:08:59.672052",
     "status": "completed"
    },
    "tags": []
   },
   "source": [
    "# Separando conjuntos para entrenamiento y validación"
   ]
  },
  {
   "cell_type": "code",
   "execution_count": 10,
   "metadata": {
    "execution": {
     "iopub.execute_input": "2021-06-23T04:08:59.835600Z",
     "iopub.status.busy": "2021-06-23T04:08:59.834513Z",
     "iopub.status.idle": "2021-06-23T04:09:00.062620Z",
     "shell.execute_reply": "2021-06-23T04:09:00.061637Z",
     "shell.execute_reply.started": "2021-06-23T04:02:19.128833Z"
    },
    "id": "_vKJs9jnX15e",
    "papermill": {
     "duration": 0.287541,
     "end_time": "2021-06-23T04:09:00.062821",
     "exception": false,
     "start_time": "2021-06-23T04:08:59.775280",
     "status": "completed"
    },
    "tags": []
   },
   "outputs": [],
   "source": [
    "from sklearn.model_selection import train_test_split"
   ]
  },
  {
   "cell_type": "code",
   "execution_count": 11,
   "metadata": {
    "execution": {
     "iopub.execute_input": "2021-06-23T04:09:00.169872Z",
     "iopub.status.busy": "2021-06-23T04:09:00.168844Z",
     "iopub.status.idle": "2021-06-23T04:09:00.617695Z",
     "shell.execute_reply": "2021-06-23T04:09:00.616671Z",
     "shell.execute_reply.started": "2021-06-23T04:02:19.337617Z"
    },
    "id": "z8mrvLn4X3Ud",
    "papermill": {
     "duration": 0.505158,
     "end_time": "2021-06-23T04:09:00.617838",
     "exception": false,
     "start_time": "2021-06-23T04:09:00.112680",
     "status": "completed"
    },
    "tags": []
   },
   "outputs": [],
   "source": [
    "x_train, x_valid, y_train, y_valid = train_test_split(x_train_valid, y_train_valid, test_size=0.2, random_state=15, stratify=y_train_valid)"
   ]
  },
  {
   "cell_type": "markdown",
   "metadata": {
    "id": "TiXyaCZqhmTq",
    "papermill": {
     "duration": 0.030727,
     "end_time": "2021-06-23T04:09:00.679465",
     "exception": false,
     "start_time": "2021-06-23T04:09:00.648738",
     "status": "completed"
    },
    "tags": []
   },
   "source": [
    "# Normalización de los datos"
   ]
  },
  {
   "cell_type": "code",
   "execution_count": 12,
   "metadata": {
    "execution": {
     "iopub.execute_input": "2021-06-23T04:09:00.746277Z",
     "iopub.status.busy": "2021-06-23T04:09:00.744942Z",
     "iopub.status.idle": "2021-06-23T04:09:01.417042Z",
     "shell.execute_reply": "2021-06-23T04:09:01.416476Z",
     "shell.execute_reply.started": "2021-06-23T04:02:19.845892Z"
    },
    "id": "p9wYWNl6hY3T",
    "papermill": {
     "duration": 0.706763,
     "end_time": "2021-06-23T04:09:01.417232",
     "exception": false,
     "start_time": "2021-06-23T04:09:00.710469",
     "status": "completed"
    },
    "tags": []
   },
   "outputs": [],
   "source": [
    "x_valid_norm = x_valid / 255\n",
    "x_test_norm = x_test / 255\n",
    "x_train_norm = x_train / 255"
   ]
  },
  {
   "cell_type": "markdown",
   "metadata": {
    "id": "2FbEQVN4XaIR",
    "papermill": {
     "duration": 0.03037,
     "end_time": "2021-06-23T04:09:01.478563",
     "exception": false,
     "start_time": "2021-06-23T04:09:01.448193",
     "status": "completed"
    },
    "tags": []
   },
   "source": [
    "# Data Augmentation con Albumentation\n",
    "Se aplica **data augmentation** utilizando la biblioteca Albumentations para aumentar el tamaño del conjunto de datos para entrenamiento. El conjunto de validación permanece intacto para validar que la técnica tuvo buenos resultados sin contaminar los datos de dicho conjunto."
   ]
  },
  {
   "cell_type": "code",
   "execution_count": 13,
   "metadata": {
    "execution": {
     "iopub.execute_input": "2021-06-23T04:09:01.545723Z",
     "iopub.status.busy": "2021-06-23T04:09:01.544899Z",
     "iopub.status.idle": "2021-06-23T04:09:07.432700Z",
     "shell.execute_reply": "2021-06-23T04:09:07.432116Z",
     "shell.execute_reply.started": "2021-06-23T04:02:20.305695Z"
    },
    "id": "qzC14PXqqi-X",
    "papermill": {
     "duration": 5.923034,
     "end_time": "2021-06-23T04:09:07.432836",
     "exception": false,
     "start_time": "2021-06-23T04:09:01.509802",
     "status": "completed"
    },
    "tags": []
   },
   "outputs": [],
   "source": [
    "from tensorflow.keras.utils import Sequence"
   ]
  },
  {
   "cell_type": "code",
   "execution_count": 14,
   "metadata": {
    "execution": {
     "iopub.execute_input": "2021-06-23T04:09:07.512676Z",
     "iopub.status.busy": "2021-06-23T04:09:07.510687Z",
     "iopub.status.idle": "2021-06-23T04:09:07.517586Z",
     "shell.execute_reply": "2021-06-23T04:09:07.516072Z",
     "shell.execute_reply.started": "2021-06-23T04:02:24.951680Z"
    },
    "id": "9ml_v1Z5LXL8",
    "papermill": {
     "duration": 0.05602,
     "end_time": "2021-06-23T04:09:07.518025",
     "exception": false,
     "start_time": "2021-06-23T04:09:07.462005",
     "status": "completed"
    },
    "tags": []
   },
   "outputs": [],
   "source": [
    "from albumentations import Compose, ToFloat, HorizontalFlip, VerticalFlip, Rotate\n",
    "from albumentations import RandomBrightnessContrast"
   ]
  },
  {
   "cell_type": "code",
   "execution_count": 15,
   "metadata": {
    "execution": {
     "iopub.execute_input": "2021-06-23T04:09:07.679344Z",
     "iopub.status.busy": "2021-06-23T04:09:07.675363Z",
     "iopub.status.idle": "2021-06-23T04:09:07.683899Z",
     "shell.execute_reply": "2021-06-23T04:09:07.684706Z",
     "shell.execute_reply.started": "2021-06-23T04:02:24.964004Z"
    },
    "id": "ZmrWJDnvqlyA",
    "papermill": {
     "duration": 0.091181,
     "end_time": "2021-06-23T04:09:07.685112",
     "exception": false,
     "start_time": "2021-06-23T04:09:07.593931",
     "status": "completed"
    },
    "tags": []
   },
   "outputs": [],
   "source": [
    "class AugmentedSequence(Sequence):\n",
    "  \"\"\" Dataset generator with data augmentation \"\"\"\n",
    "\n",
    "  def __init__(self, x, y, batch_size, augmentation, shuffle=True):\n",
    "    \"\"\" Create an instance of the data augmented generator, which is a \n",
    "        dataset generator to provide 'on the fly' data augmentation.\n",
    "        @param x\n",
    "        @param y\n",
    "        @param batch_size\n",
    "        @param augmentation\n",
    "        @param shuffle\n",
    "    \"\"\"\n",
    "    # Save internal parameters of the augmented sequence\n",
    "    self.x = x\n",
    "    self.y = y\n",
    "    self.batch_size = batch_size\n",
    "    self.augmentation = augmentation\n",
    "    self.shuffle = shuffle\n",
    "\n",
    "    # Initialization\n",
    "    self.on_epoch_end()\n",
    "  \n",
    "  def __len__(self):\n",
    "    \"\"\" Compute the length of an epoch measured in batches\n",
    "    \"\"\"\n",
    "    return int(np.floor(len(self.x) / float(self.batch_size)))\n",
    "  \n",
    "  def __getitem__(self, index):\n",
    "    \"\"\" Return the item from the sequence at the given index\n",
    "        @param index\n",
    "    \"\"\"\n",
    "    # Generate indexes of the batch\n",
    "    indexes = self.indexes[index * self.batch_size : (index + 1) * self.batch_size]\n",
    "\n",
    "    # Extract the input and output batch from the original dataset\n",
    "    batch_x = self.x[indexes]\n",
    "    batch_y = self.y[indexes]\n",
    "    \n",
    "    # Return an augmented version of the batch\n",
    "    return np.array([\n",
    "      self.augmentation(image=x)['image'] for x in batch_x\n",
    "    ]), np.array(batch_y)\n",
    "\n",
    "  def on_epoch_end(self):\n",
    "    \"\"\" Updates indexes after each epoch\n",
    "    \"\"\"\n",
    "    self.indexes = np.arange(len(self.x))\n",
    "    if self.shuffle is True:\n",
    "        np.random.shuffle(self.indexes)\n"
   ]
  },
  {
   "cell_type": "code",
   "execution_count": 16,
   "metadata": {
    "execution": {
     "iopub.execute_input": "2021-06-23T04:09:07.815288Z",
     "iopub.status.busy": "2021-06-23T04:09:07.811967Z",
     "iopub.status.idle": "2021-06-23T04:09:07.816339Z",
     "shell.execute_reply": "2021-06-23T04:09:07.817343Z",
     "shell.execute_reply.started": "2021-06-23T04:02:24.977131Z"
    },
    "id": "2p0Bz8pTXaIT",
    "papermill": {
     "duration": 0.067475,
     "end_time": "2021-06-23T04:09:07.817554",
     "exception": false,
     "start_time": "2021-06-23T04:09:07.750079",
     "status": "completed"
    },
    "tags": []
   },
   "outputs": [],
   "source": [
    "# Create the AugmentedSequence\n",
    "album_generator = AugmentedSequence(x_train,\n",
    "                                    y_train,\n",
    "                                    40000,\n",
    "                                    Compose([\n",
    "                                            Rotate(),\n",
    "                                            HorizontalFlip(),\n",
    "                                            VerticalFlip(),\n",
    "                                            RandomBrightnessContrast(),\n",
    "                                            ToFloat()\n",
    "                                    ])\n",
    "                                    )"
   ]
  },
  {
   "cell_type": "markdown",
   "metadata": {
    "id": "h-NSUi_Ue7Hm",
    "papermill": {
     "duration": 0.049809,
     "end_time": "2021-06-23T04:09:07.919708",
     "exception": false,
     "start_time": "2021-06-23T04:09:07.869899",
     "status": "completed"
    },
    "tags": []
   },
   "source": [
    "# Data Augmentation con Keras ImageDataGenerator\n",
    "Se aplica **data augmentation** utilizando la biblioteca Keras para aumentar el tamaño del conjunto de datos para entrenamiento. El conjunto de validación permanece intacto para validar que la técnica tuvo buenos resultados sin contaminar los datos de dicho conjunto."
   ]
  },
  {
   "cell_type": "code",
   "execution_count": 17,
   "metadata": {
    "execution": {
     "iopub.execute_input": "2021-06-23T04:09:08.030503Z",
     "iopub.status.busy": "2021-06-23T04:09:08.029400Z",
     "iopub.status.idle": "2021-06-23T04:09:08.032225Z",
     "shell.execute_reply": "2021-06-23T04:09:08.031391Z",
     "shell.execute_reply.started": "2021-06-23T04:02:24.993364Z"
    },
    "id": "18AXNg_qfMSW",
    "papermill": {
     "duration": 0.061426,
     "end_time": "2021-06-23T04:09:08.032399",
     "exception": false,
     "start_time": "2021-06-23T04:09:07.970973",
     "status": "completed"
    },
    "tags": []
   },
   "outputs": [],
   "source": [
    "from tensorflow.keras.preprocessing.image import ImageDataGenerator"
   ]
  },
  {
   "cell_type": "code",
   "execution_count": 18,
   "metadata": {
    "execution": {
     "iopub.execute_input": "2021-06-23T04:09:08.138071Z",
     "iopub.status.busy": "2021-06-23T04:09:08.136744Z",
     "iopub.status.idle": "2021-06-23T04:09:08.373769Z",
     "shell.execute_reply": "2021-06-23T04:09:08.373210Z",
     "shell.execute_reply.started": "2021-06-23T04:02:25.005680Z"
    },
    "id": "YCDZaxVMf0dr",
    "papermill": {
     "duration": 0.289293,
     "end_time": "2021-06-23T04:09:08.373944",
     "exception": false,
     "start_time": "2021-06-23T04:09:08.084651",
     "status": "completed"
    },
    "tags": []
   },
   "outputs": [],
   "source": [
    "# Create the data generator with Keras preprocessing library\n",
    "datagen = ImageDataGenerator(\n",
    "    rotation_range=30,\n",
    "    zoom_range=0.25,\n",
    "    horizontal_flip=True,\n",
    "    vertical_flip=True,\n",
    "    width_shift_range=0.15,\n",
    "    height_shift_range=0.15\n",
    ")\n",
    "\n",
    "# Keras dataset generator\n",
    "keras_generator = datagen.flow(x_train_norm, y_train, batch_size=40000)"
   ]
  },
  {
   "cell_type": "markdown",
   "metadata": {
    "id": "LCfm6Rfdg61D",
    "papermill": {
     "duration": 0.031197,
     "end_time": "2021-06-23T04:09:08.436947",
     "exception": false,
     "start_time": "2021-06-23T04:09:08.405750",
     "status": "completed"
    },
    "tags": []
   },
   "source": [
    "# Modelos"
   ]
  },
  {
   "cell_type": "code",
   "execution_count": 19,
   "metadata": {
    "execution": {
     "iopub.execute_input": "2021-06-23T04:09:08.505734Z",
     "iopub.status.busy": "2021-06-23T04:09:08.504825Z",
     "iopub.status.idle": "2021-06-23T04:09:08.568027Z",
     "shell.execute_reply": "2021-06-23T04:09:08.567463Z",
     "shell.execute_reply.started": "2021-06-23T04:02:25.214349Z"
    },
    "id": "lHtvIO1Zg6ns",
    "papermill": {
     "duration": 0.099052,
     "end_time": "2021-06-23T04:09:08.568223",
     "exception": false,
     "start_time": "2021-06-23T04:09:08.469171",
     "status": "completed"
    },
    "tags": []
   },
   "outputs": [],
   "source": [
    "from keras.layers import Dense, Flatten, Activation, BatchNormalization, Dropout\n",
    "from keras.layers import Input, Conv2D, MaxPooling2D, InputLayer, AveragePooling2D\n",
    "from keras.models import Sequential, Model\n",
    "from keras.callbacks import TensorBoard, ModelCheckpoint\n",
    "from keras.optimizers import Adam\n",
    "from keras.regularizers import l2"
   ]
  },
  {
   "cell_type": "code",
   "execution_count": 20,
   "metadata": {
    "execution": {
     "iopub.execute_input": "2021-06-23T04:09:08.635756Z",
     "iopub.status.busy": "2021-06-23T04:09:08.633372Z",
     "iopub.status.idle": "2021-06-23T04:09:08.636536Z",
     "shell.execute_reply": "2021-06-23T04:09:08.637066Z",
     "shell.execute_reply.started": "2021-06-23T04:02:25.264364Z"
    },
    "id": "6EXqfNrby-6q",
    "papermill": {
     "duration": 0.038433,
     "end_time": "2021-06-23T04:09:08.637226",
     "exception": false,
     "start_time": "2021-06-23T04:09:08.598793",
     "status": "completed"
    },
    "tags": []
   },
   "outputs": [],
   "source": [
    "import keras"
   ]
  },
  {
   "cell_type": "markdown",
   "metadata": {
    "id": "tQqm6sI9wEA2",
    "papermill": {
     "duration": 0.031426,
     "end_time": "2021-06-23T04:09:08.698176",
     "exception": false,
     "start_time": "2021-06-23T04:09:08.666750",
     "status": "completed"
    },
    "tags": []
   },
   "source": [
    "## Modelo # 1"
   ]
  },
  {
   "cell_type": "code",
   "execution_count": 21,
   "metadata": {
    "execution": {
     "iopub.execute_input": "2021-06-23T04:09:08.765030Z",
     "iopub.status.busy": "2021-06-23T04:09:08.764081Z",
     "iopub.status.idle": "2021-06-23T04:09:08.767755Z",
     "shell.execute_reply": "2021-06-23T04:09:08.767245Z",
     "shell.execute_reply.started": "2021-06-23T03:41:21.341835Z"
    },
    "id": "wovX4qqky4gp",
    "papermill": {
     "duration": 0.038503,
     "end_time": "2021-06-23T04:09:08.767881",
     "exception": false,
     "start_time": "2021-06-23T04:09:08.729378",
     "status": "completed"
    },
    "tags": []
   },
   "outputs": [],
   "source": [
    "from keras.applications.vgg16 import VGG16"
   ]
  },
  {
   "cell_type": "code",
   "execution_count": 22,
   "metadata": {
    "execution": {
     "iopub.execute_input": "2021-06-23T04:09:08.837950Z",
     "iopub.status.busy": "2021-06-23T04:09:08.837249Z",
     "iopub.status.idle": "2021-06-23T04:09:14.916489Z",
     "shell.execute_reply": "2021-06-23T04:09:14.915321Z",
     "shell.execute_reply.started": "2021-06-23T03:41:33.866119Z"
    },
    "id": "lx_EYcDGzCsw",
    "papermill": {
     "duration": 6.118078,
     "end_time": "2021-06-23T04:09:14.916638",
     "exception": false,
     "start_time": "2021-06-23T04:09:08.798560",
     "status": "completed"
    },
    "tags": []
   },
   "outputs": [
    {
     "name": "stdout",
     "output_type": "stream",
     "text": [
      "Downloading data from https://storage.googleapis.com/tensorflow/keras-applications/vgg16/vgg16_weights_tf_dim_ordering_tf_kernels_notop.h5\n",
      "58892288/58889256 [==============================] - 2s 0us/step\n"
     ]
    }
   ],
   "source": [
    "# Create an instance of the VGG16 to use Transfer Learning and disable the trainable option\n",
    "vgg = VGG16(include_top=False, weights='imagenet', input_shape=(32, 32, 3))\n",
    "for layer in vgg.layers:\n",
    "        layer.trainable = False"
   ]
  },
  {
   "cell_type": "code",
   "execution_count": 23,
   "metadata": {
    "execution": {
     "iopub.execute_input": "2021-06-23T04:09:15.000947Z",
     "iopub.status.busy": "2021-06-23T04:09:14.999841Z",
     "iopub.status.idle": "2021-06-23T04:09:15.140285Z",
     "shell.execute_reply": "2021-06-23T04:09:15.139249Z",
     "shell.execute_reply.started": "2021-06-23T03:41:34.291292Z"
    },
    "id": "Ftm0U2DczELR",
    "papermill": {
     "duration": 0.187333,
     "end_time": "2021-06-23T04:09:15.140450",
     "exception": false,
     "start_time": "2021-06-23T04:09:14.953117",
     "status": "completed"
    },
    "tags": []
   },
   "outputs": [],
   "source": [
    "# Create layers\n",
    "model = Sequential()\n",
    "model.add(vgg)\n",
    "model.add(Flatten())\n",
    "model.add(Dense(units=1024))\n",
    "model.add(BatchNormalization())\n",
    "model.add(Activation('relu'))\n",
    "model.add(Dropout(0.2))\n",
    "model.add(Dense(units=100))\n",
    "model.add(BatchNormalization())\n",
    "model.add(Activation('softmax'))\n",
    "\n",
    "# Compile\n",
    "model.compile(loss='sparse_categorical_crossentropy',\n",
    "              optimizer=Adam(learning_rate=0.001),\n",
    "              metrics=['accuracy']\n",
    "             )"
   ]
  },
  {
   "cell_type": "code",
   "execution_count": 24,
   "metadata": {
    "execution": {
     "iopub.execute_input": "2021-06-23T04:09:15.222749Z",
     "iopub.status.busy": "2021-06-23T04:09:15.222071Z",
     "iopub.status.idle": "2021-06-23T04:09:15.229772Z",
     "shell.execute_reply": "2021-06-23T04:09:15.229257Z",
     "shell.execute_reply.started": "2021-06-23T03:41:34.599139Z"
    },
    "id": "CtpyOoBszF6v",
    "outputId": "53a07163-9c88-459c-9ccf-2c8afcd69a98",
    "papermill": {
     "duration": 0.054738,
     "end_time": "2021-06-23T04:09:15.229926",
     "exception": false,
     "start_time": "2021-06-23T04:09:15.175188",
     "status": "completed"
    },
    "tags": []
   },
   "outputs": [
    {
     "name": "stdout",
     "output_type": "stream",
     "text": [
      "Model: \"sequential\"\n",
      "_________________________________________________________________\n",
      "Layer (type)                 Output Shape              Param #   \n",
      "=================================================================\n",
      "vgg16 (Functional)           (None, 1, 1, 512)         14714688  \n",
      "_________________________________________________________________\n",
      "flatten (Flatten)            (None, 512)               0         \n",
      "_________________________________________________________________\n",
      "dense (Dense)                (None, 1024)              525312    \n",
      "_________________________________________________________________\n",
      "batch_normalization (BatchNo (None, 1024)              4096      \n",
      "_________________________________________________________________\n",
      "activation (Activation)      (None, 1024)              0         \n",
      "_________________________________________________________________\n",
      "dropout (Dropout)            (None, 1024)              0         \n",
      "_________________________________________________________________\n",
      "dense_1 (Dense)              (None, 100)               102500    \n",
      "_________________________________________________________________\n",
      "batch_normalization_1 (Batch (None, 100)               400       \n",
      "_________________________________________________________________\n",
      "activation_1 (Activation)    (None, 100)               0         \n",
      "=================================================================\n",
      "Total params: 15,346,996\n",
      "Trainable params: 630,060\n",
      "Non-trainable params: 14,716,936\n",
      "_________________________________________________________________\n"
     ]
    }
   ],
   "source": [
    "model.summary()"
   ]
  },
  {
   "cell_type": "code",
   "execution_count": 25,
   "metadata": {
    "execution": {
     "iopub.execute_input": "2021-06-23T04:09:15.308400Z",
     "iopub.status.busy": "2021-06-23T04:09:15.307165Z",
     "iopub.status.idle": "2021-06-23T04:16:38.123684Z",
     "shell.execute_reply": "2021-06-23T04:16:38.124254Z",
     "shell.execute_reply.started": "2021-06-23T03:42:02.454993Z"
    },
    "id": "PhatOsOQzHU3",
    "outputId": "e770bad0-b81f-41de-97e9-86108766f8d4",
    "papermill": {
     "duration": 442.85839,
     "end_time": "2021-06-23T04:16:38.124452",
     "exception": false,
     "start_time": "2021-06-23T04:09:15.266062",
     "status": "completed"
    },
    "tags": []
   },
   "outputs": [
    {
     "name": "stdout",
     "output_type": "stream",
     "text": [
      "Epoch 1/5\n",
      "79/79 [==============================] - 9s 58ms/step - loss: 3.9302 - accuracy: 0.1284 - val_loss: 3.8937 - val_accuracy: 0.1995\n",
      "Epoch 2/5\n",
      "79/79 [==============================] - 3s 41ms/step - loss: 3.1650 - accuracy: 0.2595 - val_loss: 3.6868 - val_accuracy: 0.2199\n",
      "Epoch 3/5\n",
      "79/79 [==============================] - 3s 40ms/step - loss: 2.9475 - accuracy: 0.3024 - val_loss: 3.4611 - val_accuracy: 0.2327\n",
      "Epoch 4/5\n",
      "79/79 [==============================] - 3s 39ms/step - loss: 2.8026 - accuracy: 0.3323 - val_loss: 3.2525 - val_accuracy: 0.2501\n",
      "Epoch 5/5\n",
      "79/79 [==============================] - 3s 40ms/step - loss: 2.6764 - accuracy: 0.3557 - val_loss: 3.0922 - val_accuracy: 0.2764\n",
      "Epoch 1/5\n",
      "79/79 [==============================] - 3s 42ms/step - loss: 2.9101 - accuracy: 0.2985 - val_loss: 2.9577 - val_accuracy: 0.2833\n",
      "Epoch 2/5\n",
      "79/79 [==============================] - 3s 39ms/step - loss: 2.7523 - accuracy: 0.3300 - val_loss: 2.9395 - val_accuracy: 0.2907\n",
      "Epoch 3/5\n",
      "79/79 [==============================] - 3s 39ms/step - loss: 2.6380 - accuracy: 0.3541 - val_loss: 2.8877 - val_accuracy: 0.3021\n",
      "Epoch 4/5\n",
      "79/79 [==============================] - 3s 41ms/step - loss: 2.5399 - accuracy: 0.3767 - val_loss: 2.8789 - val_accuracy: 0.3056\n",
      "Epoch 5/5\n",
      "79/79 [==============================] - 3s 41ms/step - loss: 2.4478 - accuracy: 0.3972 - val_loss: 2.8705 - val_accuracy: 0.3046\n",
      "Epoch 1/5\n",
      "79/79 [==============================] - 3s 42ms/step - loss: 2.7290 - accuracy: 0.3291 - val_loss: 2.8135 - val_accuracy: 0.3095\n",
      "Epoch 2/5\n",
      "79/79 [==============================] - 3s 40ms/step - loss: 2.5671 - accuracy: 0.3618 - val_loss: 2.7951 - val_accuracy: 0.3189\n",
      "Epoch 3/5\n",
      "79/79 [==============================] - 3s 40ms/step - loss: 2.4548 - accuracy: 0.3897 - val_loss: 2.7992 - val_accuracy: 0.3185\n",
      "Epoch 4/5\n",
      "79/79 [==============================] - 3s 40ms/step - loss: 2.3583 - accuracy: 0.4087 - val_loss: 2.7738 - val_accuracy: 0.3290\n",
      "Epoch 5/5\n",
      "79/79 [==============================] - 3s 39ms/step - loss: 2.2650 - accuracy: 0.4311 - val_loss: 2.7836 - val_accuracy: 0.3222\n",
      "Epoch 1/5\n",
      "79/79 [==============================] - 3s 42ms/step - loss: 2.6186 - accuracy: 0.3470 - val_loss: 2.7636 - val_accuracy: 0.3210\n",
      "Epoch 2/5\n",
      "79/79 [==============================] - 3s 40ms/step - loss: 2.4449 - accuracy: 0.3855 - val_loss: 2.7658 - val_accuracy: 0.3241\n",
      "Epoch 3/5\n",
      "79/79 [==============================] - 3s 39ms/step - loss: 2.3257 - accuracy: 0.4144 - val_loss: 2.7665 - val_accuracy: 0.3265\n",
      "Epoch 4/5\n",
      "79/79 [==============================] - 3s 40ms/step - loss: 2.2233 - accuracy: 0.4359 - val_loss: 2.7959 - val_accuracy: 0.3251\n",
      "Epoch 5/5\n",
      "79/79 [==============================] - 3s 39ms/step - loss: 2.1350 - accuracy: 0.4581 - val_loss: 2.8175 - val_accuracy: 0.3181\n",
      "Epoch 1/5\n",
      "79/79 [==============================] - 3s 42ms/step - loss: 2.5359 - accuracy: 0.3621 - val_loss: 2.7382 - val_accuracy: 0.3284\n",
      "Epoch 2/5\n",
      "79/79 [==============================] - 3s 39ms/step - loss: 2.3487 - accuracy: 0.4033 - val_loss: 2.7238 - val_accuracy: 0.3338\n",
      "Epoch 3/5\n",
      "79/79 [==============================] - 3s 39ms/step - loss: 2.2287 - accuracy: 0.4324 - val_loss: 2.7417 - val_accuracy: 0.3298\n",
      "Epoch 4/5\n",
      "79/79 [==============================] - 3s 40ms/step - loss: 2.1152 - accuracy: 0.4600 - val_loss: 2.7728 - val_accuracy: 0.3236\n",
      "Epoch 5/5\n",
      "79/79 [==============================] - 3s 41ms/step - loss: 2.0215 - accuracy: 0.4852 - val_loss: 2.8000 - val_accuracy: 0.3288\n",
      "Epoch 1/5\n",
      "79/79 [==============================] - 3s 42ms/step - loss: 2.4573 - accuracy: 0.3778 - val_loss: 2.7327 - val_accuracy: 0.3309\n",
      "Epoch 2/5\n",
      "79/79 [==============================] - 3s 39ms/step - loss: 2.2566 - accuracy: 0.4217 - val_loss: 2.7391 - val_accuracy: 0.3294\n",
      "Epoch 3/5\n",
      "79/79 [==============================] - 3s 39ms/step - loss: 2.1268 - accuracy: 0.4521 - val_loss: 2.7531 - val_accuracy: 0.3311\n",
      "Epoch 4/5\n",
      "79/79 [==============================] - 3s 40ms/step - loss: 2.0148 - accuracy: 0.4821 - val_loss: 2.7714 - val_accuracy: 0.3337\n",
      "Epoch 5/5\n",
      "79/79 [==============================] - 3s 39ms/step - loss: 1.9133 - accuracy: 0.5063 - val_loss: 2.7747 - val_accuracy: 0.3357\n",
      "Epoch 1/5\n",
      "79/79 [==============================] - 3s 41ms/step - loss: 2.4045 - accuracy: 0.3892 - val_loss: 2.7511 - val_accuracy: 0.3357\n",
      "Epoch 2/5\n",
      "79/79 [==============================] - 3s 41ms/step - loss: 2.1870 - accuracy: 0.4369 - val_loss: 2.7453 - val_accuracy: 0.3357\n",
      "Epoch 3/5\n",
      "79/79 [==============================] - 3s 39ms/step - loss: 2.0505 - accuracy: 0.4686 - val_loss: 2.7567 - val_accuracy: 0.3329\n",
      "Epoch 4/5\n",
      "79/79 [==============================] - 3s 39ms/step - loss: 1.9366 - accuracy: 0.4963 - val_loss: 2.7718 - val_accuracy: 0.3317\n",
      "Epoch 5/5\n",
      "79/79 [==============================] - 3s 39ms/step - loss: 1.8423 - accuracy: 0.5242 - val_loss: 2.7999 - val_accuracy: 0.3300\n",
      "Epoch 1/5\n",
      "79/79 [==============================] - 3s 42ms/step - loss: 2.3462 - accuracy: 0.4016 - val_loss: 2.7632 - val_accuracy: 0.3303\n",
      "Epoch 2/5\n",
      "79/79 [==============================] - 3s 39ms/step - loss: 2.1219 - accuracy: 0.4487 - val_loss: 2.7605 - val_accuracy: 0.3309\n",
      "Epoch 3/5\n",
      "79/79 [==============================] - 3s 39ms/step - loss: 1.9808 - accuracy: 0.4860 - val_loss: 2.7592 - val_accuracy: 0.3359\n",
      "Epoch 4/5\n",
      "79/79 [==============================] - 3s 39ms/step - loss: 1.8694 - accuracy: 0.5157 - val_loss: 2.7711 - val_accuracy: 0.3333\n",
      "Epoch 5/5\n",
      "79/79 [==============================] - 3s 40ms/step - loss: 1.7652 - accuracy: 0.5433 - val_loss: 2.7932 - val_accuracy: 0.3335\n",
      "Epoch 1/5\n",
      "79/79 [==============================] - 3s 42ms/step - loss: 2.2994 - accuracy: 0.4088 - val_loss: 2.7612 - val_accuracy: 0.3327\n",
      "Epoch 2/5\n",
      "79/79 [==============================] - 3s 39ms/step - loss: 2.0727 - accuracy: 0.4608 - val_loss: 2.7706 - val_accuracy: 0.3301\n",
      "Epoch 3/5\n",
      "79/79 [==============================] - 3s 39ms/step - loss: 1.9261 - accuracy: 0.4971 - val_loss: 2.7772 - val_accuracy: 0.3336\n",
      "Epoch 4/5\n",
      "79/79 [==============================] - 3s 40ms/step - loss: 1.8060 - accuracy: 0.5301 - val_loss: 2.8105 - val_accuracy: 0.3348\n",
      "Epoch 5/5\n",
      "79/79 [==============================] - 3s 40ms/step - loss: 1.7049 - accuracy: 0.5570 - val_loss: 2.8533 - val_accuracy: 0.3310\n",
      "Epoch 1/5\n",
      "79/79 [==============================] - 3s 41ms/step - loss: 2.2536 - accuracy: 0.4209 - val_loss: 2.7999 - val_accuracy: 0.3323\n",
      "Epoch 2/5\n",
      "79/79 [==============================] - 3s 40ms/step - loss: 2.0098 - accuracy: 0.4751 - val_loss: 2.8158 - val_accuracy: 0.3359\n",
      "Epoch 3/5\n",
      "79/79 [==============================] - 3s 39ms/step - loss: 1.8699 - accuracy: 0.5098 - val_loss: 2.8253 - val_accuracy: 0.3312\n",
      "Epoch 4/5\n",
      "79/79 [==============================] - 3s 40ms/step - loss: 1.7429 - accuracy: 0.5426 - val_loss: 2.8296 - val_accuracy: 0.3327\n",
      "Epoch 5/5\n",
      "79/79 [==============================] - 3s 40ms/step - loss: 1.6379 - accuracy: 0.5731 - val_loss: 2.8771 - val_accuracy: 0.3313\n",
      "Epoch 1/5\n",
      "79/79 [==============================] - 3s 42ms/step - loss: 2.2242 - accuracy: 0.4256 - val_loss: 2.8470 - val_accuracy: 0.3285\n",
      "Epoch 2/5\n",
      "79/79 [==============================] - 3s 40ms/step - loss: 1.9760 - accuracy: 0.4800 - val_loss: 2.8232 - val_accuracy: 0.3316\n",
      "Epoch 3/5\n",
      "79/79 [==============================] - 3s 39ms/step - loss: 1.8305 - accuracy: 0.5172 - val_loss: 2.8340 - val_accuracy: 0.3330\n",
      "Epoch 4/5\n",
      "79/79 [==============================] - 3s 39ms/step - loss: 1.7096 - accuracy: 0.5503 - val_loss: 2.8488 - val_accuracy: 0.3346\n",
      "Epoch 5/5\n",
      "79/79 [==============================] - 3s 40ms/step - loss: 1.6069 - accuracy: 0.5788 - val_loss: 2.8827 - val_accuracy: 0.3287\n",
      "Epoch 1/5\n",
      "79/79 [==============================] - 3s 40ms/step - loss: 2.1918 - accuracy: 0.4307 - val_loss: 2.8303 - val_accuracy: 0.3360\n",
      "Epoch 2/5\n",
      "79/79 [==============================] - 3s 39ms/step - loss: 1.9327 - accuracy: 0.4886 - val_loss: 2.8163 - val_accuracy: 0.3359\n",
      "Epoch 3/5\n",
      "79/79 [==============================] - 3s 39ms/step - loss: 1.7849 - accuracy: 0.5282 - val_loss: 2.8384 - val_accuracy: 0.3339\n",
      "Epoch 4/5\n",
      "79/79 [==============================] - 3s 41ms/step - loss: 1.6566 - accuracy: 0.5633 - val_loss: 2.8529 - val_accuracy: 0.3338\n",
      "Epoch 5/5\n",
      "79/79 [==============================] - 3s 40ms/step - loss: 1.5548 - accuracy: 0.5892 - val_loss: 2.8953 - val_accuracy: 0.3312\n",
      "Epoch 1/5\n",
      "79/79 [==============================] - 3s 42ms/step - loss: 2.1608 - accuracy: 0.4368 - val_loss: 2.8227 - val_accuracy: 0.3375\n",
      "Epoch 2/5\n",
      "79/79 [==============================] - 3s 40ms/step - loss: 1.9012 - accuracy: 0.4948 - val_loss: 2.8372 - val_accuracy: 0.3397\n",
      "Epoch 3/5\n",
      "79/79 [==============================] - 3s 40ms/step - loss: 1.7503 - accuracy: 0.5365 - val_loss: 2.8440 - val_accuracy: 0.3373\n",
      "Epoch 4/5\n",
      "79/79 [==============================] - 3s 39ms/step - loss: 1.6309 - accuracy: 0.5663 - val_loss: 2.8855 - val_accuracy: 0.3322\n",
      "Epoch 5/5\n",
      "79/79 [==============================] - 3s 40ms/step - loss: 1.5191 - accuracy: 0.5977 - val_loss: 2.9096 - val_accuracy: 0.3364\n",
      "Epoch 1/5\n",
      "79/79 [==============================] - 4s 44ms/step - loss: 2.1296 - accuracy: 0.4478 - val_loss: 2.8731 - val_accuracy: 0.3377\n",
      "Epoch 2/5\n",
      "79/79 [==============================] - 3s 40ms/step - loss: 1.8709 - accuracy: 0.5012 - val_loss: 2.8525 - val_accuracy: 0.3373\n",
      "Epoch 3/5\n",
      "79/79 [==============================] - 3s 39ms/step - loss: 1.7149 - accuracy: 0.5425 - val_loss: 2.8684 - val_accuracy: 0.3387\n",
      "Epoch 4/5\n",
      "79/79 [==============================] - 3s 39ms/step - loss: 1.5947 - accuracy: 0.5738 - val_loss: 2.8847 - val_accuracy: 0.3326\n",
      "Epoch 5/5\n",
      "79/79 [==============================] - 3s 40ms/step - loss: 1.4795 - accuracy: 0.6059 - val_loss: 2.9250 - val_accuracy: 0.3336\n",
      "Epoch 1/5\n",
      "79/79 [==============================] - 3s 40ms/step - loss: 2.1020 - accuracy: 0.4513 - val_loss: 2.8959 - val_accuracy: 0.3389\n",
      "Epoch 2/5\n",
      "79/79 [==============================] - 3s 40ms/step - loss: 1.8407 - accuracy: 0.5111 - val_loss: 2.8779 - val_accuracy: 0.3359\n",
      "Epoch 3/5\n",
      "79/79 [==============================] - 3s 39ms/step - loss: 1.6803 - accuracy: 0.5538 - val_loss: 2.8865 - val_accuracy: 0.3352\n",
      "Epoch 4/5\n",
      "79/79 [==============================] - 3s 42ms/step - loss: 1.5560 - accuracy: 0.5860 - val_loss: 2.9059 - val_accuracy: 0.3339\n",
      "Epoch 5/5\n",
      "79/79 [==============================] - 3s 40ms/step - loss: 1.4475 - accuracy: 0.6165 - val_loss: 2.9461 - val_accuracy: 0.3338\n",
      "Epoch 1/5\n",
      "79/79 [==============================] - 3s 40ms/step - loss: 2.0795 - accuracy: 0.4562 - val_loss: 2.9158 - val_accuracy: 0.3389\n",
      "Epoch 2/5\n",
      "79/79 [==============================] - 3s 40ms/step - loss: 1.8112 - accuracy: 0.5140 - val_loss: 2.8810 - val_accuracy: 0.3393\n",
      "Epoch 3/5\n",
      "79/79 [==============================] - 3s 41ms/step - loss: 1.6486 - accuracy: 0.5570 - val_loss: 2.9117 - val_accuracy: 0.3378\n",
      "Epoch 4/5\n",
      "79/79 [==============================] - 3s 39ms/step - loss: 1.5372 - accuracy: 0.5864 - val_loss: 2.9213 - val_accuracy: 0.3386\n",
      "Epoch 5/5\n",
      "79/79 [==============================] - 3s 40ms/step - loss: 1.4211 - accuracy: 0.6183 - val_loss: 2.9595 - val_accuracy: 0.3364\n",
      "Epoch 1/5\n",
      "79/79 [==============================] - 3s 43ms/step - loss: 2.0662 - accuracy: 0.4607 - val_loss: 2.9448 - val_accuracy: 0.3351\n",
      "Epoch 2/5\n",
      "79/79 [==============================] - 3s 40ms/step - loss: 1.7960 - accuracy: 0.5189 - val_loss: 2.9373 - val_accuracy: 0.3348\n",
      "Epoch 3/5\n",
      "79/79 [==============================] - 3s 40ms/step - loss: 1.6311 - accuracy: 0.5615 - val_loss: 2.9522 - val_accuracy: 0.3332\n",
      "Epoch 4/5\n",
      "79/79 [==============================] - 3s 39ms/step - loss: 1.5076 - accuracy: 0.5958 - val_loss: 2.9691 - val_accuracy: 0.3351\n",
      "Epoch 5/5\n",
      "79/79 [==============================] - 3s 39ms/step - loss: 1.4008 - accuracy: 0.6278 - val_loss: 2.9993 - val_accuracy: 0.3307\n",
      "Epoch 1/5\n",
      "79/79 [==============================] - 3s 40ms/step - loss: 2.0411 - accuracy: 0.4640 - val_loss: 2.9548 - val_accuracy: 0.3386\n",
      "Epoch 2/5\n",
      "79/79 [==============================] - 3s 40ms/step - loss: 1.7717 - accuracy: 0.5247 - val_loss: 2.9346 - val_accuracy: 0.3358\n",
      "Epoch 3/5\n",
      "79/79 [==============================] - 3s 39ms/step - loss: 1.6077 - accuracy: 0.5669 - val_loss: 2.9604 - val_accuracy: 0.3366\n",
      "Epoch 4/5\n",
      "79/79 [==============================] - 3s 42ms/step - loss: 1.4848 - accuracy: 0.5990 - val_loss: 2.9729 - val_accuracy: 0.3328\n",
      "Epoch 5/5\n",
      "79/79 [==============================] - 3s 40ms/step - loss: 1.3774 - accuracy: 0.6292 - val_loss: 3.0034 - val_accuracy: 0.3343\n",
      "Epoch 1/5\n",
      "79/79 [==============================] - 3s 41ms/step - loss: 2.0140 - accuracy: 0.4715 - val_loss: 2.9737 - val_accuracy: 0.3361\n",
      "Epoch 2/5\n",
      "79/79 [==============================] - 3s 40ms/step - loss: 1.7441 - accuracy: 0.5311 - val_loss: 2.9621 - val_accuracy: 0.3368\n",
      "Epoch 3/5\n",
      "79/79 [==============================] - 3s 41ms/step - loss: 1.5790 - accuracy: 0.5733 - val_loss: 2.9740 - val_accuracy: 0.3327\n",
      "Epoch 4/5\n",
      "79/79 [==============================] - 3s 39ms/step - loss: 1.4577 - accuracy: 0.6061 - val_loss: 2.9915 - val_accuracy: 0.3347\n",
      "Epoch 5/5\n",
      "79/79 [==============================] - 3s 39ms/step - loss: 1.3461 - accuracy: 0.6389 - val_loss: 3.0304 - val_accuracy: 0.3268\n",
      "Epoch 1/5\n",
      "79/79 [==============================] - 4s 45ms/step - loss: 2.0037 - accuracy: 0.4700 - val_loss: 2.9995 - val_accuracy: 0.3375\n",
      "Epoch 2/5\n",
      "79/79 [==============================] - 3s 40ms/step - loss: 1.7194 - accuracy: 0.5361 - val_loss: 2.9779 - val_accuracy: 0.3360\n",
      "Epoch 3/5\n",
      "79/79 [==============================] - 3s 39ms/step - loss: 1.5642 - accuracy: 0.5779 - val_loss: 2.9846 - val_accuracy: 0.3333\n",
      "Epoch 4/5\n",
      "79/79 [==============================] - 3s 39ms/step - loss: 1.4358 - accuracy: 0.6111 - val_loss: 3.0058 - val_accuracy: 0.3319\n",
      "Epoch 5/5\n",
      "79/79 [==============================] - 3s 40ms/step - loss: 1.3397 - accuracy: 0.6369 - val_loss: 3.0488 - val_accuracy: 0.3289\n"
     ]
    }
   ],
   "source": [
    "# Create the ModelCheckpoint callback to save the best model during training\n",
    "mc_callback = ModelCheckpoint('model_1.hdf5',\n",
    "                              monitor='val_accuracy',\n",
    "                              save_best_only=True,\n",
    "                              verbose=0,\n",
    "                              mode='max'\n",
    "                             )\n",
    "\n",
    "# Train the model\n",
    "epochs = 5\n",
    "batch_size = 512\n",
    "augmented_factor = 20\n",
    "for i in range(augmented_factor):\n",
    "  # Extract train set\n",
    "  batch_x, batch_y = album_generator[0]\n",
    "    \n",
    "  # Training the top model\n",
    "  model.fit(batch_x,\n",
    "            batch_y, \n",
    "            validation_data=(x_valid_norm, y_valid), \n",
    "            callbacks=[mc_callback],\n",
    "            batch_size=batch_size,\n",
    "            epochs=epochs\n",
    "            )"
   ]
  },
  {
   "cell_type": "code",
   "execution_count": 26,
   "metadata": {
    "execution": {
     "iopub.execute_input": "2021-06-23T04:16:40.987810Z",
     "iopub.status.busy": "2021-06-23T04:16:40.986926Z",
     "iopub.status.idle": "2021-06-23T04:16:51.496658Z",
     "shell.execute_reply": "2021-06-23T04:16:51.495763Z",
     "shell.execute_reply.started": "2021-06-23T03:50:19.167393Z"
    },
    "id": "jcN_UHfWzKV7",
    "papermill": {
     "duration": 11.819854,
     "end_time": "2021-06-23T04:16:51.496793",
     "exception": false,
     "start_time": "2021-06-23T04:16:39.676939",
     "status": "completed"
    },
    "tags": []
   },
   "outputs": [
    {
     "name": "stdout",
     "output_type": "stream",
     "text": [
      "[Accuracy] Train: 0.597 Valid: 0.34\n"
     ]
    }
   ],
   "source": [
    "# Load the model and show the final metrics\n",
    "model = keras.models.load_model('model_1.hdf5')\n",
    "\n",
    "# Train and validation metrics\n",
    "_, train_acc = model.evaluate(x_train_norm, y_train, verbose=0)\n",
    "_, valid_acc = model.evaluate(x_valid_norm, y_valid, verbose=0)\n",
    "\n",
    "# Show result\n",
    "print(f'[Accuracy] Train: {round(train_acc, 3)} Valid: {round(valid_acc, 3)}')"
   ]
  },
  {
   "cell_type": "markdown",
   "metadata": {
    "papermill": {
     "duration": 1.356294,
     "end_time": "2021-06-23T04:16:54.137297",
     "exception": false,
     "start_time": "2021-06-23T04:16:52.781003",
     "status": "completed"
    },
    "tags": []
   },
   "source": [
    "## Modelo #2"
   ]
  },
  {
   "cell_type": "code",
   "execution_count": 27,
   "metadata": {
    "execution": {
     "iopub.execute_input": "2021-06-23T04:16:56.780531Z",
     "iopub.status.busy": "2021-06-23T04:16:56.779790Z",
     "iopub.status.idle": "2021-06-23T04:16:57.016916Z",
     "shell.execute_reply": "2021-06-23T04:16:57.016142Z",
     "shell.execute_reply.started": "2021-06-23T04:02:26.462565Z"
    },
    "papermill": {
     "duration": 1.544828,
     "end_time": "2021-06-23T04:16:57.017079",
     "exception": false,
     "start_time": "2021-06-23T04:16:55.472251",
     "status": "completed"
    },
    "tags": []
   },
   "outputs": [],
   "source": [
    "# Create the model\n",
    "model = Sequential()\n",
    "model.add(InputLayer(input_shape=(32, 32, 3)))\n",
    "model.add(Conv2D(16, 3, padding='same'))\n",
    "model.add(Conv2D(16, 3, padding='same'))\n",
    "model.add(BatchNormalization())\n",
    "model.add(Activation('elu'))\n",
    "model.add(MaxPooling2D())\n",
    "model.add(Conv2D(32, 3, padding='same'))\n",
    "model.add(Conv2D(32, 3, padding='same'))\n",
    "model.add(Conv2D(32, 3, padding='same'))\n",
    "model.add(BatchNormalization())\n",
    "model.add(Activation('elu'))\n",
    "model.add(MaxPooling2D())\n",
    "model.add(Conv2D(64, 3, padding='same'))\n",
    "model.add(Conv2D(64, 3, padding='same'))\n",
    "model.add(Conv2D(64, 3, padding='same'))\n",
    "model.add(BatchNormalization())\n",
    "model.add(Activation('elu'))\n",
    "model.add(MaxPooling2D())\n",
    "model.add(Flatten())\n",
    "model.add(Dense(256))\n",
    "model.add(Dropout(0.5))\n",
    "model.add(BatchNormalization())\n",
    "model.add(Activation('elu'))\n",
    "model.add(Dense(256))\n",
    "model.add(Dropout(0.5))\n",
    "model.add(BatchNormalization())\n",
    "model.add(Activation('elu'))\n",
    "model.add(Dense(100))\n",
    "model.add(BatchNormalization())\n",
    "model.add(Activation('softmax'))\n",
    "\n",
    "# Compile\n",
    "model.compile(loss='sparse_categorical_crossentropy',\n",
    "              optimizer=Adam(learning_rate=0.001),\n",
    "              metrics=['accuracy']\n",
    "             )"
   ]
  },
  {
   "cell_type": "code",
   "execution_count": 28,
   "metadata": {
    "execution": {
     "iopub.execute_input": "2021-06-23T04:16:59.686271Z",
     "iopub.status.busy": "2021-06-23T04:16:59.685238Z",
     "iopub.status.idle": "2021-06-23T04:16:59.705717Z",
     "shell.execute_reply": "2021-06-23T04:16:59.704791Z",
     "shell.execute_reply.started": "2021-06-23T04:02:29.144450Z"
    },
    "papermill": {
     "duration": 1.38274,
     "end_time": "2021-06-23T04:16:59.705946",
     "exception": false,
     "start_time": "2021-06-23T04:16:58.323206",
     "status": "completed"
    },
    "tags": []
   },
   "outputs": [
    {
     "name": "stdout",
     "output_type": "stream",
     "text": [
      "Model: \"sequential_1\"\n",
      "_________________________________________________________________\n",
      "Layer (type)                 Output Shape              Param #   \n",
      "=================================================================\n",
      "conv2d (Conv2D)              (None, 32, 32, 16)        448       \n",
      "_________________________________________________________________\n",
      "conv2d_1 (Conv2D)            (None, 32, 32, 16)        2320      \n",
      "_________________________________________________________________\n",
      "batch_normalization_2 (Batch (None, 32, 32, 16)        64        \n",
      "_________________________________________________________________\n",
      "activation_2 (Activation)    (None, 32, 32, 16)        0         \n",
      "_________________________________________________________________\n",
      "max_pooling2d (MaxPooling2D) (None, 16, 16, 16)        0         \n",
      "_________________________________________________________________\n",
      "conv2d_2 (Conv2D)            (None, 16, 16, 32)        4640      \n",
      "_________________________________________________________________\n",
      "conv2d_3 (Conv2D)            (None, 16, 16, 32)        9248      \n",
      "_________________________________________________________________\n",
      "conv2d_4 (Conv2D)            (None, 16, 16, 32)        9248      \n",
      "_________________________________________________________________\n",
      "batch_normalization_3 (Batch (None, 16, 16, 32)        128       \n",
      "_________________________________________________________________\n",
      "activation_3 (Activation)    (None, 16, 16, 32)        0         \n",
      "_________________________________________________________________\n",
      "max_pooling2d_1 (MaxPooling2 (None, 8, 8, 32)          0         \n",
      "_________________________________________________________________\n",
      "conv2d_5 (Conv2D)            (None, 8, 8, 64)          18496     \n",
      "_________________________________________________________________\n",
      "conv2d_6 (Conv2D)            (None, 8, 8, 64)          36928     \n",
      "_________________________________________________________________\n",
      "conv2d_7 (Conv2D)            (None, 8, 8, 64)          36928     \n",
      "_________________________________________________________________\n",
      "batch_normalization_4 (Batch (None, 8, 8, 64)          256       \n",
      "_________________________________________________________________\n",
      "activation_4 (Activation)    (None, 8, 8, 64)          0         \n",
      "_________________________________________________________________\n",
      "max_pooling2d_2 (MaxPooling2 (None, 4, 4, 64)          0         \n",
      "_________________________________________________________________\n",
      "flatten_1 (Flatten)          (None, 1024)              0         \n",
      "_________________________________________________________________\n",
      "dense_2 (Dense)              (None, 256)               262400    \n",
      "_________________________________________________________________\n",
      "dropout_1 (Dropout)          (None, 256)               0         \n",
      "_________________________________________________________________\n",
      "batch_normalization_5 (Batch (None, 256)               1024      \n",
      "_________________________________________________________________\n",
      "activation_5 (Activation)    (None, 256)               0         \n",
      "_________________________________________________________________\n",
      "dense_3 (Dense)              (None, 256)               65792     \n",
      "_________________________________________________________________\n",
      "dropout_2 (Dropout)          (None, 256)               0         \n",
      "_________________________________________________________________\n",
      "batch_normalization_6 (Batch (None, 256)               1024      \n",
      "_________________________________________________________________\n",
      "activation_6 (Activation)    (None, 256)               0         \n",
      "_________________________________________________________________\n",
      "dense_4 (Dense)              (None, 100)               25700     \n",
      "_________________________________________________________________\n",
      "batch_normalization_7 (Batch (None, 100)               400       \n",
      "_________________________________________________________________\n",
      "activation_7 (Activation)    (None, 100)               0         \n",
      "=================================================================\n",
      "Total params: 475,044\n",
      "Trainable params: 473,596\n",
      "Non-trainable params: 1,448\n",
      "_________________________________________________________________\n"
     ]
    }
   ],
   "source": [
    "model.summary()"
   ]
  },
  {
   "cell_type": "code",
   "execution_count": 29,
   "metadata": {
    "execution": {
     "iopub.execute_input": "2021-06-23T04:17:02.626311Z",
     "iopub.status.busy": "2021-06-23T04:17:02.624716Z",
     "iopub.status.idle": "2021-06-23T04:22:29.514630Z",
     "shell.execute_reply": "2021-06-23T04:22:29.514063Z",
     "shell.execute_reply.started": "2021-06-23T04:02:29.164399Z"
    },
    "papermill": {
     "duration": 328.216363,
     "end_time": "2021-06-23T04:22:29.514770",
     "exception": false,
     "start_time": "2021-06-23T04:17:01.298407",
     "status": "completed"
    },
    "tags": []
   },
   "outputs": [
    {
     "name": "stdout",
     "output_type": "stream",
     "text": [
      "Epoch 1/5\n",
      "79/79 [==============================] - 4s 32ms/step - loss: 4.6640 - accuracy: 0.0267 - val_loss: 4.7233 - val_accuracy: 0.0255\n",
      "Epoch 2/5\n",
      "79/79 [==============================] - 2s 24ms/step - loss: 4.0893 - accuracy: 0.0682 - val_loss: 5.0720 - val_accuracy: 0.0199\n",
      "Epoch 3/5\n",
      "79/79 [==============================] - 2s 25ms/step - loss: 3.8963 - accuracy: 0.1035 - val_loss: 4.6394 - val_accuracy: 0.0336\n",
      "Epoch 4/5\n",
      "79/79 [==============================] - 2s 24ms/step - loss: 3.7721 - accuracy: 0.1267 - val_loss: 4.5250 - val_accuracy: 0.0399\n",
      "Epoch 5/5\n",
      "79/79 [==============================] - 2s 23ms/step - loss: 3.6529 - accuracy: 0.1478 - val_loss: 3.7774 - val_accuracy: 0.1212\n",
      "Epoch 1/5\n",
      "79/79 [==============================] - 2s 27ms/step - loss: 3.5695 - accuracy: 0.1615 - val_loss: 3.4502 - val_accuracy: 0.1740\n",
      "Epoch 2/5\n",
      "79/79 [==============================] - 2s 24ms/step - loss: 3.4706 - accuracy: 0.1806 - val_loss: 3.2207 - val_accuracy: 0.2121\n",
      "Epoch 3/5\n",
      "79/79 [==============================] - 2s 24ms/step - loss: 3.3812 - accuracy: 0.1950 - val_loss: 3.2191 - val_accuracy: 0.2175\n",
      "Epoch 4/5\n",
      "79/79 [==============================] - 2s 29ms/step - loss: 3.2967 - accuracy: 0.2125 - val_loss: 3.0995 - val_accuracy: 0.2401\n",
      "Epoch 5/5\n",
      "79/79 [==============================] - 2s 25ms/step - loss: 3.2324 - accuracy: 0.2250 - val_loss: 2.9504 - val_accuracy: 0.2675\n",
      "Epoch 1/5\n",
      "79/79 [==============================] - 2s 29ms/step - loss: 3.2399 - accuracy: 0.2191 - val_loss: 2.8838 - val_accuracy: 0.2770\n",
      "Epoch 2/5\n",
      "79/79 [==============================] - 2s 24ms/step - loss: 3.1609 - accuracy: 0.2375 - val_loss: 2.8488 - val_accuracy: 0.2929\n",
      "Epoch 3/5\n",
      "79/79 [==============================] - 2s 25ms/step - loss: 3.1016 - accuracy: 0.2465 - val_loss: 2.7944 - val_accuracy: 0.2969\n",
      "Epoch 4/5\n",
      "79/79 [==============================] - 2s 24ms/step - loss: 3.0477 - accuracy: 0.2577 - val_loss: 2.8463 - val_accuracy: 0.2871\n",
      "Epoch 5/5\n",
      "79/79 [==============================] - 2s 24ms/step - loss: 3.0026 - accuracy: 0.2659 - val_loss: 2.8146 - val_accuracy: 0.2900\n",
      "Epoch 1/5\n",
      "79/79 [==============================] - 2s 26ms/step - loss: 3.0391 - accuracy: 0.2561 - val_loss: 2.9853 - val_accuracy: 0.2717\n",
      "Epoch 2/5\n",
      "79/79 [==============================] - 2s 24ms/step - loss: 2.9678 - accuracy: 0.2698 - val_loss: 2.7994 - val_accuracy: 0.3033\n",
      "Epoch 3/5\n",
      "79/79 [==============================] - 2s 24ms/step - loss: 2.9166 - accuracy: 0.2788 - val_loss: 2.9562 - val_accuracy: 0.2784\n",
      "Epoch 4/5\n",
      "79/79 [==============================] - 2s 28ms/step - loss: 2.8742 - accuracy: 0.2887 - val_loss: 2.6173 - val_accuracy: 0.3350\n",
      "Epoch 5/5\n",
      "79/79 [==============================] - 2s 26ms/step - loss: 2.8275 - accuracy: 0.2973 - val_loss: 2.7843 - val_accuracy: 0.3133\n",
      "Epoch 1/5\n",
      "79/79 [==============================] - 2s 26ms/step - loss: 2.8997 - accuracy: 0.2781 - val_loss: 2.6233 - val_accuracy: 0.3356\n",
      "Epoch 2/5\n",
      "79/79 [==============================] - 2s 24ms/step - loss: 2.8452 - accuracy: 0.2893 - val_loss: 2.6920 - val_accuracy: 0.3241\n",
      "Epoch 3/5\n",
      "79/79 [==============================] - 2s 26ms/step - loss: 2.7872 - accuracy: 0.3053 - val_loss: 2.5216 - val_accuracy: 0.3534\n",
      "Epoch 4/5\n",
      "79/79 [==============================] - 2s 24ms/step - loss: 2.7527 - accuracy: 0.3094 - val_loss: 2.6648 - val_accuracy: 0.3321\n",
      "Epoch 5/5\n",
      "79/79 [==============================] - 2s 24ms/step - loss: 2.7082 - accuracy: 0.3189 - val_loss: 2.4967 - val_accuracy: 0.3615\n",
      "Epoch 1/5\n",
      "79/79 [==============================] - 2s 26ms/step - loss: 2.7977 - accuracy: 0.2983 - val_loss: 2.7709 - val_accuracy: 0.3306\n",
      "Epoch 2/5\n",
      "79/79 [==============================] - 2s 24ms/step - loss: 2.7301 - accuracy: 0.3127 - val_loss: 2.5060 - val_accuracy: 0.3584\n",
      "Epoch 3/5\n",
      "79/79 [==============================] - 2s 23ms/step - loss: 2.6907 - accuracy: 0.3166 - val_loss: 2.4702 - val_accuracy: 0.3675\n",
      "Epoch 4/5\n",
      "79/79 [==============================] - 2s 24ms/step - loss: 2.6493 - accuracy: 0.3302 - val_loss: 2.5262 - val_accuracy: 0.3501\n",
      "Epoch 5/5\n",
      "79/79 [==============================] - 2s 26ms/step - loss: 2.6061 - accuracy: 0.3361 - val_loss: 2.5388 - val_accuracy: 0.3576\n",
      "Epoch 1/5\n",
      "79/79 [==============================] - 2s 27ms/step - loss: 2.7262 - accuracy: 0.3120 - val_loss: 2.5162 - val_accuracy: 0.3619\n",
      "Epoch 2/5\n",
      "79/79 [==============================] - 2s 25ms/step - loss: 2.6568 - accuracy: 0.3255 - val_loss: 2.4480 - val_accuracy: 0.3728\n",
      "Epoch 3/5\n",
      "79/79 [==============================] - 2s 26ms/step - loss: 2.6107 - accuracy: 0.3331 - val_loss: 2.4653 - val_accuracy: 0.3713\n",
      "Epoch 4/5\n",
      "79/79 [==============================] - 2s 24ms/step - loss: 2.5762 - accuracy: 0.3417 - val_loss: 2.5839 - val_accuracy: 0.3609\n",
      "Epoch 5/5\n",
      "79/79 [==============================] - 2s 24ms/step - loss: 2.5359 - accuracy: 0.3510 - val_loss: 2.8330 - val_accuracy: 0.3220\n",
      "Epoch 1/5\n",
      "79/79 [==============================] - 2s 26ms/step - loss: 2.6565 - accuracy: 0.3236 - val_loss: 2.4681 - val_accuracy: 0.3733\n",
      "Epoch 2/5\n",
      "79/79 [==============================] - 2s 24ms/step - loss: 2.5921 - accuracy: 0.3358 - val_loss: 2.6688 - val_accuracy: 0.3445\n",
      "Epoch 3/5\n",
      "79/79 [==============================] - 2s 24ms/step - loss: 2.5497 - accuracy: 0.3473 - val_loss: 2.5004 - val_accuracy: 0.3739\n",
      "Epoch 4/5\n",
      "79/79 [==============================] - 2s 24ms/step - loss: 2.5101 - accuracy: 0.3535 - val_loss: 2.3733 - val_accuracy: 0.3858\n",
      "Epoch 5/5\n",
      "79/79 [==============================] - 2s 26ms/step - loss: 2.4905 - accuracy: 0.3600 - val_loss: 2.4110 - val_accuracy: 0.3786\n",
      "Epoch 1/5\n",
      "79/79 [==============================] - 2s 26ms/step - loss: 2.6063 - accuracy: 0.3336 - val_loss: 2.3616 - val_accuracy: 0.3928\n",
      "Epoch 2/5\n",
      "79/79 [==============================] - 2s 25ms/step - loss: 2.5473 - accuracy: 0.3472 - val_loss: 2.3125 - val_accuracy: 0.3982\n",
      "Epoch 3/5\n",
      "79/79 [==============================] - 2s 26ms/step - loss: 2.5046 - accuracy: 0.3564 - val_loss: 2.3146 - val_accuracy: 0.4012\n",
      "Epoch 4/5\n",
      "79/79 [==============================] - 2s 23ms/step - loss: 2.4633 - accuracy: 0.3664 - val_loss: 2.4009 - val_accuracy: 0.3891\n",
      "Epoch 5/5\n",
      "79/79 [==============================] - 2s 23ms/step - loss: 2.4456 - accuracy: 0.3668 - val_loss: 2.3973 - val_accuracy: 0.3860\n",
      "Epoch 1/5\n",
      "79/79 [==============================] - 2s 27ms/step - loss: 2.5747 - accuracy: 0.3380 - val_loss: 2.8827 - val_accuracy: 0.3440\n",
      "Epoch 2/5\n",
      "79/79 [==============================] - 2s 24ms/step - loss: 2.5106 - accuracy: 0.3528 - val_loss: 2.4184 - val_accuracy: 0.3865\n",
      "Epoch 3/5\n",
      "79/79 [==============================] - 2s 24ms/step - loss: 2.4656 - accuracy: 0.3620 - val_loss: 2.2744 - val_accuracy: 0.4071\n",
      "Epoch 4/5\n",
      "79/79 [==============================] - 2s 24ms/step - loss: 2.4359 - accuracy: 0.3700 - val_loss: 2.4030 - val_accuracy: 0.3878\n",
      "Epoch 5/5\n",
      "79/79 [==============================] - 2s 25ms/step - loss: 2.4009 - accuracy: 0.3771 - val_loss: 2.3409 - val_accuracy: 0.3984\n",
      "Epoch 1/5\n",
      "79/79 [==============================] - 2s 26ms/step - loss: 2.5335 - accuracy: 0.3501 - val_loss: 2.3123 - val_accuracy: 0.4074\n",
      "Epoch 2/5\n",
      "79/79 [==============================] - 2s 25ms/step - loss: 2.4667 - accuracy: 0.3609 - val_loss: 2.3409 - val_accuracy: 0.3942\n",
      "Epoch 3/5\n",
      "79/79 [==============================] - 2s 26ms/step - loss: 2.4306 - accuracy: 0.3686 - val_loss: 2.5024 - val_accuracy: 0.3846\n",
      "Epoch 4/5\n",
      "79/79 [==============================] - 2s 23ms/step - loss: 2.3963 - accuracy: 0.3780 - val_loss: 2.3561 - val_accuracy: 0.4013\n",
      "Epoch 5/5\n",
      "79/79 [==============================] - 2s 23ms/step - loss: 2.3753 - accuracy: 0.3800 - val_loss: 2.3480 - val_accuracy: 0.3996\n",
      "Epoch 1/5\n",
      "79/79 [==============================] - 2s 26ms/step - loss: 2.5072 - accuracy: 0.3541 - val_loss: 2.2846 - val_accuracy: 0.4124\n",
      "Epoch 2/5\n",
      "79/79 [==============================] - 2s 24ms/step - loss: 2.4347 - accuracy: 0.3689 - val_loss: 2.2885 - val_accuracy: 0.4161\n",
      "Epoch 3/5\n",
      "79/79 [==============================] - 2s 24ms/step - loss: 2.3944 - accuracy: 0.3773 - val_loss: 2.4962 - val_accuracy: 0.3840\n",
      "Epoch 4/5\n",
      "79/79 [==============================] - 2s 24ms/step - loss: 2.3652 - accuracy: 0.3843 - val_loss: 2.2157 - val_accuracy: 0.4216\n",
      "Epoch 5/5\n",
      "79/79 [==============================] - 2s 25ms/step - loss: 2.3358 - accuracy: 0.3903 - val_loss: 2.2607 - val_accuracy: 0.4106\n",
      "Epoch 1/5\n",
      "79/79 [==============================] - 2s 29ms/step - loss: 2.4731 - accuracy: 0.3580 - val_loss: 2.2441 - val_accuracy: 0.4237\n",
      "Epoch 2/5\n",
      "79/79 [==============================] - 2s 27ms/step - loss: 2.4131 - accuracy: 0.3674 - val_loss: 2.2617 - val_accuracy: 0.4205\n",
      "Epoch 3/5\n",
      "79/79 [==============================] - 2s 26ms/step - loss: 2.3770 - accuracy: 0.3772 - val_loss: 2.2322 - val_accuracy: 0.4190\n",
      "Epoch 4/5\n",
      "79/79 [==============================] - 2s 25ms/step - loss: 2.3529 - accuracy: 0.3836 - val_loss: 2.2974 - val_accuracy: 0.4117\n",
      "Epoch 5/5\n",
      "79/79 [==============================] - 2s 23ms/step - loss: 2.3078 - accuracy: 0.3915 - val_loss: 2.3315 - val_accuracy: 0.4043\n",
      "Epoch 1/5\n",
      "79/79 [==============================] - 2s 26ms/step - loss: 2.4567 - accuracy: 0.3620 - val_loss: 2.2804 - val_accuracy: 0.4212\n",
      "Epoch 2/5\n",
      "79/79 [==============================] - 2s 24ms/step - loss: 2.3909 - accuracy: 0.3763 - val_loss: 2.2568 - val_accuracy: 0.4178\n",
      "Epoch 3/5\n",
      "79/79 [==============================] - 2s 23ms/step - loss: 2.3480 - accuracy: 0.3839 - val_loss: 2.1869 - val_accuracy: 0.4294\n",
      "Epoch 4/5\n",
      "79/79 [==============================] - 2s 24ms/step - loss: 2.3149 - accuracy: 0.3928 - val_loss: 2.2504 - val_accuracy: 0.4222\n",
      "Epoch 5/5\n",
      "79/79 [==============================] - 2s 25ms/step - loss: 2.2879 - accuracy: 0.3961 - val_loss: 2.2037 - val_accuracy: 0.4287\n",
      "Epoch 1/5\n",
      "79/79 [==============================] - 2s 28ms/step - loss: 2.4430 - accuracy: 0.3647 - val_loss: 2.3451 - val_accuracy: 0.4149\n",
      "Epoch 2/5\n",
      "79/79 [==============================] - 2s 29ms/step - loss: 2.3749 - accuracy: 0.3751 - val_loss: 2.3545 - val_accuracy: 0.4078\n",
      "Epoch 3/5\n",
      "79/79 [==============================] - 2s 27ms/step - loss: 2.3319 - accuracy: 0.3866 - val_loss: 2.2676 - val_accuracy: 0.4237\n",
      "Epoch 4/5\n",
      "79/79 [==============================] - 2s 24ms/step - loss: 2.2980 - accuracy: 0.3925 - val_loss: 2.2018 - val_accuracy: 0.4339\n",
      "Epoch 5/5\n",
      "79/79 [==============================] - 2s 24ms/step - loss: 2.2696 - accuracy: 0.4000 - val_loss: 2.3053 - val_accuracy: 0.4187\n",
      "Epoch 1/5\n",
      "79/79 [==============================] - 2s 26ms/step - loss: 2.4207 - accuracy: 0.3697 - val_loss: 2.1877 - val_accuracy: 0.4361\n",
      "Epoch 2/5\n",
      "79/79 [==============================] - 2s 24ms/step - loss: 2.3568 - accuracy: 0.3814 - val_loss: 2.2465 - val_accuracy: 0.4331\n",
      "Epoch 3/5\n",
      "79/79 [==============================] - 2s 24ms/step - loss: 2.3116 - accuracy: 0.3897 - val_loss: 2.3387 - val_accuracy: 0.4166\n",
      "Epoch 4/5\n",
      "79/79 [==============================] - 2s 24ms/step - loss: 2.2866 - accuracy: 0.3970 - val_loss: 2.2846 - val_accuracy: 0.4162\n",
      "Epoch 5/5\n",
      "79/79 [==============================] - 2s 25ms/step - loss: 2.2495 - accuracy: 0.4044 - val_loss: 2.2440 - val_accuracy: 0.4292\n",
      "Epoch 1/5\n",
      "79/79 [==============================] - 2s 25ms/step - loss: 2.4001 - accuracy: 0.3754 - val_loss: 2.3678 - val_accuracy: 0.4185\n",
      "Epoch 2/5\n",
      "79/79 [==============================] - 2s 26ms/step - loss: 2.3352 - accuracy: 0.3858 - val_loss: 2.2762 - val_accuracy: 0.4249\n",
      "Epoch 3/5\n",
      "79/79 [==============================] - 2s 29ms/step - loss: 2.2888 - accuracy: 0.3953 - val_loss: 2.4482 - val_accuracy: 0.3977\n",
      "Epoch 4/5\n",
      "79/79 [==============================] - 2s 28ms/step - loss: 2.2625 - accuracy: 0.4015 - val_loss: 2.2552 - val_accuracy: 0.4281\n",
      "Epoch 5/5\n",
      "79/79 [==============================] - 2s 24ms/step - loss: 2.2306 - accuracy: 0.4116 - val_loss: 2.2465 - val_accuracy: 0.4211\n",
      "Epoch 1/5\n",
      "79/79 [==============================] - 2s 25ms/step - loss: 2.3702 - accuracy: 0.3825 - val_loss: 2.2655 - val_accuracy: 0.4292\n",
      "Epoch 2/5\n",
      "79/79 [==============================] - 2s 24ms/step - loss: 2.3122 - accuracy: 0.3938 - val_loss: 2.2556 - val_accuracy: 0.4258\n",
      "Epoch 3/5\n",
      "79/79 [==============================] - 2s 24ms/step - loss: 2.2745 - accuracy: 0.3992 - val_loss: 2.3407 - val_accuracy: 0.4203\n",
      "Epoch 4/5\n",
      "79/79 [==============================] - 2s 24ms/step - loss: 2.2386 - accuracy: 0.4068 - val_loss: 2.1229 - val_accuracy: 0.4492\n",
      "Epoch 5/5\n",
      "79/79 [==============================] - 2s 24ms/step - loss: 2.2099 - accuracy: 0.4160 - val_loss: 2.2201 - val_accuracy: 0.4354\n",
      "Epoch 1/5\n",
      "79/79 [==============================] - 2s 25ms/step - loss: 2.3652 - accuracy: 0.3819 - val_loss: 2.2641 - val_accuracy: 0.4293\n",
      "Epoch 2/5\n",
      "79/79 [==============================] - 2s 23ms/step - loss: 2.2969 - accuracy: 0.3957 - val_loss: 2.2323 - val_accuracy: 0.4372\n",
      "Epoch 3/5\n",
      "79/79 [==============================] - 2s 25ms/step - loss: 2.2529 - accuracy: 0.4045 - val_loss: 2.2979 - val_accuracy: 0.4159\n",
      "Epoch 4/5\n",
      "79/79 [==============================] - 2s 29ms/step - loss: 2.2224 - accuracy: 0.4109 - val_loss: 2.5291 - val_accuracy: 0.3945\n",
      "Epoch 5/5\n",
      "79/79 [==============================] - 2s 27ms/step - loss: 2.2043 - accuracy: 0.4132 - val_loss: 2.1997 - val_accuracy: 0.4369\n",
      "Epoch 1/5\n",
      "79/79 [==============================] - 2s 28ms/step - loss: 2.3432 - accuracy: 0.3872 - val_loss: 2.4019 - val_accuracy: 0.4174\n",
      "Epoch 2/5\n",
      "79/79 [==============================] - 2s 24ms/step - loss: 2.2887 - accuracy: 0.3975 - val_loss: 2.3080 - val_accuracy: 0.4280\n",
      "Epoch 3/5\n",
      "79/79 [==============================] - 2s 24ms/step - loss: 2.2262 - accuracy: 0.4106 - val_loss: 2.3254 - val_accuracy: 0.4230\n",
      "Epoch 4/5\n",
      "79/79 [==============================] - 2s 24ms/step - loss: 2.2119 - accuracy: 0.4135 - val_loss: 2.2287 - val_accuracy: 0.4290\n",
      "Epoch 5/5\n",
      "79/79 [==============================] - 2s 23ms/step - loss: 2.1835 - accuracy: 0.4221 - val_loss: 2.1653 - val_accuracy: 0.4474\n"
     ]
    }
   ],
   "source": [
    "# Create the ModelCheckpoint callback to save the best model during training\n",
    "mc_callback = ModelCheckpoint('model_2.hdf5',\n",
    "                              monitor='val_accuracy',\n",
    "                              save_best_only=True,\n",
    "                              verbose=0,\n",
    "                              mode='max'\n",
    "                             )\n",
    "\n",
    "# Train the model\n",
    "epochs = 5\n",
    "batch_size = 512\n",
    "augmented_factor = 20\n",
    "for i in range(augmented_factor):\n",
    "  # Extract train set\n",
    "  batch_x, batch_y = album_generator[0]\n",
    "    \n",
    "  # Training the top model\n",
    "  model.fit(batch_x,\n",
    "            batch_y, \n",
    "            validation_data=(x_valid_norm, y_valid), \n",
    "            callbacks=[mc_callback],\n",
    "            batch_size=batch_size,\n",
    "            epochs=epochs\n",
    "            )"
   ]
  },
  {
   "cell_type": "code",
   "execution_count": 30,
   "metadata": {
    "execution": {
     "iopub.execute_input": "2021-06-23T04:22:34.185750Z",
     "iopub.status.busy": "2021-06-23T04:22:34.181715Z",
     "iopub.status.idle": "2021-06-23T04:22:39.886363Z",
     "shell.execute_reply": "2021-06-23T04:22:39.885774Z",
     "shell.execute_reply.started": "2021-06-23T04:07:03.709787Z"
    },
    "papermill": {
     "duration": 7.85254,
     "end_time": "2021-06-23T04:22:39.886503",
     "exception": false,
     "start_time": "2021-06-23T04:22:32.033963",
     "status": "completed"
    },
    "tags": []
   },
   "outputs": [
    {
     "name": "stdout",
     "output_type": "stream",
     "text": [
      "[Accuracy] Train: 0.496 Valid: 0.449\n"
     ]
    }
   ],
   "source": [
    "# Load the model and show the final metrics\n",
    "model = keras.models.load_model('model_2.hdf5')\n",
    "\n",
    "# Train and validation metrics\n",
    "_, train_acc = model.evaluate(x_train_norm, y_train, verbose=0)\n",
    "_, valid_acc = model.evaluate(x_valid_norm, y_valid, verbose=0)\n",
    "\n",
    "# Show result\n",
    "print(f'[Accuracy] Train: {round(train_acc, 3)} Valid: {round(valid_acc, 3)}')"
   ]
  }
 ],
 "metadata": {
  "kernelspec": {
   "display_name": "Python 3",
   "language": "python",
   "name": "python3"
  },
  "language_info": {
   "codemirror_mode": {
    "name": "ipython",
    "version": 3
   },
   "file_extension": ".py",
   "mimetype": "text/x-python",
   "name": "python",
   "nbconvert_exporter": "python",
   "pygments_lexer": "ipython3",
   "version": "3.8.5"
  },
  "papermill": {
   "default_parameters": {},
   "duration": 838.344925,
   "end_time": "2021-06-23T04:22:45.505541",
   "environment_variables": {},
   "exception": null,
   "input_path": "__notebook__.ipynb",
   "output_path": "__notebook__.ipynb",
   "parameters": {},
   "start_time": "2021-06-23T04:08:47.160616",
   "version": "2.3.2"
  }
 },
 "nbformat": 4,
 "nbformat_minor": 5
}
