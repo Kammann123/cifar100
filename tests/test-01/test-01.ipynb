{
 "cells": [
  {
   "cell_type": "code",
   "execution_count": 3,
   "id": "iraqi-teacher",
   "metadata": {},
   "outputs": [],
   "source": [
    "import numpy as np"
   ]
  },
  {
   "cell_type": "code",
   "execution_count": 4,
   "id": "killing-hanging",
   "metadata": {},
   "outputs": [],
   "source": [
    "# Load dataset\n",
    "x_train_val = np.load('../../databases/x_train.npy')\n",
    "y_train_val = np.load('../../databases/y_train.npy')\n",
    "x_test = np.load('../../databases/x_test.npy')"
   ]
  },
  {
   "cell_type": "code",
   "execution_count": 6,
   "id": "capital-reduction",
   "metadata": {},
   "outputs": [
    {
     "data": {
      "image/png": "[encoded data removed]",
      "text/plain": [
       "<Figure size 432x288 with 1 Axes>"
      ]
     },
     "metadata": {
      "needs_background": "light"
     },
     "output_type": "display_data"
    }
   ],
   "source": [
    "from matplotlib import pyplot as plt\n",
    "#Mostramos alguna imágen\n",
    "idx = 50\n",
    "plt.imshow(x_train_val[idx])\n",
    "plt.title(f'Clase: {y_train_val[idx]}')\n",
    "plt.show()"
   ]
  },
  {
   "cell_type": "code",
   "execution_count": 7,
   "id": "designing-pocket",
   "metadata": {},
   "outputs": [],
   "source": [
    "#Dividimos entre train y validación\n",
    "from sklearn.model_selection import train_test_split\n",
    "x_train, x_val, y_train, y_val = train_test_split(\n",
    "    x_train_val, y_train_val, test_size=0.15, random_state=42, stratify=y_train_val)"
   ]
  },
  {
   "cell_type": "code",
   "execution_count": 8,
   "id": "associate-springer",
   "metadata": {},
   "outputs": [],
   "source": [
    "#Normalizamos\n",
    "x_train_norm = x_train/255\n",
    "x_val_norm = x_val/255\n",
    "x_test_norm = x_test/255"
   ]
  },
  {
   "cell_type": "code",
   "execution_count": 9,
   "id": "round-handle",
   "metadata": {},
   "outputs": [],
   "source": [
    "#Armamos la red de clasificación\n",
    "from tensorflow.keras.layers import Dense, Flatten, Activation, BatchNormalization, Dropout, Conv2D, MaxPooling2D\n",
    "from tensorflow.keras.models import Sequential\n",
    "from tensorflow.keras.callbacks import TensorBoard\n",
    "from tensorflow.keras.optimizers import Adam"
   ]
  },
  {
   "cell_type": "code",
   "execution_count": 12,
   "id": "rough-sender",
   "metadata": {},
   "outputs": [],
   "source": [
    "model = Sequential()\n",
    "model.add(Conv2D(64,3, input_shape=(32,32,3)))\n",
    "model.add(BatchNormalization())\n",
    "model.add(Activation(\"relu\"))\n",
    "model.add(MaxPooling2D())\n",
    "model.add(Conv2D(128,3))\n",
    "model.add(BatchNormalization())\n",
    "model.add(Activation(\"relu\"))\n",
    "model.add(MaxPooling2D())\n",
    "model.add(Conv2D(256,3))\n",
    "model.add(Dropout(0.5))\n",
    "model.add(BatchNormalization())\n",
    "model.add(Activation(\"relu\"))\n",
    "model.add(MaxPooling2D())\n",
    "model.add(Flatten())\n",
    "model.add(Dense(256, activation=\"relu\"))\n",
    "model.add(Dense(100, activation=\"softmax\"))\n",
    "model.compile(loss=\"sparse_categorical_crossentropy\", optimizer= Adam(learning_rate=0.001), metrics=[\"accuracy\"])"
   ]
  },
  {
   "cell_type": "code",
   "execution_count": 11,
   "id": "republican-excitement",
   "metadata": {},
   "outputs": [
    {
     "name": "stdout",
     "output_type": "stream",
     "text": [
      "Epoch 1/10\n",
      "167/167 [==============================] - 100s 592ms/step - loss: 3.5398 - accuracy: 0.1723 - val_loss: 5.5194 - val_accuracy: 0.0247\n",
      "Epoch 2/10\n",
      "167/167 [==============================] - 100s 596ms/step - loss: 2.6958 - accuracy: 0.3227 - val_loss: 5.4081 - val_accuracy: 0.0453\n",
      "Epoch 3/10\n",
      "167/167 [==============================] - 90s 540ms/step - loss: 2.3332 - accuracy: 0.3993 - val_loss: 3.7520 - val_accuracy: 0.1625\n",
      "Epoch 4/10\n",
      "167/167 [==============================] - 79s 470ms/step - loss: 2.0952 - accuracy: 0.4523 - val_loss: 4.1737 - val_accuracy: 0.1764\n",
      "Epoch 5/10\n",
      "167/167 [==============================] - 78s 465ms/step - loss: 1.9950 - accuracy: 0.4742 - val_loss: 3.2458 - val_accuracy: 0.2651\n",
      "Epoch 6/10\n",
      "167/167 [==============================] - 77s 459ms/step - loss: 1.7615 - accuracy: 0.5287 - val_loss: 3.3963 - val_accuracy: 0.2689\n",
      "Epoch 7/10\n",
      "167/167 [==============================] - 77s 461ms/step - loss: 1.5814 - accuracy: 0.5707 - val_loss: 4.2792 - val_accuracy: 0.1948\n",
      "Epoch 8/10\n",
      "167/167 [==============================] - 76s 456ms/step - loss: 1.5186 - accuracy: 0.5904 - val_loss: 3.4556 - val_accuracy: 0.2772\n",
      "Epoch 9/10\n",
      "167/167 [==============================] - 76s 453ms/step - loss: 1.3119 - accuracy: 0.6399 - val_loss: 3.1194 - val_accuracy: 0.3023\n",
      "Epoch 10/10\n",
      "167/167 [==============================] - 75s 449ms/step - loss: 1.1805 - accuracy: 0.6724 - val_loss: 3.1825 - val_accuracy: 0.3053\n"
     ]
    },
    {
     "data": {
      "text/plain": [
       "<tensorflow.python.keras.callbacks.History at 0x1f0fb8fe160>"
      ]
     },
     "execution_count": 11,
     "metadata": {},
     "output_type": "execute_result"
    }
   ],
   "source": [
    "model.fit(x_train_norm, y_train, batch_size = 256, validation_data = (x_val_norm, y_val), epochs=10)"
   ]
  },
  {
   "cell_type": "code",
   "execution_count": 13,
   "id": "parliamentary-taylor",
   "metadata": {},
   "outputs": [
    {
     "name": "stdout",
     "output_type": "stream",
     "text": [
      "Epoch 1/10\n",
      "167/167 [==============================] - 81s 480ms/step - loss: 3.7332 - accuracy: 0.1388 - val_loss: 5.1378 - val_accuracy: 0.0253\n",
      "Epoch 2/10\n",
      "167/167 [==============================] - 93s 557ms/step - loss: 3.0134 - accuracy: 0.2563 - val_loss: 4.6100 - val_accuracy: 0.0304\n",
      "Epoch 3/10\n",
      "167/167 [==============================] - 84s 505ms/step - loss: 2.7012 - accuracy: 0.3206 - val_loss: 4.0722 - val_accuracy: 0.0755\n",
      "Epoch 4/10\n",
      "167/167 [==============================] - 85s 507ms/step - loss: 2.4841 - accuracy: 0.3653 - val_loss: 3.6039 - val_accuracy: 0.1419\n",
      "Epoch 5/10\n",
      "167/167 [==============================] - 88s 527ms/step - loss: 2.3408 - accuracy: 0.3927 - val_loss: 3.4239 - val_accuracy: 0.1891\n",
      "Epoch 6/10\n",
      "167/167 [==============================] - 86s 515ms/step - loss: 2.2107 - accuracy: 0.4207 - val_loss: 2.9953 - val_accuracy: 0.2843\n",
      "Epoch 7/10\n",
      "167/167 [==============================] - 85s 507ms/step - loss: 2.1020 - accuracy: 0.4450 - val_loss: 2.6643 - val_accuracy: 0.3639\n",
      "Epoch 8/10\n",
      "167/167 [==============================] - 85s 510ms/step - loss: 1.9955 - accuracy: 0.4701 - val_loss: 2.7675 - val_accuracy: 0.3131\n",
      "Epoch 9/10\n",
      "167/167 [==============================] - 112s 670ms/step - loss: 1.9115 - accuracy: 0.4872 - val_loss: 3.2494 - val_accuracy: 0.2203\n",
      "Epoch 10/10\n",
      "167/167 [==============================] - 88s 529ms/step - loss: 1.9063 - accuracy: 0.4885 - val_loss: 2.7212 - val_accuracy: 0.3352\n"
     ]
    },
    {
     "data": {
      "text/plain": [
       "<tensorflow.python.keras.callbacks.History at 0x1f17376f070>"
      ]
     },
     "execution_count": 13,
     "metadata": {},
     "output_type": "execute_result"
    }
   ],
   "source": [
    "model.fit(x_train_norm, y_train, batch_size = 256, validation_data = (x_val_norm, y_val), epochs=10)"
   ]
  }
 ],
 "metadata": {
  "kernelspec": {
   "display_name": "Python 3",
   "language": "python",
   "name": "python3"
  },
  "language_info": {
   "codemirror_mode": {
    "name": "ipython",
    "version": 3
   },
   "file_extension": ".py",
   "mimetype": "text/x-python",
   "name": "python",
   "nbconvert_exporter": "python",
   "pygments_lexer": "ipython3",
   "version": "3.9.2"
  }
 },
 "nbformat": 4,
 "nbformat_minor": 5
}
