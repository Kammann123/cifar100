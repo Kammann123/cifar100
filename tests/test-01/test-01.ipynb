{
  "nbformat": 4,
  "nbformat_minor": 5,
  "metadata": {
    "kernelspec": {
      "display_name": "Python 3",
      "language": "python",
      "name": "python3"
    },
    "language_info": {
      "codemirror_mode": {
        "name": "ipython",
        "version": 3
      },
      "file_extension": ".py",
      "mimetype": "text/x-python",
      "name": "python",
      "nbconvert_exporter": "python",
      "pygments_lexer": "ipython3",
      "version": "3.9.2"
    },
    "colab": {
      "name": "test-01.ipynb",
      "provenance": []
    },
    "accelerator": "GPU"
  },
  "cells": [
    {
      "cell_type": "code",
      "metadata": {
        "id": "iraqi-teacher"
      },
      "source": [
        "import numpy as np"
      ],
      "id": "iraqi-teacher",
      "execution_count": 14,
      "outputs": []
    },
    {
      "cell_type": "code",
      "metadata": {
        "id": "tyLqVwyr1btZ",
        "outputId": "c165aace-7807-4086-aef5-f042835b59b5",
        "colab": {
          "base_uri": "https://localhost:8080/"
        }
      },
      "source": [
        "from google.colab import drive\n",
        "drive.mount('/content/drive')"
      ],
      "id": "tyLqVwyr1btZ",
      "execution_count": 15,
      "outputs": [
        {
          "output_type": "stream",
          "text": [
            "Drive already mounted at /content/drive; to attempt to forcibly remount, call drive.mount(\"/content/drive\", force_remount=True).\n"
          ],
          "name": "stdout"
        }
      ]
    },
    {
      "cell_type": "code",
      "metadata": {
        "id": "killing-hanging"
      },
      "source": [
        "# Load dataset\n",
        "x_train_val = np.load('drive/Shareddrives/Redes Neuronales BIO/CIFAR-100/x_train.npy')\n",
        "y_train_val = np.load('drive/Shareddrives/Redes Neuronales BIO/CIFAR-100/y_train.npy')\n",
        "x_test = np.load('drive/Shareddrives/Redes Neuronales BIO/CIFAR-100/x_test.npy')"
      ],
      "id": "killing-hanging",
      "execution_count": 16,
      "outputs": []
    },
    {
      "cell_type": "code",
      "metadata": {
        "id": "capital-reduction",
        "outputId": "834350ba-9f91-4574-c750-1d4e99d336f4",
        "colab": {
          "base_uri": "https://localhost:8080/",
          "height": 281
        }
      },
      "source": [
        "from matplotlib import pyplot as plt\n",
        "#Mostramos alguna imágen\n",
        "idx = 50\n",
        "plt.imshow(x_train_val[idx])\n",
        "plt.title(f'Clase: {y_train_val[idx]}')\n",
        "plt.show()"
      ],
      "id": "capital-reduction",
      "execution_count": 17,
      "outputs": [
        {
          "output_type": "display_data",
          "data": {
            "image/png": "[encoded data removed]",
            "text/plain": [
              "<Figure size 432x288 with 1 Axes>"
            ]
          },
          "metadata": {
            "tags": [],
            "needs_background": "light"
          }
        }
      ]
    },
    {
      "cell_type": "code",
      "metadata": {
        "id": "designing-pocket"
      },
      "source": [
        "#Dividimos entre train y validación\n",
        "from sklearn.model_selection import train_test_split\n",
        "x_train, x_val, y_train, y_val = train_test_split(\n",
        "    x_train_val, y_train_val, test_size=0.15, random_state=42, stratify=y_train_val)"
      ],
      "id": "designing-pocket",
      "execution_count": 18,
      "outputs": []
    },
    {
      "cell_type": "code",
      "metadata": {
        "id": "associate-springer"
      },
      "source": [
        "#Normalizamos\n",
        "x_train_norm = x_train/255\n",
        "x_val_norm = x_val/255\n",
        "x_test_norm = x_test/255"
      ],
      "id": "associate-springer",
      "execution_count": 19,
      "outputs": []
    },
    {
      "cell_type": "code",
      "metadata": {
        "id": "round-handle"
      },
      "source": [
        "#Armamos la red de clasificación\n",
        "from tensorflow.keras.layers import Dense, Flatten, Activation, BatchNormalization, Dropout, Conv2D, MaxPooling2D\n",
        "from tensorflow.keras.models import Sequential\n",
        "from tensorflow.keras.callbacks import TensorBoard\n",
        "from tensorflow.keras.optimizers import Adam"
      ],
      "id": "round-handle",
      "execution_count": 20,
      "outputs": []
    },
    {
      "cell_type": "code",
      "metadata": {
        "id": "rough-sender"
      },
      "source": [
        "model = Sequential()\n",
        "model.add(Conv2D(64,3, input_shape=(32,32,3)))\n",
        "model.add(BatchNormalization())\n",
        "model.add(Activation(\"relu\"))\n",
        "model.add(MaxPooling2D())\n",
        "model.add(Conv2D(128,3, padding='same'))\n",
        "model.add(Conv2D(128,3, padding='same'))\n",
        "model.add(Conv2D(128,3, padding='same'))\n",
        "model.add(BatchNormalization())\n",
        "model.add(Activation(\"relu\"))\n",
        "model.add(MaxPooling2D())\n",
        "model.add(Conv2D(256,3, padding='same'))\n",
        "model.add(Conv2D(256,3, padding='same'))\n",
        "model.add(Conv2D(256,3, padding='same'))\n",
        "model.add(BatchNormalization())\n",
        "model.add(Activation(\"relu\"))\n",
        "model.add(MaxPooling2D())\n",
        "model.add(Flatten())\n",
        "model.add(BatchNormalization())\n",
        "model.add(Dense(256, activation=\"relu\"))\n",
        "model.add(Dropout(0.5))\n",
        "model.add(BatchNormalization())\n",
        "model.add(Dense(100, activation=\"softmax\"))\n",
        "model.compile(loss=\"sparse_categorical_crossentropy\", optimizer= Adam(learning_rate=0.001), metrics=[\"accuracy\"])"
      ],
      "id": "rough-sender",
      "execution_count": 32,
      "outputs": []
    },
    {
      "cell_type": "code",
      "metadata": {
        "id": "republican-excitement",
        "outputId": "f1ff42c0-fd08-46a2-efa7-890e40fc9b24",
        "colab": {
          "base_uri": "https://localhost:8080/"
        }
      },
      "source": [
        "model.fit(x_train_norm, y_train, batch_size = 256, validation_data = (x_val_norm, y_val), epochs=10)"
      ],
      "id": "republican-excitement",
      "execution_count": 33,
      "outputs": [
        {
          "output_type": "stream",
          "text": [
            "Epoch 1/10\n",
            "167/167 [==============================] - 10s 55ms/step - loss: 4.0618 - accuracy: 0.0971 - val_loss: 5.1265 - val_accuracy: 0.0211\n",
            "Epoch 2/10\n",
            "167/167 [==============================] - 9s 53ms/step - loss: 3.4322 - accuracy: 0.1823 - val_loss: 4.6026 - val_accuracy: 0.0412\n",
            "Epoch 3/10\n",
            "167/167 [==============================] - 9s 53ms/step - loss: 3.2530 - accuracy: 0.2161 - val_loss: 4.0397 - val_accuracy: 0.0979\n",
            "Epoch 4/10\n",
            "167/167 [==============================] - 9s 53ms/step - loss: 2.8757 - accuracy: 0.2833 - val_loss: 4.0385 - val_accuracy: 0.1385\n",
            "Epoch 5/10\n",
            "167/167 [==============================] - 9s 54ms/step - loss: 2.7888 - accuracy: 0.3007 - val_loss: 3.7005 - val_accuracy: 0.1521\n",
            "Epoch 6/10\n",
            "167/167 [==============================] - 9s 54ms/step - loss: 2.8549 - accuracy: 0.2839 - val_loss: 3.3909 - val_accuracy: 0.2125\n",
            "Epoch 7/10\n",
            "167/167 [==============================] - 9s 54ms/step - loss: 2.6353 - accuracy: 0.3301 - val_loss: 3.3647 - val_accuracy: 0.2145\n",
            "Epoch 8/10\n",
            "167/167 [==============================] - 9s 54ms/step - loss: 2.4272 - accuracy: 0.3722 - val_loss: 5.8707 - val_accuracy: 0.0764\n",
            "Epoch 9/10\n",
            "167/167 [==============================] - 9s 54ms/step - loss: 3.1712 - accuracy: 0.2321 - val_loss: 3.9700 - val_accuracy: 0.1481\n",
            "Epoch 10/10\n",
            "167/167 [==============================] - 9s 55ms/step - loss: 2.6015 - accuracy: 0.3372 - val_loss: 2.9493 - val_accuracy: 0.2829\n"
          ],
          "name": "stdout"
        },
        {
          "output_type": "execute_result",
          "data": {
            "text/plain": [
              "<tensorflow.python.keras.callbacks.History at 0x7f5fdc4157d0>"
            ]
          },
          "metadata": {
            "tags": []
          },
          "execution_count": 33
        }
      ]
    },
    {
      "cell_type": "code",
      "metadata": {
        "id": "parliamentary-taylor",
        "outputId": "5aef8a9e-ed1b-4a9f-9434-945ac9f5f7f6",
        "colab": {
          "base_uri": "https://localhost:8080/"
        }
      },
      "source": [
        "model.fit(x_train_norm, y_train, batch_size = 256, validation_data = (x_val_norm, y_val), epochs=10)"
      ],
      "id": "parliamentary-taylor",
      "execution_count": 24,
      "outputs": [
        {
          "output_type": "stream",
          "text": [
            "Epoch 1/10\n",
            "167/167 [==============================] - 4s 23ms/step - loss: 1.8213 - accuracy: 0.5048 - val_loss: 2.8911 - val_accuracy: 0.2832\n",
            "Epoch 2/10\n",
            "167/167 [==============================] - 4s 23ms/step - loss: 1.7647 - accuracy: 0.5200 - val_loss: 3.2266 - val_accuracy: 0.2481\n",
            "Epoch 3/10\n",
            "167/167 [==============================] - 4s 23ms/step - loss: 1.6723 - accuracy: 0.5428 - val_loss: 4.7409 - val_accuracy: 0.1411\n",
            "Epoch 4/10\n",
            "167/167 [==============================] - 4s 23ms/step - loss: 1.6490 - accuracy: 0.5500 - val_loss: 2.7850 - val_accuracy: 0.3172\n",
            "Epoch 5/10\n",
            "167/167 [==============================] - 4s 23ms/step - loss: 1.5925 - accuracy: 0.5602 - val_loss: 2.4885 - val_accuracy: 0.3811\n",
            "Epoch 6/10\n",
            "167/167 [==============================] - 4s 23ms/step - loss: 1.6038 - accuracy: 0.5575 - val_loss: 3.5139 - val_accuracy: 0.2353\n",
            "Epoch 7/10\n",
            "167/167 [==============================] - 4s 23ms/step - loss: 1.5789 - accuracy: 0.5630 - val_loss: 2.7197 - val_accuracy: 0.3223\n",
            "Epoch 8/10\n",
            "167/167 [==============================] - 4s 23ms/step - loss: 1.4580 - accuracy: 0.5950 - val_loss: 3.4173 - val_accuracy: 0.2315\n",
            "Epoch 9/10\n",
            "167/167 [==============================] - 4s 23ms/step - loss: 1.4385 - accuracy: 0.5951 - val_loss: 2.8406 - val_accuracy: 0.2972\n",
            "Epoch 10/10\n",
            "167/167 [==============================] - 4s 23ms/step - loss: 1.4118 - accuracy: 0.6023 - val_loss: 2.5076 - val_accuracy: 0.3576\n"
          ],
          "name": "stdout"
        },
        {
          "output_type": "execute_result",
          "data": {
            "text/plain": [
              "<tensorflow.python.keras.callbacks.History at 0x7f5fe2750310>"
            ]
          },
          "metadata": {
            "tags": []
          },
          "execution_count": 24
        }
      ]
    }
  ]
}